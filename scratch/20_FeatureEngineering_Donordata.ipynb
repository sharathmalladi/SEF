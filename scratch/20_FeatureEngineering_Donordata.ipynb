{
 "cells": [
  {
   "cell_type": "code",
   "execution_count": 1,
   "metadata": {
    "collapsed": true
   },
   "outputs": [],
   "source": [
    "import pandas as pd\n",
    "import numpy as np\n",
    "import matplotlib.pyplot as plt\n",
    "%matplotlib inline"
   ]
  },
  {
   "cell_type": "code",
   "execution_count": 2,
   "metadata": {
    "collapsed": true
   },
   "outputs": [],
   "source": [
    "df = pd.read_pickle('out/0/donations.pkl')\n",
    "df = df[['donor_id', 'activity_date', 'amount', 'appeal', 'charitable', 'is_donation', 'fund', 'city', 'state', 'county',\n",
    "         'zipcode', 'latitude', 'longitude',  'timezone', 'activity_year', 'activity_month', 'activity_dow',\n",
    "        'activity_ym', 'activity_yq', 'appeal_category']]"
   ]
  },
  {
   "cell_type": "markdown",
   "metadata": {},
   "source": [
    "## Nomenclature:\n",
    "    1. Donation - is a charitable contribution\n",
    "    2. Contribution - is not a charitable contribution"
   ]
  },
  {
   "cell_type": "code",
   "execution_count": null,
   "metadata": {
    "collapsed": true
   },
   "outputs": [],
   "source": [
    "def get_year_bins(years):\n",
    "    '''\n",
    "    input: list of years\n",
    "    output: bins of consequent years that form the given list\n",
    "    example:\n",
    "        get_year_bins([2002, 2003, 2004, 2006, 2010, 2011, 2013]) => [(2002, 2004), (2010, 2011)]\n",
    "    '''\n",
    "    years = sorted(years)\n",
    "    maxyear = 2014\n",
    "    if maxyear in years:\n",
    "        np.append(years, maxyear+1)\n",
    "    bins = zip([x for x in years if x-1 not in years], [x for x in years if x+1 not in years])\n",
    "    bins = [(x,y) for x,y in bins if x != y]\n",
    "    return bins\n",
    "\n",
    "def get_year_bins_charitable(rows, is_donation):\n",
    "    '''\n",
    "    input: rows from dataframe for a specific donor, is_donation flag\n",
    "    output: bins of consequent years when the donor gave us money with that is_donation flag\n",
    "    '''\n",
    "    if sum(rows.is_donation==is_donation) == 0:\n",
    "        return []\n",
    "    else:\n",
    "        return get_year_bins(rows[rows.charitable==charitable].activity_year.unique())\n",
    "    \n",
    "def get_years_charitable(rows, is_donation):\n",
    "    '''\n",
    "    input: rows from dataframe for a specific donor, is_donation flag\n",
    "    output: list of distinct, sorted years when the donor gave us money with that is_donation flag\n",
    "    '''\n",
    "    if sum(rows.is_donation==is_donation) == 0:\n",
    "        return []\n",
    "    else:\n",
    "        return np.sort(rows[rows.is_donation==is_donation].activity_year.unique())"
   ]
  },
  {
   "cell_type": "code",
   "execution_count": 4,
   "metadata": {
    "collapsed": false
   },
   "outputs": [],
   "source": [
    "def is_recurring_contribution(contribution_year_bins, activity_year, is_donation):\n",
    "    '''\n",
    "    Input: List of tuples representing bins of continous years of contributions made by the donor, year of activity\n",
    "    Returns: True if the row is a contribution and year appears in any of the bins, false otherwise\n",
    "    '''\n",
    "    return bool((~is_donation) & np.any([activity_year >= b[0] and activity_year <= b[1] for b in contribution_year_bins]))\n",
    "\n",
    "def is_recurring_donation(donation_year_bins, activity_year, is_donation):\n",
    "    '''\n",
    "    Input: List of tuples representing bins of continous years of donations made by the donor, year of activity\n",
    "    Returns: True if the row is a donation and year appears in any of the bins, false otherwise\n",
    "    '''\n",
    "    return bool((is_donation) & np.any([activity_year >= b[0] and activity_year <= b[1] for b in donation_year_bins]))"
   ]
  },
  {
   "cell_type": "code",
   "execution_count": 5,
   "metadata": {
    "collapsed": false
   },
   "outputs": [],
   "source": [
    "contribution_years = df.groupby(['donor_id']).apply(get_years_charitable, is_donation=False)\n",
    "contribution_years.name = 'contribution_years'\n",
    "contribution_year_bins = contribution_years.apply(get_year_bins)\n",
    "contribution_year_bins.name = 'contribution_year_bins'"
   ]
  },
  {
   "cell_type": "code",
   "execution_count": 6,
   "metadata": {
    "collapsed": true
   },
   "outputs": [],
   "source": [
    "donation_years = df.groupby(['donor_id']).apply(get_years_charitable, is_donation=True)\n",
    "donation_years.name = 'donation_years'\n",
    "donation_year_bins = donation_years.apply(get_year_bins)\n",
    "donation_year_bins.name = 'donation_year_bins'"
   ]
  },
  {
   "cell_type": "code",
   "execution_count": 7,
   "metadata": {
    "collapsed": false
   },
   "outputs": [],
   "source": [
    "df = df\\\n",
    "  .set_index('donor_id')\\\n",
    "  .join(contribution_years)\\\n",
    "  .join(contribution_year_bins)\\\n",
    "  .join(donation_years, how='left')\\\n",
    "  .join(donation_year_bins, how='left')\\\n",
    "  .reset_index()"
   ]
  },
  {
   "cell_type": "code",
   "execution_count": 8,
   "metadata": {
    "collapsed": false
   },
   "outputs": [],
   "source": [
    "df['is_recurring_contribution'] = \\\n",
    "    df.apply(lambda row: is_recurring_contribution(row.contribution_year_bins, row.activity_year, row.is_donation), axis=1)\n",
    "\n",
    "df['is_recurring_donation'] = \\\n",
    "    df.apply(lambda row: is_recurring_donation(row.donation_year_bins, row.activity_year, row.is_donation), axis=1)"
   ]
  },
  {
   "cell_type": "code",
   "execution_count": 9,
   "metadata": {
    "collapsed": true
   },
   "outputs": [],
   "source": [
    "donor_data = df[['donor_id', 'city', 'state', 'county', 'zipcode', 'latitude', 'longitude',\n",
    "                 'timezone', 'contribution_years', 'donation_years',\n",
    "                 'contribution_year_bins', 'donation_year_bins',\n",
    "                ]].copy().drop_duplicates('donor_id')"
   ]
  },
  {
   "cell_type": "code",
   "execution_count": 10,
   "metadata": {
    "collapsed": false
   },
   "outputs": [
    {
     "name": "stdout",
     "output_type": "stream",
     "text": [
      "46986 46986\n"
     ]
    }
   ],
   "source": [
    "# We should have the same count of distinct donors in both the data frames. Otherwise something is wrong!\n",
    "print df.donor_id.nunique(), donor_data.donor_id.nunique()"
   ]
  },
  {
   "cell_type": "code",
   "execution_count": 11,
   "metadata": {
    "collapsed": false
   },
   "outputs": [],
   "source": [
    "donor_data['num_donation_year_bins'] = donor_data.donation_year_bins.apply(len)\n",
    "donor_data['num_contribution_year_bins'] = donor_data.contribution_year_bins.apply(len)\n",
    "donor_data['num_donation_years'] = donor_data.donation_years.apply(len)\n",
    "donor_data['num_contribution_years'] = donor_data.contribution_years.apply(len)"
   ]
  },
  {
   "cell_type": "code",
   "execution_count": 12,
   "metadata": {
    "collapsed": false
   },
   "outputs": [],
   "source": [
    "donor_data = donor_data\\\n",
    "  .set_index('donor_id')\\\n",
    "  .join(df.groupby(['donor_id']).is_recurring_donation.sum())\\\n",
    "  .rename(columns={'is_recurring_donation': 'num_recurring_donations'})\\\n",
    "  .join(df.groupby(['donor_id']).is_recurring_contribution.sum())\\\n",
    "  .rename(columns={'is_recurring_contribution': 'num_recurring_contributions'})\\\n",
    "  .join(df[df.is_donation==False].groupby(['donor_id']).amount.sum(), how='left')\\\n",
    "  .rename(columns={'amount': 'contribution_amount'})\\\n",
    "  .join(df[df.is_donation==True].groupby(['donor_id']).amount.sum(), how='left')\\\n",
    "  .rename(columns={'amount': 'donation_amount'})\\\n",
    "  .reset_index()"
   ]
  },
  {
   "cell_type": "code",
   "execution_count": 13,
   "metadata": {
    "collapsed": false
   },
   "outputs": [
    {
     "data": {
      "text/html": [
       "<div>\n",
       "<table border=\"1\" class=\"dataframe\">\n",
       "  <thead>\n",
       "    <tr style=\"text-align: right;\">\n",
       "      <th></th>\n",
       "      <th>donor_id</th>\n",
       "      <th>city</th>\n",
       "      <th>state</th>\n",
       "      <th>county</th>\n",
       "      <th>zipcode</th>\n",
       "      <th>latitude</th>\n",
       "      <th>longitude</th>\n",
       "      <th>timezone</th>\n",
       "      <th>contribution_years</th>\n",
       "      <th>donation_years</th>\n",
       "      <th>contribution_year_bins</th>\n",
       "      <th>donation_year_bins</th>\n",
       "      <th>num_donation_year_bins</th>\n",
       "      <th>num_contribution_year_bins</th>\n",
       "      <th>num_donation_years</th>\n",
       "      <th>num_contribution_years</th>\n",
       "      <th>num_recurring_donations</th>\n",
       "      <th>num_recurring_contributions</th>\n",
       "      <th>contribution_amount</th>\n",
       "      <th>donation_amount</th>\n",
       "    </tr>\n",
       "  </thead>\n",
       "  <tbody>\n",
       "    <tr>\n",
       "      <th>33035</th>\n",
       "      <td>_1D50SWTKX</td>\n",
       "      <td>Kenmore</td>\n",
       "      <td>WA</td>\n",
       "      <td>King</td>\n",
       "      <td>98028</td>\n",
       "      <td>47.75</td>\n",
       "      <td>-122.24</td>\n",
       "      <td>America/Los_Angeles</td>\n",
       "      <td>[2005, 2006, 2007, 2008, 2009, 2010, 2011, 201...</td>\n",
       "      <td>[2004, 2005, 2006, 2007, 2008, 2009, 2010, 201...</td>\n",
       "      <td>[(2005, 2015)]</td>\n",
       "      <td>[(2004, 2015)]</td>\n",
       "      <td>1</td>\n",
       "      <td>1</td>\n",
       "      <td>12</td>\n",
       "      <td>11</td>\n",
       "      <td>53</td>\n",
       "      <td>53</td>\n",
       "      <td>30403</td>\n",
       "      <td>26290</td>\n",
       "    </tr>\n",
       "  </tbody>\n",
       "</table>\n",
       "</div>"
      ],
      "text/plain": [
       "         donor_id     city state county zipcode  latitude  longitude  \\\n",
       "33035  _1D50SWTKX  Kenmore    WA   King   98028     47.75    -122.24   \n",
       "\n",
       "                  timezone                                 contribution_years  \\\n",
       "33035  America/Los_Angeles  [2005, 2006, 2007, 2008, 2009, 2010, 2011, 201...   \n",
       "\n",
       "                                          donation_years  \\\n",
       "33035  [2004, 2005, 2006, 2007, 2008, 2009, 2010, 201...   \n",
       "\n",
       "      contribution_year_bins donation_year_bins  num_donation_year_bins  \\\n",
       "33035         [(2005, 2015)]     [(2004, 2015)]                       1   \n",
       "\n",
       "       num_contribution_year_bins  num_donation_years  num_contribution_years  \\\n",
       "33035                           1                  12                      11   \n",
       "\n",
       "       num_recurring_donations  num_recurring_contributions  \\\n",
       "33035                       53                           53   \n",
       "\n",
       "       contribution_amount  donation_amount  \n",
       "33035                30403            26290  "
      ]
     },
     "execution_count": 13,
     "metadata": {},
     "output_type": "execute_result"
    }
   ],
   "source": [
    "donor_data[donor_data.donor_id == '_1D50SWTKX']"
   ]
  },
  {
   "cell_type": "code",
   "execution_count": 1,
   "metadata": {
    "collapsed": false
   },
   "outputs": [
    {
     "ename": "NameError",
     "evalue": "name 'df' is not defined",
     "output_type": "error",
     "traceback": [
      "\u001b[1;31m---------------------------------------------------------------------------\u001b[0m",
      "\u001b[1;31mNameError\u001b[0m                                 Traceback (most recent call last)",
      "\u001b[1;32m<ipython-input-1-362dac75379e>\u001b[0m in \u001b[0;36m<module>\u001b[1;34m()\u001b[0m\n\u001b[0;32m      1\u001b[0m \u001b[0mget_ipython\u001b[0m\u001b[1;33m(\u001b[0m\u001b[1;33m)\u001b[0m\u001b[1;33m.\u001b[0m\u001b[0msystem\u001b[0m\u001b[1;33m(\u001b[0m\u001b[1;34mu'mkdir -p out/2'\u001b[0m\u001b[1;33m)\u001b[0m\u001b[1;33m\u001b[0m\u001b[0m\n\u001b[1;32m----> 2\u001b[1;33m \u001b[0mdf\u001b[0m\u001b[1;33m.\u001b[0m\u001b[0mto_pickle\u001b[0m\u001b[1;33m(\u001b[0m\u001b[1;34m'out/2/donations.pkl'\u001b[0m\u001b[1;33m)\u001b[0m\u001b[1;33m\u001b[0m\u001b[0m\n\u001b[0m\u001b[0;32m      3\u001b[0m \u001b[0mdonor_data\u001b[0m\u001b[1;33m.\u001b[0m\u001b[0mto_pickle\u001b[0m\u001b[1;33m(\u001b[0m\u001b[1;34m'out/2/donors.pkl'\u001b[0m\u001b[1;33m)\u001b[0m\u001b[1;33m\u001b[0m\u001b[0m\n",
      "\u001b[1;31mNameError\u001b[0m: name 'df' is not defined"
     ]
    }
   ],
   "source": [
    "!mkdir -p out/20\n",
    "df.to_pickle('out/20/donations.pkl')\n",
    "donor_data.to_pickle('out/20/donors.pkl')"
   ]
  },
  {
   "cell_type": "code",
   "execution_count": 15,
   "metadata": {
    "collapsed": false
   },
   "outputs": [
    {
     "data": {
      "text/html": [
       "<div>\n",
       "<table border=\"1\" class=\"dataframe\">\n",
       "  <thead>\n",
       "    <tr style=\"text-align: right;\">\n",
       "      <th></th>\n",
       "      <th>donor_id</th>\n",
       "      <th>activity_date</th>\n",
       "      <th>amount</th>\n",
       "      <th>appeal</th>\n",
       "      <th>charitable</th>\n",
       "      <th>is_donation</th>\n",
       "      <th>fund</th>\n",
       "      <th>city</th>\n",
       "      <th>state</th>\n",
       "      <th>county</th>\n",
       "      <th>...</th>\n",
       "      <th>activity_dow</th>\n",
       "      <th>activity_ym</th>\n",
       "      <th>activity_yq</th>\n",
       "      <th>appeal_category</th>\n",
       "      <th>contribution_years</th>\n",
       "      <th>contribution_year_bins</th>\n",
       "      <th>donation_years</th>\n",
       "      <th>donation_year_bins</th>\n",
       "      <th>is_recurring_contribution</th>\n",
       "      <th>is_recurring_donation</th>\n",
       "    </tr>\n",
       "  </thead>\n",
       "  <tbody>\n",
       "    <tr>\n",
       "      <th>124071</th>\n",
       "      <td>_1D50SWTKX</td>\n",
       "      <td>2006-08-11</td>\n",
       "      <td>270</td>\n",
       "      <td>Funds_Payroll</td>\n",
       "      <td>True</td>\n",
       "      <td>True</td>\n",
       "      <td>Focus_AP_PhaseII</td>\n",
       "      <td>Kenmore</td>\n",
       "      <td>WA</td>\n",
       "      <td>King</td>\n",
       "      <td>...</td>\n",
       "      <td>4</td>\n",
       "      <td>200608</td>\n",
       "      <td>20062</td>\n",
       "      <td>Funds_Payroll</td>\n",
       "      <td>[2005, 2006, 2007, 2008, 2009, 2010, 2011, 201...</td>\n",
       "      <td>[(2005, 2015)]</td>\n",
       "      <td>[2004, 2005, 2006, 2007, 2008, 2009, 2010, 201...</td>\n",
       "      <td>[(2004, 2015)]</td>\n",
       "      <td>False</td>\n",
       "      <td>True</td>\n",
       "    </tr>\n",
       "    <tr>\n",
       "      <th>124072</th>\n",
       "      <td>_1D50SWTKX</td>\n",
       "      <td>2007-02-22</td>\n",
       "      <td>270</td>\n",
       "      <td>Funds_Matching</td>\n",
       "      <td>True</td>\n",
       "      <td>False</td>\n",
       "      <td>Focus_AP_PhaseII</td>\n",
       "      <td>Kenmore</td>\n",
       "      <td>WA</td>\n",
       "      <td>King</td>\n",
       "      <td>...</td>\n",
       "      <td>3</td>\n",
       "      <td>200702</td>\n",
       "      <td>20070</td>\n",
       "      <td>Other_Contribution</td>\n",
       "      <td>[2005, 2006, 2007, 2008, 2009, 2010, 2011, 201...</td>\n",
       "      <td>[(2005, 2015)]</td>\n",
       "      <td>[2004, 2005, 2006, 2007, 2008, 2009, 2010, 201...</td>\n",
       "      <td>[(2004, 2015)]</td>\n",
       "      <td>True</td>\n",
       "      <td>False</td>\n",
       "    </tr>\n",
       "    <tr>\n",
       "      <th>124073</th>\n",
       "      <td>_1D50SWTKX</td>\n",
       "      <td>2010-11-30</td>\n",
       "      <td>360</td>\n",
       "      <td>Funds_Matching</td>\n",
       "      <td>False</td>\n",
       "      <td>False</td>\n",
       "      <td>Project_Punjab</td>\n",
       "      <td>Kenmore</td>\n",
       "      <td>WA</td>\n",
       "      <td>King</td>\n",
       "      <td>...</td>\n",
       "      <td>1</td>\n",
       "      <td>201011</td>\n",
       "      <td>20103</td>\n",
       "      <td>Other_Contribution</td>\n",
       "      <td>[2005, 2006, 2007, 2008, 2009, 2010, 2011, 201...</td>\n",
       "      <td>[(2005, 2015)]</td>\n",
       "      <td>[2004, 2005, 2006, 2007, 2008, 2009, 2010, 201...</td>\n",
       "      <td>[(2004, 2015)]</td>\n",
       "      <td>True</td>\n",
       "      <td>False</td>\n",
       "    </tr>\n",
       "    <tr>\n",
       "      <th>124074</th>\n",
       "      <td>_1D50SWTKX</td>\n",
       "      <td>2007-02-22</td>\n",
       "      <td>270</td>\n",
       "      <td>Funds_Payroll</td>\n",
       "      <td>True</td>\n",
       "      <td>True</td>\n",
       "      <td>Focus_AP_PhaseII</td>\n",
       "      <td>Kenmore</td>\n",
       "      <td>WA</td>\n",
       "      <td>King</td>\n",
       "      <td>...</td>\n",
       "      <td>3</td>\n",
       "      <td>200702</td>\n",
       "      <td>20070</td>\n",
       "      <td>Funds_Payroll</td>\n",
       "      <td>[2005, 2006, 2007, 2008, 2009, 2010, 2011, 201...</td>\n",
       "      <td>[(2005, 2015)]</td>\n",
       "      <td>[2004, 2005, 2006, 2007, 2008, 2009, 2010, 201...</td>\n",
       "      <td>[(2004, 2015)]</td>\n",
       "      <td>False</td>\n",
       "      <td>True</td>\n",
       "    </tr>\n",
       "    <tr>\n",
       "      <th>124075</th>\n",
       "      <td>_1D50SWTKX</td>\n",
       "      <td>2007-11-20</td>\n",
       "      <td>1479</td>\n",
       "      <td>Funds_Matching</td>\n",
       "      <td>True</td>\n",
       "      <td>False</td>\n",
       "      <td>Project_Shimoga</td>\n",
       "      <td>Kenmore</td>\n",
       "      <td>WA</td>\n",
       "      <td>King</td>\n",
       "      <td>...</td>\n",
       "      <td>1</td>\n",
       "      <td>200711</td>\n",
       "      <td>20073</td>\n",
       "      <td>Other_Contribution</td>\n",
       "      <td>[2005, 2006, 2007, 2008, 2009, 2010, 2011, 201...</td>\n",
       "      <td>[(2005, 2015)]</td>\n",
       "      <td>[2004, 2005, 2006, 2007, 2008, 2009, 2010, 201...</td>\n",
       "      <td>[(2004, 2015)]</td>\n",
       "      <td>True</td>\n",
       "      <td>False</td>\n",
       "    </tr>\n",
       "  </tbody>\n",
       "</table>\n",
       "<p>5 rows × 26 columns</p>\n",
       "</div>"
      ],
      "text/plain": [
       "          donor_id activity_date  amount          appeal charitable  \\\n",
       "124071  _1D50SWTKX    2006-08-11     270   Funds_Payroll       True   \n",
       "124072  _1D50SWTKX    2007-02-22     270  Funds_Matching       True   \n",
       "124073  _1D50SWTKX    2010-11-30     360  Funds_Matching      False   \n",
       "124074  _1D50SWTKX    2007-02-22     270   Funds_Payroll       True   \n",
       "124075  _1D50SWTKX    2007-11-20    1479  Funds_Matching       True   \n",
       "\n",
       "       is_donation              fund     city state county  \\\n",
       "124071        True  Focus_AP_PhaseII  Kenmore    WA   King   \n",
       "124072       False  Focus_AP_PhaseII  Kenmore    WA   King   \n",
       "124073       False    Project_Punjab  Kenmore    WA   King   \n",
       "124074        True  Focus_AP_PhaseII  Kenmore    WA   King   \n",
       "124075       False   Project_Shimoga  Kenmore    WA   King   \n",
       "\n",
       "                ...          activity_dow  activity_ym  activity_yq  \\\n",
       "124071          ...                     4       200608        20062   \n",
       "124072          ...                     3       200702        20070   \n",
       "124073          ...                     1       201011        20103   \n",
       "124074          ...                     3       200702        20070   \n",
       "124075          ...                     1       200711        20073   \n",
       "\n",
       "           appeal_category                                 contribution_years  \\\n",
       "124071       Funds_Payroll  [2005, 2006, 2007, 2008, 2009, 2010, 2011, 201...   \n",
       "124072  Other_Contribution  [2005, 2006, 2007, 2008, 2009, 2010, 2011, 201...   \n",
       "124073  Other_Contribution  [2005, 2006, 2007, 2008, 2009, 2010, 2011, 201...   \n",
       "124074       Funds_Payroll  [2005, 2006, 2007, 2008, 2009, 2010, 2011, 201...   \n",
       "124075  Other_Contribution  [2005, 2006, 2007, 2008, 2009, 2010, 2011, 201...   \n",
       "\n",
       "        contribution_year_bins  \\\n",
       "124071          [(2005, 2015)]   \n",
       "124072          [(2005, 2015)]   \n",
       "124073          [(2005, 2015)]   \n",
       "124074          [(2005, 2015)]   \n",
       "124075          [(2005, 2015)]   \n",
       "\n",
       "                                           donation_years  donation_year_bins  \\\n",
       "124071  [2004, 2005, 2006, 2007, 2008, 2009, 2010, 201...      [(2004, 2015)]   \n",
       "124072  [2004, 2005, 2006, 2007, 2008, 2009, 2010, 201...      [(2004, 2015)]   \n",
       "124073  [2004, 2005, 2006, 2007, 2008, 2009, 2010, 201...      [(2004, 2015)]   \n",
       "124074  [2004, 2005, 2006, 2007, 2008, 2009, 2010, 201...      [(2004, 2015)]   \n",
       "124075  [2004, 2005, 2006, 2007, 2008, 2009, 2010, 201...      [(2004, 2015)]   \n",
       "\n",
       "        is_recurring_contribution is_recurring_donation  \n",
       "124071                      False                  True  \n",
       "124072                       True                 False  \n",
       "124073                       True                 False  \n",
       "124074                      False                  True  \n",
       "124075                       True                 False  \n",
       "\n",
       "[5 rows x 26 columns]"
      ]
     },
     "execution_count": 15,
     "metadata": {},
     "output_type": "execute_result"
    }
   ],
   "source": [
    "df[df.donor_id == '_1D50SWTKX'].head()"
   ]
  },
  {
   "cell_type": "code",
   "execution_count": null,
   "metadata": {
    "collapsed": true
   },
   "outputs": [],
   "source": []
  }
 ],
 "metadata": {
  "kernelspec": {
   "display_name": "Python 2",
   "language": "python",
   "name": "python2"
  },
  "language_info": {
   "codemirror_mode": {
    "name": "ipython",
    "version": 2
   },
   "file_extension": ".py",
   "mimetype": "text/x-python",
   "name": "python",
   "nbconvert_exporter": "python",
   "pygments_lexer": "ipython2",
   "version": "2.7.11"
  }
 },
 "nbformat": 4,
 "nbformat_minor": 0
}
