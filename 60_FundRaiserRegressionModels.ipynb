{
 "cells": [
  {
   "cell_type": "code",
   "execution_count": 1,
   "metadata": {
    "collapsed": true
   },
   "outputs": [],
   "source": [
    "import pandas as pd\n",
    "import numpy as np"
   ]
  },
  {
   "cell_type": "code",
   "execution_count": 2,
   "metadata": {
    "collapsed": true
   },
   "outputs": [],
   "source": [
    "events = pd.read_pickle('out/41/events.pkl')\n",
    "df = pd.read_pickle('out/21/donations.pkl')"
   ]
  },
  {
   "cell_type": "code",
   "execution_count": 3,
   "metadata": {
    "collapsed": false
   },
   "outputs": [
    {
     "data": {
      "text/html": [
       "<div>\n",
       "<table border=\"1\" class=\"dataframe\">\n",
       "  <thead>\n",
       "    <tr style=\"text-align: right;\">\n",
       "      <th></th>\n",
       "      <th>appeal</th>\n",
       "      <th>campaign_location_id</th>\n",
       "      <th>campaign_month_id</th>\n",
       "      <th>transaction_count</th>\n",
       "      <th>amount</th>\n",
       "      <th>activity_year</th>\n",
       "      <th>activity_month</th>\n",
       "      <th>activity_ym</th>\n",
       "      <th>county</th>\n",
       "      <th>state</th>\n",
       "    </tr>\n",
       "  </thead>\n",
       "  <tbody>\n",
       "    <tr>\n",
       "      <th>0</th>\n",
       "      <td>Banquet_GWOF</td>\n",
       "      <td>0</td>\n",
       "      <td>0</td>\n",
       "      <td>45</td>\n",
       "      <td>26548</td>\n",
       "      <td>2011</td>\n",
       "      <td>7</td>\n",
       "      <td>201107</td>\n",
       "      <td>Alameda</td>\n",
       "      <td>CA</td>\n",
       "    </tr>\n",
       "    <tr>\n",
       "      <th>1</th>\n",
       "      <td>Banquet_Gift Of Vision</td>\n",
       "      <td>0</td>\n",
       "      <td>0</td>\n",
       "      <td>46</td>\n",
       "      <td>9002</td>\n",
       "      <td>2010</td>\n",
       "      <td>10</td>\n",
       "      <td>201010</td>\n",
       "      <td>Alameda</td>\n",
       "      <td>CA</td>\n",
       "    </tr>\n",
       "    <tr>\n",
       "      <th>2</th>\n",
       "      <td>Banquet_Gujarat_CA_2008</td>\n",
       "      <td>0</td>\n",
       "      <td>0</td>\n",
       "      <td>16</td>\n",
       "      <td>8650</td>\n",
       "      <td>2008</td>\n",
       "      <td>7</td>\n",
       "      <td>200807</td>\n",
       "      <td>Santa Clara</td>\n",
       "      <td>CA</td>\n",
       "    </tr>\n",
       "    <tr>\n",
       "      <th>3</th>\n",
       "      <td>Banquet_Hyderabad</td>\n",
       "      <td>0</td>\n",
       "      <td>0</td>\n",
       "      <td>11</td>\n",
       "      <td>850</td>\n",
       "      <td>2015</td>\n",
       "      <td>10</td>\n",
       "      <td>201510</td>\n",
       "      <td>Santa Clara</td>\n",
       "      <td>CA</td>\n",
       "    </tr>\n",
       "    <tr>\n",
       "      <th>4</th>\n",
       "      <td>Banquet_Punjab_CA</td>\n",
       "      <td>0</td>\n",
       "      <td>0</td>\n",
       "      <td>65</td>\n",
       "      <td>15860</td>\n",
       "      <td>2009</td>\n",
       "      <td>11</td>\n",
       "      <td>200911</td>\n",
       "      <td>Alameda</td>\n",
       "      <td>CA</td>\n",
       "    </tr>\n",
       "  </tbody>\n",
       "</table>\n",
       "</div>"
      ],
      "text/plain": [
       "                    appeal  campaign_location_id  campaign_month_id  \\\n",
       "0             Banquet_GWOF                     0                  0   \n",
       "1   Banquet_Gift Of Vision                     0                  0   \n",
       "2  Banquet_Gujarat_CA_2008                     0                  0   \n",
       "3        Banquet_Hyderabad                     0                  0   \n",
       "4        Banquet_Punjab_CA                     0                  0   \n",
       "\n",
       "   transaction_count  amount  activity_year  activity_month  activity_ym  \\\n",
       "0                 45   26548           2011               7       201107   \n",
       "1                 46    9002           2010              10       201010   \n",
       "2                 16    8650           2008               7       200807   \n",
       "3                 11     850           2015              10       201510   \n",
       "4                 65   15860           2009              11       200911   \n",
       "\n",
       "        county state  \n",
       "0      Alameda    CA  \n",
       "1      Alameda    CA  \n",
       "2  Santa Clara    CA  \n",
       "3  Santa Clara    CA  \n",
       "4      Alameda    CA  "
      ]
     },
     "execution_count": 3,
     "metadata": {},
     "output_type": "execute_result"
    }
   ],
   "source": [
    "events.head()"
   ]
  },
  {
   "cell_type": "code",
   "execution_count": 119,
   "metadata": {
    "collapsed": false
   },
   "outputs": [],
   "source": [
    "def month_diff(ym, number):\n",
    "    '''\n",
    "    example: month_diff(201505, 3) => 201502\n",
    "    example: month_diff(201501, 3) => 201410\n",
    "    '''\n",
    "    y,m = int(ym/100), ym%100\n",
    "    dy, dm = number/12, number%12\n",
    "    m -= dm\n",
    "    if m < 1:\n",
    "        y, m = (y - 1), 12 + m\n",
    "    return ((y - dy)*100) + m\n"
   ]
  },
  {
   "cell_type": "code",
   "execution_count": 320,
   "metadata": {
    "collapsed": false
   },
   "outputs": [],
   "source": [
    "def get_past_event_stats(state, year, month, prior_months_list):\n",
    "    '''\n",
    "    For a given list of numbers, go back that many months prior from the given month and get the event summary\n",
    "    ex: state = CA, year = 2015, month = 1, prior_months_list = [1, 3, 6, 12, 18]\n",
    "    Going back 1, 3, 6, 12 and 18 months from Jan 2012, return the summary stats (amount, attendance) for each duration\n",
    "    '''\n",
    "    target_ym = year*100 + month\n",
    "    stats = (state, year, month,)\n",
    "    for prior_month in prior_months_list:\n",
    "        subdata = events[(events.state==state)\n",
    "               & (events.activity_ym >= month_diff(target_ym, prior_month))\n",
    "               & (events.activity_ym <= target_ym)]\n",
    "        stats = stats + (subdata.amount.sum(),)\n",
    "        stats = stats + (subdata.transaction_count.sum(),)\n",
    "    return stats"
   ]
  },
  {
   "cell_type": "code",
   "execution_count": 321,
   "metadata": {
    "collapsed": false,
    "scrolled": true
   },
   "outputs": [
    {
     "data": {
      "text/plain": [
       "('CA',\n",
       " 2014,\n",
       " 12,\n",
       " 0,\n",
       " 0,\n",
       " 20733L,\n",
       " 318L,\n",
       " 26400L,\n",
       " 330L,\n",
       " 1107523L,\n",
       " 3363L,\n",
       " 1137499L,\n",
       " 3629L)"
      ]
     },
     "execution_count": 321,
     "metadata": {},
     "output_type": "execute_result"
    }
   ],
   "source": [
    "d = get_past_event_stats('CA', 2014, 12, [1, 3, 6, 12, 18])\n",
    "d"
   ]
  },
  {
   "cell_type": "code",
   "execution_count": 273,
   "metadata": {
    "collapsed": false
   },
   "outputs": [],
   "source": [
    "response_stats = []\n",
    "for state in df.state.unique():\n",
    "    for year in range(2005, 2016):\n",
    "        for month in range(1, 13):\n",
    "            subdata = df[(df.is_service==False) & (df.state==state)\n",
    "                         & (df.activity_year==year) & (df.activity_month==month)]\n",
    "            stats.append((state, year, month, subdata.amount.sum(), subdata.donor_id.nunique()))"
   ]
  },
  {
   "cell_type": "code",
   "execution_count": 283,
   "metadata": {
    "collapsed": false
   },
   "outputs": [],
   "source": [
    "data_Y = pd.DataFrame(response_stats, columns=['state','year','month','amount','donor_count'])"
   ]
  },
  {
   "cell_type": "code",
   "execution_count": 322,
   "metadata": {
    "collapsed": false
   },
   "outputs": [],
   "source": [
    "predictor_stats = data_Y.apply(lambda row: get_past_event_stats(row['state'], row['year'], row['month'], [1, 3, 6, 12, 18]), axis=1)"
   ]
  },
  {
   "cell_type": "code",
   "execution_count": 359,
   "metadata": {
    "collapsed": true
   },
   "outputs": [],
   "source": [
    "cols = ['amount_1', 'trans_1', 'amount_3', 'trans_3', 'amount_6', 'trans_6',\n",
    "        'amount_12', 'trans_12','amount_18', 'trans_18']\n",
    "xcols = ['state', 'year', 'month',]\n",
    "xcols.extend(cols)"
   ]
  },
  {
   "cell_type": "code",
   "execution_count": 404,
   "metadata": {
    "collapsed": false
   },
   "outputs": [],
   "source": [
    "data_X = pd.DataFrame(predictor_stats.values.tolist(), columns=xcols)"
   ]
  },
  {
   "cell_type": "code",
   "execution_count": 429,
   "metadata": {
    "collapsed": true
   },
   "outputs": [],
   "source": [
    "data = data_X.merge(data_Y, on=['state','year','month'])\n",
    "data = data[~(data.month==12)]"
   ]
  },
  {
   "cell_type": "code",
   "execution_count": 430,
   "metadata": {
    "collapsed": false
   },
   "outputs": [],
   "source": [
    "y = data.donor_count.values\n",
    "X = data[cols].values"
   ]
  },
  {
   "cell_type": "code",
   "execution_count": 431,
   "metadata": {
    "collapsed": true
   },
   "outputs": [],
   "source": [
    "from sklearn.ensemble import RandomForestRegressor\n",
    "from sklearn.cross_validation import KFold"
   ]
  },
  {
   "cell_type": "code",
   "execution_count": 432,
   "metadata": {
    "collapsed": false
   },
   "outputs": [],
   "source": [
    "k_fold = KFold(len(X), 3, shuffle=True, random_state=46)"
   ]
  },
  {
   "cell_type": "code",
   "execution_count": 441,
   "metadata": {
    "collapsed": false
   },
   "outputs": [
    {
     "name": "stdout",
     "output_type": "stream",
     "text": [
      "0.773291776051\n",
      "0.798209824666\n",
      "0.787804310589\n",
      "0.531652511653\n"
     ]
    }
   ],
   "source": [
    "for k, (train, test) in enumerate(k_fold):\n",
    "    rf = RandomForestRegressor()\n",
    "    rf.fit(X[train], y[train])\n",
    "    print rf.score(X[train], y[train])\n",
    "print rf.score(X[test], y[test])"
   ]
  },
  {
   "cell_type": "code",
   "execution_count": 442,
   "metadata": {
    "collapsed": false
   },
   "outputs": [
    {
     "data": {
      "text/plain": [
       "array([ 0.02518053,  0.00447784,  0.01573717,  0.03195681,  0.37892828,\n",
       "        0.02715108,  0.14323535,  0.01896885,  0.25221581,  0.10214828])"
      ]
     },
     "execution_count": 442,
     "metadata": {},
     "output_type": "execute_result"
    }
   ],
   "source": [
    "rf.feature_importances_"
   ]
  },
  {
   "cell_type": "code",
   "execution_count": null,
   "metadata": {
    "collapsed": true
   },
   "outputs": [],
   "source": []
  }
 ],
 "metadata": {
  "kernelspec": {
   "display_name": "Python 2",
   "language": "python",
   "name": "python2"
  },
  "language_info": {
   "codemirror_mode": {
    "name": "ipython",
    "version": 2
   },
   "file_extension": ".py",
   "mimetype": "text/x-python",
   "name": "python",
   "nbconvert_exporter": "python",
   "pygments_lexer": "ipython2",
   "version": "2.7.11"
  }
 },
 "nbformat": 4,
 "nbformat_minor": 0
}
