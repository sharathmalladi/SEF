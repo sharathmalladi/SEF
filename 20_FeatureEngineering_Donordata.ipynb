{
 "cells": [
  {
   "cell_type": "code",
   "execution_count": 1,
   "metadata": {
    "collapsed": true
   },
   "outputs": [],
   "source": [
    "import pandas as pd\n",
    "import numpy as np\n",
    "import matplotlib.pyplot as plt\n",
    "%matplotlib inline"
   ]
  },
  {
   "cell_type": "markdown",
   "metadata": {},
   "source": [
    "## Nomenclature:\n",
    "    1. Donation - is a charitable contribution\n",
    "    2. Contribution - is not a charitable contribution"
   ]
  },
  {
   "cell_type": "code",
   "execution_count": 2,
   "metadata": {
    "collapsed": false
   },
   "outputs": [],
   "source": [
    "def get_year_bins(years):\n",
    "    '''\n",
    "    input: list of years\n",
    "    output: bins of consequent years that form the given list\n",
    "    example:\n",
    "        get_year_bins([2002, 2003, 2004, 2006, 2010, 2011, 2013]) => [(2002, 2004), (2010, 2011)]\n",
    "    '''\n",
    "    years = sorted(years)\n",
    "    maxyear = 2014\n",
    "    if maxyear in years:\n",
    "        np.append(years, maxyear+1)\n",
    "    bins = zip([x for x in years if x-1 not in years], [x for x in years if x+1 not in years])\n",
    "    bins = [(x,y) for x,y in bins if x != y]\n",
    "    return bins\n",
    "\n",
    "def get_year_bins_charitable(rows, charitable):\n",
    "    '''\n",
    "    input: rows from dataframe for a specific donor, charitable flag\n",
    "    output: bins of consequent years when the donor gave us money with that charitable flag\n",
    "    '''\n",
    "    if sum(rows.charitable==charitable) == 0:\n",
    "        return []\n",
    "    else:\n",
    "        return get_year_bins(rows[rows.charitable==charitable].activity_year.unique())\n",
    "    \n",
    "def get_years_charitable(rows, charitable):\n",
    "    '''\n",
    "    input: rows from dataframe for a specific donor, charitable flag\n",
    "    output: list of distinct, sorted years when the donor gave us money with that charitable flag\n",
    "    '''\n",
    "    if sum(rows.charitable==charitable) == 0:\n",
    "        return []\n",
    "    else:\n",
    "        return np.sort(rows[rows.charitable==charitable].activity_year.unique())"
   ]
  },
  {
   "cell_type": "code",
   "execution_count": 3,
   "metadata": {
    "collapsed": false
   },
   "outputs": [],
   "source": [
    "def is_recurring_contribution(contribution_year_bins, activity_year, charitable):\n",
    "    '''\n",
    "    Input: List of tuples representing bins of continous years of contributions made by the donor, year of activity\n",
    "    Returns: True if the row is a contribution and year appears in any of the bins, false otherwise\n",
    "    '''\n",
    "    return bool((~charitable) & np.any([activity_year >= b[0] and activity_year <= b[1] for b in contribution_year_bins]))\n",
    "\n",
    "def is_recurring_donation(donation_year_bins, activity_year, charitable):\n",
    "    '''\n",
    "    Input: List of tuples representing bins of continous years of donations made by the donor, year of activity\n",
    "    Returns: True if the row is a donation and year appears in any of the bins, false otherwise\n",
    "    '''\n",
    "    return bool((charitable) & np.any([activity_year >= b[0] and activity_year <= b[1] for b in donation_year_bins]))"
   ]
  },
  {
   "cell_type": "code",
   "execution_count": 4,
   "metadata": {
    "collapsed": true
   },
   "outputs": [],
   "source": [
    "df = pd.read_pickle('out/1/donations_featureengineered_appeal.pkl')\n",
    "df = df[['donor_id', 'activity_date', 'amount', 'appeal', 'charitable', 'fund', 'city', 'state', 'county',\n",
    "         'zipcode', 'latitude', 'longitude',  'timezone', 'activity_year', 'activity_month', 'activity_dow',\n",
    "        'activity_ym']]"
   ]
  },
  {
   "cell_type": "code",
   "execution_count": 5,
   "metadata": {
    "collapsed": true
   },
   "outputs": [],
   "source": [
    "contribution_years = df.groupby(['donor_id']).apply(get_years_charitable, charitable=False)\n",
    "contribution_years.name = 'contribution_years'\n",
    "contribution_year_bins = contribution_years.apply(get_year_bins)\n",
    "contribution_year_bins.name = 'contribution_year_bins'"
   ]
  },
  {
   "cell_type": "code",
   "execution_count": 6,
   "metadata": {
    "collapsed": true
   },
   "outputs": [],
   "source": [
    "donation_years = df.groupby(['donor_id']).apply(get_years_charitable, charitable=True)\n",
    "donation_years.name = 'donation_years'\n",
    "donation_year_bins = donation_years.apply(get_year_bins)\n",
    "donation_year_bins.name = 'donation_year_bins'"
   ]
  },
  {
   "cell_type": "code",
   "execution_count": 7,
   "metadata": {
    "collapsed": false
   },
   "outputs": [],
   "source": [
    "df = df\\\n",
    "  .set_index('donor_id')\\\n",
    "  .join(contribution_years)\\\n",
    "  .join(contribution_year_bins)\\\n",
    "  .join(donation_years, how='left')\\\n",
    "  .join(donation_year_bins, how='left')\\\n",
    "  .reset_index()"
   ]
  },
  {
   "cell_type": "code",
   "execution_count": 8,
   "metadata": {
    "collapsed": false
   },
   "outputs": [],
   "source": [
    "df['is_recurring_contribution'] = \\\n",
    "    df.apply(lambda row: is_recurring_contribution(row.contribution_year_bins, row.activity_year, row.charitable), axis=1)\n",
    "\n",
    "df['is_recurring_donation'] = \\\n",
    "    df.apply(lambda row: is_recurring_donation(row.donation_year_bins, row.activity_year, row.charitable), axis=1)"
   ]
  },
  {
   "cell_type": "code",
   "execution_count": 9,
   "metadata": {
    "collapsed": true
   },
   "outputs": [],
   "source": [
    "donor_data = df[['donor_id', 'city', 'state', 'county', 'zipcode', 'latitude', 'longitude',\n",
    "                 'timezone', 'contribution_years', 'donation_years',\n",
    "                 'contribution_year_bins', 'donation_year_bins',\n",
    "                ]].copy().drop_duplicates('donor_id')"
   ]
  },
  {
   "cell_type": "code",
   "execution_count": 10,
   "metadata": {
    "collapsed": false
   },
   "outputs": [
    {
     "name": "stdout",
     "output_type": "stream",
     "text": [
      "46986 46986\n"
     ]
    }
   ],
   "source": [
    "# We should have the same count of distinct donors in both the data frames. Otherwise something is wrong!\n",
    "print df.donor_id.nunique(), donor_data.donor_id.nunique()"
   ]
  },
  {
   "cell_type": "code",
   "execution_count": 11,
   "metadata": {
    "collapsed": false
   },
   "outputs": [],
   "source": [
    "donor_data['num_donation_year_bins'] = donor_data.donation_year_bins.apply(len)\n",
    "donor_data['num_contribution_year_bins'] = donor_data.contribution_year_bins.apply(len)\n",
    "donor_data['num_donation_years'] = donor_data.donation_years.apply(len)\n",
    "donor_data['num_contribution_years'] = donor_data.contribution_years.apply(len)"
   ]
  },
  {
   "cell_type": "code",
   "execution_count": 12,
   "metadata": {
    "collapsed": false
   },
   "outputs": [],
   "source": [
    "donor_data = donor_data\\\n",
    "  .set_index('donor_id')\\\n",
    "  .join(df.groupby(['donor_id']).is_recurring_donation.sum())\\\n",
    "  .rename(columns={'is_recurring_donation': 'num_recurring_donations'})\\\n",
    "  .join(df.groupby(['donor_id']).is_recurring_contribution.sum())\\\n",
    "  .rename(columns={'is_recurring_contribution': 'num_recurring_contributions'})\\\n",
    "  .join(df[df.charitable==False].groupby(['donor_id']).amount.sum(), how='left')\\\n",
    "  .rename(columns={'amount': 'contribution_amount'})\\\n",
    "  .join(df[df.charitable==True].groupby(['donor_id']).amount.sum(), how='left')\\\n",
    "  .rename(columns={'amount': 'donation_amount'})\\\n",
    "  .reset_index()"
   ]
  },
  {
   "cell_type": "code",
   "execution_count": 13,
   "metadata": {
    "collapsed": false
   },
   "outputs": [
    {
     "data": {
      "text/html": [
       "<div>\n",
       "<table border=\"1\" class=\"dataframe\">\n",
       "  <thead>\n",
       "    <tr style=\"text-align: right;\">\n",
       "      <th></th>\n",
       "      <th>donor_id</th>\n",
       "      <th>city</th>\n",
       "      <th>state</th>\n",
       "      <th>county</th>\n",
       "      <th>zipcode</th>\n",
       "      <th>latitude</th>\n",
       "      <th>longitude</th>\n",
       "      <th>timezone</th>\n",
       "      <th>contribution_years</th>\n",
       "      <th>donation_years</th>\n",
       "      <th>contribution_year_bins</th>\n",
       "      <th>donation_year_bins</th>\n",
       "      <th>num_donation_year_bins</th>\n",
       "      <th>num_contribution_year_bins</th>\n",
       "      <th>num_donation_years</th>\n",
       "      <th>num_contribution_years</th>\n",
       "      <th>num_recurring_donations</th>\n",
       "      <th>num_recurring_contributions</th>\n",
       "      <th>contribution_amount</th>\n",
       "      <th>donation_amount</th>\n",
       "    </tr>\n",
       "  </thead>\n",
       "  <tbody>\n",
       "    <tr>\n",
       "      <th>33035</th>\n",
       "      <td>_1D50SWTKX</td>\n",
       "      <td>Kenmore</td>\n",
       "      <td>WA</td>\n",
       "      <td>King County</td>\n",
       "      <td>98028</td>\n",
       "      <td>47.75</td>\n",
       "      <td>-122.24</td>\n",
       "      <td>America/Los_Angeles</td>\n",
       "      <td>[2005, 2008, 2009, 2010, 2011, 2012, 2013, 201...</td>\n",
       "      <td>[2004, 2005, 2006, 2007, 2008, 2009, 2010, 201...</td>\n",
       "      <td>[(2008, 2015)]</td>\n",
       "      <td>[(2004, 2015)]</td>\n",
       "      <td>1</td>\n",
       "      <td>1</td>\n",
       "      <td>12</td>\n",
       "      <td>9</td>\n",
       "      <td>69</td>\n",
       "      <td>35</td>\n",
       "      <td>24596</td>\n",
       "      <td>32097</td>\n",
       "    </tr>\n",
       "  </tbody>\n",
       "</table>\n",
       "</div>"
      ],
      "text/plain": [
       "         donor_id     city state       county zipcode  latitude  longitude  \\\n",
       "33035  _1D50SWTKX  Kenmore    WA  King County   98028     47.75    -122.24   \n",
       "\n",
       "                  timezone                                 contribution_years  \\\n",
       "33035  America/Los_Angeles  [2005, 2008, 2009, 2010, 2011, 2012, 2013, 201...   \n",
       "\n",
       "                                          donation_years  \\\n",
       "33035  [2004, 2005, 2006, 2007, 2008, 2009, 2010, 201...   \n",
       "\n",
       "      contribution_year_bins donation_year_bins  num_donation_year_bins  \\\n",
       "33035         [(2008, 2015)]     [(2004, 2015)]                       1   \n",
       "\n",
       "       num_contribution_year_bins  num_donation_years  num_contribution_years  \\\n",
       "33035                           1                  12                       9   \n",
       "\n",
       "       num_recurring_donations  num_recurring_contributions  \\\n",
       "33035                       69                           35   \n",
       "\n",
       "       contribution_amount  donation_amount  \n",
       "33035                24596            32097  "
      ]
     },
     "execution_count": 13,
     "metadata": {},
     "output_type": "execute_result"
    }
   ],
   "source": [
    "donor_data[donor_data.donor_id == '_1D50SWTKX']"
   ]
  },
  {
   "cell_type": "code",
   "execution_count": 21,
   "metadata": {
    "collapsed": false
   },
   "outputs": [],
   "source": [
    "!mkdir -p out/2\n",
    "df.to_pickle('out/2/donation_feature_engineered.pkl')\n",
    "donor_data.to_pickle('out/2/donor_feature_engineered.pkl')"
   ]
  },
  {
   "cell_type": "code",
   "execution_count": null,
   "metadata": {
    "collapsed": true
   },
   "outputs": [],
   "source": []
  }
 ],
 "metadata": {
  "kernelspec": {
   "display_name": "Python 2",
   "language": "python",
   "name": "python2"
  },
  "language_info": {
   "codemirror_mode": {
    "name": "ipython",
    "version": 2
   },
   "file_extension": ".py",
   "mimetype": "text/x-python",
   "name": "python",
   "nbconvert_exporter": "python",
   "pygments_lexer": "ipython2",
   "version": "2.7.11"
  }
 },
 "nbformat": 4,
 "nbformat_minor": 0
}
