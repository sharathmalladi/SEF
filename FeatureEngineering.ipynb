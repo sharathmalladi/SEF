{
 "cells": [
  {
   "cell_type": "code",
   "execution_count": 40,
   "metadata": {
    "collapsed": true
   },
   "outputs": [],
   "source": [
    "import pandas as pd\n",
    "import numpy as np"
   ]
  },
  {
   "cell_type": "code",
   "execution_count": 130,
   "metadata": {
    "collapsed": false
   },
   "outputs": [],
   "source": [
    "df = pd.read_pickle('sef_donors_cleaned.pkl')\n",
    "\n",
    "df = df[['donor_id', 'donation_date', 'amount', 'appeal', 'charitable', 'fund', 'city',\n",
    "         'state', 'county', 'zipcode', 'latitude', 'longitude',  'timezone']]"
   ]
  },
  {
   "cell_type": "markdown",
   "metadata": {},
   "source": [
    "### Feature engineering:\n",
    "1. Add columns for year, month and day of week of donation date\n",
    "2. Add column for list of consecutive years for donation\n",
    "3. Add column for the size of the list from #2 above"
   ]
  },
  {
   "cell_type": "code",
   "execution_count": 131,
   "metadata": {
    "collapsed": false
   },
   "outputs": [],
   "source": [
    "df['donation_year'] = df.donation_date.apply(lambda x: x.year)\n",
    "df['donation_month'] = df.donation_date.apply(lambda x: x.year)\n",
    "df['donation_dow'] = df.donation_date.apply(lambda x: x.dayofweek)"
   ]
  },
  {
   "cell_type": "code",
   "execution_count": 132,
   "metadata": {
    "collapsed": true
   },
   "outputs": [],
   "source": [
    "def get_repeat_donation_year_bins(years):\n",
    "    '''\n",
    "    input: list of years in which donations were made\n",
    "    output: bins of consequent years during which the user made donations\n",
    "    example:\n",
    "        get_repeat_donation_years([2002, 2003, 2004, 2006, 2010, 2011, 2013]) => [(2002, 2004), (2010, 2011)]\n",
    "    '''\n",
    "    maxyear = 2015\n",
    "    if maxyear in years:\n",
    "        np.append(years, maxyear+1)\n",
    "    bins = zip([x for x in years if x-1 not in years], [x for x in years if x+1 not in years])\n",
    "    bins = [(x,y) for x,y in bins if x != y]\n",
    "    return bins"
   ]
  },
  {
   "cell_type": "code",
   "execution_count": 133,
   "metadata": {
    "collapsed": true
   },
   "outputs": [],
   "source": [
    "# Compute and add the list of bins of years in which consecutive donations were made\n",
    "repeat_year_bins = df.groupby(['donor_id']).donation_year.unique().apply(get_repeat_donation_year_bins)\n",
    "df.set_index('donor_id', inplace=True)\n",
    "df = df.join(repeat_year_bins, rsuffix='_y')\n",
    "df.reset_index(inplace=True)\n",
    "df.rename(columns={'donation_year_y': 'donation_year_bins'}, inplace=True)"
   ]
  },
  {
   "cell_type": "code",
   "execution_count": 141,
   "metadata": {
    "collapsed": false
   },
   "outputs": [],
   "source": [
    "df['donation_year_bincount'] = df.donation_year_bins.apply(len)"
   ]
  },
  {
   "cell_type": "code",
   "execution_count": 147,
   "metadata": {
    "collapsed": true
   },
   "outputs": [],
   "source": [
    "def is_recurring_donation(row):\n",
    "    '''\n",
    "    Input: List of tuples representing bins of continous years made by the donor, year of donation\n",
    "    Returns: True if the year appears in any of the bins, false otherwise\n",
    "    '''\n",
    "    return np.any([row.donation_year >= b[0] and row.donation_year <= b[1] for b in row.donation_year_bins])"
   ]
  },
  {
   "cell_type": "code",
   "execution_count": 149,
   "metadata": {
    "collapsed": false
   },
   "outputs": [],
   "source": [
    "df['is_recurring_donation'] = df.apply(is_recurring_donation, axis=1)"
   ]
  },
  {
   "cell_type": "code",
   "execution_count": null,
   "metadata": {
    "collapsed": true
   },
   "outputs": [],
   "source": []
  },
  {
   "cell_type": "code",
   "execution_count": null,
   "metadata": {
    "collapsed": true
   },
   "outputs": [],
   "source": []
  }
 ],
 "metadata": {
  "kernelspec": {
   "display_name": "Python 2",
   "language": "python",
   "name": "python2"
  },
  "language_info": {
   "codemirror_mode": {
    "name": "ipython",
    "version": 2
   },
   "file_extension": ".py",
   "mimetype": "text/x-python",
   "name": "python",
   "nbconvert_exporter": "python",
   "pygments_lexer": "ipython2",
   "version": "2.7.11"
  }
 },
 "nbformat": 4,
 "nbformat_minor": 0
}
