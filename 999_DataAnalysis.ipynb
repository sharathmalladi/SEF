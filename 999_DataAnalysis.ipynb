{
 "cells": [
  {
   "cell_type": "code",
   "execution_count": 2,
   "metadata": {
    "collapsed": true
   },
   "outputs": [],
   "source": [
    "import pandas as pd\n",
    "import numpy as np\n",
    "import matplotlib.pyplot as plt\n",
    "%matplotlib inline"
   ]
  },
  {
   "cell_type": "code",
   "execution_count": 3,
   "metadata": {
    "collapsed": false
   },
   "outputs": [],
   "source": [
    "df = pd.read_pickle('out/1/donations_featureengineered_appeal.pkl')\n",
    "df = df[['donor_id', 'activity_date', 'amount', 'appeal', 'charitable', 'fund', 'city', 'state', 'county',\n",
    "         'zipcode', 'latitude', 'longitude',  'timezone', 'activity_year', 'activity_month', 'activity_dow',\n",
    "         'activity_ym', 'appeal_category']]"
   ]
  },
  {
   "cell_type": "markdown",
   "metadata": {},
   "source": [
    "### Looking at appeals by charitable flag, location, number of donors, period of activity"
   ]
  },
  {
   "cell_type": "code",
   "execution_count": 4,
   "metadata": {
    "collapsed": false
   },
   "outputs": [],
   "source": [
    "df[df.charitable==False]\\\n",
    ".groupby(['appeal', 'state'])\\\n",
    ".agg({'amount': np.sum, 'activity_ym': lambda x: [np.min(x), np.max(x), np.max(x) - np.min(x) + 1] })\\\n",
    ".sort_values(by='amount', ascending=False)\\\n",
    ".to_csv('out/contribution_by_appeal_by_state.csv', sep='|')\n",
    "\n",
    "df[df.charitable==True]\\\n",
    ".groupby(['appeal', 'state'])\\\n",
    ".agg({'amount': np.sum, 'activity_ym': lambda x: [np.min(x), np.max(x), np.max(x) - np.min(x) + 1] })\\\n",
    ".sort_values(by='amount', ascending=False)\\\n",
    ".to_csv('out/donations_by_appeal_by_state.csv', sep='|')\n",
    "\n",
    "df[df.charitable==False]\\\n",
    ".groupby(['appeal'])\\\n",
    ".agg({'amount': np.sum, 'activity_ym': lambda x: [np.min(x), np.max(x), np.max(x) - np.min(x) + 1] })\\\n",
    ".sort_values(by='amount', ascending=False)\\\n",
    ".to_csv('out/contribution_by_appeal.csv', sep='|')\n",
    "\n",
    "df[df.charitable==True]\\\n",
    ".groupby(['appeal'])\\\n",
    ".agg({'amount': np.sum, 'activity_ym': lambda x: [np.min(x), np.max(x), np.max(x) - np.min(x) + 1] })\\\n",
    ".sort_values(by='amount', ascending=False)\\\n",
    ".to_csv('out/donations_by_appeal.csv', sep='|')"
   ]
  },
  {
   "cell_type": "code",
   "execution_count": 5,
   "metadata": {
    "collapsed": true
   },
   "outputs": [],
   "source": [
    "appeal_size = pd.concat(\n",
    "    [df.groupby(['appeal']).donor_id.nunique(),\n",
    "    df.groupby(['appeal']).amount.sum()], axis=1)\n",
    "\n",
    "appeal_size\\\n",
    ".sort_values(by='donor_id', ascending=False)\\\n",
    ".to_csv('out/appeal_by_donorsize.csv', sep='|')\n",
    "\n",
    "appeal_size\\\n",
    ".sort_values(by='amount', ascending=False)\\\n",
    ".to_csv('out/appeal_by_amount.csv', sep='|')"
   ]
  },
  {
   "cell_type": "markdown",
   "metadata": {},
   "source": [
    "# Trying out a random forest regression and classifier"
   ]
  },
  {
   "cell_type": "code",
   "execution_count": 6,
   "metadata": {
    "collapsed": true
   },
   "outputs": [],
   "source": [
    "from sklearn.ensemble import RandomForestRegressor, RandomForestClassifier\n",
    "from sklearn import cross_validation\n",
    "from sklearn.metrics import roc_auc_score"
   ]
  },
  {
   "cell_type": "code",
   "execution_count": 10,
   "metadata": {
    "collapsed": false
   },
   "outputs": [
    {
     "name": "stdout",
     "output_type": "stream",
     "text": [
      " Random Forest regression:  0.208686347251\n"
     ]
    }
   ],
   "source": [
    "#Try a regression model to predict the amount that someone from a given location will give\n",
    "rg = RandomForestRegressor()\n",
    "X = df[['amount', 'charitable', 'latitude', 'longitude', 'activity_year', 'activity_month', 'activity_dow', 'appeal_category']].copy()\n",
    "X.charitable = X.charitable.astype(int)\n",
    "cat_dummies = pd.get_dummies(X['appeal_category'])\n",
    "X = pd.concat([X, cat_dummies], axis=1)\n",
    "X.drop(['appeal_category', 'Walkathon'], inplace=True, axis=1)\n",
    "y = X.pop('amount')\n",
    "X_train, X_test, y_train, y_test = cross_validation.train_test_split(X.values, y.values, test_size=0.3, random_state=10)\n",
    "rg = rg.fit(X_train, y_train)\n",
    "print 'Random Forest regression: ', rg.score(X_test, y_test)"
   ]
  },
  {
   "cell_type": "code",
   "execution_count": 11,
   "metadata": {
    "collapsed": false
   },
   "outputs": [
    {
     "name": "stdout",
     "output_type": "stream",
     "text": [
      "score:  0.690075217999\n",
      "area under roc:  0.751878003246\n"
     ]
    }
   ],
   "source": [
    "yc = y > 30\n",
    "rc = RandomForestClassifier()\n",
    "X_train, X_test, y_train, y_test = cross_validation.train_test_split(X.values, yc.values, test_size=0.3, random_state=10)\n",
    "rc = rc.fit(X_train, y_train)\n",
    "print 'score: ', rc.score(X_test, y_test)\n",
    "print 'area under roc: ', roc_auc_score(y_test, rc.predict_proba(X_test)[:,1])"
   ]
  },
  {
   "cell_type": "code",
   "execution_count": null,
   "metadata": {
    "collapsed": true
   },
   "outputs": [],
   "source": []
  }
 ],
 "metadata": {
  "kernelspec": {
   "display_name": "Python 2",
   "language": "python",
   "name": "python2"
  },
  "language_info": {
   "codemirror_mode": {
    "name": "ipython",
    "version": 2
   },
   "file_extension": ".py",
   "mimetype": "text/x-python",
   "name": "python",
   "nbconvert_exporter": "python",
   "pygments_lexer": "ipython2",
   "version": "2.7.11"
  }
 },
 "nbformat": 4,
 "nbformat_minor": 0
}
