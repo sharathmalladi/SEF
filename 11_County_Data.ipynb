{
 "cells": [
  {
   "cell_type": "markdown",
   "metadata": {},
   "source": [
    "## GPS Co-ordinates for all counties in the USA\n",
    "We need the gps co-ordinates for plotting maps. The Bokeh sample data has this already.  \n",
    "So let's just pull in what we need into a pkl file for later use.  "
   ]
  },
  {
   "cell_type": "code",
   "execution_count": 1,
   "metadata": {
    "collapsed": true
   },
   "outputs": [],
   "source": [
    "import pandas as pd"
   ]
  },
  {
   "cell_type": "code",
   "execution_count": 2,
   "metadata": {
    "collapsed": false
   },
   "outputs": [],
   "source": [
    "donations = pd.read_pickle('out/0/donations.pkl')"
   ]
  },
  {
   "cell_type": "code",
   "execution_count": 3,
   "metadata": {
    "collapsed": false
   },
   "outputs": [],
   "source": [
    "from bokeh.sampledata import us_states, us_counties\n",
    "from bokeh.plotting import figure, show, output_file\n",
    "import pandas as pd\n",
    "import numpy as np\n",
    "\n",
    "us_counties = us_counties.data.copy()\n",
    "us_states = us_states.data.copy()\n",
    "\n",
    "\n",
    "counties_list = list()\n",
    "for county_id in us_counties:\n",
    "    counties_list.append(\n",
    "        [us_counties[county_id]['name'],\n",
    "        us_counties[county_id]['state'].upper(),\n",
    "        us_counties[county_id]['lats'],\n",
    "        us_counties[county_id]['lons']])\n",
    "\n",
    "states_list = list()\n",
    "for code in us_states:\n",
    "    states_list.append(\n",
    "        [code,\n",
    "        us_states[code]['lats'],\n",
    "        us_states[code]['lons']])\n",
    "\n",
    "counties_gps = pd.DataFrame(counties_list, columns=['county', 'state', 'lats', 'lons'])\n",
    "states_gps = pd.DataFrame(states_list, columns=['state', 'lats', 'lons'])"
   ]
  },
  {
   "cell_type": "code",
   "execution_count": 4,
   "metadata": {
    "collapsed": false
   },
   "outputs": [
    {
     "data": {
      "text/plain": [
       "0      stlucie\n",
       "1    jefferson\n",
       "2    anchorage\n",
       "3         king\n",
       "dtype: object"
      ]
     },
     "execution_count": 4,
     "metadata": {},
     "output_type": "execute_result"
    }
   ],
   "source": [
    "def normalizecounty(county):\n",
    "    '''\n",
    "    Return a normalized county name.\n",
    "    Different data sources seem to differ\n",
    "    '''\n",
    "    return county\\\n",
    "        .replace('County', '')\\\n",
    "        .replace('Parish', '')\\\n",
    "        .replace('City', '')\\\n",
    "        .replace('Borough', '')\\\n",
    "        .replace('.', '')\\\n",
    "        .replace(' ', '')\\\n",
    "        .lower()\n",
    "\n",
    "pd.Series(['St. Lucie', 'Jefferson Parish', 'Anchorage Borough', 'King County']).apply(normalizecounty)"
   ]
  },
  {
   "cell_type": "code",
   "execution_count": 5,
   "metadata": {
    "collapsed": false
   },
   "outputs": [
    {
     "data": {
      "text/plain": [
       "(2663, 0)"
      ]
     },
     "execution_count": 5,
     "metadata": {},
     "output_type": "execute_result"
    }
   ],
   "source": [
    "# We have donations that have county names that don't match up with one of the sources.\n",
    "missing = donations[\n",
    "    donations.county.isin\n",
    "    (set(donations.county.unique())\\\n",
    "          .difference(counties_gps.county.unique()))].county\n",
    "\n",
    "# The normalizecounty function should fix the issue\n",
    "missingafternormalization = donations[\n",
    "    donations.county.isin\n",
    "    (set(donations.county.apply(normalizecounty).unique())\\\n",
    "          .difference(counties_gps.county.apply(normalizecounty).unique()))].county\n",
    "\n",
    "len(missing), len(missingafternormalization)"
   ]
  },
  {
   "cell_type": "code",
   "execution_count": 6,
   "metadata": {
    "collapsed": false
   },
   "outputs": [],
   "source": [
    "counties_gps['county_norm'] = counties_gps.county.apply(normalizecounty)\n",
    "donations['county_norm'] = donations.county.apply(normalizecounty)"
   ]
  },
  {
   "cell_type": "markdown",
   "metadata": {},
   "source": [
    "### Read in the Indian populations for each county"
   ]
  },
  {
   "cell_type": "code",
   "execution_count": 7,
   "metadata": {
    "collapsed": false
   },
   "outputs": [
    {
     "data": {
      "text/html": [
       "<div>\n",
       "<table border=\"1\" class=\"dataframe\">\n",
       "  <thead>\n",
       "    <tr style=\"text-align: right;\">\n",
       "      <th></th>\n",
       "      <th>state</th>\n",
       "      <th>lats</th>\n",
       "      <th>lons</th>\n",
       "    </tr>\n",
       "  </thead>\n",
       "  <tbody>\n",
       "    <tr>\n",
       "      <th>0</th>\n",
       "      <td>WA</td>\n",
       "      <td>[46.29443, 46.26451, 46.31405, 46.34919, 46.38...</td>\n",
       "      <td>[-124.03622, -124.16101, -124.15117, -124.1378...</td>\n",
       "    </tr>\n",
       "    <tr>\n",
       "      <th>1</th>\n",
       "      <td>DE</td>\n",
       "      <td>[39.63895, 39.68084, 39.72204, 39.72221, 39.72...</td>\n",
       "      <td>[-75.7878, -75.78909, -75.78861, -75.78861, -7...</td>\n",
       "    </tr>\n",
       "    <tr>\n",
       "      <th>2</th>\n",
       "      <td>DC</td>\n",
       "      <td>[38.97872, 38.98378, 38.96493, 38.95822, 38.95...</td>\n",
       "      <td>[-77.06276, -77.02561, -77.00141, -76.99288, -...</td>\n",
       "    </tr>\n",
       "    <tr>\n",
       "      <th>3</th>\n",
       "      <td>WI</td>\n",
       "      <td>[42.49273, 42.49433, 42.49562, 42.49561, 42.49...</td>\n",
       "      <td>[-87.8156, -87.93137, -88.10268, -88.20645, -8...</td>\n",
       "    </tr>\n",
       "    <tr>\n",
       "      <th>4</th>\n",
       "      <td>WV</td>\n",
       "      <td>[40.18683, 40.39711, 40.54795, 40.61628, 40.63...</td>\n",
       "      <td>[-80.67905, -80.62345, -80.64068, -80.57018, -...</td>\n",
       "    </tr>\n",
       "  </tbody>\n",
       "</table>\n",
       "</div>"
      ],
      "text/plain": [
       "  state                                               lats  \\\n",
       "0    WA  [46.29443, 46.26451, 46.31405, 46.34919, 46.38...   \n",
       "1    DE  [39.63895, 39.68084, 39.72204, 39.72221, 39.72...   \n",
       "2    DC  [38.97872, 38.98378, 38.96493, 38.95822, 38.95...   \n",
       "3    WI  [42.49273, 42.49433, 42.49562, 42.49561, 42.49...   \n",
       "4    WV  [40.18683, 40.39711, 40.54795, 40.61628, 40.63...   \n",
       "\n",
       "                                                lons  \n",
       "0  [-124.03622, -124.16101, -124.15117, -124.1378...  \n",
       "1  [-75.7878, -75.78909, -75.78861, -75.78861, -7...  \n",
       "2  [-77.06276, -77.02561, -77.00141, -76.99288, -...  \n",
       "3  [-87.8156, -87.93137, -88.10268, -88.20645, -8...  \n",
       "4  [-80.67905, -80.62345, -80.64068, -80.57018, -...  "
      ]
     },
     "execution_count": 7,
     "metadata": {},
     "output_type": "execute_result"
    }
   ],
   "source": [
    "states_gps.head()"
   ]
  },
  {
   "cell_type": "code",
   "execution_count": 8,
   "metadata": {
    "collapsed": false
   },
   "outputs": [],
   "source": [
    "pop2014 = pd.read_csv('in/IndianPopulation_2010_2014.csv', names=['county_state', 'population'], skiprows=1)\n",
    "pop2010 = pd.read_csv('in/IndianPopulation_2006_2010.csv', names=['county_state', 'population'], skiprows=1)\n",
    "states = pd.read_csv('in/state_table.csv')\n",
    "\n",
    "pop2010['county'] = pop2010.county_state.str.extract('([a-z|A-Z|\\'|\\s]+), ([a-z|A-Z|\\s]+)')[0]\n",
    "pop2014['county'] = pop2014.county_state.str.extract('([a-z|A-Z|\\'|\\s]+), ([a-z|A-Z|\\s]+)')[0]\n",
    "pop2010['state'] =  pop2010.county_state.str.extract('([a-z|A-Z|\\'|\\s]+), ([a-z|A-Z|\\s]+)')[1]\n",
    "pop2014['state'] =  pop2014.county_state.str.extract('([a-z|A-Z|\\'|\\s]+), ([a-z|A-Z|\\s]+)')[1]\n",
    "\n",
    "pop2010 = pop2010.rename(columns={'population': 2008}).drop('county_state', axis=1)\n",
    "pop2014 = pop2014.rename(columns={'population': 2012}).drop('county_state', axis=1)\n",
    "pop2010['county_norm'] = pop2010.county.apply(normalizecounty)\n",
    "pop2014['county_norm'] = pop2014.county.apply(normalizecounty)\n",
    "data = pop2010.merge(pop2014, how='outer', on=['county_norm', 'state'])[['county_norm', 'state', 2008, 2012]]"
   ]
  },
  {
   "cell_type": "code",
   "execution_count": 9,
   "metadata": {
    "collapsed": false
   },
   "outputs": [
    {
     "data": {
      "text/html": [
       "<div>\n",
       "<table border=\"1\" class=\"dataframe\">\n",
       "  <thead>\n",
       "    <tr style=\"text-align: right;\">\n",
       "      <th></th>\n",
       "      <th>county_norm</th>\n",
       "      <th>state</th>\n",
       "      <th>2008</th>\n",
       "      <th>2012</th>\n",
       "    </tr>\n",
       "  </thead>\n",
       "  <tbody>\n",
       "    <tr>\n",
       "      <th>0</th>\n",
       "      <td>autauga</td>\n",
       "      <td>Alabama</td>\n",
       "      <td>37</td>\n",
       "      <td>0</td>\n",
       "    </tr>\n",
       "    <tr>\n",
       "      <th>1</th>\n",
       "      <td>baldwin</td>\n",
       "      <td>Alabama</td>\n",
       "      <td>87</td>\n",
       "      <td>97</td>\n",
       "    </tr>\n",
       "    <tr>\n",
       "      <th>2</th>\n",
       "      <td>barbour</td>\n",
       "      <td>Alabama</td>\n",
       "      <td>10</td>\n",
       "      <td>42</td>\n",
       "    </tr>\n",
       "    <tr>\n",
       "      <th>3</th>\n",
       "      <td>bibb</td>\n",
       "      <td>Alabama</td>\n",
       "      <td>12</td>\n",
       "      <td>0</td>\n",
       "    </tr>\n",
       "    <tr>\n",
       "      <th>4</th>\n",
       "      <td>blount</td>\n",
       "      <td>Alabama</td>\n",
       "      <td>77</td>\n",
       "      <td>0</td>\n",
       "    </tr>\n",
       "  </tbody>\n",
       "</table>\n",
       "</div>"
      ],
      "text/plain": [
       "  county_norm    state  2008  2012\n",
       "0     autauga  Alabama    37     0\n",
       "1     baldwin  Alabama    87    97\n",
       "2     barbour  Alabama    10    42\n",
       "3        bibb  Alabama    12     0\n",
       "4      blount  Alabama    77     0"
      ]
     },
     "execution_count": 9,
     "metadata": {},
     "output_type": "execute_result"
    }
   ],
   "source": [
    "data.head()"
   ]
  },
  {
   "cell_type": "code",
   "execution_count": 10,
   "metadata": {
    "collapsed": false
   },
   "outputs": [],
   "source": [
    "data = data\\\n",
    "    .merge(states, how='left', left_on=['state'], right_on=['name'])[np.append(data.columns.values, 'abbreviation')]\\\n",
    "    .drop('state', axis=1)\\\n",
    "    .rename(columns={'abbreviation': 'state'})\\\n",
    "    .fillna(0)"
   ]
  },
  {
   "cell_type": "code",
   "execution_count": 11,
   "metadata": {
    "collapsed": true
   },
   "outputs": [],
   "source": [
    "for yr in range(2008, 2016):\n",
    "    if yr not in data.columns:\n",
    "        data[yr] = np.nan"
   ]
  },
  {
   "cell_type": "code",
   "execution_count": 12,
   "metadata": {
    "collapsed": false
   },
   "outputs": [],
   "source": [
    "# Re-index and sort the column names so we can interpolate\n",
    "data = data.set_index(['county_norm','state'])\n",
    "data = data[np.sort(data.columns.values)]"
   ]
  },
  {
   "cell_type": "code",
   "execution_count": 13,
   "metadata": {
    "collapsed": false
   },
   "outputs": [],
   "source": [
    "data = data.T.interpolate(method='linear', limit_direction='backward').T.astype('int')"
   ]
  },
  {
   "cell_type": "code",
   "execution_count": 14,
   "metadata": {
    "collapsed": false,
    "scrolled": true
   },
   "outputs": [
    {
     "data": {
      "text/html": [
       "<div>\n",
       "<table border=\"1\" class=\"dataframe\">\n",
       "  <thead>\n",
       "    <tr style=\"text-align: right;\">\n",
       "      <th></th>\n",
       "      <th></th>\n",
       "      <th>2008</th>\n",
       "      <th>2009</th>\n",
       "      <th>2010</th>\n",
       "      <th>2011</th>\n",
       "      <th>2012</th>\n",
       "      <th>2013</th>\n",
       "      <th>2014</th>\n",
       "      <th>2015</th>\n",
       "    </tr>\n",
       "    <tr>\n",
       "      <th>county_norm</th>\n",
       "      <th>state</th>\n",
       "      <th></th>\n",
       "      <th></th>\n",
       "      <th></th>\n",
       "      <th></th>\n",
       "      <th></th>\n",
       "      <th></th>\n",
       "      <th></th>\n",
       "      <th></th>\n",
       "    </tr>\n",
       "  </thead>\n",
       "  <tbody>\n",
       "    <tr>\n",
       "      <th>autauga</th>\n",
       "      <th>AL</th>\n",
       "      <td>37</td>\n",
       "      <td>27</td>\n",
       "      <td>18</td>\n",
       "      <td>9</td>\n",
       "      <td>0</td>\n",
       "      <td>0</td>\n",
       "      <td>0</td>\n",
       "      <td>0</td>\n",
       "    </tr>\n",
       "    <tr>\n",
       "      <th>baldwin</th>\n",
       "      <th>AL</th>\n",
       "      <td>87</td>\n",
       "      <td>89</td>\n",
       "      <td>92</td>\n",
       "      <td>94</td>\n",
       "      <td>97</td>\n",
       "      <td>97</td>\n",
       "      <td>97</td>\n",
       "      <td>97</td>\n",
       "    </tr>\n",
       "    <tr>\n",
       "      <th>barbour</th>\n",
       "      <th>AL</th>\n",
       "      <td>10</td>\n",
       "      <td>18</td>\n",
       "      <td>26</td>\n",
       "      <td>34</td>\n",
       "      <td>42</td>\n",
       "      <td>42</td>\n",
       "      <td>42</td>\n",
       "      <td>42</td>\n",
       "    </tr>\n",
       "    <tr>\n",
       "      <th>bibb</th>\n",
       "      <th>AL</th>\n",
       "      <td>12</td>\n",
       "      <td>9</td>\n",
       "      <td>6</td>\n",
       "      <td>3</td>\n",
       "      <td>0</td>\n",
       "      <td>0</td>\n",
       "      <td>0</td>\n",
       "      <td>0</td>\n",
       "    </tr>\n",
       "    <tr>\n",
       "      <th>blount</th>\n",
       "      <th>AL</th>\n",
       "      <td>77</td>\n",
       "      <td>57</td>\n",
       "      <td>38</td>\n",
       "      <td>19</td>\n",
       "      <td>0</td>\n",
       "      <td>0</td>\n",
       "      <td>0</td>\n",
       "      <td>0</td>\n",
       "    </tr>\n",
       "  </tbody>\n",
       "</table>\n",
       "</div>"
      ],
      "text/plain": [
       "                   2008  2009  2010  2011  2012  2013  2014  2015\n",
       "county_norm state                                                \n",
       "autauga     AL       37    27    18     9     0     0     0     0\n",
       "baldwin     AL       87    89    92    94    97    97    97    97\n",
       "barbour     AL       10    18    26    34    42    42    42    42\n",
       "bibb        AL       12     9     6     3     0     0     0     0\n",
       "blount      AL       77    57    38    19     0     0     0     0"
      ]
     },
     "execution_count": 14,
     "metadata": {},
     "output_type": "execute_result"
    }
   ],
   "source": [
    "data.head()"
   ]
  },
  {
   "cell_type": "code",
   "execution_count": 17,
   "metadata": {
    "collapsed": true
   },
   "outputs": [],
   "source": [
    "!mkdir -p in\n",
    "!mkdir -p out/11"
   ]
  },
  {
   "cell_type": "code",
   "execution_count": 18,
   "metadata": {
    "collapsed": false
   },
   "outputs": [],
   "source": [
    "# Finally save the data to a pickle file\n",
    "states_gps.to_pickle('out/11/states_gps.pkl')\n",
    "counties_gps.to_pickle('out/11/counties_gps.pkl')\n",
    "data.to_pickle('out/11/counties_population.pkl')\n",
    "donations.to_pickle('out/11/donations.pkl')"
   ]
  },
  {
   "cell_type": "code",
   "execution_count": null,
   "metadata": {
    "collapsed": true
   },
   "outputs": [],
   "source": []
  }
 ],
 "metadata": {
  "kernelspec": {
   "display_name": "Python 2",
   "language": "python",
   "name": "python2"
  },
  "language_info": {
   "codemirror_mode": {
    "name": "ipython",
    "version": 2
   },
   "file_extension": ".py",
   "mimetype": "text/x-python",
   "name": "python",
   "nbconvert_exporter": "python",
   "pygments_lexer": "ipython2",
   "version": "2.7.11"
  }
 },
 "nbformat": 4,
 "nbformat_minor": 0
}
