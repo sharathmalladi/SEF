{
 "cells": [
  {
   "cell_type": "markdown",
   "metadata": {},
   "source": [
    "## GPS Co-ordinates for all counties in the USA\n",
    "We need the gps co-ordinates for plotting maps. The Bokeh sample data has this already.  \n",
    "So let's just pull in what we need into a pkl file for later use.  "
   ]
  },
  {
   "cell_type": "code",
   "execution_count": 1,
   "metadata": {
    "collapsed": true
   },
   "outputs": [],
   "source": [
    "import pandas as pd"
   ]
  },
  {
   "cell_type": "code",
   "execution_count": 2,
   "metadata": {
    "collapsed": false
   },
   "outputs": [],
   "source": [
    "donations = pd.read_pickle('out/0/donations.pkl')\n",
    "states = pd.read_csv('in/state_table.csv')\n",
    "states.rename(columns={'abbreviation': 'state', 'name': 'state_name'}, inplace=True)"
   ]
  },
  {
   "cell_type": "code",
   "execution_count": 3,
   "metadata": {
    "collapsed": false
   },
   "outputs": [],
   "source": [
    "from bokeh.sampledata import us_states, us_counties\n",
    "from bokeh.plotting import figure, show, output_file\n",
    "import pandas as pd\n",
    "import numpy as np\n",
    "\n",
    "bokeh_counties = us_counties.data.copy()\n",
    "bokeh_states = us_states.data.copy()\n",
    "\n",
    "\n",
    "counties_list = list()\n",
    "for county_id in bokeh_counties:\n",
    "    counties_list.append(\n",
    "        [bokeh_counties[county_id]['name'],\n",
    "        bokeh_counties[county_id]['state'].upper(),\n",
    "        bokeh_counties[county_id]['lats'],\n",
    "        bokeh_counties[county_id]['lons']])\n",
    "\n",
    "states_list = list()\n",
    "for code in bokeh_states:\n",
    "    states_list.append(\n",
    "        [code,\n",
    "        bokeh_states[code]['lats'],\n",
    "        bokeh_states[code]['lons']])\n",
    "\n",
    "counties_gps = pd.DataFrame(counties_list, columns=['county', 'state', 'lats', 'lons'])\n",
    "states_gps = pd.DataFrame(states_list, columns=['state', 'lats', 'lons'])"
   ]
  },
  {
   "cell_type": "code",
   "execution_count": 4,
   "metadata": {
    "collapsed": false
   },
   "outputs": [
    {
     "data": {
      "text/plain": [
       "0        lucie\n",
       "1    jefferson\n",
       "2    anchorage\n",
       "3         king\n",
       "4      raonoke\n",
       "dtype: object"
      ]
     },
     "execution_count": 4,
     "metadata": {},
     "output_type": "execute_result"
    }
   ],
   "source": [
    "def normalizecounty(county):\n",
    "    '''\n",
    "    Return a normalized county name.\n",
    "    Different data sources seem to differ\n",
    "    '''\n",
    "    return county\\\n",
    "        .replace('St.', '')\\\n",
    "        .replace('Ste.', '')\\\n",
    "        .replace('Saint', '')\\\n",
    "        .replace('County', '')\\\n",
    "        .replace('county', '')\\\n",
    "        .replace('Parish', '')\\\n",
    "        .replace('parish', '')\\\n",
    "        .replace('City', '')\\\n",
    "        .replace('city', '')\\\n",
    "        .replace('Borough', '')\\\n",
    "        .replace('borough', '')\\\n",
    "        .replace('.', '')\\\n",
    "        .replace(' ', '')\\\n",
    "        .lower()\n",
    "\n",
    "pd.Series(['St. Lucie', 'Jefferson Parish', 'Anchorage Borough', 'King County', 'Raonoke city']).apply(normalizecounty)"
   ]
  },
  {
   "cell_type": "code",
   "execution_count": 5,
   "metadata": {
    "collapsed": false
   },
   "outputs": [
    {
     "data": {
      "text/plain": [
       "(2663, 0)"
      ]
     },
     "execution_count": 5,
     "metadata": {},
     "output_type": "execute_result"
    }
   ],
   "source": [
    "# We have donations that have county names that don't match up with one of the sources.\n",
    "missing = donations[\n",
    "    donations.county.isin\n",
    "    (set(donations.county.unique())\\\n",
    "          .difference(counties_gps.county.unique()))].county\n",
    "\n",
    "# The normalizecounty function should fix the issue\n",
    "missingafternormalization = donations[\n",
    "    donations.county.isin\n",
    "    (set(donations.county.apply(normalizecounty).unique())\\\n",
    "          .difference(counties_gps.county.apply(normalizecounty).unique()))].county\n",
    "\n",
    "len(missing), len(missingafternormalization)"
   ]
  },
  {
   "cell_type": "code",
   "execution_count": 6,
   "metadata": {
    "collapsed": false
   },
   "outputs": [],
   "source": [
    "counties_gps['county_norm'] = counties_gps.county.apply(normalizecounty)\n",
    "donations['county_norm'] = donations.county.apply(normalizecounty)"
   ]
  },
  {
   "cell_type": "markdown",
   "metadata": {},
   "source": [
    "### Read in the Indian populations for each county"
   ]
  },
  {
   "cell_type": "code",
   "execution_count": 7,
   "metadata": {
    "collapsed": false
   },
   "outputs": [
    {
     "data": {
      "text/html": [
       "<div>\n",
       "<table border=\"1\" class=\"dataframe\">\n",
       "  <thead>\n",
       "    <tr style=\"text-align: right;\">\n",
       "      <th></th>\n",
       "      <th>state</th>\n",
       "      <th>lats</th>\n",
       "      <th>lons</th>\n",
       "    </tr>\n",
       "  </thead>\n",
       "  <tbody>\n",
       "    <tr>\n",
       "      <th>0</th>\n",
       "      <td>WA</td>\n",
       "      <td>[46.29443, 46.26451, 46.31405, 46.34919, 46.38...</td>\n",
       "      <td>[-124.03622, -124.16101, -124.15117, -124.1378...</td>\n",
       "    </tr>\n",
       "    <tr>\n",
       "      <th>1</th>\n",
       "      <td>DE</td>\n",
       "      <td>[39.63895, 39.68084, 39.72204, 39.72221, 39.72...</td>\n",
       "      <td>[-75.7878, -75.78909, -75.78861, -75.78861, -7...</td>\n",
       "    </tr>\n",
       "    <tr>\n",
       "      <th>2</th>\n",
       "      <td>DC</td>\n",
       "      <td>[38.97872, 38.98378, 38.96493, 38.95822, 38.95...</td>\n",
       "      <td>[-77.06276, -77.02561, -77.00141, -76.99288, -...</td>\n",
       "    </tr>\n",
       "    <tr>\n",
       "      <th>3</th>\n",
       "      <td>WI</td>\n",
       "      <td>[42.49273, 42.49433, 42.49562, 42.49561, 42.49...</td>\n",
       "      <td>[-87.8156, -87.93137, -88.10268, -88.20645, -8...</td>\n",
       "    </tr>\n",
       "    <tr>\n",
       "      <th>4</th>\n",
       "      <td>WV</td>\n",
       "      <td>[40.18683, 40.39711, 40.54795, 40.61628, 40.63...</td>\n",
       "      <td>[-80.67905, -80.62345, -80.64068, -80.57018, -...</td>\n",
       "    </tr>\n",
       "  </tbody>\n",
       "</table>\n",
       "</div>"
      ],
      "text/plain": [
       "  state                                               lats  \\\n",
       "0    WA  [46.29443, 46.26451, 46.31405, 46.34919, 46.38...   \n",
       "1    DE  [39.63895, 39.68084, 39.72204, 39.72221, 39.72...   \n",
       "2    DC  [38.97872, 38.98378, 38.96493, 38.95822, 38.95...   \n",
       "3    WI  [42.49273, 42.49433, 42.49562, 42.49561, 42.49...   \n",
       "4    WV  [40.18683, 40.39711, 40.54795, 40.61628, 40.63...   \n",
       "\n",
       "                                                lons  \n",
       "0  [-124.03622, -124.16101, -124.15117, -124.1378...  \n",
       "1  [-75.7878, -75.78909, -75.78861, -75.78861, -7...  \n",
       "2  [-77.06276, -77.02561, -77.00141, -76.99288, -...  \n",
       "3  [-87.8156, -87.93137, -88.10268, -88.20645, -8...  \n",
       "4  [-80.67905, -80.62345, -80.64068, -80.57018, -...  "
      ]
     },
     "execution_count": 7,
     "metadata": {},
     "output_type": "execute_result"
    }
   ],
   "source": [
    "states_gps.head()"
   ]
  },
  {
   "cell_type": "code",
   "execution_count": 8,
   "metadata": {
    "collapsed": false
   },
   "outputs": [],
   "source": [
    "# Get the census region name since we need it later for vizualizations\n",
    "statecols = ['census_region_name', 'state_name']\n",
    "\n",
    "newcols= np.append(donations.columns.values, statecols)\n",
    "donations = donations.merge(states, on='state', how='left')[newcols]\n",
    "\n",
    "newcols= np.append(states_gps.columns.values, statecols)\n",
    "states_gps = states_gps.merge(states, on='state', how='left')[newcols]\n",
    "\n",
    "newcols= np.append(counties_gps.columns.values, statecols)\n",
    "counties_gps = counties_gps.merge(states, on='state', how='left')[newcols]"
   ]
  },
  {
   "cell_type": "code",
   "execution_count": 9,
   "metadata": {
    "collapsed": false
   },
   "outputs": [],
   "source": [
    "pop2014 = pd.read_csv('in/IndianPopulation_2010_2014.csv', names=['county_state', 'population'], skiprows=1)\n",
    "pop2010 = pd.read_csv('in/IndianPopulation_2006_2010.csv', names=['county_state', 'population'], skiprows=1)\n",
    "\n",
    "pop2010['county'] = pop2010.county_state.str.extract('([a-z|A-Z|\\'|\\s]+), ([a-z|A-Z|\\s]+)')[0]\n",
    "pop2014['county'] = pop2014.county_state.str.extract('([a-z|A-Z|\\'|\\s]+), ([a-z|A-Z|\\s]+)')[0]\n",
    "pop2010['state'] =  pop2010.county_state.str.extract('([a-z|A-Z|\\'|\\s]+), ([a-z|A-Z|\\s]+)')[1]\n",
    "pop2014['state'] =  pop2014.county_state.str.extract('([a-z|A-Z|\\'|\\s]+), ([a-z|A-Z|\\s]+)')[1]\n",
    "\n",
    "pop2010 = pop2010.rename(columns={'population': 2008}).drop('county_state', axis=1).replace('a Ana County', 'Dona Ana')\n",
    "pop2014 = pop2014.rename(columns={'population': 2012}).drop('county_state', axis=1).replace('a Ana County', 'Dona Ana')\n",
    "pop2010['county_norm'] = pop2010.county.apply(normalizecounty)\n",
    "pop2014['county_norm'] = pop2014.county.apply(normalizecounty)\n",
    "population = pop2010.merge(pop2014, how='outer', on=['county_norm', 'state'])[['county_norm', 'state', 2008, 2012]]\\\n",
    "    .rename(columns={'state': 'state_name'})"
   ]
  },
  {
   "cell_type": "code",
   "execution_count": 10,
   "metadata": {
    "collapsed": false
   },
   "outputs": [],
   "source": [
    "population = population\\\n",
    "    .merge(states, how='left', on='state_name')[np.append(population.columns.values, 'state')]\\\n",
    "    .drop('state_name', axis=1)\\\n",
    "    .fillna(0)"
   ]
  },
  {
   "cell_type": "code",
   "execution_count": 11,
   "metadata": {
    "collapsed": false
   },
   "outputs": [
    {
     "data": {
      "text/html": [
       "<div>\n",
       "<table border=\"1\" class=\"dataframe\">\n",
       "  <thead>\n",
       "    <tr style=\"text-align: right;\">\n",
       "      <th></th>\n",
       "      <th>county_norm</th>\n",
       "      <th>2008</th>\n",
       "      <th>2012</th>\n",
       "      <th>state</th>\n",
       "    </tr>\n",
       "  </thead>\n",
       "  <tbody>\n",
       "    <tr>\n",
       "      <th>0</th>\n",
       "      <td>autauga</td>\n",
       "      <td>37</td>\n",
       "      <td>0</td>\n",
       "      <td>AL</td>\n",
       "    </tr>\n",
       "    <tr>\n",
       "      <th>1</th>\n",
       "      <td>baldwin</td>\n",
       "      <td>87</td>\n",
       "      <td>97</td>\n",
       "      <td>AL</td>\n",
       "    </tr>\n",
       "    <tr>\n",
       "      <th>2</th>\n",
       "      <td>barbour</td>\n",
       "      <td>10</td>\n",
       "      <td>42</td>\n",
       "      <td>AL</td>\n",
       "    </tr>\n",
       "    <tr>\n",
       "      <th>3</th>\n",
       "      <td>bibb</td>\n",
       "      <td>12</td>\n",
       "      <td>0</td>\n",
       "      <td>AL</td>\n",
       "    </tr>\n",
       "    <tr>\n",
       "      <th>4</th>\n",
       "      <td>blount</td>\n",
       "      <td>77</td>\n",
       "      <td>0</td>\n",
       "      <td>AL</td>\n",
       "    </tr>\n",
       "  </tbody>\n",
       "</table>\n",
       "</div>"
      ],
      "text/plain": [
       "  county_norm  2008  2012 state\n",
       "0     autauga    37     0    AL\n",
       "1     baldwin    87    97    AL\n",
       "2     barbour    10    42    AL\n",
       "3        bibb    12     0    AL\n",
       "4      blount    77     0    AL"
      ]
     },
     "execution_count": 11,
     "metadata": {},
     "output_type": "execute_result"
    }
   ],
   "source": [
    "population.head()"
   ]
  },
  {
   "cell_type": "code",
   "execution_count": 12,
   "metadata": {
    "collapsed": false
   },
   "outputs": [
    {
     "name": "stdout",
     "output_type": "stream",
     "text": [
      "[1195 1196 1197 1198 1580 1581 1582 1583 2833 2834 2853 2854 2855 2856 2860\n",
      " 2861 2862 2863 2906 2907 2908 2909 2910 2911 2912 2913]\n",
      "Indices to be removed:  [1195 1197 1580 1582 2833 2853 2855 2860 2862 2906 2908 2910 2912]\n",
      "(3143, 4) (3156, 4)\n"
     ]
    }
   ],
   "source": [
    "# It appears that the data obtained from the immigration has counties and cities for the same names.\n",
    "# The amounts match and are the ones for the counties. So we can remove either of the two rows. It does not matter.\n",
    "duplicates = population.groupby(['county_norm', 'state']).size()\n",
    "duplicates[duplicates.values > 1]\n",
    "\n",
    "dups = duplicates[duplicates.values > 1].to_frame().reset_index().drop(0, axis=1)\n",
    "dup_tups = zip(dups.to_dict().values()[0].values(), dups.to_dict().values()[1].values())\n",
    "duplicate_rows = population[population.apply(lambda x: (x.state, x.county_norm) in dup_tups, axis=1)]\n",
    "print duplicate_rows.index.values\n",
    "removed = duplicate_rows.index.values[::2]\n",
    "print 'Indices to be removed: ', removed\n",
    "print population.drop(removed, axis=0).shape, population.shape\n",
    "population = population.drop(removed, axis=0)"
   ]
  },
  {
   "cell_type": "code",
   "execution_count": 13,
   "metadata": {
    "collapsed": true
   },
   "outputs": [],
   "source": [
    "population = population.drop(population[population.state.isin(['AK', 'HI', 'PR', 'GU', 'VI', 'MP', 'AS'])].index, axis=0)\n",
    "donations = donations.drop(donations[donations.state.isin(['AK', 'HI', 'PR', 'GU', 'VI', 'MP', 'AS'])].index, axis=0)"
   ]
  },
  {
   "cell_type": "code",
   "execution_count": 14,
   "metadata": {
    "collapsed": false
   },
   "outputs": [
    {
     "data": {
      "text/html": [
       "<div>\n",
       "<table border=\"1\" class=\"dataframe\">\n",
       "  <thead>\n",
       "    <tr style=\"text-align: right;\">\n",
       "      <th></th>\n",
       "      <th>county_norm</th>\n",
       "      <th>2008</th>\n",
       "      <th>2012</th>\n",
       "      <th>state</th>\n",
       "    </tr>\n",
       "  </thead>\n",
       "  <tbody>\n",
       "  </tbody>\n",
       "</table>\n",
       "</div>"
      ],
      "text/plain": [
       "Empty DataFrame\n",
       "Columns: [county_norm, 2008, 2012, state]\n",
       "Index: []"
      ]
     },
     "execution_count": 14,
     "metadata": {},
     "output_type": "execute_result"
    }
   ],
   "source": [
    "population[population.county_norm=='aana']"
   ]
  },
  {
   "cell_type": "code",
   "execution_count": 15,
   "metadata": {
    "collapsed": false
   },
   "outputs": [
    {
     "data": {
      "text/html": [
       "<div>\n",
       "<table border=\"1\" class=\"dataframe\">\n",
       "  <thead>\n",
       "    <tr style=\"text-align: right;\">\n",
       "      <th></th>\n",
       "      <th>county</th>\n",
       "      <th>state</th>\n",
       "      <th>lats</th>\n",
       "      <th>lons</th>\n",
       "      <th>county_norm</th>\n",
       "      <th>census_region_name</th>\n",
       "      <th>state_name</th>\n",
       "    </tr>\n",
       "  </thead>\n",
       "  <tbody>\n",
       "  </tbody>\n",
       "</table>\n",
       "</div>"
      ],
      "text/plain": [
       "Empty DataFrame\n",
       "Columns: [county, state, lats, lons, county_norm, census_region_name, state_name]\n",
       "Index: []"
      ]
     },
     "execution_count": 15,
     "metadata": {},
     "output_type": "execute_result"
    }
   ],
   "source": [
    "counties_gps[counties_gps.county_norm=='aana']"
   ]
  },
  {
   "cell_type": "code",
   "execution_count": 16,
   "metadata": {
    "collapsed": false
   },
   "outputs": [
    {
     "data": {
      "text/html": [
       "<div>\n",
       "<table border=\"1\" class=\"dataframe\">\n",
       "  <thead>\n",
       "    <tr style=\"text-align: right;\">\n",
       "      <th></th>\n",
       "      <th>county</th>\n",
       "      <th>state</th>\n",
       "      <th>lats</th>\n",
       "      <th>lons</th>\n",
       "      <th>county_norm</th>\n",
       "      <th>census_region_name</th>\n",
       "      <th>state_name</th>\n",
       "    </tr>\n",
       "  </thead>\n",
       "  <tbody>\n",
       "    <tr>\n",
       "      <th>0</th>\n",
       "      <td>Pierce</td>\n",
       "      <td>WA</td>\n",
       "      <td>[47.25792, 47.2572, 47.25742, 47.25773, 47.230...</td>\n",
       "      <td>[-122.33363, -122.29115, -122.24857, -122.1658...</td>\n",
       "      <td>pierce</td>\n",
       "      <td>West</td>\n",
       "      <td>Washington</td>\n",
       "    </tr>\n",
       "    <tr>\n",
       "      <th>1</th>\n",
       "      <td>Parke</td>\n",
       "      <td>IN</td>\n",
       "      <td>[39.60761, 39.60788, 39.60794, 39.60797, 39.60...</td>\n",
       "      <td>[-87.23233, -87.25305, -87.26713, -87.27124, -...</td>\n",
       "      <td>parke</td>\n",
       "      <td>Midwest</td>\n",
       "      <td>Indiana</td>\n",
       "    </tr>\n",
       "    <tr>\n",
       "      <th>2</th>\n",
       "      <td>Ontonagon</td>\n",
       "      <td>MI</td>\n",
       "      <td>[46.33325, 46.33257, 46.33258, 46.33267, 46.33...</td>\n",
       "      <td>[-88.99059, -89.00972, -89.01416, -89.0617, -8...</td>\n",
       "      <td>ontonagon</td>\n",
       "      <td>Midwest</td>\n",
       "      <td>Michigan</td>\n",
       "    </tr>\n",
       "    <tr>\n",
       "      <th>3</th>\n",
       "      <td>Kit Carson</td>\n",
       "      <td>CO</td>\n",
       "      <td>[39.13686, 39.13315, 39.1297, 39.125, 39.12125...</td>\n",
       "      <td>[-102.04719, -102.04716, -102.04713, -102.0471...</td>\n",
       "      <td>kitcarson</td>\n",
       "      <td>West</td>\n",
       "      <td>Colorado</td>\n",
       "    </tr>\n",
       "    <tr>\n",
       "      <th>4</th>\n",
       "      <td>Garvin</td>\n",
       "      <td>OK</td>\n",
       "      <td>[34.67876, 34.66962, 34.66217, 34.65674, 34.64...</td>\n",
       "      <td>[-96.93249, -96.93247, -96.9325, -96.93246, -9...</td>\n",
       "      <td>garvin</td>\n",
       "      <td>South</td>\n",
       "      <td>Oklahoma</td>\n",
       "    </tr>\n",
       "  </tbody>\n",
       "</table>\n",
       "</div>"
      ],
      "text/plain": [
       "       county state                                               lats  \\\n",
       "0      Pierce    WA  [47.25792, 47.2572, 47.25742, 47.25773, 47.230...   \n",
       "1       Parke    IN  [39.60761, 39.60788, 39.60794, 39.60797, 39.60...   \n",
       "2   Ontonagon    MI  [46.33325, 46.33257, 46.33258, 46.33267, 46.33...   \n",
       "3  Kit Carson    CO  [39.13686, 39.13315, 39.1297, 39.125, 39.12125...   \n",
       "4      Garvin    OK  [34.67876, 34.66962, 34.66217, 34.65674, 34.64...   \n",
       "\n",
       "                                                lons county_norm  \\\n",
       "0  [-122.33363, -122.29115, -122.24857, -122.1658...      pierce   \n",
       "1  [-87.23233, -87.25305, -87.26713, -87.27124, -...       parke   \n",
       "2  [-88.99059, -89.00972, -89.01416, -89.0617, -8...   ontonagon   \n",
       "3  [-102.04719, -102.04716, -102.04713, -102.0471...   kitcarson   \n",
       "4  [-96.93249, -96.93247, -96.9325, -96.93246, -9...      garvin   \n",
       "\n",
       "  census_region_name  state_name  \n",
       "0               West  Washington  \n",
       "1            Midwest     Indiana  \n",
       "2            Midwest    Michigan  \n",
       "3               West    Colorado  \n",
       "4              South    Oklahoma  "
      ]
     },
     "execution_count": 16,
     "metadata": {},
     "output_type": "execute_result"
    }
   ],
   "source": [
    "counties_gps.head()"
   ]
  },
  {
   "cell_type": "code",
   "execution_count": 17,
   "metadata": {
    "collapsed": false
   },
   "outputs": [],
   "source": [
    "county_only = list(set(counties_gps.county_norm.values).difference(population.county_norm.values))"
   ]
  },
  {
   "cell_type": "code",
   "execution_count": 18,
   "metadata": {
    "collapsed": false
   },
   "outputs": [
    {
     "data": {
      "text/plain": [
       "array([nan, 'Hawaii', 'Alaska', 'Florida'], dtype=object)"
      ]
     },
     "execution_count": 18,
     "metadata": {},
     "output_type": "execute_result"
    }
   ],
   "source": [
    "counties_gps.query('county_norm in @county_only').state_name.unique()#[['county', 'county_norm', 'state']]"
   ]
  },
  {
   "cell_type": "code",
   "execution_count": 19,
   "metadata": {
    "collapsed": false
   },
   "outputs": [],
   "source": [
    "counties_gps = counties_gps[~(counties_gps.state_name.isin(['Hawaii', 'Alaska']))]"
   ]
  },
  {
   "cell_type": "code",
   "execution_count": 20,
   "metadata": {
    "collapsed": false
   },
   "outputs": [],
   "source": [
    "counties_gps = counties_gps[~(counties_gps.state_name.isnull())]"
   ]
  },
  {
   "cell_type": "code",
   "execution_count": 24,
   "metadata": {
    "collapsed": false
   },
   "outputs": [],
   "source": [
    "population = population.append(pd.DataFrame([['miami-dade',0,0,'FL']], columns=population.columns))"
   ]
  },
  {
   "cell_type": "code",
   "execution_count": 25,
   "metadata": {
    "collapsed": false
   },
   "outputs": [
    {
     "data": {
      "text/plain": [
       "((3109, 4), (3109, 7))"
      ]
     },
     "execution_count": 25,
     "metadata": {},
     "output_type": "execute_result"
    }
   ],
   "source": [
    "population.shape, counties_gps.shape"
   ]
  },
  {
   "cell_type": "code",
   "execution_count": 26,
   "metadata": {
    "collapsed": false
   },
   "outputs": [],
   "source": [
    "population[2016] = (2*population[2012] - population[2008]).apply(lambda x: max(0, x))\n",
    "population[2004] = (2*population[2008] - population[2012]).apply(lambda x: max(0, x))\n",
    "population[2000] = (2*population[2004] - population[2008]).apply(lambda x: max(0, x))"
   ]
  },
  {
   "cell_type": "code",
   "execution_count": 27,
   "metadata": {
    "collapsed": true
   },
   "outputs": [],
   "source": [
    "for yr in range(2000, 2016):\n",
    "    if yr not in population.columns:\n",
    "        population[yr] = np.nan"
   ]
  },
  {
   "cell_type": "code",
   "execution_count": 28,
   "metadata": {
    "collapsed": false
   },
   "outputs": [],
   "source": [
    "# Re-index and sort the column names so we can interpolate\n",
    "population = population\\\n",
    "    .set_index(['state', 'county_norm'])\\\n",
    "\n",
    "population = population[np.sort(population.columns.values)]"
   ]
  },
  {
   "cell_type": "code",
   "execution_count": 29,
   "metadata": {
    "collapsed": false
   },
   "outputs": [],
   "source": [
    "population = population.T.interpolate(method='linear', limit_direction='backward').T.astype('int')"
   ]
  },
  {
   "cell_type": "code",
   "execution_count": 30,
   "metadata": {
    "collapsed": false,
    "scrolled": true
   },
   "outputs": [
    {
     "data": {
      "text/html": [
       "<div>\n",
       "<table border=\"1\" class=\"dataframe\">\n",
       "  <thead>\n",
       "    <tr style=\"text-align: right;\">\n",
       "      <th></th>\n",
       "      <th></th>\n",
       "      <th>2000</th>\n",
       "      <th>2001</th>\n",
       "      <th>2002</th>\n",
       "      <th>2003</th>\n",
       "      <th>2004</th>\n",
       "      <th>2005</th>\n",
       "      <th>2006</th>\n",
       "      <th>2007</th>\n",
       "      <th>2008</th>\n",
       "      <th>2009</th>\n",
       "      <th>2010</th>\n",
       "      <th>2011</th>\n",
       "      <th>2012</th>\n",
       "      <th>2013</th>\n",
       "      <th>2014</th>\n",
       "      <th>2015</th>\n",
       "      <th>2016</th>\n",
       "    </tr>\n",
       "    <tr>\n",
       "      <th>state</th>\n",
       "      <th>county_norm</th>\n",
       "      <th></th>\n",
       "      <th></th>\n",
       "      <th></th>\n",
       "      <th></th>\n",
       "      <th></th>\n",
       "      <th></th>\n",
       "      <th></th>\n",
       "      <th></th>\n",
       "      <th></th>\n",
       "      <th></th>\n",
       "      <th></th>\n",
       "      <th></th>\n",
       "      <th></th>\n",
       "      <th></th>\n",
       "      <th></th>\n",
       "      <th></th>\n",
       "      <th></th>\n",
       "    </tr>\n",
       "  </thead>\n",
       "  <tbody>\n",
       "    <tr>\n",
       "      <th>TX</th>\n",
       "      <th>king</th>\n",
       "      <td>0</td>\n",
       "      <td>0</td>\n",
       "      <td>0</td>\n",
       "      <td>0</td>\n",
       "      <td>0</td>\n",
       "      <td>0</td>\n",
       "      <td>0</td>\n",
       "      <td>0</td>\n",
       "      <td>0</td>\n",
       "      <td>0</td>\n",
       "      <td>0</td>\n",
       "      <td>0</td>\n",
       "      <td>0</td>\n",
       "      <td>0</td>\n",
       "      <td>0</td>\n",
       "      <td>0</td>\n",
       "      <td>0</td>\n",
       "    </tr>\n",
       "    <tr>\n",
       "      <th>WA</th>\n",
       "      <th>king</th>\n",
       "      <td>3357</td>\n",
       "      <td>6376</td>\n",
       "      <td>9396</td>\n",
       "      <td>12416</td>\n",
       "      <td>15436</td>\n",
       "      <td>18455</td>\n",
       "      <td>21475</td>\n",
       "      <td>24495</td>\n",
       "      <td>27515</td>\n",
       "      <td>30534</td>\n",
       "      <td>33554</td>\n",
       "      <td>36574</td>\n",
       "      <td>39594</td>\n",
       "      <td>42613</td>\n",
       "      <td>45633</td>\n",
       "      <td>48653</td>\n",
       "      <td>51673</td>\n",
       "    </tr>\n",
       "  </tbody>\n",
       "</table>\n",
       "</div>"
      ],
      "text/plain": [
       "                   2000  2001  2002   2003   2004   2005   2006   2007   2008  \\\n",
       "state county_norm                                                               \n",
       "TX    king            0     0     0      0      0      0      0      0      0   \n",
       "WA    king         3357  6376  9396  12416  15436  18455  21475  24495  27515   \n",
       "\n",
       "                    2009   2010   2011   2012   2013   2014   2015   2016  \n",
       "state county_norm                                                          \n",
       "TX    king             0      0      0      0      0      0      0      0  \n",
       "WA    king         30534  33554  36574  39594  42613  45633  48653  51673  "
      ]
     },
     "execution_count": 30,
     "metadata": {},
     "output_type": "execute_result"
    }
   ],
   "source": [
    "population[population.index.get_level_values('county_norm').isin(['king'])]"
   ]
  },
  {
   "cell_type": "code",
   "execution_count": 31,
   "metadata": {
    "collapsed": true
   },
   "outputs": [],
   "source": [
    "population = population.drop(2000, axis=1)\n",
    "population = population.drop(2016, axis=1)"
   ]
  },
  {
   "cell_type": "code",
   "execution_count": 32,
   "metadata": {
    "collapsed": true
   },
   "outputs": [],
   "source": [
    "population = population.reset_index()"
   ]
  },
  {
   "cell_type": "code",
   "execution_count": 33,
   "metadata": {
    "collapsed": false
   },
   "outputs": [],
   "source": [
    "# Finally save the data to a pickle file\n",
    "!mkdir -p out/11\n",
    "\n",
    "states_gps.to_pickle('out/11/states_gps.pkl')\n",
    "counties_gps.to_pickle('out/11/counties_gps.pkl')\n",
    "population.to_pickle('out/11/indian_population.pkl')\n",
    "donations.to_pickle('out/11/donations.pkl')"
   ]
  },
  {
   "cell_type": "code",
   "execution_count": null,
   "metadata": {
    "collapsed": true
   },
   "outputs": [],
   "source": []
  }
 ],
 "metadata": {
  "kernelspec": {
   "display_name": "Python 2",
   "language": "python",
   "name": "python2"
  },
  "language_info": {
   "codemirror_mode": {
    "name": "ipython",
    "version": 2
   },
   "file_extension": ".py",
   "mimetype": "text/x-python",
   "name": "python",
   "nbconvert_exporter": "python",
   "pygments_lexer": "ipython2",
   "version": "2.7.11"
  }
 },
 "nbformat": 4,
 "nbformat_minor": 0
}
