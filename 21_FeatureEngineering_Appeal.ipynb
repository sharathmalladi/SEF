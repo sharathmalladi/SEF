{
 "cells": [
  {
   "cell_type": "code",
   "execution_count": 1,
   "metadata": {
    "collapsed": true
   },
   "outputs": [],
   "source": [
    "import pandas as pd\n",
    "import numpy as np\n",
    "import matplotlib.pyplot as plt\n",
    "%matplotlib inline"
   ]
  },
  {
   "cell_type": "markdown",
   "metadata": {},
   "source": [
    "## Extract events from the donation data\n",
    "\n",
    "The data has the transactions codified under one column called 'appeal'.\n",
    "Also, the charitable column indicates whether the transaction indicates whether or not a service was returned in return for the contribution.\n",
    "\n",
    "The exercise in this notebook is to study this field to determine which appeals are campaigns and which are donations. Also, for the events, we want to establish an approximate date when the event took place.\n",
    "\n",
    "We will add the following columns which have the following meanings:\n",
    "\n",
    "Field|Data Type|Notes                                                        |\n",
    "-----|--------|-------------------------------------------------------------|\n",
    "is_service |boolean|Was a service returned in exchange for the contribution\". We will seed it with the 'charitable' flag (charitable flag indicates whether or not a tax receipt was given) and change it based on more analysis.\n",
    "channel|string|The primary marketing channel leading to this transaction. Possible values are TV, NL, Web, Volunteer, Mail, Radio. If nothing, it is set to 'Other'.\n",
    "\n",
    "The data should look like this:\n",
    "\n",
    "is_service      | channel  |\n",
    "----------------:|:----------:|\n",
    "* **is_service=True** *|channel='Volunteer'\n",
    "is_service=False|channel ='TV'\n",
    "is_service=False|channel ='TV'\n",
    "is_service=False|channel ='Web'\n",
    "is_service=False|channel ='NL'\n",
    "is_service=False|channel ='Radio'\n",
    "is_service=False|...\n",
    "\n",
    "\n",
    "\n",
    "#### Campaign Time:\n",
    "Campaigns are volunteer intensive activities (like banquets, events, booths, etc). All campaigns have channel set to Volunteer and vice versa. Unlike other methods, they can only be targeted to a specific location at a specific time. Campaigns typically last for shorter durations (an year or less) .. with some caveats:  \n",
    "   1. Some campaign names are re-used every year. So if the campaign contributions come in bins that are much farther apart, then that is usually an indication that they are two different campaigns.  \n",
    "   2. Some campaigns get dwindling contributions that can be just an indication that volunteers have turned in the checks later. For example, an event can happen from June through August and still receive contributions in December that year. We can use the portion of the contributions that are part of the overall contributions spanning several months to determine if they are dwindling contributions and can be rounded off into the previous campaign or not.  \n",
    "   3. Once we have identified which contributions go into which campaign/time, the amount/reach for the campaign is the total amount and number of donors that have attended the campaign. The time of the campaign is the date on which the campaign recieved the highest contributions.  \n",
    "\n",
    "#### Process to identify campaigns from appeals:\n",
    "Run this analysis only for data where is_service==True and channel=='Volunteer' to determine the different campaigns:  \n",
    "1. Split each appeal into campaigns based on the date:\n",
    "    * Aggregate transactions by month for each appeal code.  \n",
    "    * If there are aggregations that are atmost two months apart, count them under the same campaign. If not, they are different campaigns. Use this to set a campaign_id.\n",
    "2. Split the campaigns from step 1 further into smaller campaigns based on the location:\n",
    "    * Group by zip code and assign the zipcode with the highest donor count to be a group.\n",
    "    * For the subsequent group onwards, if the group is less than 100 miles from the an existing group, roll it into that one. Otherwise, create a new group. Keep going until we have covered 80% of the data. The remaining 20% inherit from the groups that are already there, no matter how far away they are.\n"
   ]
  },
  {
   "cell_type": "code",
   "execution_count": 2,
   "metadata": {
    "collapsed": false
   },
   "outputs": [],
   "source": [
    "df = pd.read_pickle('out/11/donations.pkl')"
   ]
  },
  {
   "cell_type": "code",
   "execution_count": 3,
   "metadata": {
    "collapsed": true
   },
   "outputs": [],
   "source": [
    "## Seed with the charitable flag\n",
    "df[\"is_service\"] = ~df.charitable\n",
    "\n",
    "# Matching funds don't get receipts. But they are not services either.\n",
    "df.loc[df.appeal.str.contains('matching', case=False), 'is_service'] = False\n",
    "df.loc[df.appeal.str.contains('Fund', case=False), 'is_service'] = False"
   ]
  },
  {
   "cell_type": "code",
   "execution_count": 4,
   "metadata": {
    "collapsed": false
   },
   "outputs": [],
   "source": [
    "df[\"channel\"] = np.nan\n",
    "\n",
    "## Categorize as TV, Funds, Web, NL, Volunteer, Mail, etc\n",
    "df.loc[pd.isnull(df.channel) & df.appeal.str.startswith('Ev_'), 'channel'] = 'Volunteer'\n",
    "df.loc[pd.isnull(df.channel) & df.appeal.str.startswith('Event'), 'channel'] = 'Volunteer'\n",
    "df.loc[pd.isnull(df.channel) & df.appeal.str.startswith('Booth'), 'channel'] = 'Volunteer'\n",
    "df.loc[pd.isnull(df.channel) & df.appeal.str.startswith('Banquet'), 'channel'] = 'Volunteer'\n",
    "df.loc[pd.isnull(df.channel) & df.appeal.str.contains('Champion', case=False), 'channel'] = 'Volunteer'\n",
    "df.loc[pd.isnull(df.channel) & df.appeal.str.contains('Volunteer', case=False), 'channel'] = 'Volunteer'\n",
    "df.loc[pd.isnull(df.channel) & df.appeal.str.contains('AnilLal', case=False), 'channel'] = 'Volunteer'\n",
    "df.loc[pd.isnull(df.channel) & df.appeal.str.contains('DrRamani', case=False), 'channel'] = 'Volunteer'\n",
    "df.loc[pd.isnull(df.channel) & df.appeal.str.contains('Poker', case=False), 'channel'] = 'Volunteer'\n",
    "df.loc[pd.isnull(df.channel) & df.appeal.str.contains('cricket', case=False), 'channel'] = 'Volunteer'\n",
    "\n",
    "df.loc[pd.isnull(df.channel) & (df.appeal == 'Funds_TV'), 'channel'] = 'TV'\n",
    "df.loc[pd.isnull(df.channel) & (df.appeal == 'Funds_mail'), 'channel'] = 'Mail'\n",
    "df.loc[pd.isnull(df.channel) & (df.appeal == 'Funds_AKKA2006_Mail'), 'channel'] = 'Mail'\n",
    "df.loc[pd.isnull(df.channel) & (df.appeal == 'Funds_NL'), 'channel'] = 'NL'\n",
    "df.loc[pd.isnull(df.channel) & (df.appeal == 'Funds_Internet'), 'channel'] = 'Web'\n",
    "df.loc[pd.isnull(df.channel) & (df.appeal == 'Funds_Web'), 'channel'] = 'Web'\n",
    "df.loc[pd.isnull(df.channel) & (df.appeal == 'Funds_Web_Groudspring'), 'channel'] = 'Web'\n",
    "df.loc[pd.isnull(df.channel) & (df.appeal == 'Funds_Radio'), 'channel'] = 'Radio'\n",
    "\n",
    "# If a service was provided, it must involve a volunteer. (Check with SEF on this)\n",
    "df.loc[df.is_service==True, 'channel'] = 'Volunteer'\n",
    "\n",
    "## This should be the last line since we are setting the default values\n",
    "df.loc[pd.isnull(df.channel), 'channel'] = 'Other'"
   ]
  },
  {
   "cell_type": "code",
   "execution_count": 5,
   "metadata": {
    "collapsed": false
   },
   "outputs": [
    {
     "name": "stdout",
     "output_type": "stream",
     "text": [
      "['Booth_Cricket_Sacramento' 'Funds_Cricket_SoCal' 'Event_SD_Cricket'\n",
      " 'Event_Cricket_PA']\n"
     ]
    },
    {
     "data": {
      "text/plain": [
       "<matplotlib.axes._subplots.AxesSubplot at 0xa87fcecc>"
      ]
     },
     "execution_count": 5,
     "metadata": {},
     "output_type": "execute_result"
    },
    {
     "data": {
      "image/png": "[encoded data removed]",
      "text/plain": [
       "<matplotlib.figure.Figure at 0xa4a02d0c>"
      ]
     },
     "metadata": {},
     "output_type": "display_data"
    },
    {
     "data": {
      "image/png": "[encoded data removed]",
      "text/plain": [
       "<matplotlib.figure.Figure at 0xa87fc20c>"
      ]
     },
     "metadata": {},
     "output_type": "display_data"
    }
   ],
   "source": [
    "# This script for analyzing the results from the previous step (and revise it if need be)\n",
    "\n",
    "print df[df.appeal.str.contains('cricket', case=False)].appeal.unique()\n",
    "x = df[df.appeal.str.contains('cricket', case=False)]\\\n",
    "    .groupby(['appeal', 'activity_year', 'is_service']).amount.sum()\\\n",
    "    .sort_index(level='activity_year', ascending=True).to_frame()\n",
    "\n",
    "x.unstack().fillna(0).plot(kind='bar', stacked=True, title='Appeal by amount')\n",
    "\n",
    "x = df[df.appeal.str.contains('cricket', case=False)]\\\n",
    "    .groupby(['appeal', 'activity_year', 'is_service']).size()\\\n",
    "    .sort_index(level='activity_year', ascending=True).to_frame()\n",
    "\n",
    "x.unstack().fillna(0).plot(kind='bar', stacked=True, title='Appeal by number of donations')"
   ]
  },
  {
   "cell_type": "code",
   "execution_count": 6,
   "metadata": {
    "collapsed": false
   },
   "outputs": [
    {
     "data": {
      "text/plain": [
       "<matplotlib.axes._subplots.AxesSubplot at 0xa4a2508c>"
      ]
     },
     "execution_count": 6,
     "metadata": {},
     "output_type": "execute_result"
    },
    {
     "data": {
      "image/png": "[encoded data removed]",
      "text/plain": [
       "<matplotlib.figure.Figure at 0xa87bb54c>"
      ]
     },
     "metadata": {},
     "output_type": "display_data"
    }
   ],
   "source": [
    "x = df\\\n",
    "    .groupby(['activity_year', 'channel']).amount.sum().to_frame().unstack().fillna(0)\n",
    "\n",
    "y = x.apply(lambda x: x/sum(x), axis=1)\n",
    "y.plot(kind='bar', stacked=True)"
   ]
  },
  {
   "cell_type": "code",
   "execution_count": 7,
   "metadata": {
    "collapsed": true
   },
   "outputs": [],
   "source": [
    "from haversine import haversine\n",
    "\n",
    "def get_activity_locations(appeal_group):\n",
    "    '''\n",
    "    input: dataframe group for a single appeal that has a columns for zipcode, latitude, longitude, counts\n",
    "    output: list of campaign groups ordered by the frequency of donors from that region that accounts for\n",
    "    80% of the data. The other zipcodes are just assigned to campaign groups that are already created.\n",
    "    '''\n",
    "    maxiter = (appeal_group.shape[0] * 0.8)\n",
    "    centers = list()\n",
    "    locations = list()\n",
    "\n",
    "    # Aggregate over each zipcode and iterate in the decreasing order of frequency of number of transactions\n",
    "    for (zipcode, latitude, longitude), counts in \\\n",
    "        appeal_group\\\n",
    "        .groupby(['zipcode', 'latitude', 'longitude'])\\\n",
    "        .agg({'zipcode': np.size})\\\n",
    "        .sort_values(by='zipcode', ascending=False)\\\n",
    "        .itertuples():\n",
    "        maxiter -= counts\n",
    "        \n",
    "        # Initialization\n",
    "        if len(centers) == 0:\n",
    "            campaign_id = len(centers)\n",
    "            centers.append([appeal_group.name, zipcode, campaign_id, latitude, longitude])\n",
    "\n",
    "        distances = [haversine((latitude, longitude), (c_lat, c_lon), miles=True)\n",
    "                     for c_name, c_zipcode, c_campaign_id, c_lat, c_lon in centers]\n",
    "        min_distance = distances[np.argmin(distances)]\n",
    "        \n",
    "        # create a new center if it is too far from existing centers and we haven't reached the limit,\n",
    "        # else just use the closest center that we have\n",
    "        if (maxiter > 0) and (min_distance > 150.0):\n",
    "            target_campaign_id = len(centers)\n",
    "            centers.append([appeal_group.name, zipcode, target_campaign_id, latitude, longitude])\n",
    "            is_center = True\n",
    "        # Otherwise, just use the closest center\n",
    "        else:\n",
    "            target_campaign_id = centers[np.argmin(distances)][2]\n",
    "            is_center = (int(min_distance)==0)\n",
    "        \n",
    "        # Finally, record the location with the target campaign_id\n",
    "        locations.append([appeal_group.name, zipcode, target_campaign_id, is_center])\n",
    "\n",
    "    return locations"
   ]
  },
  {
   "cell_type": "code",
   "execution_count": 8,
   "metadata": {
    "collapsed": true
   },
   "outputs": [],
   "source": [
    "locations = df[(df.channel=='Volunteer') & (df.is_service==True)]\\\n",
    "    .groupby(['appeal'])[['zipcode', 'latitude', 'longitude']]\\\n",
    "    .apply(get_activity_locations)\n",
    "campaign_locations = pd.DataFrame([item for sublist in locations.values for item in sublist],\n",
    "                                  columns=['appeal', 'zipcode', 'campaign_location_id', 'is_location_center'])"
   ]
  },
  {
   "cell_type": "code",
   "execution_count": 9,
   "metadata": {
    "collapsed": false
   },
   "outputs": [
    {
     "name": "stdout",
     "output_type": "stream",
     "text": [
      "(2753, 2)\n",
      "(2753, 4)\n"
     ]
    }
   ],
   "source": [
    "print df[(df.channel=='Volunteer') & (df.is_service==True)][['appeal', 'zipcode']].drop_duplicates().shape\n",
    "print campaign_locations.shape"
   ]
  },
  {
   "cell_type": "code",
   "execution_count": 10,
   "metadata": {
    "collapsed": false
   },
   "outputs": [],
   "source": [
    "df = df.merge(campaign_locations, how='left', on=['appeal', 'zipcode'])"
   ]
  },
  {
   "cell_type": "code",
   "execution_count": 11,
   "metadata": {
    "collapsed": true
   },
   "outputs": [],
   "source": [
    "def get_activity_months(appeal_group):\n",
    "    '''\n",
    "    input: dataframe group for a single appeal that has a columns for activity month.\n",
    "    output: list of campaign groups ordered by the frequency of contiguous months that accounts for\n",
    "    80% of the data. The other months are just assigned to campaign groups that are already created.\n",
    "    '''\n",
    "    maxiter = (appeal_group.shape[0] * 0.8)\n",
    "    centers = list()\n",
    "    months = list()\n",
    "\n",
    "    # Aggregate over each month and iterate in the decreasing order of frequency of number of transactions\n",
    "    for (activity_ym), counts in \\\n",
    "        appeal_group\\\n",
    "        .groupby(['activity_ym'])\\\n",
    "        .agg({'activity_ym': np.size})\\\n",
    "        .sort_values(by='activity_ym', ascending=False)\\\n",
    "        .itertuples():\n",
    "        maxiter -= counts\n",
    "        \n",
    "        # Initialization\n",
    "        if len(centers) == 0:\n",
    "            campaign_id = len(centers)\n",
    "            centers.append([appeal_group.name, activity_ym, campaign_id])\n",
    "\n",
    "        # Search for months that are contiguous to the current centers\n",
    "        month_diffs = [abs(activity_ym - c_activity_ym)\n",
    "                     for c_name, c_activity_ym, campaign_id in centers]\n",
    "        min_diff = month_diffs[np.argmin(month_diffs)]\n",
    "        \n",
    "        # create a new center if it is too far from existing centers and we haven't reached the limit,\n",
    "        # else just use the closest center that we have\n",
    "        if (maxiter > 0) and (min_diff > 2):\n",
    "            target_campaign_id = len(centers)\n",
    "            centers.append([appeal_group.name, activity_ym, target_campaign_id])\n",
    "            is_center = True\n",
    "        # Otherwise, just use the closest center\n",
    "        else:\n",
    "            target_campaign_id = centers[np.argmin(month_diffs)][2]\n",
    "            is_center = (min_diff==0)\n",
    "\n",
    "        # Finally, record the location with the target campaign_id\n",
    "        months.append([appeal_group.name, activity_ym, target_campaign_id, is_center])\n",
    "\n",
    "    return months"
   ]
  },
  {
   "cell_type": "code",
   "execution_count": 12,
   "metadata": {
    "collapsed": false
   },
   "outputs": [],
   "source": [
    "months = df[(df.channel=='Volunteer') & (df.is_service==True)]\\\n",
    "    .groupby(['appeal'])[['activity_ym']]\\\n",
    "    .apply(get_activity_months)\n",
    "campaign_months = pd.DataFrame([item for sublist in months.values for item in sublist],\n",
    "                               columns=['appeal', 'activity_ym', 'campaign_month_id', 'is_month_center'])"
   ]
  },
  {
   "cell_type": "code",
   "execution_count": 13,
   "metadata": {
    "collapsed": false
   },
   "outputs": [
    {
     "name": "stdout",
     "output_type": "stream",
     "text": [
      "(329, 4)\n",
      "(329, 2)\n"
     ]
    }
   ],
   "source": [
    "print campaign_months.shape\n",
    "print df[(df.channel=='Volunteer') & (df.is_service==True)][['appeal', 'activity_ym']].drop_duplicates().shape"
   ]
  },
  {
   "cell_type": "code",
   "execution_count": 14,
   "metadata": {
    "collapsed": true
   },
   "outputs": [],
   "source": [
    "df = df.merge(campaign_months, how='left', on=['appeal', 'activity_ym'])"
   ]
  },
  {
   "cell_type": "code",
   "execution_count": 29,
   "metadata": {
    "collapsed": false
   },
   "outputs": [
    {
     "name": "stdout",
     "output_type": "stream",
     "text": [
      "[ nan   0.   1.   4.   3.   2.]\n",
      "[  0.  nan   1.   2.   3.   4.]\n"
     ]
    }
   ],
   "source": [
    "# We only want to set the campaign_id on a subset of the data where it makes sense\n",
    "print df.campaign_month_id.unique()\n",
    "print df.campaign_location_id.unique()"
   ]
  },
  {
   "cell_type": "code",
   "execution_count": 22,
   "metadata": {
    "collapsed": false
   },
   "outputs": [
    {
     "data": {
      "text/plain": [
       "Index([u'activity_date', u'city', u'fund', u'batch_num', u'amount_initial',\n",
       "       u'amount_cleanup', u'zipcode', u'longitude', u'sales', u'county',\n",
       "       u'charitable', u'amount', u'state', u'donor_id', u'timezone',\n",
       "       u'latitude', u'zipcode_initial', u'appeal', u'activity_year',\n",
       "       u'activity_month', u'activity_dow', u'activity_ym', u'activity_yq',\n",
       "       u'activity_ymd', u'is_donation', u'county_norm', u'is_service',\n",
       "       u'channel', u'campaign_location_id', u'is_location_center',\n",
       "       u'campaign_month_id', u'is_month_center'],\n",
       "      dtype='object')"
      ]
     },
     "execution_count": 22,
     "metadata": {},
     "output_type": "execute_result"
    }
   ],
   "source": [
    "df.columns"
   ]
  },
  {
   "cell_type": "code",
   "execution_count": 45,
   "metadata": {
    "collapsed": false
   },
   "outputs": [
    {
     "data": {
      "text/plain": [
       "campaign_month_id\n",
       "0    7893\n",
       "1    2861\n",
       "2      98\n",
       "3      68\n",
       "4      93\n",
       "dtype: int64"
      ]
     },
     "execution_count": 45,
     "metadata": {},
     "output_type": "execute_result"
    }
   ],
   "source": [
    "# How many appeals got split into multiple campaign months\n",
    "df[(df.channel=='Volunteer') & (df.is_service==True)].groupby('campaign_month_id').size()"
   ]
  },
  {
   "cell_type": "code",
   "execution_count": 44,
   "metadata": {
    "collapsed": false,
    "scrolled": true
   },
   "outputs": [
    {
     "data": {
      "text/plain": [
       "campaign_location_id\n",
       "0    10728\n",
       "1      246\n",
       "2       25\n",
       "3        8\n",
       "4        6\n",
       "dtype: int64"
      ]
     },
     "execution_count": 44,
     "metadata": {},
     "output_type": "execute_result"
    }
   ],
   "source": [
    "# How many appeals got split into multiple campaign locations\n",
    "df[(df.channel=='Volunteer') & (df.is_service==True)].groupby('campaign_location_id').size()"
   ]
  },
  {
   "cell_type": "code",
   "execution_count": 28,
   "metadata": {
    "collapsed": false
   },
   "outputs": [],
   "source": [
    "!mkdir -p out/21"
   ]
  },
  {
   "cell_type": "code",
   "execution_count": 27,
   "metadata": {
    "collapsed": true
   },
   "outputs": [],
   "source": [
    "df.to_pickle('out/21/donations.pkl')"
   ]
  }
 ],
 "metadata": {
  "kernelspec": {
   "display_name": "Python 2",
   "language": "python",
   "name": "python2"
  },
  "language_info": {
   "codemirror_mode": {
    "name": "ipython",
    "version": 2
   },
   "file_extension": ".py",
   "mimetype": "text/x-python",
   "name": "python",
   "nbconvert_exporter": "python",
   "pygments_lexer": "ipython2",
   "version": "2.7.11"
  }
 },
 "nbformat": 4,
 "nbformat_minor": 0
}
