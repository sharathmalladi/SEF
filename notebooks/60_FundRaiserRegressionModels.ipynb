{
 "cells": [
  {
   "cell_type": "code",
   "execution_count": 175,
   "metadata": {
    "collapsed": true
   },
   "outputs": [],
   "source": [
    "import pandas as pd\n",
    "import numpy as np\n",
    "from sklearn.ensemble import RandomForestRegressor\n",
    "from sklearn.cross_validation import KFold\n",
    "%matplotlib inline"
   ]
  },
  {
   "cell_type": "code",
   "execution_count": 176,
   "metadata": {
    "collapsed": true
   },
   "outputs": [],
   "source": [
    "events = pd.read_pickle('out/41/events.pkl')\n",
    "df = pd.read_pickle('out/21/donations.pkl')"
   ]
  },
  {
   "cell_type": "code",
   "execution_count": 177,
   "metadata": {
    "collapsed": false
   },
   "outputs": [
    {
     "data": {
      "text/html": [
       "<div>\n",
       "<table border=\"1\" class=\"dataframe\">\n",
       "  <thead>\n",
       "    <tr style=\"text-align: right;\">\n",
       "      <th></th>\n",
       "      <th>appeal</th>\n",
       "      <th>campaign_location_id</th>\n",
       "      <th>campaign_month_id</th>\n",
       "      <th>transaction_count</th>\n",
       "      <th>amount</th>\n",
       "      <th>activity_year</th>\n",
       "      <th>activity_month</th>\n",
       "      <th>activity_ym</th>\n",
       "      <th>county</th>\n",
       "      <th>state</th>\n",
       "    </tr>\n",
       "  </thead>\n",
       "  <tbody>\n",
       "    <tr>\n",
       "      <th>0</th>\n",
       "      <td>Banquet_GWOF</td>\n",
       "      <td>0</td>\n",
       "      <td>0</td>\n",
       "      <td>45</td>\n",
       "      <td>26548</td>\n",
       "      <td>2011</td>\n",
       "      <td>7</td>\n",
       "      <td>201107</td>\n",
       "      <td>Alameda</td>\n",
       "      <td>CA</td>\n",
       "    </tr>\n",
       "    <tr>\n",
       "      <th>1</th>\n",
       "      <td>Banquet_Gift Of Vision</td>\n",
       "      <td>0</td>\n",
       "      <td>0</td>\n",
       "      <td>46</td>\n",
       "      <td>9002</td>\n",
       "      <td>2010</td>\n",
       "      <td>10</td>\n",
       "      <td>201010</td>\n",
       "      <td>Alameda</td>\n",
       "      <td>CA</td>\n",
       "    </tr>\n",
       "    <tr>\n",
       "      <th>2</th>\n",
       "      <td>Banquet_Gujarat_CA_2008</td>\n",
       "      <td>0</td>\n",
       "      <td>0</td>\n",
       "      <td>16</td>\n",
       "      <td>8650</td>\n",
       "      <td>2008</td>\n",
       "      <td>7</td>\n",
       "      <td>200807</td>\n",
       "      <td>Santa Clara</td>\n",
       "      <td>CA</td>\n",
       "    </tr>\n",
       "    <tr>\n",
       "      <th>3</th>\n",
       "      <td>Banquet_Hyderabad</td>\n",
       "      <td>0</td>\n",
       "      <td>0</td>\n",
       "      <td>11</td>\n",
       "      <td>850</td>\n",
       "      <td>2015</td>\n",
       "      <td>10</td>\n",
       "      <td>201510</td>\n",
       "      <td>Santa Clara</td>\n",
       "      <td>CA</td>\n",
       "    </tr>\n",
       "    <tr>\n",
       "      <th>4</th>\n",
       "      <td>Banquet_Punjab_CA</td>\n",
       "      <td>0</td>\n",
       "      <td>0</td>\n",
       "      <td>65</td>\n",
       "      <td>15860</td>\n",
       "      <td>2009</td>\n",
       "      <td>11</td>\n",
       "      <td>200911</td>\n",
       "      <td>Alameda</td>\n",
       "      <td>CA</td>\n",
       "    </tr>\n",
       "  </tbody>\n",
       "</table>\n",
       "</div>"
      ],
      "text/plain": [
       "                    appeal  campaign_location_id  campaign_month_id  \\\n",
       "0             Banquet_GWOF                     0                  0   \n",
       "1   Banquet_Gift Of Vision                     0                  0   \n",
       "2  Banquet_Gujarat_CA_2008                     0                  0   \n",
       "3        Banquet_Hyderabad                     0                  0   \n",
       "4        Banquet_Punjab_CA                     0                  0   \n",
       "\n",
       "   transaction_count  amount  activity_year  activity_month  activity_ym  \\\n",
       "0                 45   26548           2011               7       201107   \n",
       "1                 46    9002           2010              10       201010   \n",
       "2                 16    8650           2008               7       200807   \n",
       "3                 11     850           2015              10       201510   \n",
       "4                 65   15860           2009              11       200911   \n",
       "\n",
       "        county state  \n",
       "0      Alameda    CA  \n",
       "1      Alameda    CA  \n",
       "2  Santa Clara    CA  \n",
       "3  Santa Clara    CA  \n",
       "4      Alameda    CA  "
      ]
     },
     "execution_count": 177,
     "metadata": {},
     "output_type": "execute_result"
    }
   ],
   "source": [
    "events.head()"
   ]
  },
  {
   "cell_type": "code",
   "execution_count": 178,
   "metadata": {
    "collapsed": false
   },
   "outputs": [],
   "source": [
    "def month_diff(ym, number):\n",
    "    '''\n",
    "    example: month_diff(201505, 3) => 201502\n",
    "    example: month_diff(201501, 3) => 201410\n",
    "    '''\n",
    "    y,m = int(ym/100), ym%100\n",
    "    dy, dm = number/12, number%12\n",
    "    m -= dm\n",
    "    if m < 1:\n",
    "        y, m = (y - 1), 12 + m\n",
    "    return ((y - dy)*100) + m\n"
   ]
  },
  {
   "cell_type": "code",
   "execution_count": 179,
   "metadata": {
    "collapsed": false
   },
   "outputs": [],
   "source": [
    "def get_past_event_stats(state, year, month, prior_months_list):\n",
    "    '''\n",
    "    For a given list of numbers, go back that many months prior from the given month and get the event summary\n",
    "    ex: state = CA, year = 2015, month = 1, prior_months_list = [1, 3, 6, 12, 18]\n",
    "    Going back 1, 3, 6, 12 and 18 months from Jan 2012, return the summary stats (amount, attendance) for each duration\n",
    "    get_past_event_stats('WA', 2013, 12, [1, 3, 6, 12])\n",
    "    '''\n",
    "    target_ym = year*100 + month\n",
    "    stats = (state, year, month,)\n",
    "    for prior_month in prior_months_list:\n",
    "        subdata = events[(events.state==state)\n",
    "               & (events.activity_ym > month_diff(target_ym, prior_month))\n",
    "               & (events.activity_ym <= target_ym)]\n",
    "        stats = stats + (subdata.amount.sum(),)\n",
    "        stats = stats + (subdata.transaction_count.sum(),)\n",
    "    return stats"
   ]
  },
  {
   "cell_type": "markdown",
   "metadata": {},
   "source": [
    "## Setup response variables"
   ]
  },
  {
   "cell_type": "code",
   "execution_count": 180,
   "metadata": {
    "collapsed": false
   },
   "outputs": [],
   "source": [
    "response_stats = []\n",
    "for state in df.state.unique():\n",
    "    for year in range(2005, 2016):\n",
    "        for month in range(1, 13):\n",
    "            subdata = df[(df.is_service==False) & (df.state==state)\n",
    "                         & (df.activity_year==year) & (df.activity_month==month)]\n",
    "            response_stats.append((state, year, month, subdata.amount.sum(), subdata.donor_id.nunique()))"
   ]
  },
  {
   "cell_type": "code",
   "execution_count": 181,
   "metadata": {
    "collapsed": false
   },
   "outputs": [],
   "source": [
    "data_Y = pd.DataFrame(response_stats, columns=['state','year','month','amount','donor_count'])"
   ]
  },
  {
   "cell_type": "markdown",
   "metadata": {},
   "source": [
    "## Setup predictor variables"
   ]
  },
  {
   "cell_type": "code",
   "execution_count": 182,
   "metadata": {
    "collapsed": false
   },
   "outputs": [],
   "source": [
    "cols = ['Amount (1 month)',\n",
    "        'Attendance(1 month)',\n",
    "        'Amount (3 months)',\n",
    "        'Attendance(3 months)',\n",
    "        'Amount (6 months)',\n",
    "        'Attendance(6 months)',\n",
    "        'Amount (12 months)',\n",
    "        'Attendance(12 months)',\n",
    "        'Amount (18 months)',\n",
    "        'Attendance(18 months)',\n",
    "        'Amount (24 months)',\n",
    "        'Attendance(24 months)',\n",
    "        'Amount (30 months)',\n",
    "        'Attendance(30 months)']\n",
    "xcols = ['state', 'year', 'month',]\n",
    "xcols.extend(cols)"
   ]
  },
  {
   "cell_type": "code",
   "execution_count": 183,
   "metadata": {
    "collapsed": true
   },
   "outputs": [],
   "source": [
    "predictor_stats = data_Y.apply(lambda row: get_past_event_stats(row['state'], row['year'], row['month'], [1, 3, 6, 12, 18, 24, 30]), axis=1)"
   ]
  },
  {
   "cell_type": "code",
   "execution_count": 184,
   "metadata": {
    "collapsed": false
   },
   "outputs": [
    {
     "data": {
      "text/plain": [
       "(17, 17)"
      ]
     },
     "execution_count": 184,
     "metadata": {},
     "output_type": "execute_result"
    }
   ],
   "source": [
    "len(predictor_stats[0]), len(xcols)"
   ]
  },
  {
   "cell_type": "markdown",
   "metadata": {},
   "source": [
    "## Validate the data"
   ]
  },
  {
   "cell_type": "code",
   "execution_count": 189,
   "metadata": {
    "collapsed": false
   },
   "outputs": [
    {
     "data": {
      "text/html": [
       "<div>\n",
       "<table border=\"1\" class=\"dataframe\">\n",
       "  <thead>\n",
       "    <tr style=\"text-align: right;\">\n",
       "      <th></th>\n",
       "      <th>appeal</th>\n",
       "      <th>campaign_location_id</th>\n",
       "      <th>campaign_month_id</th>\n",
       "      <th>transaction_count</th>\n",
       "      <th>amount</th>\n",
       "      <th>activity_year</th>\n",
       "      <th>activity_month</th>\n",
       "      <th>activity_ym</th>\n",
       "      <th>county</th>\n",
       "      <th>state</th>\n",
       "    </tr>\n",
       "  </thead>\n",
       "  <tbody>\n",
       "    <tr>\n",
       "      <th>125</th>\n",
       "      <td>Event_ShreyaGhosal_WA</td>\n",
       "      <td>0</td>\n",
       "      <td>0</td>\n",
       "      <td>421</td>\n",
       "      <td>110934</td>\n",
       "      <td>2013</td>\n",
       "      <td>9</td>\n",
       "      <td>201309</td>\n",
       "      <td>King</td>\n",
       "      <td>WA</td>\n",
       "    </tr>\n",
       "    <tr>\n",
       "      <th>180</th>\n",
       "      <td>GivCam_WA_Food</td>\n",
       "      <td>0</td>\n",
       "      <td>0</td>\n",
       "      <td>12</td>\n",
       "      <td>335</td>\n",
       "      <td>2013</td>\n",
       "      <td>3</td>\n",
       "      <td>201303</td>\n",
       "      <td>King</td>\n",
       "      <td>WA</td>\n",
       "    </tr>\n",
       "    <tr>\n",
       "      <th>182</th>\n",
       "      <td>GivCampaign_Poker</td>\n",
       "      <td>0</td>\n",
       "      <td>1</td>\n",
       "      <td>28</td>\n",
       "      <td>3845</td>\n",
       "      <td>2013</td>\n",
       "      <td>3</td>\n",
       "      <td>201303</td>\n",
       "      <td>King</td>\n",
       "      <td>WA</td>\n",
       "    </tr>\n",
       "  </tbody>\n",
       "</table>\n",
       "</div>"
      ],
      "text/plain": [
       "                    appeal  campaign_location_id  campaign_month_id  \\\n",
       "125  Event_ShreyaGhosal_WA                     0                  0   \n",
       "180         GivCam_WA_Food                     0                  0   \n",
       "182      GivCampaign_Poker                     0                  1   \n",
       "\n",
       "     transaction_count  amount  activity_year  activity_month  activity_ym  \\\n",
       "125                421  110934           2013               9       201309   \n",
       "180                 12     335           2013               3       201303   \n",
       "182                 28    3845           2013               3       201303   \n",
       "\n",
       "    county state  \n",
       "125   King    WA  \n",
       "180   King    WA  \n",
       "182   King    WA  "
      ]
     },
     "execution_count": 189,
     "metadata": {},
     "output_type": "execute_result"
    }
   ],
   "source": [
    "events[(events.state=='WA') & (events.activity_year==2013)]"
   ]
  },
  {
   "cell_type": "code",
   "execution_count": 190,
   "metadata": {
    "collapsed": false
   },
   "outputs": [
    {
     "data": {
      "text/plain": [
       "('WA', 2013, 12, 0, 0, 0, 0, 110934L, 421L, 115114L, 461L)"
      ]
     },
     "execution_count": 190,
     "metadata": {},
     "output_type": "execute_result"
    }
   ],
   "source": [
    "get_past_event_stats('WA', 2013, 12, [1, 3, 6, 12])"
   ]
  },
  {
   "cell_type": "code",
   "execution_count": 191,
   "metadata": {
    "collapsed": false
   },
   "outputs": [
    {
     "data": {
      "text/plain": [
       "activity_month\n",
       "1      4246\n",
       "2       910\n",
       "3     85519\n",
       "4      2826\n",
       "5     43586\n",
       "6      1955\n",
       "7       731\n",
       "8     45512\n",
       "9     82688\n",
       "10     9680\n",
       "11    47178\n",
       "12    15370\n",
       "Name: amount, dtype: int64"
      ]
     },
     "execution_count": 191,
     "metadata": {},
     "output_type": "execute_result"
    }
   ],
   "source": [
    "df[(df.state=='WA') & (df.activity_year==2013)].groupby('activity_month').amount.sum()"
   ]
  },
  {
   "cell_type": "code",
   "execution_count": 192,
   "metadata": {
    "collapsed": false,
    "scrolled": false
   },
   "outputs": [
    {
     "data": {
      "text/html": [
       "<div>\n",
       "<table border=\"1\" class=\"dataframe\">\n",
       "  <thead>\n",
       "    <tr style=\"text-align: right;\">\n",
       "      <th></th>\n",
       "      <th>state</th>\n",
       "      <th>year</th>\n",
       "      <th>month</th>\n",
       "      <th>Amount (1 month)</th>\n",
       "      <th>Attendance(1 month)</th>\n",
       "      <th>Amount (3 months)</th>\n",
       "      <th>Attendance(3 months)</th>\n",
       "      <th>Amount (6 months)</th>\n",
       "      <th>Attendance(6 months)</th>\n",
       "      <th>Amount (12 months)</th>\n",
       "      <th>Attendance(12 months)</th>\n",
       "      <th>Amount (18 months)</th>\n",
       "      <th>Attendance(18 months)</th>\n",
       "      <th>Amount (24 months)</th>\n",
       "      <th>Attendance(24 months)</th>\n",
       "      <th>Amount (30 months)</th>\n",
       "      <th>Attendance(30 months)</th>\n",
       "      <th>amount</th>\n",
       "      <th>donor_count</th>\n",
       "    </tr>\n",
       "  </thead>\n",
       "  <tbody>\n",
       "    <tr>\n",
       "      <th>1548</th>\n",
       "      <td>WA</td>\n",
       "      <td>2013</td>\n",
       "      <td>1</td>\n",
       "      <td>0</td>\n",
       "      <td>0</td>\n",
       "      <td>5054</td>\n",
       "      <td>41</td>\n",
       "      <td>5054</td>\n",
       "      <td>41</td>\n",
       "      <td>245659</td>\n",
       "      <td>776</td>\n",
       "      <td>245659</td>\n",
       "      <td>776</td>\n",
       "      <td>251074</td>\n",
       "      <td>815</td>\n",
       "      <td>255675</td>\n",
       "      <td>834</td>\n",
       "      <td>4246</td>\n",
       "      <td>17</td>\n",
       "    </tr>\n",
       "    <tr>\n",
       "      <th>1549</th>\n",
       "      <td>WA</td>\n",
       "      <td>2013</td>\n",
       "      <td>2</td>\n",
       "      <td>0</td>\n",
       "      <td>0</td>\n",
       "      <td>5054</td>\n",
       "      <td>41</td>\n",
       "      <td>5054</td>\n",
       "      <td>41</td>\n",
       "      <td>243599</td>\n",
       "      <td>755</td>\n",
       "      <td>245659</td>\n",
       "      <td>776</td>\n",
       "      <td>251074</td>\n",
       "      <td>815</td>\n",
       "      <td>255675</td>\n",
       "      <td>834</td>\n",
       "      <td>696</td>\n",
       "      <td>8</td>\n",
       "    </tr>\n",
       "    <tr>\n",
       "      <th>1550</th>\n",
       "      <td>WA</td>\n",
       "      <td>2013</td>\n",
       "      <td>3</td>\n",
       "      <td>4180</td>\n",
       "      <td>40</td>\n",
       "      <td>4180</td>\n",
       "      <td>40</td>\n",
       "      <td>9234</td>\n",
       "      <td>81</td>\n",
       "      <td>247779</td>\n",
       "      <td>795</td>\n",
       "      <td>249839</td>\n",
       "      <td>816</td>\n",
       "      <td>255254</td>\n",
       "      <td>855</td>\n",
       "      <td>259855</td>\n",
       "      <td>874</td>\n",
       "      <td>80551</td>\n",
       "      <td>309</td>\n",
       "    </tr>\n",
       "    <tr>\n",
       "      <th>1551</th>\n",
       "      <td>WA</td>\n",
       "      <td>2013</td>\n",
       "      <td>4</td>\n",
       "      <td>0</td>\n",
       "      <td>0</td>\n",
       "      <td>4180</td>\n",
       "      <td>40</td>\n",
       "      <td>9234</td>\n",
       "      <td>81</td>\n",
       "      <td>247779</td>\n",
       "      <td>795</td>\n",
       "      <td>249839</td>\n",
       "      <td>816</td>\n",
       "      <td>255254</td>\n",
       "      <td>855</td>\n",
       "      <td>259855</td>\n",
       "      <td>874</td>\n",
       "      <td>2728</td>\n",
       "      <td>17</td>\n",
       "    </tr>\n",
       "    <tr>\n",
       "      <th>1552</th>\n",
       "      <td>WA</td>\n",
       "      <td>2013</td>\n",
       "      <td>5</td>\n",
       "      <td>0</td>\n",
       "      <td>0</td>\n",
       "      <td>4180</td>\n",
       "      <td>40</td>\n",
       "      <td>9234</td>\n",
       "      <td>81</td>\n",
       "      <td>247779</td>\n",
       "      <td>795</td>\n",
       "      <td>249839</td>\n",
       "      <td>816</td>\n",
       "      <td>255254</td>\n",
       "      <td>855</td>\n",
       "      <td>255254</td>\n",
       "      <td>855</td>\n",
       "      <td>43336</td>\n",
       "      <td>193</td>\n",
       "    </tr>\n",
       "    <tr>\n",
       "      <th>1553</th>\n",
       "      <td>WA</td>\n",
       "      <td>2013</td>\n",
       "      <td>6</td>\n",
       "      <td>0</td>\n",
       "      <td>0</td>\n",
       "      <td>0</td>\n",
       "      <td>0</td>\n",
       "      <td>4180</td>\n",
       "      <td>40</td>\n",
       "      <td>9234</td>\n",
       "      <td>81</td>\n",
       "      <td>249839</td>\n",
       "      <td>816</td>\n",
       "      <td>255254</td>\n",
       "      <td>855</td>\n",
       "      <td>255254</td>\n",
       "      <td>855</td>\n",
       "      <td>1955</td>\n",
       "      <td>12</td>\n",
       "    </tr>\n",
       "    <tr>\n",
       "      <th>1554</th>\n",
       "      <td>WA</td>\n",
       "      <td>2013</td>\n",
       "      <td>7</td>\n",
       "      <td>0</td>\n",
       "      <td>0</td>\n",
       "      <td>0</td>\n",
       "      <td>0</td>\n",
       "      <td>4180</td>\n",
       "      <td>40</td>\n",
       "      <td>9234</td>\n",
       "      <td>81</td>\n",
       "      <td>249839</td>\n",
       "      <td>816</td>\n",
       "      <td>249839</td>\n",
       "      <td>816</td>\n",
       "      <td>255254</td>\n",
       "      <td>855</td>\n",
       "      <td>731</td>\n",
       "      <td>9</td>\n",
       "    </tr>\n",
       "    <tr>\n",
       "      <th>1555</th>\n",
       "      <td>WA</td>\n",
       "      <td>2013</td>\n",
       "      <td>8</td>\n",
       "      <td>0</td>\n",
       "      <td>0</td>\n",
       "      <td>0</td>\n",
       "      <td>0</td>\n",
       "      <td>4180</td>\n",
       "      <td>40</td>\n",
       "      <td>9234</td>\n",
       "      <td>81</td>\n",
       "      <td>247779</td>\n",
       "      <td>795</td>\n",
       "      <td>249839</td>\n",
       "      <td>816</td>\n",
       "      <td>255254</td>\n",
       "      <td>855</td>\n",
       "      <td>26868</td>\n",
       "      <td>131</td>\n",
       "    </tr>\n",
       "    <tr>\n",
       "      <th>1556</th>\n",
       "      <td>WA</td>\n",
       "      <td>2013</td>\n",
       "      <td>9</td>\n",
       "      <td>110934</td>\n",
       "      <td>421</td>\n",
       "      <td>110934</td>\n",
       "      <td>421</td>\n",
       "      <td>110934</td>\n",
       "      <td>421</td>\n",
       "      <td>120168</td>\n",
       "      <td>502</td>\n",
       "      <td>358713</td>\n",
       "      <td>1216</td>\n",
       "      <td>360773</td>\n",
       "      <td>1237</td>\n",
       "      <td>366188</td>\n",
       "      <td>1276</td>\n",
       "      <td>3857</td>\n",
       "      <td>17</td>\n",
       "    </tr>\n",
       "    <tr>\n",
       "      <th>1557</th>\n",
       "      <td>WA</td>\n",
       "      <td>2013</td>\n",
       "      <td>10</td>\n",
       "      <td>0</td>\n",
       "      <td>0</td>\n",
       "      <td>110934</td>\n",
       "      <td>421</td>\n",
       "      <td>110934</td>\n",
       "      <td>421</td>\n",
       "      <td>120168</td>\n",
       "      <td>502</td>\n",
       "      <td>358713</td>\n",
       "      <td>1216</td>\n",
       "      <td>360773</td>\n",
       "      <td>1237</td>\n",
       "      <td>366188</td>\n",
       "      <td>1276</td>\n",
       "      <td>8619</td>\n",
       "      <td>37</td>\n",
       "    </tr>\n",
       "    <tr>\n",
       "      <th>1558</th>\n",
       "      <td>WA</td>\n",
       "      <td>2013</td>\n",
       "      <td>11</td>\n",
       "      <td>0</td>\n",
       "      <td>0</td>\n",
       "      <td>110934</td>\n",
       "      <td>421</td>\n",
       "      <td>110934</td>\n",
       "      <td>421</td>\n",
       "      <td>120168</td>\n",
       "      <td>502</td>\n",
       "      <td>358713</td>\n",
       "      <td>1216</td>\n",
       "      <td>360773</td>\n",
       "      <td>1237</td>\n",
       "      <td>366188</td>\n",
       "      <td>1276</td>\n",
       "      <td>39530</td>\n",
       "      <td>163</td>\n",
       "    </tr>\n",
       "  </tbody>\n",
       "</table>\n",
       "</div>"
      ],
      "text/plain": [
       "     state  year  month  Amount (1 month)  Attendance(1 month)  \\\n",
       "1548    WA  2013      1                 0                    0   \n",
       "1549    WA  2013      2                 0                    0   \n",
       "1550    WA  2013      3              4180                   40   \n",
       "1551    WA  2013      4                 0                    0   \n",
       "1552    WA  2013      5                 0                    0   \n",
       "1553    WA  2013      6                 0                    0   \n",
       "1554    WA  2013      7                 0                    0   \n",
       "1555    WA  2013      8                 0                    0   \n",
       "1556    WA  2013      9            110934                  421   \n",
       "1557    WA  2013     10                 0                    0   \n",
       "1558    WA  2013     11                 0                    0   \n",
       "\n",
       "      Amount (3 months)  Attendance(3 months)  Amount (6 months)  \\\n",
       "1548               5054                    41               5054   \n",
       "1549               5054                    41               5054   \n",
       "1550               4180                    40               9234   \n",
       "1551               4180                    40               9234   \n",
       "1552               4180                    40               9234   \n",
       "1553                  0                     0               4180   \n",
       "1554                  0                     0               4180   \n",
       "1555                  0                     0               4180   \n",
       "1556             110934                   421             110934   \n",
       "1557             110934                   421             110934   \n",
       "1558             110934                   421             110934   \n",
       "\n",
       "      Attendance(6 months)  Amount (12 months)  Attendance(12 months)  \\\n",
       "1548                    41              245659                    776   \n",
       "1549                    41              243599                    755   \n",
       "1550                    81              247779                    795   \n",
       "1551                    81              247779                    795   \n",
       "1552                    81              247779                    795   \n",
       "1553                    40                9234                     81   \n",
       "1554                    40                9234                     81   \n",
       "1555                    40                9234                     81   \n",
       "1556                   421              120168                    502   \n",
       "1557                   421              120168                    502   \n",
       "1558                   421              120168                    502   \n",
       "\n",
       "      Amount (18 months)  Attendance(18 months)  Amount (24 months)  \\\n",
       "1548              245659                    776              251074   \n",
       "1549              245659                    776              251074   \n",
       "1550              249839                    816              255254   \n",
       "1551              249839                    816              255254   \n",
       "1552              249839                    816              255254   \n",
       "1553              249839                    816              255254   \n",
       "1554              249839                    816              249839   \n",
       "1555              247779                    795              249839   \n",
       "1556              358713                   1216              360773   \n",
       "1557              358713                   1216              360773   \n",
       "1558              358713                   1216              360773   \n",
       "\n",
       "      Attendance(24 months)  Amount (30 months)  Attendance(30 months)  \\\n",
       "1548                    815              255675                    834   \n",
       "1549                    815              255675                    834   \n",
       "1550                    855              259855                    874   \n",
       "1551                    855              259855                    874   \n",
       "1552                    855              255254                    855   \n",
       "1553                    855              255254                    855   \n",
       "1554                    816              255254                    855   \n",
       "1555                    816              255254                    855   \n",
       "1556                   1237              366188                   1276   \n",
       "1557                   1237              366188                   1276   \n",
       "1558                   1237              366188                   1276   \n",
       "\n",
       "      amount  donor_count  \n",
       "1548    4246           17  \n",
       "1549     696            8  \n",
       "1550   80551          309  \n",
       "1551    2728           17  \n",
       "1552   43336          193  \n",
       "1553    1955           12  \n",
       "1554     731            9  \n",
       "1555   26868          131  \n",
       "1556    3857           17  \n",
       "1557    8619           37  \n",
       "1558   39530          163  "
      ]
     },
     "execution_count": 192,
     "metadata": {},
     "output_type": "execute_result"
    }
   ],
   "source": [
    "data[(data.state=='WA') & (data.year==2013)]"
   ]
  },
  {
   "cell_type": "markdown",
   "metadata": {},
   "source": [
    "## Regression model"
   ]
  },
  {
   "cell_type": "code",
   "execution_count": 185,
   "metadata": {
    "collapsed": false
   },
   "outputs": [],
   "source": [
    "data_X = pd.DataFrame(predictor_stats.values.tolist(), columns=xcols)\n",
    "\n",
    "### Exclude the data for the month of December since the organization gets\n",
    "### heavy contributions in December which does not make the observations i.i.d.\n",
    "\n",
    "data = data_X.merge(data_Y, on=['state','year','month'])\n",
    "data = data[~(data.month==12)]\n",
    "data = data[~(data.state=='CA')]\n",
    "\n",
    "X = data[cols].values"
   ]
  },
  {
   "cell_type": "code",
   "execution_count": 186,
   "metadata": {
    "collapsed": false
   },
   "outputs": [],
   "source": [
    "k_fold = KFold(len(X), 3, shuffle=True, random_state=46)"
   ]
  },
  {
   "cell_type": "code",
   "execution_count": 187,
   "metadata": {
    "collapsed": false,
    "scrolled": true
   },
   "outputs": [
    {
     "name": "stdout",
     "output_type": "stream",
     "text": [
      "0.788410509987\n",
      "0.826398302945\n",
      "0.809782628016\n",
      "0.493413414264\n"
     ]
    }
   ],
   "source": [
    "# Predict the amount donated\n",
    "y = data.donor_count.values\n",
    "\n",
    "for k, (train, test) in enumerate(k_fold):\n",
    "    rf = RandomForestRegressor()\n",
    "    rf.fit(X[train], y[train])\n",
    "    print rf.score(X[train], y[train])\n",
    "print rf.score(X[test], y[test])"
   ]
  },
  {
   "cell_type": "code",
   "execution_count": 188,
   "metadata": {
    "collapsed": false
   },
   "outputs": [
    {
     "name": "stderr",
     "output_type": "stream",
     "text": [
      "/home/msharath/anaconda/lib/python2.7/site-packages/ipykernel/__main__.py:3: FutureWarning: sort(columns=....) is deprecated, use sort_values(by=.....)\n",
      "  app.launch_new_instance()\n"
     ]
    },
    {
     "data": {
      "text/plain": [
       "<matplotlib.axes._subplots.AxesSubplot at 0x9ead8b2c>"
      ]
     },
     "execution_count": 188,
     "metadata": {},
     "output_type": "execute_result"
    },
    {
     "data": {
      "image/png": "[encoded data removed]",
      "text/plain": [
       "<matplotlib.figure.Figure at 0x9eacad6c>"
      ]
     },
     "metadata": {},
     "output_type": "display_data"
    }
   ],
   "source": [
    "scores = pd.DataFrame({'Feature Importance' : rf.feature_importances_},\n",
    "                           index=cols)\n",
    "scores = scores.sort('Feature Importance')\n",
    "scores.plot(kind='barh')"
   ]
  },
  {
   "cell_type": "markdown",
   "metadata": {},
   "source": [
    "## Conclusion\n",
    "\n",
    "As I add more bins (amount, donations for the last N months), the biggest of these intervals seems to be\n",
    "the best predictor - which is really weird.\n",
    "\n",
    "It appears as if the total amount given towards fund-raisers or number of attendees at the fund-raisers\n",
    "in the past months is not a great model to use to predict the donations for that month. Dropping this exercise.\n"
   ]
  },
  {
   "cell_type": "code",
   "execution_count": null,
   "metadata": {
    "collapsed": true
   },
   "outputs": [],
   "source": []
  }
 ],
 "metadata": {
  "kernelspec": {
   "display_name": "Python 2",
   "language": "python",
   "name": "python2"
  },
  "language_info": {
   "codemirror_mode": {
    "name": "ipython",
    "version": 2
   },
   "file_extension": ".py",
   "mimetype": "text/x-python",
   "name": "python",
   "nbconvert_exporter": "python",
   "pygments_lexer": "ipython2",
   "version": "2.7.11"
  }
 },
 "nbformat": 4,
 "nbformat_minor": 0
}
