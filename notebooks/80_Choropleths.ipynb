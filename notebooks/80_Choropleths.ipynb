{
 "cells": [
  {
   "cell_type": "code",
   "execution_count": 15,
   "metadata": {
    "collapsed": false
   },
   "outputs": [],
   "source": [
    "import pandas as pd\n",
    "import numpy as np\n",
    "import seaborn as sns\n",
    "from bokeh.plotting import figure, show, output_file, ColumnDataSource\n",
    "from bokeh.models import HoverTool\n",
    "from colour import Color"
   ]
  },
  {
   "cell_type": "code",
   "execution_count": 9,
   "metadata": {
    "collapsed": true
   },
   "outputs": [],
   "source": [
    "donations = pd.read_pickle('out/21/donations.pkl')\n",
    "us_states = pd.read_pickle('out/11/states_gps.pkl')\n",
    "us_counties = pd.read_pickle('out/11/counties_gps.pkl')\n",
    "population = pd.read_pickle('out/11/indian_population.pkl')\n",
    "\n",
    "mainland_states = us_states[~us_states.state.isin(['AK', 'HI', 'PR', 'GU', 'VI', 'MP', 'AS'])]\n",
    "mainland_counties = us_counties[~us_counties.state.isin(['AK', 'HI', 'PR', 'GU', 'VI', 'MP', 'AS'])]"
   ]
  },
  {
   "cell_type": "code",
   "execution_count": 5,
   "metadata": {
    "collapsed": false
   },
   "outputs": [
    {
     "data": {
      "text/plain": [
       "0      12.35K\n",
       "1         123\n",
       "2    1234.57M\n",
       "dtype: object"
      ]
     },
     "execution_count": 5,
     "metadata": {},
     "output_type": "execute_result"
    }
   ],
   "source": [
    "def thousands_format(num):\n",
    "    if abs(num) >= 1000000:\n",
    "        num /= 1000000.0\n",
    "        return \"{:5.2f}M\".format(num)\n",
    "    elif abs(num) >= 1000:\n",
    "        num /= 1000.0\n",
    "        return \"{:5.2f}K\".format(num)\n",
    "    else:\n",
    "        return str(num)\n",
    "    \n",
    "\n",
    "pd.Series([12345, 123, 1234567890]).apply(thousands_format)"
   ]
  },
  {
   "cell_type": "markdown",
   "metadata": {},
   "source": [
    "### Plot 1: Comparing donations for current year with previous year considering donations and unique donors.\n",
    "1. Data considered is only for YTD for both years\n",
    "2. Color is based on the difference between the actual and expected donations for current year based on previous year while also taking population growth into account.\n",
    "3. Blue saturation shows improvement over previous year (higher saturation is better).\n",
    "4. Red saturation shows worse performance compared to previous year (higher saturation is worse)."
   ]
  },
  {
   "cell_type": "code",
   "execution_count": 16,
   "metadata": {
    "collapsed": true
   },
   "outputs": [],
   "source": [
    "# Exclude fund-raiser contributions for the remainder of this exercise\n",
    "donations = donations[donations.is_service==False]"
   ]
  },
  {
   "cell_type": "code",
   "execution_count": 33,
   "metadata": {
    "collapsed": false
   },
   "outputs": [
    {
     "name": "stdout",
     "output_type": "stream",
     "text": [
      "prev_donor       1021.00000\n",
      "curr_donor       1012.00000\n",
      "prev_amount    279026.00000\n",
      "curr_amount    274974.00000\n",
      "difference        -76.56996\n",
      "Name: (WA, king), dtype: float64\n",
      "prev_donor        35.00000\n",
      "curr_donor        29.00000\n",
      "prev_amount    10110.00000\n",
      "curr_amount    11060.00000\n",
      "difference        -7.44913\n",
      "Name: (CA, fresno), dtype: float64\n",
      "prev_donor     0\n",
      "curr_donor     0\n",
      "prev_amount    0\n",
      "curr_amount    0\n",
      "difference     0\n",
      "Name: (AL, autauga), dtype: float64\n"
     ]
    }
   ],
   "source": [
    "# Get YTD data for this year (and add comparison with last year)\n",
    "curr_month = 13\n",
    "curr_year = 2015\n",
    "prev_year = curr_year-1\n",
    "\n",
    "donor_last = donations[(donations.activity_year == prev_year) & (donations.activity_month <= curr_month)]\\\n",
    "  .groupby(['state', 'county_norm', 'activity_ym']).donor_id\\\n",
    "  .nunique()\\\n",
    "  .unstack()\\\n",
    "  .fillna(0)\\\n",
    "  .sum(axis=1)\\\n",
    "  .to_frame()\\\n",
    "  .rename(columns={0:'prev_donor'})\n",
    "\n",
    "donor_curr = donations[(donations.activity_year == curr_year) & (donations.activity_month <= curr_month)]\\\n",
    "  .groupby(['state', 'county_norm', 'activity_ym']).donor_id\\\n",
    "  .nunique()\\\n",
    "  .unstack()\\\n",
    "  .fillna(0)\\\n",
    "  .sum(axis=1)\\\n",
    "  .to_frame()\\\n",
    "  .rename(columns={0:'curr_donor'})\n",
    "    \n",
    "amount_prev = donations[(donations.activity_year == prev_year) & (donations.activity_month <= curr_month)]\\\n",
    "  .groupby(['state', 'county_norm', 'activity_ym']).amount\\\n",
    "  .sum()\\\n",
    "  .unstack()\\\n",
    "  .fillna(0)\\\n",
    "  .sum(axis=1)\\\n",
    "  .to_frame()\\\n",
    "  .rename(columns={0:'prev_amount'})\n",
    "\n",
    "amount_curr = donations[(donations.activity_year == curr_year) & (donations.activity_month <= curr_month)]\\\n",
    "  .groupby(['state', 'county_norm', 'activity_ym']).amount\\\n",
    "  .sum()\\\n",
    "  .unstack()\\\n",
    "  .fillna(0)\\\n",
    "  .sum(axis=1)\\\n",
    "  .to_frame()\\\n",
    "  .rename(columns={0:'curr_amount'})\n",
    "\n",
    "data = pd.merge(donor_last, donor_curr, how='outer', left_index=True, right_index=True).fillna(0)\n",
    "data = pd.merge(data, amount_prev, left_index=True, right_index=True, how='outer').fillna(0).astype('int')\n",
    "data = pd.merge(data, amount_curr, left_index=True, right_index=True, how='outer').fillna(0).astype('int')\n",
    "\n",
    "pop = population.set_index(['state', 'county_norm'])[[prev_year, curr_year]]\n",
    "pop_ratio = (pop[curr_year]/pop[prev_year]).fillna(0)\n",
    "\n",
    "data['difference'] = data['curr_donor'] - data['prev_donor'].rmul(pop_ratio, axis='rows').fillna(0)\n",
    "data = data.reindex(population.set_index(['state', 'county_norm']).index, fill_value=0)\n",
    "\n",
    "print data.loc['WA','king']\n",
    "print data.loc['CA','fresno']\n",
    "print data.loc['AL','autauga']"
   ]
  },
  {
   "cell_type": "code",
   "execution_count": 34,
   "metadata": {
    "collapsed": true
   },
   "outputs": [],
   "source": [
    "def plot_year_comparison_choropleth(data, ncat, title, curr_year):\n",
    "\n",
    "    prev_year = curr_year - 1\n",
    "    states = mainland_states.copy()\n",
    "    counties = mainland_counties.copy()\n",
    "\n",
    "    state_xs = states.lons.tolist()\n",
    "    state_ys = states.lats.tolist()\n",
    "    county_xs = counties.lons.tolist()\n",
    "    county_ys = counties.lats.tolist()\n",
    "        \n",
    "    # Get color for all counties\n",
    "    zero_min = -5\n",
    "    zero_max = 5\n",
    "    pos_palette = [Color(rgb=x).hex for x in sns.color_palette(\"Blues\", ncat)]\n",
    "    neg_palette = [Color(rgb=x).hex for x in sns.color_palette(\"Reds_r\", ncat)]\n",
    "\n",
    "    pos_diffs = data[data.difference > zero_max]\n",
    "    pos_labels = pd.qcut(pos_diffs.difference, ncat, labels=range(ncat))\n",
    "    pos_colors = pos_labels.map(pd.Series(pos_palette))\n",
    "\n",
    "    neg_diffs = data[data.difference < zero_min]\n",
    "    neg_labels = pd.qcut(neg_diffs.difference, ncat, labels=range(ncat))\n",
    "    neg_colors = neg_labels.map(pd.Series(neg_palette))\n",
    "\n",
    "    zero_diffs = data[(data.difference >= zero_min) & (data.difference <= zero_max)]\n",
    "    zero_colors = pd.Series(data='#ffffff', index=zero_diffs.index)\n",
    "    all_colors = pd.concat([neg_colors, zero_colors, pos_colors]).sort_index()\n",
    "\n",
    "    source = ColumnDataSource(\n",
    "            data = dict(\n",
    "                xs=county_xs,\n",
    "                ys=county_ys,\n",
    "                counties=counties.county.values.tolist(),\n",
    "                colors=all_colors.values.flatten().tolist(),\n",
    "                prev_donor=data.prev_donor.tolist(),\n",
    "                curr_donor=data.curr_donor.tolist(),\n",
    "                curr_pop=population[curr_year].apply(thousands_format).values.tolist(),\n",
    "                prev_pop=population[prev_year].apply(thousands_format).values.tolist(),\n",
    "                curr_amount=data.curr_amount.apply(thousands_format).values.tolist(),\n",
    "                prev_amount=data.prev_amount.apply(thousands_format).values.tolist(),\n",
    "            )\n",
    "    )\n",
    "    \n",
    "    output_file(\"donations_year_comparison.html\", title=title)\n",
    "    p = figure(title=title, toolbar_location=\"left\",plot_width=1100, plot_height=700,\n",
    "               tools='hover, pan, wheel_zoom, box_zoom, reset, help')\n",
    "\n",
    "    hover = p.select(dict(type=HoverTool))\n",
    "    hover.point_policy = \"follow_mouse\"\n",
    "    hover.tooltips=\"\"\"\n",
    "            <div>\n",
    "                <div>\n",
    "                    <span style=\"font-size: 15px;\"><b>@counties</b></span>\n",
    "                </div>\n",
    "                <table style=\"width:100%\">\n",
    "                  <tr>\n",
    "                    <td></td>\n",
    "                    <td><b>{0}</b></td>\n",
    "                    <td><b>{1}</b></td>\n",
    "                  </tr>\n",
    "                  <tr>\n",
    "                    <td><b>Indian pop.</b></td>\n",
    "                    <td>@prev_pop</td>\n",
    "                    <td>@curr_pop</td>\n",
    "                  </tr>\n",
    "                  <tr>\n",
    "                    <td><b>Donors</b></td>\n",
    "                    <td>@prev_donor</td>\n",
    "                    <td>@curr_donor</td>\n",
    "                  </tr>\n",
    "                  <tr>\n",
    "                    <td><b>Amount</b></td>\n",
    "                    <td>@prev_amount</td>\n",
    "                    <td>@curr_amount</td>\n",
    "                  </tr>\n",
    "                </table>\n",
    "            </div>\n",
    "            \"\"\".format(prev_year, curr_year)\n",
    "\n",
    "    # Turn off all axis and grid lines\n",
    "    p.grid.grid_line_color = None\n",
    "    p.axis.axis_line_color = None\n",
    "    p.axis.major_label_text_font_size = '0pt'\n",
    "    p.axis.major_tick_line_color = None\n",
    "    p.axis[0].ticker.num_minor_ticks = 0\n",
    "    p.axis[1].ticker.num_minor_ticks = 0\n",
    "\n",
    "    p.patches(state_xs, state_ys, fill_alpha=0.0, line_color=\"#696969\", line_width=0.75)\n",
    "    # The following must be the last glyph for the hover to function properly\n",
    "    p.patches(xs='xs', ys='ys', fill_color='colors', fill_alpha=0.7,\n",
    "              line_color=\"#e77575\", line_width=0.5, source=source)\n",
    "    return p"
   ]
  },
  {
   "cell_type": "code",
   "execution_count": 35,
   "metadata": {
    "collapsed": false
   },
   "outputs": [],
   "source": [
    "p = plot_year_comparison_choropleth(data, 5, 'Donations for 2015 vs 2014', 2015)\n",
    "show(p)"
   ]
  },
  {
   "cell_type": "markdown",
   "metadata": {},
   "source": [
    "### Plot 2: Plot showing market growth potential based on Indian population"
   ]
  },
  {
   "cell_type": "code",
   "execution_count": 28,
   "metadata": {
    "collapsed": false
   },
   "outputs": [
    {
     "data": {
      "text/plain": [
       "2211547"
      ]
     },
     "execution_count": 28,
     "metadata": {},
     "output_type": "execute_result"
    }
   ],
   "source": [
    "population[curr_year].sum()"
   ]
  },
  {
   "cell_type": "code",
   "execution_count": 29,
   "metadata": {
    "collapsed": false
   },
   "outputs": [
    {
     "name": "stdout",
     "output_type": "stream",
     "text": [
      "Amount donated per Indian: 2.11216537564\n",
      "Number of donors per Indian: 0.00753092744581\n",
      "curr_donor            1012\n",
      "curr_amount         274974\n",
      "projected_donor        366\n",
      "projected_amount    102763\n",
      "difference             646\n",
      "Name: (WA, king), dtype: float64\n",
      "curr_donor             29\n",
      "curr_amount         11060\n",
      "projected_donor       101\n",
      "projected_amount    28581\n",
      "difference            -72\n",
      "Name: (CA, fresno), dtype: float64\n",
      "curr_donor          0\n",
      "curr_amount         0\n",
      "projected_donor     0\n",
      "projected_amount    0\n",
      "difference          0\n",
      "Name: (AL, autauga), dtype: float64\n"
     ]
    }
   ],
   "source": [
    "curr_year = 2015\n",
    "\n",
    "donor_curr = donations[(donations.activity_year == curr_year)]\\\n",
    "  .groupby(['state', 'county_norm', 'activity_ym']).donor_id\\\n",
    "  .nunique()\\\n",
    "  .unstack()\\\n",
    "  .fillna(0)\\\n",
    "  .sum(axis=1)\\\n",
    "  .to_frame()\\\n",
    "  .rename(columns={0:'curr_donor'})\n",
    "\n",
    "amount_curr = donations[(donations.activity_year == curr_year)]\\\n",
    "  .groupby(['state', 'county_norm', 'activity_ym']).amount\\\n",
    "  .sum()\\\n",
    "  .unstack()\\\n",
    "  .fillna(0)\\\n",
    "  .sum(axis=1)\\\n",
    "  .to_frame()\\\n",
    "  .rename(columns={0:'curr_amount'})\n",
    "\n",
    "data = pd.merge(donor_curr, amount_curr, how='outer', left_index=True, right_index=True).fillna(0)\n",
    "data = data.reindex(population.set_index(['state', 'county_norm']).index, fill_value=0)\n",
    "\n",
    "curr_pop = population.set_index(['state', 'county_norm'])[curr_year]\n",
    "donor_per_capita_ratio = data.curr_donor.sum()/curr_pop.sum()\n",
    "amount_per_capita_ratio = data.curr_amount.sum()/curr_pop.sum()\n",
    "\n",
    "data['projected_donor'] = (curr_pop*donor_per_capita_ratio).astype('int')\n",
    "data['projected_amount'] = (curr_pop*amount_per_capita_ratio).astype('int')\n",
    "\n",
    "data['difference'] = data.curr_donor - data.projected_donor\n",
    "\n",
    "print 'Amount donated per Indian: {0}'.format(amount_per_capita_ratio)\n",
    "print 'Number of donors per Indian: {0}'.format(donor_per_capita_ratio)\n",
    "\n",
    "print data.loc['WA','king']\n",
    "print data.loc['CA','fresno']\n",
    "print data.loc['AL','autauga']"
   ]
  },
  {
   "cell_type": "code",
   "execution_count": 30,
   "metadata": {
    "collapsed": true
   },
   "outputs": [],
   "source": [
    "def plot_market_potential_choropleth(data, ncat, title, curr_year):\n",
    "\n",
    "    states = mainland_states.copy()\n",
    "    counties = mainland_counties.copy()\n",
    "\n",
    "    state_xs = states.lons.tolist()\n",
    "    state_ys = states.lats.tolist()\n",
    "    county_xs = counties.lons.tolist()\n",
    "    county_ys = counties.lats.tolist()\n",
    "        \n",
    "    # Get color for all counties\n",
    "    zero_min = -5\n",
    "    zero_max = 5\n",
    "    pos_palette = [Color(rgb=x).hex for x in sns.color_palette(\"Blues\", ncat)]\n",
    "    neg_palette = [Color(rgb=x).hex for x in sns.color_palette(\"Reds_r\", ncat)]\n",
    "\n",
    "    pos_diffs = data[data.difference > zero_max]\n",
    "    pos_labels = pd.qcut(pos_diffs.difference, ncat, labels=range(ncat))\n",
    "    pos_colors = pos_labels.map(pd.Series(pos_palette))\n",
    "\n",
    "    neg_diffs = data[data.difference < zero_min]\n",
    "    neg_labels = pd.qcut(neg_diffs.difference, ncat, labels=range(ncat))\n",
    "    neg_colors = neg_labels.map(pd.Series(neg_palette))\n",
    "\n",
    "    zero_diffs = data[(data.difference >= zero_min) & (data.difference <= zero_max)]\n",
    "    zero_colors = pd.Series(data='#ffffff', index=zero_diffs.index)\n",
    "    all_colors = pd.concat([neg_colors, zero_colors, pos_colors]).sort_index()\n",
    "\n",
    "    source = ColumnDataSource(\n",
    "            data = dict(\n",
    "                xs=county_xs,\n",
    "                ys=county_ys,\n",
    "                counties=counties.county.values.tolist(),\n",
    "                colors=all_colors.values.flatten().tolist(),\n",
    "                actual_donor=data.curr_donor.tolist(),\n",
    "                actual_amount=data.curr_amount.apply(thousands_format).values.tolist(),\n",
    "                projected_donor=data.projected_donor.values.tolist(),\n",
    "                projected_amount=data.projected_amount.apply(thousands_format).values.tolist(),\n",
    "                actual_pop=population[curr_year].apply(thousands_format).values.tolist(),\n",
    "            )\n",
    "    )\n",
    "\n",
    "    output_file(\"market_potential.html\", title=title)\n",
    "    p = figure(title=title, toolbar_location=\"left\",plot_width=1100, plot_height=700,\n",
    "               tools='hover, pan, wheel_zoom, box_zoom, reset, help')\n",
    "\n",
    "    hover = p.select(dict(type=HoverTool))\n",
    "    hover.point_policy = \"follow_mouse\"\n",
    "    hover.tooltips=\"\"\"\n",
    "            <div>\n",
    "                <div>\n",
    "                    <span style=\"font-size: 15px;\"><b>@counties</b> (Indian pop.: @actual_pop)</span>\n",
    "                </div>\n",
    "                <table style=\"width:100%\">\n",
    "                  <tr>\n",
    "                    <td></td>\n",
    "                    <td><b>Unique Donors</b></td>\n",
    "                    <td><b>Amount</b></td>\n",
    "                  </tr>\n",
    "                  <tr>\n",
    "                    <td><b>Projected</b></td>\n",
    "                    <td>@projected_donor</td>\n",
    "                    <td>@projected_amount</td>\n",
    "                  </tr>\n",
    "                  <tr>\n",
    "                    <td><b>Actual</b></td>\n",
    "                    <td>@actual_donor</td>\n",
    "                    <td>@actual_amount</td>\n",
    "                  </tr>\n",
    "                </table>\n",
    "            </div>\n",
    "            \"\"\".format(prev_year, curr_year)\n",
    "\n",
    "    # Turn off all axis and grid lines\n",
    "    p.grid.grid_line_color = None\n",
    "    p.axis.axis_line_color = None\n",
    "    p.axis.major_label_text_font_size = '0pt'\n",
    "    p.axis.major_tick_line_color = None\n",
    "    p.axis[0].ticker.num_minor_ticks = 0\n",
    "    p.axis[1].ticker.num_minor_ticks = 0\n",
    "\n",
    "    p.patches(state_xs, state_ys, fill_alpha=0.0, line_color=\"#696969\", line_width=0.75)\n",
    "    # The following must be the last glyph for the hover to function properly\n",
    "    p.patches(xs='xs', ys='ys', fill_color='colors', fill_alpha=0.7,\n",
    "              line_color=\"#e77575\", line_width=0.5, source=source)\n",
    "    return p"
   ]
  },
  {
   "cell_type": "code",
   "execution_count": 31,
   "metadata": {
    "collapsed": false
   },
   "outputs": [],
   "source": [
    "p = plot_market_potential_choropleth(data, 5, 'Market potential based on donations (2015)', 2015)\n",
    "show(p)"
   ]
  },
  {
   "cell_type": "code",
   "execution_count": null,
   "metadata": {
    "collapsed": true
   },
   "outputs": [],
   "source": []
  }
 ],
 "metadata": {
  "kernelspec": {
   "display_name": "Python 2",
   "language": "python",
   "name": "python2"
  },
  "language_info": {
   "codemirror_mode": {
    "name": "ipython",
    "version": 2
   },
   "file_extension": ".py",
   "mimetype": "text/x-python",
   "name": "python",
   "nbconvert_exporter": "python",
   "pygments_lexer": "ipython2",
   "version": "2.7.11"
  }
 },
 "nbformat": 4,
 "nbformat_minor": 0
}
