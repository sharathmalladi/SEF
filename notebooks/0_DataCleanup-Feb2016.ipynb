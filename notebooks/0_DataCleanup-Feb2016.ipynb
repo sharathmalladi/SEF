{
 "cells": [
  {
   "cell_type": "markdown",
   "metadata": {},
   "source": [
    "### Data cleanup\n",
    "\n",
    "This notebook is meant for cleaning up the donation data.\n",
    "\n",
    "The following is a summary of some of the cleanup tasks from this notebook:\n",
    "\n",
    "1. Load the csv file that has the donors\n",
    "2. Strip out whitespace from all the columns\n",
    "3. Fill na with empty strings\n",
    "4. Change column data types (after examining for correctness)\n",
    "5. Cleanup amounts column - removed negative (totals to -641910.46 dollars) and zero values\n",
    "6. Cleanup state codes.\n",
    "7. Removed donations that are outside of US - about \\$30,000 USD\n",
    "8. Removed donations totaling to 9.5 million dollars that came from anonymous donors (as outliers)\n",
    "9. If there is no location information or it is inaccurate, move it to a different, move it to a different dataframe\n",
    "10. Update the city and state names when not present based on the zipcodes dataset."
   ]
  },
  {
   "cell_type": "code",
   "execution_count": 1,
   "metadata": {
    "collapsed": false
   },
   "outputs": [
    {
     "data": {
      "text/html": [
       "\n",
       "    <div class=\"bk-banner\">\n",
       "        <a href=\"http://bokeh.pydata.org\" target=\"_blank\" class=\"bk-logo bk-logo-small bk-logo-notebook\"></a>\n",
       "        <span id=\"31a54939-89b2-40c5-ba1c-682642db1755\">Loading BokehJS ...</span>\n",
       "    </div>"
      ]
     },
     "metadata": {},
     "output_type": "display_data"
    },
    {
     "data": {
      "application/javascript": [
       "\n",
       "(function(global) {\n",
       "  function now() {\n",
       "    return new Date();\n",
       "  }\n",
       "\n",
       "  if (typeof (window._bokeh_onload_callbacks) === \"undefined\") {\n",
       "    window._bokeh_onload_callbacks = [];\n",
       "  }\n",
       "\n",
       "  function run_callbacks() {\n",
       "    window._bokeh_onload_callbacks.forEach(function(callback) { callback() });\n",
       "    delete window._bokeh_onload_callbacks\n",
       "    console.info(\"Bokeh: all callbacks have finished\");\n",
       "  }\n",
       "\n",
       "  function load_libs(js_urls, callback) {\n",
       "    window._bokeh_onload_callbacks.push(callback);\n",
       "    if (window._bokeh_is_loading > 0) {\n",
       "      console.log(\"Bokeh: BokehJS is being loaded, scheduling callback at\", now());\n",
       "      return null;\n",
       "    }\n",
       "    if (js_urls == null || js_urls.length === 0) {\n",
       "      run_callbacks();\n",
       "      return null;\n",
       "    }\n",
       "    console.log(\"Bokeh: BokehJS not loaded, scheduling load and callback at\", now());\n",
       "    window._bokeh_is_loading = js_urls.length;\n",
       "    for (var i = 0; i < js_urls.length; i++) {\n",
       "      var url = js_urls[i];\n",
       "      var s = document.createElement('script');\n",
       "      s.src = url;\n",
       "      s.async = false;\n",
       "      s.onreadystatechange = s.onload = function() {\n",
       "        window._bokeh_is_loading--;\n",
       "        if (window._bokeh_is_loading === 0) {\n",
       "          console.log(\"Bokeh: all BokehJS libraries loaded\");\n",
       "          run_callbacks()\n",
       "        }\n",
       "      };\n",
       "      s.onerror = function() {\n",
       "        console.warn(\"failed to load library \" + url);\n",
       "      };\n",
       "      console.log(\"Bokeh: injecting script tag for BokehJS library: \", url);\n",
       "      document.getElementsByTagName(\"head\")[0].appendChild(s);\n",
       "    }\n",
       "  };\n",
       "\n",
       "  var js_urls = ['https://cdn.pydata.org/bokeh/release/bokeh-0.11.1.min.js', 'https://cdn.pydata.org/bokeh/release/bokeh-widgets-0.11.1.min.js', 'https://cdn.pydata.org/bokeh/release/bokeh-compiler-0.11.1.min.js'];\n",
       "\n",
       "  var inline_js = [\n",
       "    function(Bokeh) {\n",
       "      Bokeh.set_log_level(\"info\");\n",
       "    },\n",
       "    \n",
       "    function(Bokeh) {\n",
       "      Bokeh.$(\"#31a54939-89b2-40c5-ba1c-682642db1755\").text(\"BokehJS successfully loaded\");\n",
       "    },\n",
       "    function(Bokeh) {\n",
       "      console.log(\"Bokeh: injecting CSS: https://cdn.pydata.org/bokeh/release/bokeh-0.11.1.min.css\");\n",
       "      Bokeh.embed.inject_css(\"https://cdn.pydata.org/bokeh/release/bokeh-0.11.1.min.css\");\n",
       "      console.log(\"Bokeh: injecting CSS: https://cdn.pydata.org/bokeh/release/bokeh-widgets-0.11.1.min.css\");\n",
       "      Bokeh.embed.inject_css(\"https://cdn.pydata.org/bokeh/release/bokeh-widgets-0.11.1.min.css\");\n",
       "    }\n",
       "  ];\n",
       "\n",
       "  function run_inline_js() {\n",
       "    for (var i = 0; i < inline_js.length; i++) {\n",
       "      inline_js[i](window.Bokeh);\n",
       "    }\n",
       "  }\n",
       "\n",
       "  if (window._bokeh_is_loading === 0) {\n",
       "    console.log(\"Bokeh: BokehJS loaded, going straight to plotting\");\n",
       "    run_inline_js();\n",
       "  } else {\n",
       "    load_libs(js_urls, function() {\n",
       "      console.log(\"Bokeh: BokehJS plotting callback run at\", now());\n",
       "      run_inline_js();\n",
       "    });\n",
       "  }\n",
       "}(this));"
      ]
     },
     "metadata": {},
     "output_type": "display_data"
    }
   ],
   "source": [
    "import pandas as pd\n",
    "import numpy as np\n",
    "import locale\n",
    "import matplotlib.pyplot as plt\n",
    "from bokeh.plotting import figure, show\n",
    "from bokeh.models import ColumnDataSource, HoverTool\n",
    "\n",
    "%matplotlib inline\n",
    "from bokeh.plotting import output_notebook\n",
    "output_notebook()"
   ]
  },
  {
   "cell_type": "code",
   "execution_count": 2,
   "metadata": {
    "collapsed": false
   },
   "outputs": [
    {
     "name": "stdout",
     "output_type": "stream",
     "text": [
      "1,234,567,890.77\n"
     ]
    },
    {
     "data": {
      "text/plain": [
       "['10/17/2010', '5/13/2011', '1/15/2012']"
      ]
     },
     "execution_count": 2,
     "metadata": {},
     "output_type": "execute_result"
    }
   ],
   "source": [
    "_ = locale.setlocale(locale.LC_ALL, '')\n",
    "thousands_sep = lambda x: locale.format(\"%.2f\", x, grouping=True)\n",
    "#example:\n",
    "print thousands_sep(1234567890.76543)\n",
    "\n",
    "getdate_ym = lambda x: str(x.year) + \"_\" + str(x.month)\n",
    "getdate_ymd = lambda x: str(x.month) + \"/\" + str(x.day) + \"/\" + str(x.year)\n",
    "dates = pd.DatetimeIndex(['2010-10-17', '2011-05-13', \"2012-01-15\"])\n",
    "map(getdate_ym, dates)\n",
    "map(getdate_ymd, dates)"
   ]
  },
  {
   "cell_type": "markdown",
   "metadata": {},
   "source": [
    "## Load csv"
   ]
  },
  {
   "cell_type": "code",
   "execution_count": 3,
   "metadata": {
    "collapsed": false
   },
   "outputs": [],
   "source": [
    "df = pd.read_csv('in/gifts_Feb2016_2.csv')\n",
    "source_columns = ['donor_id', 'amount_initial', 'donation_date', 'appeal', 'fund', 'city', 'state', 'zipcode_initial', 'charitable', 'sales']\n",
    "df.columns = source_columns"
   ]
  },
  {
   "cell_type": "code",
   "execution_count": 4,
   "metadata": {
    "collapsed": false
   },
   "outputs": [
    {
     "name": "stdout",
     "output_type": "stream",
     "text": [
      "<class 'pandas.core.frame.DataFrame'>\n",
      "Int64Index: 240015 entries, 0 to 240014\n",
      "Data columns (total 10 columns):\n",
      "donor_id           240015 non-null object\n",
      "amount_initial     240015 non-null object\n",
      "donation_date      240015 non-null object\n",
      "appeal             239989 non-null object\n",
      "fund               240014 non-null object\n",
      "city               240015 non-null object\n",
      "state              240015 non-null object\n",
      "zipcode_initial    240015 non-null object\n",
      "charitable         240015 non-null int64\n",
      "sales              240015 non-null int64\n",
      "dtypes: int64(2), object(8)\n",
      "memory usage: 12.8+ MB\n"
     ]
    }
   ],
   "source": [
    "df.info()"
   ]
  },
  {
   "cell_type": "code",
   "execution_count": 5,
   "metadata": {
    "collapsed": false
   },
   "outputs": [],
   "source": [
    "strip_func = lambda x: x.strip() if isinstance(x, str) else x\n",
    "df = df.applymap(strip_func)"
   ]
  },
  {
   "cell_type": "markdown",
   "metadata": {},
   "source": [
    "### Address nan column values"
   ]
  },
  {
   "cell_type": "code",
   "execution_count": 6,
   "metadata": {
    "collapsed": false
   },
   "outputs": [],
   "source": [
    "df.replace({'appeal': {'0': ''}}, inplace=True)\n",
    "df.appeal.fillna('', inplace=True)\n",
    "df.fund.fillna('', inplace=True)"
   ]
  },
  {
   "cell_type": "markdown",
   "metadata": {},
   "source": [
    "## Change column types and drop unused columns"
   ]
  },
  {
   "cell_type": "code",
   "execution_count": 7,
   "metadata": {
    "collapsed": false
   },
   "outputs": [],
   "source": [
    "df.donation_date = pd.to_datetime(df.donation_date)\n",
    "df.charitable = df.charitable.astype('bool')\n",
    "df['zipcode'] = df.zipcode_initial.str[0:5]"
   ]
  },
  {
   "cell_type": "code",
   "execution_count": 8,
   "metadata": {
    "collapsed": false
   },
   "outputs": [
    {
     "data": {
      "text/html": [
       "<div>\n",
       "<table border=\"1\" class=\"dataframe\">\n",
       "  <thead>\n",
       "    <tr style=\"text-align: right;\">\n",
       "      <th></th>\n",
       "      <th>a</th>\n",
       "      <th>b</th>\n",
       "    </tr>\n",
       "  </thead>\n",
       "  <tbody>\n",
       "    <tr>\n",
       "      <th>0</th>\n",
       "      <td>1</td>\n",
       "      <td>08820</td>\n",
       "    </tr>\n",
       "    <tr>\n",
       "      <th>1</th>\n",
       "      <td>2</td>\n",
       "      <td>08820</td>\n",
       "    </tr>\n",
       "  </tbody>\n",
       "</table>\n",
       "</div>"
      ],
      "text/plain": [
       "   a      b\n",
       "0  1  08820\n",
       "1  2  08820"
      ]
     },
     "execution_count": 8,
     "metadata": {},
     "output_type": "execute_result"
    }
   ],
   "source": [
    "fill_zipcode = lambda x: '0'*(5-len(str(x))) + str(x)\n",
    "x1 = pd.DataFrame([[1, '8820'], [2, 8820]], columns=['a','b'])\n",
    "x1.b = x1.b.apply(fill_zipcode)\n",
    "x1"
   ]
  },
  {
   "cell_type": "code",
   "execution_count": 9,
   "metadata": {
    "collapsed": false
   },
   "outputs": [],
   "source": [
    "df.zipcode = df.zipcode.apply(fill_zipcode)"
   ]
  },
  {
   "cell_type": "markdown",
   "metadata": {},
   "source": [
    "## Cleanup amounts"
   ]
  },
  {
   "cell_type": "code",
   "execution_count": 10,
   "metadata": {
    "collapsed": false,
    "scrolled": true
   },
   "outputs": [
    {
     "data": {
      "text/html": [
       "<div>\n",
       "<table border=\"1\" class=\"dataframe\">\n",
       "  <thead>\n",
       "    <tr style=\"text-align: right;\">\n",
       "      <th></th>\n",
       "      <th>donor_id</th>\n",
       "      <th>amount_initial</th>\n",
       "      <th>donation_date</th>\n",
       "      <th>appeal</th>\n",
       "      <th>fund</th>\n",
       "      <th>city</th>\n",
       "      <th>state</th>\n",
       "      <th>zipcode_initial</th>\n",
       "      <th>charitable</th>\n",
       "      <th>sales</th>\n",
       "      <th>zipcode</th>\n",
       "    </tr>\n",
       "  </thead>\n",
       "  <tbody>\n",
       "    <tr>\n",
       "      <th>219085</th>\n",
       "      <td>B909F70A2B</td>\n",
       "      <td>97ACBD2F90</td>\n",
       "      <td>1899-12-31 00:00:00</td>\n",
       "      <td></td>\n",
       "      <td></td>\n",
       "      <td>Mosher Dr</td>\n",
       "      <td>San Jose</td>\n",
       "      <td>CA</td>\n",
       "      <td>True</td>\n",
       "      <td>0</td>\n",
       "      <td>000CA</td>\n",
       "    </tr>\n",
       "  </tbody>\n",
       "</table>\n",
       "</div>"
      ],
      "text/plain": [
       "          donor_id amount_initial       donation_date appeal fund       city  \\\n",
       "219085  B909F70A2B     97ACBD2F90 1899-12-31 00:00:00              Mosher Dr   \n",
       "\n",
       "           state zipcode_initial charitable  sales zipcode  \n",
       "219085  San Jose              CA       True      0   000CA  "
      ]
     },
     "execution_count": 10,
     "metadata": {},
     "output_type": "execute_result"
    }
   ],
   "source": [
    "## Ensure that all amounts are dollar figures\n",
    "df[~df.amount_initial.str.startswith('-$') & ~df.amount_initial.str.startswith('$')]"
   ]
  },
  {
   "cell_type": "code",
   "execution_count": 11,
   "metadata": {
    "collapsed": false
   },
   "outputs": [],
   "source": [
    "## drop row with invalid data\n",
    "df.drop(df[df.donation_date == '1899-12-31'].index, axis=0, inplace=True)"
   ]
  },
  {
   "cell_type": "code",
   "execution_count": 12,
   "metadata": {
    "collapsed": false
   },
   "outputs": [],
   "source": [
    "df['amount_cleanup'] = df.amount_initial.str.replace(',', '')\n",
    "df['amount_cleanup'] = df.amount_cleanup.str.replace('$', '')\n",
    "df['amount'] = df.amount_cleanup.astype(float)"
   ]
  },
  {
   "cell_type": "code",
   "execution_count": 13,
   "metadata": {
    "collapsed": false
   },
   "outputs": [
    {
     "data": {
      "text/plain": [
       "array(['$0.00'], dtype=object)"
      ]
     },
     "execution_count": 13,
     "metadata": {},
     "output_type": "execute_result"
    }
   ],
   "source": [
    "## Make sure we did not throw away valid numbers by checking with the original value\n",
    "df[(df.amount == 0)].amount_initial.unique()"
   ]
  },
  {
   "cell_type": "markdown",
   "metadata": {},
   "source": [
    "## Outlier data"
   ]
  },
  {
   "cell_type": "code",
   "execution_count": 14,
   "metadata": {
    "collapsed": false
   },
   "outputs": [
    {
     "data": {
      "image/png": "[encoded data removed]",
      "text/plain": [
       "<matplotlib.figure.Figure at 0xa8b3d5ec>"
      ]
     },
     "metadata": {},
     "output_type": "display_data"
    }
   ],
   "source": [
    "# There are some outliers in the data, quite a few of them are recent.\n",
    "_ = plt.scatter(df[df.amount > 5000].amount.values, df[df.amount > 5000].donation_date.values)\n",
    "plt.show()"
   ]
  },
  {
   "cell_type": "code",
   "execution_count": 15,
   "metadata": {
    "collapsed": false
   },
   "outputs": [],
   "source": [
    "# Fun little thing to try out bokeh (we can hover and detect the culprits)\n",
    "def plot_data(df):\n",
    "    dates = map(getdate_ym, pd.DatetimeIndex(df[df.amount > 5000].donation_date))\n",
    "    amounts = map(thousands_sep, df[df.amount > 5000].amount)\n",
    "    x = df[df.amount > 5000].donation_date.values\n",
    "    y = df[df.amount > 5000].amount.values\n",
    "    donor_ids = df[df.amount > 5000].donor_id.values\n",
    "    states = df[df.amount > 5000].state.values\n",
    "\n",
    "    source = ColumnDataSource(\n",
    "            data=dict(\n",
    "                x=x,\n",
    "                y=y,\n",
    "                dates=dates,\n",
    "                amounts=amounts,\n",
    "                donor_ids=donor_ids,\n",
    "                states=states,\n",
    "            )\n",
    "        )\n",
    "\n",
    "    hover = HoverTool(\n",
    "            tooltips=[\n",
    "                (\"date\", \"@dates\"),\n",
    "                (\"amount\", \"@amounts\"),\n",
    "                (\"donor\", \"@donor_ids\"),\n",
    "                (\"states\", \"@states\"),\n",
    "            ]\n",
    "        )\n",
    "\n",
    "    p = figure(plot_width=400, plot_height=400, title=None, tools=[hover])\n",
    "    p.circle('x', 'y', size=5, source=source)\n",
    "\n",
    "    show(p)"
   ]
  },
  {
   "cell_type": "code",
   "execution_count": 16,
   "metadata": {
    "collapsed": false
   },
   "outputs": [
    {
     "data": {
      "text/html": [
       "\n",
       "\n",
       "    <div class=\"plotdiv\" id=\"f39bb510-a6c3-4186-a099-dfebe831977b\"></div>\n",
       "<script type=\"text/javascript\">\n",
       "  \n",
       "  (function(global) {\n",
       "    function now() {\n",
       "      return new Date();\n",
       "    }\n",
       "  \n",
       "    if (typeof (window._bokeh_onload_callbacks) === \"undefined\") {\n",
       "      window._bokeh_onload_callbacks = [];\n",
       "    }\n",
       "  \n",
       "    function run_callbacks() {\n",
       "      window._bokeh_onload_callbacks.forEach(function(callback) { callback() });\n",
       "      delete window._bokeh_onload_callbacks\n",
       "      console.info(\"Bokeh: all callbacks have finished\");\n",
       "    }\n",
       "  \n",
       "    function load_libs(js_urls, callback) {\n",
       "      window._bokeh_onload_callbacks.push(callback);\n",
       "      if (window._bokeh_is_loading > 0) {\n",
       "        console.log(\"Bokeh: BokehJS is being loaded, scheduling callback at\", now());\n",
       "        return null;\n",
       "      }\n",
       "      if (js_urls == null || js_urls.length === 0) {\n",
       "        run_callbacks();\n",
       "        return null;\n",
       "      }\n",
       "      console.log(\"Bokeh: BokehJS not loaded, scheduling load and callback at\", now());\n",
       "      window._bokeh_is_loading = js_urls.length;\n",
       "      for (var i = 0; i < js_urls.length; i++) {\n",
       "        var url = js_urls[i];\n",
       "        var s = document.createElement('script');\n",
       "        s.src = url;\n",
       "        s.async = false;\n",
       "        s.onreadystatechange = s.onload = function() {\n",
       "          window._bokeh_is_loading--;\n",
       "          if (window._bokeh_is_loading === 0) {\n",
       "            console.log(\"Bokeh: all BokehJS libraries loaded\");\n",
       "            run_callbacks()\n",
       "          }\n",
       "        };\n",
       "        s.onerror = function() {\n",
       "          console.warn(\"failed to load library \" + url);\n",
       "        };\n",
       "        console.log(\"Bokeh: injecting script tag for BokehJS library: \", url);\n",
       "        document.getElementsByTagName(\"head\")[0].appendChild(s);\n",
       "      }\n",
       "    };var element = document.getElementById(\"f39bb510-a6c3-4186-a099-dfebe831977b\");\n",
       "    if (element == null) {\n",
       "      console.log(\"Bokeh: ERROR: autoload.js configured with elementid 'f39bb510-a6c3-4186-a099-dfebe831977b' but no matching script tag was found. \")\n",
       "      return false;\n",
       "    }\n",
       "  \n",
       "    var js_urls = [];\n",
       "  \n",
       "    var inline_js = [\n",
       "      function(Bokeh) {\n",
       "        Bokeh.$(function() {\n",
       "            var docs_json = {\"06536c94-0234-4bbf-afa9-aac68cbfc9a6\":{\"roots\":{\"references\":[{\"attributes\":{\"below\":[{\"id\":\"ee70e81f-60a4-4e01-bac3-de8750cb68e5\",\"type\":\"LinearAxis\"}],\"left\":[{\"id\":\"5e52782b-ae94-4183-a75e-aed043b76217\",\"type\":\"LinearAxis\"}],\"plot_height\":400,\"plot_width\":400,\"renderers\":[{\"id\":\"ee70e81f-60a4-4e01-bac3-de8750cb68e5\",\"type\":\"LinearAxis\"},{\"id\":\"8ad93f68-aede-4e51-ae3b-c71eee18ec3e\",\"type\":\"Grid\"},{\"id\":\"5e52782b-ae94-4183-a75e-aed043b76217\",\"type\":\"LinearAxis\"},{\"id\":\"f5a5be03-0242-4040-838a-d5a5812ab349\",\"type\":\"Grid\"},{\"id\":\"69935173-65a1-4694-8e3a-3de80f1bdef9\",\"type\":\"GlyphRenderer\"}],\"title\":null,\"tool_events\":{\"id\":\"97ec4a84-2bc0-41d2-a353-1310ec4cefe2\",\"type\":\"ToolEvents\"},\"tools\":[{\"id\":\"76fcd49d-8bb2-4800-af2f-cbd119b6d3b5\",\"type\":\"HoverTool\"}],\"x_range\":{\"id\":\"a073966d-f348-4409-b51a-1962caaaea8e\",\"type\":\"DataRange1d\"},\"y_range\":{\"id\":\"83fb34f5-0803-4efe-8705-1d7bd0b78727\",\"type\":\"DataRange1d\"}},\"id\":\"6f91b7ae-cec9-424f-9031-2eff2d2c9e18\",\"subtype\":\"Figure\",\"type\":\"Plot\"},{\"attributes\":{\"fill_color\":{\"value\":\"#1f77b4\"},\"line_color\":{\"value\":\"#1f77b4\"},\"size\":{\"units\":\"screen\",\"value\":5},\"x\":{\"field\":\"x\"},\"y\":{\"field\":\"y\"}},\"id\":\"92aac594-c119-49f4-b22c-8a42dc2dd8cb\",\"type\":\"Circle\"},{\"attributes\":{\"callback\":null},\"id\":\"a073966d-f348-4409-b51a-1962caaaea8e\",\"type\":\"DataRange1d\"},{\"attributes\":{\"formatter\":{\"id\":\"7c0227d5-e58b-4a4e-a130-91ba93e253ff\",\"type\":\"BasicTickFormatter\"},\"plot\":{\"id\":\"6f91b7ae-cec9-424f-9031-2eff2d2c9e18\",\"subtype\":\"Figure\",\"type\":\"Plot\"},\"ticker\":{\"id\":\"ce084695-cf56-492c-9345-d56a71bcffd0\",\"type\":\"BasicTicker\"}},\"id\":\"ee70e81f-60a4-4e01-bac3-de8750cb68e5\",\"type\":\"LinearAxis\"},{\"attributes\":{\"formatter\":{\"id\":\"1877c04f-8419-4df3-b3d6-0770f7ac127f\",\"type\":\"BasicTickFormatter\"},\"plot\":{\"id\":\"6f91b7ae-cec9-424f-9031-2eff2d2c9e18\",\"subtype\":\"Figure\",\"type\":\"Plot\"},\"ticker\":{\"id\":\"3c936451-1f58-49f4-879d-0e09e9a92670\",\"type\":\"BasicTicker\"}},\"id\":\"5e52782b-ae94-4183-a75e-aed043b76217\",\"type\":\"LinearAxis\"},{\"attributes\":{},\"id\":\"ce084695-cf56-492c-9345-d56a71bcffd0\",\"type\":\"BasicTicker\"},{\"attributes\":{\"callback\":null},\"id\":\"83fb34f5-0803-4efe-8705-1d7bd0b78727\",\"type\":\"DataRange1d\"},{\"attributes\":{\"callback\":null,\"plot\":{\"id\":\"6f91b7ae-cec9-424f-9031-2eff2d2c9e18\",\"subtype\":\"Figure\",\"type\":\"Plot\"},\"tooltips\":[[\"date\",\"@dates\"],[\"amount\",\"@amounts\"],[\"donor\",\"@donor_ids\"],[\"states\",\"@states\"]]},\"id\":\"76fcd49d-8bb2-4800-af2f-cbd119b6d3b5\",\"type\":\"HoverTool\"},{\"attributes\":{\"data_source\":{\"id\":\"c8360df1-4308-460c-a76a-d96acc87fe25\",\"type\":\"ColumnDataSource\"},\"glyph\":{\"id\":\"92aac594-c119-49f4-b22c-8a42dc2dd8cb\",\"type\":\"Circle\"},\"hover_glyph\":null,\"nonselection_glyph\":{\"id\":\"aab12f12-c8da-4222-ba64-8476266762ce\",\"type\":\"Circle\"},\"selection_glyph\":null},\"id\":\"69935173-65a1-4694-8e3a-3de80f1bdef9\",\"type\":\"GlyphRenderer\"},{\"attributes\":{\"callback\":null,\"column_names\":[\"states\",\"y\",\"dates\",\"amounts\",\"x\",\"donor_ids\"],\"data\":{\"amounts\":[\"50,000.00\",\"21,000.00\",\"9,000.00\",\"7,221.00\",\"5,008.00\",\"14,159.00\",\"5,588.00\",\"10,000.00\",\"750,000.00\",\"45,000.00\",\"1,250,000.00\",\"1,000,000.00\",\"1,500,000.00\",\"5,000,000.00\",\"11,604.00\",\"11,604.00\",\"12,000.00\",\"12,000.00\",\"8,703.00\",\"9,000.00\",\"10,000.00\",\"12,701.00\",\"6,684.00\",\"10,713.00\",\"10,872.00\",\"20,094.00\",\"5,570.00\",\"5,605.00\",\"5,240.00\",\"8,052.04\",\"5,918.00\",\"5,520.00\",\"111,405.00\",\"97,860.50\",\"89,049.00\",\"6,435.00\",\"10,001.00\",\"10,000.00\",\"11,000.00\",\"20,000.00\",\"20,000.00\",\"20,000.00\",\"6,138.23\",\"10,000.00\",\"10,000.00\",\"12,500.00\",\"12,500.00\",\"12,500.00\",\"12,500.00\",\"12,500.00\",\"25,000.00\",\"25,000.00\",\"25,002.00\",\"10,000.00\",\"100,000.00\",\"10,000.00\",\"20,000.00\",\"10,000.00\",\"10,000.00\",\"10,000.00\",\"10,000.00\",\"10,000.00\",\"5,300.00\",\"36,000.00\",\"10,001.00\",\"6,000.00\",\"5,605.00\",\"10,000.00\",\"9,782.17\",\"10,000.00\",\"50,000.00\",\"50,000.00\",\"7,048.00\",\"9,598.15\",\"13,893.31\",\"13,393.76\",\"15,748.92\",\"20,000.00\",\"37,087.14\",\"50,000.00\",\"10,000.00\",\"20,000.00\",\"20,000.00\",\"10,000.00\",\"10,000.00\",\"10,000.00\",\"10,000.00\",\"40,000.00\",\"10,001.00\",\"30,381.97\",\"8,202.00\",\"6,800.00\",\"20,000.00\",\"6,000.00\",\"5,100.00\",\"7,400.00\",\"50,000.00\",\"6,000.00\",\"30,000.00\",\"25,000.00\",\"15,000.00\",\"18,664.00\",\"7,500.00\",\"7,500.00\",\"10,000.00\",\"10,000.00\",\"20,000.00\",\"8,000.00\",\"10,000.00\",\"9,900.00\",\"9,900.00\",\"10,000.00\",\"55,000.00\",\"45,000.00\",\"25,000.00\",\"10,000.00\",\"5,400.00\",\"6,000.00\",\"6,000.00\",\"10,000.00\",\"5,058.11\",\"5,454.00\",\"5,200.00\",\"8,000.00\",\"10,000.00\",\"15,000.00\",\"10,000.00\",\"8,000.00\",\"10,000.00\",\"10,008.00\",\"5,008.00\",\"5,008.00\",\"5,001.00\",\"10,000.00\",\"25,000.00\",\"25,000.00\",\"26,000.00\",\"24,000.00\",\"7,500.00\",\"9,000.00\",\"15,000.00\",\"10,000.00\",\"12,500.00\",\"12,500.00\",\"25,000.00\",\"10,000.00\",\"20,001.00\",\"15,000.00\",\"10,000.00\",\"9,736.00\",\"5,001.00\",\"22,000.00\",\"25,000.00\",\"6,171.17\",\"8,087.03\",\"6,553.11\",\"8,195.62\",\"6,276.77\",\"8,145.63\",\"6,596.47\",\"10,479.80\",\"9,262.58\",\"12,000.00\",\"10,000.00\",\"10,000.00\",\"6,000.00\",\"6,000.00\",\"11,000.00\",\"10,000.00\",\"5,100.00\",\"10,000.00\",\"10,000.00\",\"10,000.00\",\"20,000.00\",\"25,000.00\",\"5,001.00\",\"10,000.00\",\"40,000.00\",\"30,000.00\",\"5,500.00\",\"25,000.00\",\"25,000.00\",\"25,000.00\",\"8,500.00\",\"10,000.00\",\"27,730.00\",\"10,000.00\",\"5,101.00\",\"5,692.00\",\"13,791.00\",\"9,274.00\",\"19,000.00\",\"33,000.00\",\"10,000.00\",\"10,000.00\",\"5,758.67\",\"5,758.68\",\"10,000.00\",\"20,000.00\",\"11,001.00\",\"14,000.00\",\"10,000.00\",\"5,001.00\",\"5,001.00\",\"5,001.00\",\"5,001.00\",\"5,001.00\",\"5,001.00\",\"5,001.00\",\"10,001.00\",\"5,001.00\",\"5,001.00\",\"5,001.00\",\"5,001.00\",\"5,001.00\",\"10,000.00\",\"5,071.00\",\"10,000.00\",\"10,000.00\",\"10,000.00\",\"50,000.00\",\"23,000.00\",\"23,000.00\",\"5,001.00\",\"15,000.00\",\"6,519.62\",\"5,001.00\",\"10,001.00\",\"11,000.00\",\"25,000.00\",\"10,000.00\",\"10,000.00\",\"10,000.00\",\"10,000.00\",\"5,145.00\",\"23,000.00\",\"23,000.00\",\"7,500.00\",\"10,001.00\",\"10,000.00\",\"5,001.00\",\"21,000.00\",\"25,100.00\",\"7,000.00\",\"10,000.00\",\"10,000.00\",\"15,000.00\",\"6,380.00\",\"6,313.44\",\"6,200.00\",\"10,000.00\",\"7,250.00\",\"10,000.00\",\"10,000.00\",\"19,500.00\",\"20,000.00\",\"40,000.00\",\"60,000.00\",\"5,551.00\",\"12,487.50\",\"21,547.59\",\"10,540.00\",\"5,001.00\",\"30,000.00\",\"29,300.00\",\"5,001.00\",\"27,236.90\",\"100,000.00\",\"90,335.14\",\"9,413.84\",\"17,816.65\",\"10,000.00\",\"20,000.00\",\"13,000.00\",\"30,000.00\",\"6,500.00\",\"6,000.00\",\"6,000.00\",\"10,000.00\",\"10,001.00\",\"6,002.00\",\"6,002.00\",\"10,000.00\",\"7,500.00\",\"6,500.00\",\"7,500.00\",\"50,000.00\",\"25,000.00\",\"5,101.00\",\"10,000.00\",\"50,000.00\",\"10,000.00\",\"25,000.00\",\"25,000.00\",\"100,000.00\",\"15,000.00\",\"10,000.00\",\"16,325.29\",\"5,164.73\",\"20,000.00\",\"10,000.00\",\"10,000.00\",\"10,000.00\",\"13,236.19\",\"10,000.00\",\"5,500.00\",\"5,500.00\",\"7,000.00\",\"7,000.00\",\"10,000.00\",\"9,320.94\",\"10,000.00\",\"10,000.00\",\"40,001.00\",\"5,001.00\",\"5,001.00\",\"6,637.00\",\"15,000.00\",\"100,000.00\",\"6,500.00\",\"5,001.00\",\"10,001.00\",\"6,000.00\",\"6,000.00\",\"6,000.00\",\"50,000.00\",\"10,620.00\",\"7,047.45\",\"17,328.00\",\"19,653.01\",\"64,905.00\",\"85,000.00\",\"180,000.00\",\"14,000.00\",\"5,200.00\",\"38,772.90\",\"89,621.92\",\"89,308.00\",\"248,000.00\",\"25,183.50\",\"6,120.00\",\"6,000.00\",\"5,001.00\",\"8,000.00\",\"20,875.00\",\"6,359.75\",\"6,359.75\",\"6,761.22\",\"5,778.22\",\"10,000.00\",\"10,000.00\",\"10,000.00\",\"15,000.00\",\"9,000.00\",\"100,000.00\",\"5,900.00\",\"11,000.00\",\"10,000.00\",\"10,000.00\",\"10,000.00\",\"10,000.00\",\"50,000.00\",\"5,700.00\",\"10,000.00\",\"10,000.00\",\"5,500.00\",\"10,000.00\",\"18,407.20\",\"10,000.00\",\"10,000.00\",\"5,100.00\",\"10,000.00\",\"8,000.00\",\"9,250.00\",\"9,000.00\",\"10,000.00\",\"21,000.00\",\"7,450.00\",\"25,000.00\",\"10,000.00\",\"9,000.00\",\"6,500.00\",\"20,000.00\",\"20,000.00\",\"10,000.00\",\"7,020.00\",\"10,000.00\",\"40,000.00\",\"101,000.00\",\"100,000.00\",\"20,000.00\",\"60,000.00\",\"40,000.00\",\"50,000.00\",\"50,000.00\",\"10,000.00\",\"15,000.00\",\"9,000.00\",\"10,961.31\",\"7,000.00\",\"25,000.00\",\"15,000.00\",\"15,000.00\",\"10,000.00\",\"10,000.00\",\"10,000.00\",\"10,000.00\",\"10,000.00\",\"20,000.00\",\"15,000.00\",\"11,111.00\",\"5,008.00\",\"7,500.00\",\"35,510.84\",\"11,000.00\",\"10,000.00\",\"10,000.00\",\"5,039.94\",\"30,000.00\",\"35,000.00\",\"8,500.00\",\"10,000.00\",\"20,000.00\",\"20,000.00\",\"10,000.00\",\"10,000.00\",\"20,000.00\",\"20,000.00\",\"15,000.00\",\"20,000.00\",\"20,000.00\",\"20,000.00\",\"20,000.00\",\"20,000.00\",\"40,000.00\",\"6,000.00\",\"6,000.00\",\"10,000.00\",\"10,000.00\",\"9,000.00\",\"10,000.00\",\"5,500.00\",\"20,000.00\",\"8,712.00\",\"6,030.00\",\"5,500.00\",\"10,000.00\",\"5,600.00\",\"50,000.00\",\"20,000.00\",\"30,000.00\",\"6,345.00\",\"5,500.00\",\"5,250.00\",\"5,250.00\",\"90,000.00\",\"10,000.00\",\"18,767.54\",\"10,000.00\",\"10,000.00\",\"6,000.00\",\"10,100.00\",\"10,000.00\",\"7,500.00\",\"10,000.00\",\"13,000.00\",\"5,250.00\",\"10,000.00\",\"19,000.00\",\"10,000.00\",\"10,000.00\",\"10,000.00\",\"10,000.00\",\"5,100.00\",\"5,001.00\",\"6,000.00\",\"5,921.78\",\"14,805.00\",\"15,000.00\",\"28,457.00\",\"20,285.76\",\"11,332.00\",\"10,268.72\",\"5,768.40\",\"7,873.36\",\"12,476.00\",\"10,000.00\",\"7,500.00\",\"7,500.00\",\"6,000.00\",\"18,000.00\",\"18,000.00\",\"6,500.00\",\"10,001.00\"],\"dates\":[\"2013_2\",\"2014_12\",\"2014_12\",\"2002_12\",\"2002_12\",\"2002_12\",\"2003_1\",\"2003_11\",\"2008_10\",\"2010_6\",\"2010_10\",\"2012_9\",\"2012_9\",\"2014_8\",\"2006_11\",\"2006_12\",\"2007_2\",\"2007_6\",\"2007_12\",\"2008_2\",\"2012_12\",\"2006_8\",\"2006_10\",\"2007_4\",\"2007_11\",\"2008_7\",\"2009_5\",\"2012_6\",\"2012_8\",\"2012_12\",\"2013_5\",\"2013_9\",\"2014_6\",\"2014_6\",\"2014_8\",\"2014_2\",\"2008_6\",\"2006_11\",\"2007_4\",\"2013_11\",\"2014_12\",\"2015_12\",\"2011_4\",\"2003_12\",\"2004_7\",\"2006_1\",\"2007_1\",\"2007_12\",\"2008_12\",\"2008_12\",\"2009_9\",\"2010_1\",\"2010_7\",\"2010_9\",\"2010_10\",\"2012_1\",\"2012_2\",\"2012_4\",\"2012_12\",\"2013_12\",\"2014_6\",\"2014_11\",\"2014_11\",\"2008_6\",\"2011_12\",\"2011_12\",\"2005_5\",\"2013_12\",\"2004_2\",\"2013_12\",\"2003_8\",\"2004_1\",\"2003_7\",\"2003_9\",\"2003_10\",\"2003_11\",\"2003_12\",\"2015_12\",\"2011_2\",\"2014_12\",\"2008_12\",\"2009_11\",\"2010_12\",\"2011_12\",\"2012_6\",\"2012_12\",\"2013_12\",\"2014_12\",\"2012_2\",\"2003_11\",\"2008_2\",\"2006_12\",\"2003_12\",\"2004_9\",\"2006_12\",\"2011_9\",\"2003_12\",\"2011_12\",\"2012_12\",\"2013_12\",\"2014_12\",\"2015_12\",\"2014_10\",\"2014_11\",\"2009_9\",\"2009_9\",\"2010_12\",\"2013_12\",\"2014_12\",\"2004_2\",\"2004_2\",\"2004_2\",\"2004_5\",\"2004_5\",\"2004_7\",\"2010_3\",\"2012_5\",\"2014_6\",\"2015_12\",\"2006_2\",\"2012_12\",\"2008_10\",\"2009_12\",\"2010_12\",\"2013_4\",\"2013_4\",\"2008_4\",\"2008_9\",\"2006_10\",\"2010_7\",\"2010_8\",\"2015_8\",\"2009_5\",\"2007_10\",\"2007_11\",\"2008_2\",\"2008_6\",\"2008_7\",\"2004_11\",\"2013_1\",\"2014_2\",\"2004_12\",\"2005_12\",\"2006_12\",\"2008_5\",\"2009_12\",\"2004_12\",\"2008_9\",\"2005_1\",\"2007_3\",\"2004_12\",\"2007_12\",\"2008_4\",\"2007_2\",\"2008_2\",\"2009_2\",\"2010_2\",\"2011_2\",\"2012_2\",\"2013_2\",\"2014_2\",\"2016_2\",\"2012_12\",\"2015_12\",\"2005_4\",\"2012_12\",\"2013_4\",\"2012_5\",\"2012_5\",\"2013_9\",\"2006_5\",\"2007_6\",\"2005_6\",\"2005_12\",\"2008_3\",\"2006_10\",\"2005_9\",\"2005_9\",\"2006_12\",\"2005_10\",\"2006_11\",\"2008_8\",\"2009_11\",\"2012_8\",\"2013_4\",\"2007_7\",\"2013_12\",\"2009_12\",\"2005_12\",\"2006_12\",\"2007_8\",\"2009_1\",\"2011_1\",\"2009_12\",\"2010_12\",\"2015_12\",\"2015_12\",\"2011_12\",\"2015_11\",\"2008_3\",\"2008_10\",\"2008_9\",\"2006_6\",\"2013_8\",\"2014_9\",\"2008_3\",\"2008_9\",\"2009_10\",\"2010_10\",\"2011_9\",\"2012_9\",\"2013_8\",\"2014_9\",\"2015_4\",\"2015_11\",\"2013_11\",\"2014_2\",\"2012_6\",\"2013_6\",\"2014_5\",\"2006_4\",\"2006_5\",\"2006_6\",\"2006_7\",\"2008_1\",\"2006_5\",\"2006_8\",\"2011_6\",\"2011_12\",\"2006_10\",\"2009_1\",\"2007_5\",\"2007_5\",\"2008_1\",\"2006_12\",\"2006_12\",\"2007_7\",\"2013_12\",\"2014_12\",\"2011_12\",\"2012_12\",\"2014_12\",\"2015_12\",\"2006_12\",\"2013_12\",\"2007_4\",\"2008_12\",\"2007_4\",\"2007_3\",\"2010_4\",\"2011_5\",\"2013_4\",\"2013_11\",\"2015_5\",\"2015_12\",\"2015_12\",\"2007_11\",\"2007_12\",\"2007_9\",\"2009_6\",\"2009_12\",\"2010_12\",\"2008_9\",\"2015_2\",\"2015_2\",\"2008_12\",\"2010_11\",\"2010_11\",\"2013_2\",\"2013_3\",\"2013_5\",\"2007_12\",\"2012_12\",\"2011_11\",\"2008_1\",\"2007_12\",\"2011_12\",\"2012_3\",\"2008_1\",\"2013_12\",\"2010_9\",\"2010_11\",\"2013_9\",\"2014_5\",\"2014_9\",\"2015_5\",\"2012_12\",\"2008_6\",\"2010_6\",\"2008_10\",\"2008_10\",\"2008_9\",\"2008_10\",\"2009_4\",\"2012_1\",\"2014_5\",\"2013_5\",\"2008_12\",\"2016_1\",\"2015_6\",\"2016_1\",\"2016_1\",\"2004_3\",\"2007_6\",\"2005_12\",\"2008_4\",\"2008_7\",\"2011_7\",\"2011_11\",\"2015_12\",\"2016_1\",\"2014_12\",\"2015_12\",\"2012_2\",\"2013_4\",\"2013_4\",\"2004_12\",\"2005_12\",\"2006_12\",\"2003_5\",\"2014_11\",\"2015_12\",\"2008_12\",\"2011_12\",\"2012_3\",\"2015_12\",\"2006_10\",\"2007_3\",\"2007_11\",\"2007_11\",\"2012_11\",\"2012_11\",\"2013_10\",\"2013_10\",\"2013_11\",\"2014_11\",\"2014_11\",\"2014_11\",\"2015_12\",\"2015_12\",\"2014_8\",\"2002_4\",\"2004_1\",\"2014_5\",\"2008_8\",\"2007_4\",\"2007_4\",\"2008_2\",\"2008_2\",\"2012_12\",\"2014_12\",\"2015_5\",\"2015_12\",\"2006_11\",\"2015_2\",\"2012_7\",\"2014_4\",\"2015_12\",\"2014_6\",\"2012_9\",\"2012_12\",\"2015_12\",\"2013_12\",\"2014_12\",\"2015_11\",\"2012_12\",\"2014_5\",\"2014_7\",\"2011_11\",\"2014_12\",\"2010_7\",\"2009_12\",\"2010_9\",\"2011_7\",\"2015_12\",\"2015_12\",\"2014_12\",\"2010_12\",\"2010_5\",\"2010_11\",\"2011_2\",\"2012_11\",\"2014_12\",\"2015_12\",\"2012_12\",\"2012_12\",\"2012_11\",\"2014_3\",\"2015_1\",\"2015_2\",\"2015_9\",\"2015_10\",\"2014_12\",\"2015_12\",\"2015_12\",\"2014_11\",\"2015_12\",\"2010_6\",\"2010_12\",\"2015_12\",\"2015_11\",\"2014_2\",\"2014_3\",\"2014_5\",\"2011_12\",\"2014_4\",\"2015_11\",\"2015_11\",\"2015_3\",\"2010_12\",\"2013_12\",\"2014_7\",\"2014_3\",\"2009_12\",\"2013_11\",\"2011_12\",\"2012_12\",\"2010_12\",\"2014_11\",\"2016_2\",\"2014_7\",\"2011_12\",\"2014_12\",\"2015_12\",\"2015_12\",\"2015_12\",\"2009_1\",\"2009_12\",\"2011_1\",\"2011_12\",\"2013_1\",\"2014_2\",\"2014_11\",\"2014_12\",\"2015_12\",\"2010_12\",\"2014_1\",\"2015_12\",\"2010_12\",\"2014_6\",\"2015_1\",\"2015_12\",\"2015_10\",\"2014_4\",\"2014_12\",\"2014_9\",\"2014_12\",\"2012_12\",\"2011_5\",\"2014_11\",\"2015_1\",\"2010_6\",\"2013_9\",\"2014_6\",\"2015_11\",\"2013_5\",\"2014_12\",\"2015_12\",\"2013_12\",\"2014_12\",\"2015_3\",\"2015_12\",\"2010_11\",\"2013_12\",\"2015_7\",\"2014_4\",\"2011_7\",\"2014_11\",\"2015_12\",\"2013_12\",\"2012_8\",\"2015_12\",\"2015_12\",\"2011_12\",\"2013_4\",\"2014_10\",\"2013_7\",\"2015_12\",\"2013_4\",\"2014_4\",\"2014_4\",\"2014_5\",\"2014_5\",\"2014_5\",\"2014_5\",\"2011_3\",\"2015_12\",\"2014_4\",\"2014_12\",\"2015_12\",\"2014_5\",\"2015_4\",\"2014_4\",\"2012_12\"],\"donor_ids\":[\"1906903249\",\"3560087650\",\"9419241384\",\"_0R51EHAFW\",\"_0R51EHAFW\",\"_0R51EHAFW\",\"_0R51EHAFW\",\"_0RR14718B\",\"_0S804O0L4\",\"_0S804O0L4\",\"_0S804O0L4\",\"_0S804O0L4\",\"_0S804O0L4\",\"_0S804O0L4\",\"_0SG16XQIA\",\"_0SG16XQIA\",\"_0SG16XQIA\",\"_0SG16XQIA\",\"_0SG16XQIA\",\"_0SG16XQIA\",\"_0SN00TMU8\",\"_0SR06KMDG\",\"_0SR06KMDG\",\"_0SR06KMDG\",\"_0SR06KMDG\",\"_0SR06KMDG\",\"_0SR06KMDG\",\"_0SR06KMDG\",\"_0SR06KMDG\",\"_0SR06KMDG\",\"_0SR06KMDG\",\"_0SR06KMDG\",\"_0SR06KMDG\",\"_0SR06KMDG\",\"_0SR06KMDG\",\"_0SU19SDAG\",\"_0T115Z73P\",\"_0TE0561C5\",\"_0TE0561C5\",\"_0TE0561C5\",\"_0TE0561C5\",\"_0TE0561C5\",\"_0U117RZHV\",\"_0U117ZGHG\",\"_0U117ZGHG\",\"_0U117ZGHG\",\"_0U117ZGHG\",\"_0U117ZGHG\",\"_0U117ZGHG\",\"_0U117ZGHG\",\"_0U117ZGHG\",\"_0U117ZGHG\",\"_0U117ZGHG\",\"_0U117ZGHG\",\"_0U117ZGHG\",\"_0U117ZGHG\",\"_0U117ZGHG\",\"_0U117ZGHG\",\"_0U117ZGHG\",\"_0U117ZGHG\",\"_0U117ZGHG\",\"_0U117ZGHG\",\"_0UN11ND9A\",\"_0VN105I9W\",\"_0WC0X6QVH\",\"_0WR0SFYFQ\",\"_0X40YFRZB\",\"_0XE14HB3G\",\"_0ZY11C958\",\"_0ZY11C958\",\"_10C1FEXPZ\",\"_10C1FEXPZ\",\"_10C1FEXQS\",\"_10C1FEXQS\",\"_10C1FEXQS\",\"_10C1FEXQS\",\"_10C1FEXQS\",\"_10P0WHY8I\",\"_12W01JB3I\",\"_12W01JB3I\",\"_13M1FFWVN\",\"_13M1FFWVN\",\"_13M1FFWVN\",\"_13M1FFWVN\",\"_13M1FFWVN\",\"_13M1FFWVN\",\"_13M1FFWVN\",\"_13M1FFWVN\",\"_13M1FFYFH\",\"_13S12DJ86\",\"_13S12DJ86\",\"_14615CARI\",\"_1470QIZ5B\",\"_1470QIZ5B\",\"_14A0ZPYZC\",\"_14A0ZPYZC\",\"_14P0QQ817\",\"_14Y10E94K\",\"_14Y10E94K\",\"_14Y10E94K\",\"_14Y10E94K\",\"_14Y10E94K\",\"_1580TS6L1\",\"_1580TS6L1\",\"_15V03A5ET\",\"_15V03A5ET\",\"_15V03A5ET\",\"_15V03A5ET\",\"_15V03A5ET\",\"_15Y0Y4UGN\",\"_15Y0Y4UGN\",\"_16A1CR6Y1\",\"_18W0OKMMB\",\"_18W0OKMMB\",\"_1AC057BGN\",\"_1AO05EZGJ\",\"_1AO05EZGJ\",\"_1AO05EZGJ\",\"_1AO05EZGJ\",\"_1AW0Y0KSX\",\"_1B6136P56\",\"_1BY15LDXA\",\"_1BY15LDXA\",\"_1BY15LDXA\",\"_1CC08RL3K\",\"_1CC08ZYQX\",\"_1D90PSV5H\",\"_1D90PSV5H\",\"_1DD1AEX81\",\"_1DD1AEX81\",\"_1DD1AEX81\",\"_1DD1AEX81\",\"_1DV116JJY\",\"_1DW0UWG2W\",\"_1DW0UWG2W\",\"_1DW0UWG2W\",\"_1DW0UWG2W\",\"_1DW0UWG2W\",\"_1DW0V3JB9\",\"_1DW15F2EQ\",\"_1DW18DKMF\",\"_1E219TBGI\",\"_1E60YPNHI\",\"_1E60YPNHI\",\"_1EH0N5J4I\",\"_1EV11MBIR\",\"_1EX0W3X0Z\",\"_1EX0W3X0Z\",\"_1EX0W8YG8\",\"_1EX0W8YG8\",\"_1EX0WCTRV\",\"_1EX0WCTRV\",\"_1EX0WCTRV\",\"_1FN13V9Q8\",\"_1FN13V9Q8\",\"_1FN13V9Q8\",\"_1FN13V9Q8\",\"_1FN13V9Q8\",\"_1FN13V9Q8\",\"_1FN13V9Q8\",\"_1FN13V9Q8\",\"_1FN13V9Q8\",\"_1GR0WG9T6\",\"_1GR0WG9T6\",\"_1HI12U5X9\",\"_1I914KNGD\",\"_1I914KNGD\",\"_1IO1AD3GF\",\"_1IO1AD3GF\",\"_1IO1AD3GF\",\"_1IY0VXU89\",\"_1IY0VXU89\",\"_1K011X3TX\",\"_1KO073T8K\",\"_1KQ0XDCPZ\",\"_1KX04BP86\",\"_1M60X2OEP\",\"_1M60ZOKN3\",\"_1M60ZOKN3\",\"_1MN0PX571\",\"_1MN0PX571\",\"_1MN0PX571\",\"_1MN0PX571\",\"_1MN0PX571\",\"_1MY0UXRKJ\",\"_1N30WGD1I\",\"_1OE0RBLD0\",\"_1OH0ONE88\",\"_1OT0RY744\",\"_1OT0RY744\",\"_1OT0RY744\",\"_1OT0RY744\",\"_1OT0RY744\",\"_1PA0USZR0\",\"_1PA0USZR0\",\"_1PG1FDERY\",\"_1PG1FDERY\",\"_1R41FFUMY\",\"_1R80W8WCB\",\"_1RK0YQK4N\",\"_1RK0YQK4N\",\"_1SE0UZN6K\",\"_1SJ0QR12I\",\"_1SJ0QR12I\",\"_1SJ0QR12I\",\"_1SJ0YVXJN\",\"_1SJ0YVXJN\",\"_1SJ0YVXJN\",\"_1SJ0YVXJN\",\"_1SJ0YVXJN\",\"_1SJ0YVXJN\",\"_1SJ0YVXJN\",\"_1SJ0YVXJN\",\"_1SJ0YVXJN\",\"_1SJ0YVXJN\",\"_1TD0X5SNC\",\"_1TJ0QS6WG\",\"_1TL0REX9T\",\"_1TL0REX9T\",\"_1TL0REX9T\",\"_1TW183J43\",\"_1TW183J43\",\"_1TW183J43\",\"_1UC0OC7YW\",\"_1UC0QD8AP\",\"_1UK1DR812\",\"_1VV0X1D47\",\"_1WX0P3Z73\",\"_1X7164DK4\",\"_1XL0RAS4G\",\"_1XV0QY3OM\",\"_1YC1BYBSB\",\"_1YC1BYBSB\",\"_1YC1BYBSB\",\"_1YU0SSSNI\",\"_1Z616HNXQ\",\"_1Z616HNXQ\",\"_1ZF0Q59YI\",\"_1ZV0UJP25\",\"_1ZW1BYPVO\",\"_1ZY1FFZMP\",\"_1ZY1FFZMP\",\"_1ZY1FFZMP\",\"_1ZZ00X0GP\",\"_21Z18Z92R\",\"_2240PXTA7\",\"_2250VQI7N\",\"_22K1FGB9L\",\"_23Q01EAY0\",\"_23Q01EAY0\",\"_23Q01EAY0\",\"_23Q01EAY0\",\"_23Q01EAY0\",\"_23Q01EAY0\",\"_24O19WVN2\",\"_24O19WVN2\",\"_26O0VQOOK\",\"_26O0VQOOK\",\"_26S0UVUWR\",\"_26S0UVUWR\",\"_26S0UVUWR\",\"_26S0UVUWR\",\"_2830WE3TF\",\"_28L0SZL4U\",\"_28L0SZL4U\",\"_29D0VSKYG\",\"_29D0VSKYG\",\"_29D0VSKYG\",\"_29D0VSKYG\",\"_29D0VSKYG\",\"_29D0VSKYG\",\"_29I0WAKE6\",\"_29I0WAKE6\",\"_2A51CRAVY\",\"_2A80UKALR\",\"_2AD1DGDIB\",\"_2AE1CSE1O\",\"_2AE1CSE1O\",\"_2BF01F17B\",\"_2BF01F17B\",\"_2BF0UALOZ\",\"_2BF0UALOZ\",\"_2BO0VRKX6\",\"_2BO0VRKX6\",\"_2BO0VRKX6\",\"_2BO0VRKX6\",\"_2DP0SP3TU\",\"_2DX0P9NAR\",\"_2EE1CD5VQ\",\"_2EV1ELQ0K\",\"_2FD1C4FE4\",\"_2FD1EXN8X\",\"_2H90UG6AS\",\"_2H90UG6AS\",\"_2H90UG6AS\",\"_2H90UG6AS\",\"_2I11FARNG\",\"_2JO0V31TX\",\"0ACB06E405\",\"0B79F06646\",\"0C77B4326E\",\"0C77B4326E\",\"-0Q51CZR4L\",\"-0Q51CZRDB\",\"-0Q51CZRDW\",\"-0Q51CZRJP\",\"-0Q51CZRJP\",\"-0Q51CZRJP\",\"-0Q51CZRJP\",\"-0Q51CZRJP\",\"-0Q51CZRJP\",\"-0Q51CZROS\",\"-0Q51CZROS\",\"-0Q51CZSG8\",\"-0Q51CZSG8\",\"-0Q51CZSG8\",\"-0Q51CZSJP\",\"-0Q51CZSJP\",\"-0Q51CZSJP\",\"-0Q51CZSS3\",\"-0Q51CZSXW\",\"-0Q51CZSXW\",\"-0Q51CZTAF\",\"-0Q51CZTAF\",\"-0Q51CZTAF\",\"-0Q51CZTES\",\"-0Q51CZTPM\",\"-0Q51CZTPM\",\"-0Q51CZTPM\",\"-0Q51CZTPM\",\"-0Q51CZTPM\",\"-0Q51CZTPM\",\"-0Q51CZTPM\",\"-0Q51CZTPM\",\"-0Q51CZTPM\",\"-0Q51CZTPM\",\"-0Q51CZTPM\",\"-0Q51CZTPM\",\"-0Q51CZTPM\",\"-0Q51CZTPM\",\"-0Q51CZTSC\",\"-0Q51CZTUM\",\"-0Q51CZU4A\",\"-0Q51CZUD0\",\"-0Q51CZUT0\",\"-0Q51CZUT4\",\"-0Q51CZUT4\",\"-0Q51CZUT4\",\"-0Q51CZUT4\",\"-0Q51CZV69\",\"-0Q51CZV69\",\"-0Q51CZV69\",\"-0Q51CZV69\",\"-0Q51CZV8E\",\"-0Q51CZVF7\",\"141F95343B\",\"141F95343B\",\"1842A10F6B\",\"20103E6CA5\",\"21A9E61BC2\",\"21A9E61BC2\",\"21A9E61BC2\",\"2224CC6629\",\"251AF8C8FF\",\"2752ECCAAC\",\"301DB148A7\",\"301DB148A7\",\"366E654E28\",\"38F10272DC\",\"3FFEB65F0B\",\"41964ADEEE\",\"44CD45BB2B\",\"44CD45BB2B\",\"44CD45BB2B\",\"46D95DE2E6\",\"4F9B5239EC\",\"51CC141437\",\"53496F2322\",\"576550EC30\",\"58EA6BC0FC\",\"59BBD2CA8C\",\"5ACBEEF47A\",\"5C521C6F70\",\"5C521C6F70\",\"5EFB990B2A\",\"6AFECFFCEA\",\"6C77745F87\",\"6C77745F87\",\"6C77745F87\",\"6C77745F87\",\"6C77745F87\",\"6C77745F87\",\"6D595F12F4\",\"6D595F12F4\",\"6D595F12F4\",\"6E2A57966A\",\"6E2A57966A\",\"707EE865BD\",\"712605E407\",\"715FC1F4D4\",\"72140D1EFE\",\"7307D33C2B\",\"7307D33C2B\",\"75180A540E\",\"76D5B87904\",\"77F80F5231\",\"78F2184A42\",\"78F2184A42\",\"7A7D808194\",\"7B1975E37B\",\"7D59F3FED9\",\"7DAB05D6B1\",\"81B16776A6\",\"859AC7C9D1\",\"88821FD5B2\",\"8C8CA66F17\",\"8EC78F8C6A\",\"92E39AE1C4\",\"93E8C34E23\",\"93E8C34E23\",\"9451F7B018\",\"97C34866ED\",\"9F0815CD75\",\"9F0815CD75\",\"A2DA6F89BD\",\"A2F9947D81\",\"A4AB678CB2\",\"A4AB678CB2\",\"A4AB678CB2\",\"A4AB678CB2\",\"A4AB678CB2\",\"A4AB678CB2\",\"A4AB678CB2\",\"A4AB678CB2\",\"A4AB678CB2\",\"A5EA892F8A\",\"A5EA892F8A\",\"A5EA892F8A\",\"A65EF08D85\",\"B0EBF63387\",\"B0EBF63387\",\"B2048A575D\",\"B2DD1330B8\",\"B3E917536F\",\"BD2DB0B49E\",\"C1B7FFF106\",\"C41F52D51D\",\"C421857583\",\"C4ED38E0EA\",\"C65A342C4A\",\"C65A342C4A\",\"C9BE300340\",\"C9D233CD23\",\"C9D233CD23\",\"C9D233CD23\",\"C9D7507805\",\"C9D7507805\",\"C9D7507805\",\"CB1FA56598\",\"CB1FA56598\",\"CB1FA56598\",\"CB1FA56598\",\"CECD6F5BD0\",\"CECD6F5BD0\",\"D024073C30\",\"D39349E4F1\",\"D502CB9B96\",\"D7359671AC\",\"D8AA3BF7B9\",\"DC272162E6\",\"DC2F5B6113\",\"DD3E06ACE3\",\"DD3E06ACE3\",\"E034819566\",\"E51560DB21\",\"E691A566D2\",\"E972E2BF61\",\"EE163E646D\",\"F0B889311D\",\"F0B889311D\",\"F0B889311D\",\"F0B889311D\",\"F0B889311D\",\"F0B889311D\",\"F0B889311D\",\"F53C988979\",\"F5BB31A358\",\"F7507E6B5E\",\"F7507E6B5E\",\"F7507E6B5E\",\"F7F9074B08\",\"F7F9074B08\",\"F86183FF8E\",\"FA9B9C4140\"],\"states\":[\"\",\"CA\",\"NY\",\"CA\",\"CA\",\"CA\",\"CA\",\"CA\",\"YY\",\"YY\",\"YY\",\"YY\",\"YY\",\"YY\",\"WA\",\"WA\",\"WA\",\"WA\",\"WA\",\"WA\",\"CA\",\"CA\",\"CA\",\"CA\",\"CA\",\"CA\",\"CA\",\"CA\",\"CA\",\"CA\",\"CA\",\"CA\",\"CA\",\"CA\",\"CA\",\"CA\",\"CA\",\"CA\",\"CA\",\"CA\",\"CA\",\"CA\",\"CA\",\"CA\",\"CA\",\"CA\",\"CA\",\"CA\",\"CA\",\"CA\",\"CA\",\"CA\",\"CA\",\"CA\",\"CA\",\"CA\",\"CA\",\"CA\",\"CA\",\"CA\",\"CA\",\"CA\",\"CA\",\"CA\",\"CA\",\"CA\",\"CA\",\"CA\",\"CA\",\"CA\",\"PA\",\"PA\",\"VA\",\"VA\",\"VA\",\"VA\",\"VA\",\"NJ\",\"CA\",\"CA\",\"CA\",\"CA\",\"CA\",\"CA\",\"CA\",\"CA\",\"CA\",\"CA\",\"CA\",\"MI\",\"MI\",\"AZ\",\"MA\",\"MA\",\"CA\",\"CA\",\"CA\",\"CA\",\"CA\",\"CA\",\"CA\",\"CA\",\"CA\",\"CA\",\"CA\",\"CA\",\"CA\",\"CA\",\"CA\",\"MI\",\"MI\",\"FL\",\"IL\",\"IL\",\"CA\",\"CA\",\"CA\",\"CA\",\"CA\",\"CA\",\"CA\",\"CA\",\"CA\",\"CA\",\"NY\",\"NY\",\"CA\",\"CA\",\"CA\",\"CA\",\"CA\",\"CA\",\"CA\",\"CA\",\"CA\",\"CA\",\"CA\",\"CA\",\"CA\",\"CA\",\"CA\",\"CA\",\"NY\",\"NY\",\"TN\",\"CA\",\"CA\",\"CA\",\"CA\",\"CA\",\"CA\",\"CA\",\"CA\",\"NY\",\"NY\",\"NY\",\"NY\",\"NY\",\"NY\",\"NY\",\"NY\",\"NY\",\"CA\",\"CA\",\"FL\",\"CA\",\"CA\",\"CA\",\"CA\",\"CA\",\"CA\",\"CA\",\"\",\"MI\",\"KY\",\"CA\",\"VI\",\"CA\",\"CA\",\"NJ\",\"NJ\",\"NJ\",\"NJ\",\"NJ\",\"NY\",\"CA\",\"IN\",\"CA\",\"MI\",\"MI\",\"MI\",\"MI\",\"MI\",\"AZ\",\"AZ\",\"CA\",\"CA\",\"TX\",\"CA\",\"CA\",\"CA\",\"AL\",\"NY\",\"NY\",\"NY\",\"NY\",\"NY\",\"NY\",\"NY\",\"NY\",\"NY\",\"NY\",\"NY\",\"NY\",\"NY\",\"NY\",\"\",\"CA\",\"CA\",\"CA\",\"CA\",\"CA\",\"CA\",\"CA\",\"\",\"AZ\",\"CA\",\"CA\",\"NJ\",\"CA\",\"TX\",\"MI\",\"MI\",\"MI\",\"CA\",\"NY\",\"NY\",\"MI\",\"NY\",\"NJ\",\"CA\",\"CA\",\"CA\",\"ID\",\"NC\",\"CA\",\"WV\",\"TX\",\"\",\"\",\"\",\"\",\"\",\"\",\"\",\"\",\"FL\",\"FL\",\"CA\",\"CA\",\"CA\",\"CA\",\"OH\",\"PA\",\"PA\",\"TX\",\"TX\",\"TX\",\"TX\",\"TX\",\"TX\",\"NY\",\"NY\",\"TX\",\"MD\",\"CT\",\"CA\",\"CA\",\"CA\",\"CA\",\"CA\",\"CA\",\"NY\",\"NY\",\"NY\",\"NY\",\"CA\",\"CA\",\"CA\",\"NY\",\"CA\",\"\",\"NJ\",\"NJ\",\"NJ\",\"NJ\",\"CA\",\"NJ\",\"\",\"CA\",\"\",\"\",\"CA\",\"CA\",\"CA\",\"CA\",\"CA\",\"CA\",\"CA\",\"CA\",\"CA\",\"CA\",\"CA\",\"CA\",\"CA\",\"CA\",\"CA\",\"CA\",\"CA\",\"CA\",\"CA\",\"CA\",\"CA\",\"CA\",\"CA\",\"CA\",\"TX\",\"TX\",\"TX\",\"TX\",\"TX\",\"TX\",\"TX\",\"TX\",\"TX\",\"TX\",\"TX\",\"TX\",\"TX\",\"TX\",\"CA\",\"IL\",\"CA\",\"CA\",\"CA\",\"\",\"\",\"\",\"\",\"NJ\",\"NJ\",\"NJ\",\"NJ\",\"CA\",\"CA\",\"WA\",\"WA\",\"CA\",\"CA\",\"CA\",\"CA\",\"CA\",\"IL\",\"CA\",\"CA\",\"CA\",\"CA\",\"\",\"IL\",\"NY\",\"WA\",\"CA\",\"CA\",\"CA\",\"CA\",\"CA\",\"CA\",\"\",\"NY\",\"WA\",\"GA\",\"VA\",\"CA\",\"CA\",\"NY\",\"MI\",\"NY\",\"NY\",\"NY\",\"NY\",\"NY\",\"NY\",\"CA\",\"CA\",\"CA\",\"NY\",\"NY\",\"IL\",\"IN\",\"CA\",\"\",\"CA\",\"CA\",\"CA\",\"CA\",\"CA\",\"\",\"\",\"CA\",\"PA\",\"CA\",\"TX\",\"56\",\"MI\",\"LA\",\"CA\",\"PA\",\"CA\",\"WA\",\"WA\",\"MI\",\"CA\",\"FL\",\"FL\",\"NY\",\"CA\",\"NY\",\"NY\",\"NY\",\"NY\",\"NY\",\"NY\",\"NY\",\"NY\",\"NY\",\"NY\",\"NY\",\"NY\",\"WA\",\"CA\",\"CA\",\"CA\",\"PA\",\"CA\",\"CA\",\"TX\",\"DE\",\"CA\",\"CA\",\"NJ\",\"NJ\",\"NJ\",\"CA\",\"CA\",\"CA\",\"FL\",\"FL\",\"FL\",\"CA\",\"CA\",\"CA\",\"CA\",\"CA\",\"CA\",\"CA\",\"CA\",\"CA\",\"FL\",\"CA\",\"CA\",\"NY\",\"NY\",\"NY\",\"CA\",\"CA\",\"CA\",\"CA\",\"\",\"CA\",\"CA\",\"CA\",\"CA\",\"CA\",\"CA\",\"CA\",\"CA\",\"NJ\",\"CA\",\"CA\",\"CA\",\"\",\"\",\"CA\",\"CA\"],\"x\":[1359676800000.0,1419811200000.0,1417996800000.0,1039219200000.0,1040428800000.0,1041292800000.0,1043452800000.0,1069891200000.0,1225411200000.0,1275436800000.0,1287360000000.0,1347408000000.0,1347408000000.0,1407369600000.0,1163462400000.0,1167523200000.0,1172361600000.0,1181088000000.0,1199059200000.0,1204156800000.0,1356912000000.0,1156896000000.0,1160697600000.0,1177632000000.0,1195516800000.0,1214956800000.0,1242864000000.0,1340150400000.0,1346371200000.0,1356912000000.0,1368748800000.0,1380499200000.0,1401926400000.0,1402444800000.0,1408579200000.0,1391558400000.0,1212451200000.0,1164326400000.0,1177891200000.0,1384128000000.0,1419984000000.0,1451520000000.0,1303344000000.0,1071878400000.0,1088899200000.0,1137283200000.0,1169769600000.0,1196812800000.0,1230681600000.0,1230681600000.0,1253836800000.0,1263427200000.0,1280448000000.0,1285545600000.0,1286928000000.0,1327449600000.0,1330041600000.0,1335139200000.0,1355961600000.0,1388448000000.0,1403222400000.0,1415923200000.0,1417305600000.0,1213660800000.0,1325289600000.0,1325289600000.0,1116633600000.0,1385942400000.0,1077840000000.0,1388448000000.0,1060387200000.0,1074729600000.0,1059177600000.0,1064620800000.0,1066348800000.0,1069891200000.0,1071878400000.0,1450915200000.0,1296777600000.0,1419984000000.0,1230681600000.0,1258934400000.0,1293494400000.0,1325203200000.0,1340928000000.0,1356825600000.0,1388448000000.0,1419984000000.0,1328227200000.0,1069891200000.0,1202342400000.0,1166745600000.0,1071187200000.0,1095724800000.0,1165276800000.0,1316044800000.0,1072828800000.0,1324598400000.0,1356912000000.0,1388448000000.0,1419984000000.0,1451174400000.0,1414713600000.0,1416528000000.0,1253836800000.0,1253836800000.0,1292889600000.0,1387411200000.0,1419811200000.0,1076457600000.0,1076457600000.0,1077840000000.0,1085702400000.0,1085702400000.0,1090108800000.0,1268956800000.0,1337126400000.0,1403222400000.0,1449619200000.0,1138838400000.0,1356912000000.0,1225411200000.0,1262217600000.0,1293753600000.0,1366761600000.0,1366761600000.0,1208476800000.0,1222387200000.0,1161302400000.0,1280188800000.0,1281052800000.0,1440720000000.0,1242950400000.0,1191196800000.0,1194480000000.0,1202688000000.0,1213315200000.0,1215043200000.0,1101254400000.0,1357862400000.0,1392336000000.0,1101859200000.0,1135900800000.0,1166745600000.0,1210291200000.0,1262217600000.0,1103673600000.0,1222387200000.0,1104537600000.0,1174435200000.0,1103673600000.0,1197590400000.0,1208476800000.0,1171152000000.0,1202688000000.0,1234396800000.0,1265328000000.0,1296777600000.0,1328832000000.0,1360281600000.0,1391558400000.0,1454889600000.0,1356912000000.0,1450137600000.0,1112313600000.0,1356307200000.0,1365465600000.0,1336694400000.0,1336694400000.0,1378425600000.0,1147219200000.0,1182902400000.0,1119830400000.0,1134345600000.0,1204848000000.0,1162252800000.0,1126828800000.0,1126828800000.0,1166745600000.0,1128297600000.0,1163462400000.0,1219276800000.0,1258502400000.0,1346371200000.0,1366761600000.0,1185753600000.0,1388448000000.0,1262217600000.0,1135123200000.0,1166832000000.0,1188345600000.0,1233273600000.0,1295481600000.0,1260748800000.0,1293494400000.0,1450828800000.0,1450828800000.0,1324598400000.0,1447113600000.0,1206576000000.0,1222819200000.0,1222387200000.0,1149638400000.0,1377820800000.0,1411084800000.0,1206057600000.0,1222387200000.0,1255651200000.0,1286409600000.0,1316044800000.0,1348185600000.0,1377820800000.0,1411689600000.0,1430265600000.0,1447891200000.0,1385510400000.0,1391731200000.0,1340928000000.0,1370563200000.0,1399507200000.0,1144195200000.0,1146700800000.0,1150675200000.0,1152489600000.0,1201219200000.0,1147564800000.0,1156896000000.0,1308268800000.0,1323734400000.0,1162252800000.0,1233273600000.0,1179100800000.0,1179100800000.0,1201219200000.0,1165881600000.0,1166572800000.0,1185840000000.0,1388016000000.0,1419984000000.0,1325289600000.0,1354838400000.0,1419811200000.0,1451520000000.0,1167523200000.0,1386979200000.0,1177027200000.0,1230681600000.0,1177632000000.0,1174953600000.0,1272499200000.0,1306281600000.0,1366416000000.0,1384128000000.0,1431475200000.0,1450137600000.0,1450137600000.0,1195171200000.0,1199059200000.0,1190937600000.0,1245196800000.0,1260748800000.0,1293667200000.0,1222732800000.0,1424995200000.0,1424995200000.0,1230681600000.0,1290124800000.0,1290124800000.0,1359676800000.0,1362700800000.0,1368748800000.0,1198800000000.0,1356912000000.0,1320364800000.0,1201219200000.0,1199059200000.0,1325289600000.0,1332288000000.0,1200441600000.0,1386028800000.0,1284422400000.0,1289520000000.0,1380499200000.0,1401494400000.0,1412035200000.0,1433030400000.0,1355788800000.0,1212710400000.0,1277424000000.0,1222992000000.0,1222819200000.0,1220313600000.0,1222992000000.0,1238716800000.0,1326412800000.0,1400630400000.0,1369958400000.0,1230508800000.0,1454025600000.0,1433462400000.0,1453766400000.0,1453766400000.0,1080345600000.0,1182470400000.0,1135900800000.0,1208995200000.0,1216944000000.0,1309910400000.0,1322611200000.0,1450137600000.0,1453766400000.0,1419552000000.0,1451520000000.0,1328227200000.0,1365465600000.0,1365465600000.0,1104105600000.0,1135900800000.0,1167177600000.0,1053129600000.0,1415404800000.0,1451520000000.0,1230681600000.0,1324598400000.0,1332288000000.0,1451347200000.0,1160697600000.0,1174780800000.0,1194393600000.0,1194912000000.0,1351814400000.0,1352160000000.0,1381968000000.0,1382572800000.0,1383696000000.0,1415059200000.0,1415059200000.0,1415059200000.0,1449619200000.0,1449619200000.0,1407888000000.0,1019260800000.0,1074643200000.0,1398902400000.0,1219276800000.0,1176768000000.0,1176768000000.0,1204156800000.0,1204156800000.0,1356912000000.0,1419984000000.0,1432684800000.0,1449619200000.0,1164758400000.0,1424390400000.0,1341878400000.0,1398297600000.0,1451520000000.0,1401753600000.0,1348704000000.0,1354492800000.0,1451174400000.0,1386028800000.0,1419984000000.0,1448409600000.0,1356912000000.0,1399420800000.0,1405036800000.0,1320364800000.0,1417996800000.0,1278547200000.0,1261526400000.0,1285545600000.0,1309910400000.0,1450656000000.0,1450656000000.0,1419811200000.0,1293753600000.0,1273190400000.0,1290038400000.0,1297382400000.0,1354233600000.0,1419292800000.0,1451520000000.0,1356307200000.0,1356652800000.0,1353542400000.0,1395878400000.0,1421798400000.0,1424822400000.0,1442534400000.0,1445904000000.0,1419984000000.0,1450742400000.0,1450742400000.0,1416873600000.0,1450051200000.0,1276819200000.0,1293062400000.0,1451520000000.0,1448841600000.0,1392854400000.0,1395964800000.0,1399939200000.0,1324598400000.0,1398816000000.0,1448236800000.0,1448236800000.0,1427673600000.0,1291334400000.0,1388448000000.0,1404345600000.0,1395792000000.0,1262217600000.0,1383868800000.0,1325289600000.0,1356652800000.0,1291852800000.0,1416355200000.0,1454889600000.0,1406246400000.0,1325030400000.0,1419984000000.0,1450656000000.0,1450310400000.0,1451520000000.0,1233273600000.0,1260316800000.0,1295568000000.0,1325289600000.0,1357862400000.0,1392940800000.0,1416873600000.0,1419292800000.0,1450137600000.0,1293753600000.0,1389830400000.0,1450656000000.0,1292457600000.0,1404086400000.0,1422662400000.0,1451520000000.0,1444953600000.0,1398297600000.0,1419552000000.0,1409788800000.0,1419984000000.0,1356912000000.0,1305158400000.0,1417305600000.0,1422662400000.0,1275868800000.0,1380240000000.0,1403222400000.0,1447113600000.0,1367539200000.0,1419984000000.0,1451520000000.0,1388448000000.0,1419984000000.0,1426723200000.0,1451520000000.0,1291075200000.0,1387152000000.0,1437091200000.0,1397520000000.0,1309910400000.0,1415923200000.0,1450137600000.0,1385942400000.0,1344556800000.0,1450137600000.0,1450137600000.0,1325289600000.0,1366934400000.0,1412294400000.0,1374192000000.0,1449532800000.0,1365120000000.0,1396915200000.0,1397520000000.0,1398988800000.0,1400544000000.0,1400716800000.0,1401235200000.0,1301011200000.0,1451174400000.0,1398297600000.0,1417737600000.0,1450310400000.0,1399334400000.0,1429747200000.0,1397433600000.0,1356307200000.0],\"y\":[50000.0,21000.0,9000.0,7221.0,5008.0,14159.0,5588.0,10000.0,750000.0,45000.0,1250000.0,1000000.0,1500000.0,5000000.0,11604.0,11604.0,12000.0,12000.0,8703.0,9000.0,10000.0,12701.0,6684.0,10713.0,10872.0,20094.0,5570.0,5605.0,5240.0,8052.04,5918.0,5520.0,111405.0,97860.5,89049.0,6435.0,10001.0,10000.0,11000.0,20000.0,20000.0,20000.0,6138.23,10000.0,10000.0,12500.0,12500.0,12500.0,12500.0,12500.0,25000.0,25000.0,25002.0,10000.0,100000.0,10000.0,20000.0,10000.0,10000.0,10000.0,10000.0,10000.0,5300.0,36000.0,10001.0,6000.0,5605.0,10000.0,9782.17,10000.0,50000.0,50000.0,7048.0,9598.15,13893.31,13393.76,15748.92,20000.0,37087.14,50000.0,10000.0,20000.0,20000.0,10000.0,10000.0,10000.0,10000.0,40000.0,10001.0,30381.97,8202.0,6800.0,20000.0,6000.0,5100.0,7400.0,50000.0,6000.0,30000.0,25000.0,15000.0,18664.0,7500.0,7500.0,10000.0,10000.0,20000.0,8000.0,10000.0,9900.0,9900.0,10000.0,55000.0,45000.0,25000.0,10000.0,5400.0,6000.0,6000.0,10000.0,5058.11,5454.0,5200.0,8000.0,10000.0,15000.0,10000.0,8000.0,10000.0,10008.0,5008.0,5008.0,5001.0,10000.0,25000.0,25000.0,26000.0,24000.0,7500.0,9000.0,15000.0,10000.0,12500.0,12500.0,25000.0,10000.0,20001.0,15000.0,10000.0,9736.0,5001.0,22000.0,25000.0,6171.17,8087.03,6553.11,8195.62,6276.77,8145.63,6596.47,10479.8,9262.58,12000.0,10000.0,10000.0,6000.0,6000.0,11000.0,10000.0,5100.0,10000.0,10000.0,10000.0,20000.0,25000.0,5001.0,10000.0,40000.0,30000.0,5500.0,25000.0,25000.0,25000.0,8500.0,10000.0,27730.0,10000.0,5101.0,5692.0,13791.0,9274.0,19000.0,33000.0,10000.0,10000.0,5758.67,5758.68,10000.0,20000.0,11001.0,14000.0,10000.0,5001.0,5001.0,5001.0,5001.0,5001.0,5001.0,5001.0,10001.0,5001.0,5001.0,5001.0,5001.0,5001.0,10000.0,5071.0,10000.0,10000.0,10000.0,50000.0,23000.0,23000.0,5001.0,15000.0,6519.62,5001.0,10001.0,11000.0,25000.0,10000.0,10000.0,10000.0,10000.0,5145.0,23000.0,23000.0,7500.0,10001.0,10000.0,5001.0,21000.0,25100.0,7000.0,10000.0,10000.0,15000.0,6380.0,6313.44,6200.0,10000.0,7250.0,10000.0,10000.0,19500.0,20000.0,40000.0,60000.0,5551.0,12487.5,21547.59,10540.0,5001.0,30000.0,29300.0,5001.0,27236.9,100000.0,90335.14,9413.84,17816.65,10000.0,20000.0,13000.0,30000.0,6500.0,6000.0,6000.0,10000.0,10001.0,6002.0,6002.0,10000.0,7500.0,6500.0,7500.0,50000.0,25000.0,5101.0,10000.0,50000.0,10000.0,25000.0,25000.0,100000.0,15000.0,10000.0,16325.29,5164.73,20000.0,10000.0,10000.0,10000.0,13236.19,10000.0,5500.0,5500.0,7000.0,7000.0,10000.0,9320.94,10000.0,10000.0,40001.0,5001.0,5001.0,6637.0,15000.0,100000.0,6500.0,5001.0,10001.0,6000.0,6000.0,6000.0,50000.0,10620.0,7047.45,17328.0,19653.01,64905.0,85000.0,180000.0,14000.0,5200.0,38772.9,89621.92,89308.0,248000.0,25183.5,6120.0,6000.0,5001.0,8000.0,20875.0,6359.75,6359.75,6761.22,5778.22,10000.0,10000.0,10000.0,15000.0,9000.0,100000.0,5900.0,11000.0,10000.0,10000.0,10000.0,10000.0,50000.0,5700.0,10000.0,10000.0,5500.0,10000.0,18407.2,10000.0,10000.0,5100.0,10000.0,8000.0,9250.0,9000.0,10000.0,21000.0,7450.0,25000.0,10000.0,9000.0,6500.0,20000.0,20000.0,10000.0,7020.0,10000.0,40000.0,101000.0,100000.0,20000.0,60000.0,40000.0,50000.0,50000.0,10000.0,15000.0,9000.0,10961.31,7000.0,25000.0,15000.0,15000.0,10000.0,10000.0,10000.0,10000.0,10000.0,20000.0,15000.0,11111.0,5008.0,7500.0,35510.84,11000.0,10000.0,10000.0,5039.94,30000.0,35000.0,8500.0,10000.0,20000.0,20000.0,10000.0,10000.0,20000.0,20000.0,15000.0,20000.0,20000.0,20000.0,20000.0,20000.0,40000.0,6000.0,6000.0,10000.0,10000.0,9000.0,10000.0,5500.0,20000.0,8712.0,6030.0,5500.0,10000.0,5600.0,50000.0,20000.0,30000.0,6345.0,5500.0,5250.0,5250.0,90000.0,10000.0,18767.54,10000.0,10000.0,6000.0,10100.0,10000.0,7500.0,10000.0,13000.0,5250.0,10000.0,19000.0,10000.0,10000.0,10000.0,10000.0,5100.0,5001.0,6000.0,5921.78,14805.0,15000.0,28457.0,20285.76,11332.0,10268.72,5768.4,7873.36,12476.0,10000.0,7500.0,7500.0,6000.0,18000.0,18000.0,6500.0,10001.0]}},\"id\":\"c8360df1-4308-460c-a76a-d96acc87fe25\",\"type\":\"ColumnDataSource\"},{\"attributes\":{},\"id\":\"7c0227d5-e58b-4a4e-a130-91ba93e253ff\",\"type\":\"BasicTickFormatter\"},{\"attributes\":{},\"id\":\"3c936451-1f58-49f4-879d-0e09e9a92670\",\"type\":\"BasicTicker\"},{\"attributes\":{},\"id\":\"1877c04f-8419-4df3-b3d6-0770f7ac127f\",\"type\":\"BasicTickFormatter\"},{\"attributes\":{\"fill_alpha\":{\"value\":0.1},\"fill_color\":{\"value\":\"#1f77b4\"},\"line_alpha\":{\"value\":0.1},\"line_color\":{\"value\":\"#1f77b4\"},\"size\":{\"units\":\"screen\",\"value\":5},\"x\":{\"field\":\"x\"},\"y\":{\"field\":\"y\"}},\"id\":\"aab12f12-c8da-4222-ba64-8476266762ce\",\"type\":\"Circle\"},{\"attributes\":{\"plot\":{\"id\":\"6f91b7ae-cec9-424f-9031-2eff2d2c9e18\",\"subtype\":\"Figure\",\"type\":\"Plot\"},\"ticker\":{\"id\":\"ce084695-cf56-492c-9345-d56a71bcffd0\",\"type\":\"BasicTicker\"}},\"id\":\"8ad93f68-aede-4e51-ae3b-c71eee18ec3e\",\"type\":\"Grid\"},{\"attributes\":{},\"id\":\"97ec4a84-2bc0-41d2-a353-1310ec4cefe2\",\"type\":\"ToolEvents\"},{\"attributes\":{\"dimension\":1,\"plot\":{\"id\":\"6f91b7ae-cec9-424f-9031-2eff2d2c9e18\",\"subtype\":\"Figure\",\"type\":\"Plot\"},\"ticker\":{\"id\":\"3c936451-1f58-49f4-879d-0e09e9a92670\",\"type\":\"BasicTicker\"}},\"id\":\"f5a5be03-0242-4040-838a-d5a5812ab349\",\"type\":\"Grid\"}],\"root_ids\":[\"6f91b7ae-cec9-424f-9031-2eff2d2c9e18\"]},\"title\":\"Bokeh Application\",\"version\":\"0.11.1\"}};\n",
       "            var render_items = [{\"docid\":\"06536c94-0234-4bbf-afa9-aac68cbfc9a6\",\"elementid\":\"f39bb510-a6c3-4186-a099-dfebe831977b\",\"modelid\":\"6f91b7ae-cec9-424f-9031-2eff2d2c9e18\",\"notebook_comms_target\":\"0a333d5c-b79a-4d02-967d-ed88b814a821\"}];\n",
       "            \n",
       "            Bokeh.embed.embed_items(docs_json, render_items);\n",
       "        });\n",
       "      },\n",
       "      function(Bokeh) {\n",
       "      }\n",
       "    ];\n",
       "  \n",
       "    function run_inline_js() {\n",
       "      for (var i = 0; i < inline_js.length; i++) {\n",
       "        inline_js[i](window.Bokeh);\n",
       "      }\n",
       "    }\n",
       "  \n",
       "    if (window._bokeh_is_loading === 0) {\n",
       "      console.log(\"Bokeh: BokehJS loaded, going straight to plotting\");\n",
       "      run_inline_js();\n",
       "    } else {\n",
       "      load_libs(js_urls, function() {\n",
       "        console.log(\"Bokeh: BokehJS plotting callback run at\", now());\n",
       "        run_inline_js();\n",
       "      });\n",
       "    }\n",
       "  }(this));\n",
       "</script>"
      ]
     },
     "metadata": {},
     "output_type": "display_data"
    }
   ],
   "source": [
    "plot_data(df.query('amount > 5000'))"
   ]
  },
  {
   "cell_type": "code",
   "execution_count": 17,
   "metadata": {
    "collapsed": false
   },
   "outputs": [
    {
     "data": {
      "text/html": [
       "\n",
       "\n",
       "    <div class=\"plotdiv\" id=\"9686489f-0e74-465a-ac76-5568f01cd089\"></div>\n",
       "<script type=\"text/javascript\">\n",
       "  \n",
       "  (function(global) {\n",
       "    function now() {\n",
       "      return new Date();\n",
       "    }\n",
       "  \n",
       "    if (typeof (window._bokeh_onload_callbacks) === \"undefined\") {\n",
       "      window._bokeh_onload_callbacks = [];\n",
       "    }\n",
       "  \n",
       "    function run_callbacks() {\n",
       "      window._bokeh_onload_callbacks.forEach(function(callback) { callback() });\n",
       "      delete window._bokeh_onload_callbacks\n",
       "      console.info(\"Bokeh: all callbacks have finished\");\n",
       "    }\n",
       "  \n",
       "    function load_libs(js_urls, callback) {\n",
       "      window._bokeh_onload_callbacks.push(callback);\n",
       "      if (window._bokeh_is_loading > 0) {\n",
       "        console.log(\"Bokeh: BokehJS is being loaded, scheduling callback at\", now());\n",
       "        return null;\n",
       "      }\n",
       "      if (js_urls == null || js_urls.length === 0) {\n",
       "        run_callbacks();\n",
       "        return null;\n",
       "      }\n",
       "      console.log(\"Bokeh: BokehJS not loaded, scheduling load and callback at\", now());\n",
       "      window._bokeh_is_loading = js_urls.length;\n",
       "      for (var i = 0; i < js_urls.length; i++) {\n",
       "        var url = js_urls[i];\n",
       "        var s = document.createElement('script');\n",
       "        s.src = url;\n",
       "        s.async = false;\n",
       "        s.onreadystatechange = s.onload = function() {\n",
       "          window._bokeh_is_loading--;\n",
       "          if (window._bokeh_is_loading === 0) {\n",
       "            console.log(\"Bokeh: all BokehJS libraries loaded\");\n",
       "            run_callbacks()\n",
       "          }\n",
       "        };\n",
       "        s.onerror = function() {\n",
       "          console.warn(\"failed to load library \" + url);\n",
       "        };\n",
       "        console.log(\"Bokeh: injecting script tag for BokehJS library: \", url);\n",
       "        document.getElementsByTagName(\"head\")[0].appendChild(s);\n",
       "      }\n",
       "    };var element = document.getElementById(\"9686489f-0e74-465a-ac76-5568f01cd089\");\n",
       "    if (element == null) {\n",
       "      console.log(\"Bokeh: ERROR: autoload.js configured with elementid '9686489f-0e74-465a-ac76-5568f01cd089' but no matching script tag was found. \")\n",
       "      return false;\n",
       "    }\n",
       "  \n",
       "    var js_urls = [];\n",
       "  \n",
       "    var inline_js = [\n",
       "      function(Bokeh) {\n",
       "        Bokeh.$(function() {\n",
       "            var docs_json = {\"4922e6c0-ea80-4caf-8d24-d917503379ea\":{\"roots\":{\"references\":[{\"attributes\":{\"plot\":{\"id\":\"6f91b7ae-cec9-424f-9031-2eff2d2c9e18\",\"subtype\":\"Figure\",\"type\":\"Plot\"},\"ticker\":{\"id\":\"ce084695-cf56-492c-9345-d56a71bcffd0\",\"type\":\"BasicTicker\"}},\"id\":\"8ad93f68-aede-4e51-ae3b-c71eee18ec3e\",\"type\":\"Grid\"},{\"attributes\":{\"callback\":null},\"id\":\"a073966d-f348-4409-b51a-1962caaaea8e\",\"type\":\"DataRange1d\"},{\"attributes\":{},\"id\":\"a3d9949e-578e-43fb-bcc9-7d7958b35af6\",\"type\":\"BasicTickFormatter\"},{\"attributes\":{\"formatter\":{\"id\":\"7c0227d5-e58b-4a4e-a130-91ba93e253ff\",\"type\":\"BasicTickFormatter\"},\"plot\":{\"id\":\"6f91b7ae-cec9-424f-9031-2eff2d2c9e18\",\"subtype\":\"Figure\",\"type\":\"Plot\"},\"ticker\":{\"id\":\"ce084695-cf56-492c-9345-d56a71bcffd0\",\"type\":\"BasicTicker\"}},\"id\":\"ee70e81f-60a4-4e01-bac3-de8750cb68e5\",\"type\":\"LinearAxis\"},{\"attributes\":{\"callback\":null,\"plot\":{\"id\":\"7ba11aa8-33f5-48b7-81ee-683e1f6dfe80\",\"subtype\":\"Figure\",\"type\":\"Plot\"},\"tooltips\":[[\"date\",\"@dates\"],[\"amount\",\"@amounts\"],[\"donor\",\"@donor_ids\"],[\"states\",\"@states\"]]},\"id\":\"49be4194-6670-4531-b38f-74d6f181d671\",\"type\":\"HoverTool\"},{\"attributes\":{\"callback\":null,\"plot\":{\"id\":\"6f91b7ae-cec9-424f-9031-2eff2d2c9e18\",\"subtype\":\"Figure\",\"type\":\"Plot\"},\"tooltips\":[[\"date\",\"@dates\"],[\"amount\",\"@amounts\"],[\"donor\",\"@donor_ids\"],[\"states\",\"@states\"]]},\"id\":\"76fcd49d-8bb2-4800-af2f-cbd119b6d3b5\",\"type\":\"HoverTool\"},{\"attributes\":{\"data_source\":{\"id\":\"c8360df1-4308-460c-a76a-d96acc87fe25\",\"type\":\"ColumnDataSource\"},\"glyph\":{\"id\":\"92aac594-c119-49f4-b22c-8a42dc2dd8cb\",\"type\":\"Circle\"},\"hover_glyph\":null,\"nonselection_glyph\":{\"id\":\"aab12f12-c8da-4222-ba64-8476266762ce\",\"type\":\"Circle\"},\"selection_glyph\":null},\"id\":\"69935173-65a1-4694-8e3a-3de80f1bdef9\",\"type\":\"GlyphRenderer\"},{\"attributes\":{\"callback\":null,\"column_names\":[\"states\",\"y\",\"dates\",\"amounts\",\"x\",\"donor_ids\"],\"data\":{\"amounts\":[\"50,000.00\",\"21,000.00\",\"9,000.00\",\"7,221.00\",\"5,008.00\",\"14,159.00\",\"5,588.00\",\"10,000.00\",\"11,604.00\",\"11,604.00\",\"12,000.00\",\"12,000.00\",\"8,703.00\",\"9,000.00\",\"10,000.00\",\"12,701.00\",\"6,684.00\",\"10,713.00\",\"10,872.00\",\"20,094.00\",\"5,570.00\",\"5,605.00\",\"5,240.00\",\"8,052.04\",\"5,918.00\",\"5,520.00\",\"111,405.00\",\"97,860.50\",\"89,049.00\",\"6,435.00\",\"10,001.00\",\"10,000.00\",\"11,000.00\",\"20,000.00\",\"20,000.00\",\"20,000.00\",\"6,138.23\",\"10,000.00\",\"10,000.00\",\"12,500.00\",\"12,500.00\",\"12,500.00\",\"12,500.00\",\"12,500.00\",\"25,000.00\",\"25,000.00\",\"25,002.00\",\"10,000.00\",\"100,000.00\",\"10,000.00\",\"20,000.00\",\"10,000.00\",\"10,000.00\",\"10,000.00\",\"10,000.00\",\"10,000.00\",\"5,300.00\",\"36,000.00\",\"10,001.00\",\"6,000.00\",\"5,605.00\",\"10,000.00\",\"9,782.17\",\"10,000.00\",\"50,000.00\",\"50,000.00\",\"7,048.00\",\"9,598.15\",\"13,893.31\",\"13,393.76\",\"15,748.92\",\"20,000.00\",\"37,087.14\",\"50,000.00\",\"10,000.00\",\"20,000.00\",\"20,000.00\",\"10,000.00\",\"10,000.00\",\"10,000.00\",\"10,000.00\",\"40,000.00\",\"10,001.00\",\"30,381.97\",\"8,202.00\",\"6,800.00\",\"20,000.00\",\"6,000.00\",\"5,100.00\",\"7,400.00\",\"50,000.00\",\"6,000.00\",\"30,000.00\",\"25,000.00\",\"15,000.00\",\"18,664.00\",\"7,500.00\",\"7,500.00\",\"10,000.00\",\"10,000.00\",\"20,000.00\",\"8,000.00\",\"10,000.00\",\"9,900.00\",\"9,900.00\",\"10,000.00\",\"55,000.00\",\"45,000.00\",\"25,000.00\",\"10,000.00\",\"5,400.00\",\"6,000.00\",\"6,000.00\",\"10,000.00\",\"5,058.11\",\"5,454.00\",\"5,200.00\",\"8,000.00\",\"10,000.00\",\"15,000.00\",\"10,000.00\",\"8,000.00\",\"10,000.00\",\"10,008.00\",\"5,008.00\",\"5,008.00\",\"5,001.00\",\"10,000.00\",\"25,000.00\",\"25,000.00\",\"26,000.00\",\"24,000.00\",\"7,500.00\",\"9,000.00\",\"15,000.00\",\"10,000.00\",\"12,500.00\",\"12,500.00\",\"25,000.00\",\"10,000.00\",\"20,001.00\",\"15,000.00\",\"10,000.00\",\"9,736.00\",\"5,001.00\",\"22,000.00\",\"25,000.00\",\"6,171.17\",\"8,087.03\",\"6,553.11\",\"8,195.62\",\"6,276.77\",\"8,145.63\",\"6,596.47\",\"10,479.80\",\"9,262.58\",\"12,000.00\",\"10,000.00\",\"10,000.00\",\"6,000.00\",\"6,000.00\",\"11,000.00\",\"10,000.00\",\"5,100.00\",\"10,000.00\",\"10,000.00\",\"10,000.00\",\"20,000.00\",\"25,000.00\",\"5,001.00\",\"10,000.00\",\"40,000.00\",\"30,000.00\",\"5,500.00\",\"25,000.00\",\"25,000.00\",\"25,000.00\",\"8,500.00\",\"10,000.00\",\"27,730.00\",\"10,000.00\",\"5,101.00\",\"5,692.00\",\"13,791.00\",\"9,274.00\",\"19,000.00\",\"33,000.00\",\"10,000.00\",\"10,000.00\",\"5,758.67\",\"5,758.68\",\"10,000.00\",\"20,000.00\",\"11,001.00\",\"14,000.00\",\"10,000.00\",\"5,001.00\",\"5,001.00\",\"5,001.00\",\"5,001.00\",\"5,001.00\",\"5,001.00\",\"5,001.00\",\"10,001.00\",\"5,001.00\",\"5,001.00\",\"5,001.00\",\"5,001.00\",\"5,001.00\",\"10,000.00\",\"5,071.00\",\"10,000.00\",\"10,000.00\",\"10,000.00\",\"50,000.00\",\"23,000.00\",\"23,000.00\",\"5,001.00\",\"15,000.00\",\"6,519.62\",\"5,001.00\",\"10,001.00\",\"11,000.00\",\"25,000.00\",\"10,000.00\",\"10,000.00\",\"10,000.00\",\"10,000.00\",\"5,145.00\",\"23,000.00\",\"23,000.00\",\"7,500.00\",\"10,001.00\",\"10,000.00\",\"5,001.00\",\"21,000.00\",\"25,100.00\",\"7,000.00\",\"10,000.00\",\"10,000.00\",\"15,000.00\",\"6,380.00\",\"6,313.44\",\"6,200.00\",\"10,000.00\",\"7,250.00\",\"10,000.00\",\"10,000.00\",\"19,500.00\",\"20,000.00\",\"40,000.00\",\"60,000.00\",\"5,551.00\",\"12,487.50\",\"21,547.59\",\"10,540.00\",\"5,001.00\",\"30,000.00\",\"29,300.00\",\"5,001.00\",\"27,236.90\",\"100,000.00\",\"90,335.14\",\"9,413.84\",\"17,816.65\",\"10,000.00\",\"20,000.00\",\"13,000.00\",\"30,000.00\",\"6,500.00\",\"6,000.00\",\"6,000.00\",\"10,000.00\",\"10,001.00\",\"6,002.00\",\"6,002.00\",\"10,000.00\",\"7,500.00\",\"6,500.00\",\"7,500.00\",\"50,000.00\",\"25,000.00\",\"5,101.00\",\"10,000.00\",\"50,000.00\",\"10,000.00\",\"25,000.00\",\"25,000.00\",\"100,000.00\",\"15,000.00\",\"10,000.00\",\"16,325.29\",\"5,164.73\",\"20,000.00\",\"10,000.00\",\"10,000.00\",\"10,000.00\",\"13,236.19\",\"10,000.00\",\"5,500.00\",\"5,500.00\",\"7,000.00\",\"7,000.00\",\"10,000.00\",\"9,320.94\",\"10,000.00\",\"10,000.00\",\"40,001.00\",\"5,001.00\",\"5,001.00\",\"6,637.00\",\"15,000.00\",\"100,000.00\",\"6,500.00\",\"5,001.00\",\"10,001.00\",\"6,000.00\",\"6,000.00\",\"6,000.00\",\"50,000.00\",\"10,620.00\",\"7,047.45\",\"17,328.00\",\"19,653.01\",\"64,905.00\",\"85,000.00\",\"180,000.00\",\"14,000.00\",\"5,200.00\",\"38,772.90\",\"89,621.92\",\"89,308.00\",\"248,000.00\",\"25,183.50\",\"6,120.00\",\"6,000.00\",\"5,001.00\",\"8,000.00\",\"20,875.00\",\"6,359.75\",\"6,359.75\",\"6,761.22\",\"5,778.22\",\"10,000.00\",\"10,000.00\",\"10,000.00\",\"15,000.00\",\"9,000.00\",\"100,000.00\",\"5,900.00\",\"11,000.00\",\"10,000.00\",\"10,000.00\",\"10,000.00\",\"10,000.00\",\"50,000.00\",\"5,700.00\",\"10,000.00\",\"10,000.00\",\"5,500.00\",\"10,000.00\",\"18,407.20\",\"10,000.00\",\"10,000.00\",\"5,100.00\",\"10,000.00\",\"8,000.00\",\"9,250.00\",\"9,000.00\",\"10,000.00\",\"21,000.00\",\"7,450.00\",\"25,000.00\",\"10,000.00\",\"9,000.00\",\"6,500.00\",\"20,000.00\",\"20,000.00\",\"10,000.00\",\"7,020.00\",\"10,000.00\",\"40,000.00\",\"101,000.00\",\"100,000.00\",\"20,000.00\",\"60,000.00\",\"40,000.00\",\"50,000.00\",\"50,000.00\",\"10,000.00\",\"15,000.00\",\"9,000.00\",\"10,961.31\",\"7,000.00\",\"25,000.00\",\"15,000.00\",\"15,000.00\",\"10,000.00\",\"10,000.00\",\"10,000.00\",\"10,000.00\",\"10,000.00\",\"20,000.00\",\"15,000.00\",\"11,111.00\",\"5,008.00\",\"7,500.00\",\"35,510.84\",\"11,000.00\",\"10,000.00\",\"10,000.00\",\"5,039.94\",\"30,000.00\",\"35,000.00\",\"8,500.00\",\"10,000.00\",\"20,000.00\",\"20,000.00\",\"10,000.00\",\"10,000.00\",\"20,000.00\",\"20,000.00\",\"15,000.00\",\"20,000.00\",\"20,000.00\",\"20,000.00\",\"20,000.00\",\"20,000.00\",\"40,000.00\",\"6,000.00\",\"6,000.00\",\"10,000.00\",\"10,000.00\",\"9,000.00\",\"10,000.00\",\"5,500.00\",\"20,000.00\",\"8,712.00\",\"6,030.00\",\"5,500.00\",\"10,000.00\",\"5,600.00\",\"50,000.00\",\"20,000.00\",\"30,000.00\",\"6,345.00\",\"5,500.00\",\"5,250.00\",\"5,250.00\",\"90,000.00\",\"10,000.00\",\"18,767.54\",\"10,000.00\",\"10,000.00\",\"6,000.00\",\"10,100.00\",\"10,000.00\",\"7,500.00\",\"10,000.00\",\"13,000.00\",\"5,250.00\",\"10,000.00\",\"19,000.00\",\"10,000.00\",\"10,000.00\",\"10,000.00\",\"10,000.00\",\"5,100.00\",\"5,001.00\",\"6,000.00\",\"5,921.78\",\"14,805.00\",\"15,000.00\",\"28,457.00\",\"20,285.76\",\"11,332.00\",\"10,268.72\",\"5,768.40\",\"7,873.36\",\"12,476.00\",\"10,000.00\",\"7,500.00\",\"7,500.00\",\"6,000.00\",\"18,000.00\",\"18,000.00\",\"6,500.00\",\"10,001.00\"],\"dates\":[\"2013_2\",\"2014_12\",\"2014_12\",\"2002_12\",\"2002_12\",\"2002_12\",\"2003_1\",\"2003_11\",\"2006_11\",\"2006_12\",\"2007_2\",\"2007_6\",\"2007_12\",\"2008_2\",\"2012_12\",\"2006_8\",\"2006_10\",\"2007_4\",\"2007_11\",\"2008_7\",\"2009_5\",\"2012_6\",\"2012_8\",\"2012_12\",\"2013_5\",\"2013_9\",\"2014_6\",\"2014_6\",\"2014_8\",\"2014_2\",\"2008_6\",\"2006_11\",\"2007_4\",\"2013_11\",\"2014_12\",\"2015_12\",\"2011_4\",\"2003_12\",\"2004_7\",\"2006_1\",\"2007_1\",\"2007_12\",\"2008_12\",\"2008_12\",\"2009_9\",\"2010_1\",\"2010_7\",\"2010_9\",\"2010_10\",\"2012_1\",\"2012_2\",\"2012_4\",\"2012_12\",\"2013_12\",\"2014_6\",\"2014_11\",\"2014_11\",\"2008_6\",\"2011_12\",\"2011_12\",\"2005_5\",\"2013_12\",\"2004_2\",\"2013_12\",\"2003_8\",\"2004_1\",\"2003_7\",\"2003_9\",\"2003_10\",\"2003_11\",\"2003_12\",\"2015_12\",\"2011_2\",\"2014_12\",\"2008_12\",\"2009_11\",\"2010_12\",\"2011_12\",\"2012_6\",\"2012_12\",\"2013_12\",\"2014_12\",\"2012_2\",\"2003_11\",\"2008_2\",\"2006_12\",\"2003_12\",\"2004_9\",\"2006_12\",\"2011_9\",\"2003_12\",\"2011_12\",\"2012_12\",\"2013_12\",\"2014_12\",\"2015_12\",\"2014_10\",\"2014_11\",\"2009_9\",\"2009_9\",\"2010_12\",\"2013_12\",\"2014_12\",\"2004_2\",\"2004_2\",\"2004_2\",\"2004_5\",\"2004_5\",\"2004_7\",\"2010_3\",\"2012_5\",\"2014_6\",\"2015_12\",\"2006_2\",\"2012_12\",\"2008_10\",\"2009_12\",\"2010_12\",\"2013_4\",\"2013_4\",\"2008_4\",\"2008_9\",\"2006_10\",\"2010_7\",\"2010_8\",\"2015_8\",\"2009_5\",\"2007_10\",\"2007_11\",\"2008_2\",\"2008_6\",\"2008_7\",\"2004_11\",\"2013_1\",\"2014_2\",\"2004_12\",\"2005_12\",\"2006_12\",\"2008_5\",\"2009_12\",\"2004_12\",\"2008_9\",\"2005_1\",\"2007_3\",\"2004_12\",\"2007_12\",\"2008_4\",\"2007_2\",\"2008_2\",\"2009_2\",\"2010_2\",\"2011_2\",\"2012_2\",\"2013_2\",\"2014_2\",\"2016_2\",\"2012_12\",\"2015_12\",\"2005_4\",\"2012_12\",\"2013_4\",\"2012_5\",\"2012_5\",\"2013_9\",\"2006_5\",\"2007_6\",\"2005_6\",\"2005_12\",\"2008_3\",\"2006_10\",\"2005_9\",\"2005_9\",\"2006_12\",\"2005_10\",\"2006_11\",\"2008_8\",\"2009_11\",\"2012_8\",\"2013_4\",\"2007_7\",\"2013_12\",\"2009_12\",\"2005_12\",\"2006_12\",\"2007_8\",\"2009_1\",\"2011_1\",\"2009_12\",\"2010_12\",\"2015_12\",\"2015_12\",\"2011_12\",\"2015_11\",\"2008_3\",\"2008_10\",\"2008_9\",\"2006_6\",\"2013_8\",\"2014_9\",\"2008_3\",\"2008_9\",\"2009_10\",\"2010_10\",\"2011_9\",\"2012_9\",\"2013_8\",\"2014_9\",\"2015_4\",\"2015_11\",\"2013_11\",\"2014_2\",\"2012_6\",\"2013_6\",\"2014_5\",\"2006_4\",\"2006_5\",\"2006_6\",\"2006_7\",\"2008_1\",\"2006_5\",\"2006_8\",\"2011_6\",\"2011_12\",\"2006_10\",\"2009_1\",\"2007_5\",\"2007_5\",\"2008_1\",\"2006_12\",\"2006_12\",\"2007_7\",\"2013_12\",\"2014_12\",\"2011_12\",\"2012_12\",\"2014_12\",\"2015_12\",\"2006_12\",\"2013_12\",\"2007_4\",\"2008_12\",\"2007_4\",\"2007_3\",\"2010_4\",\"2011_5\",\"2013_4\",\"2013_11\",\"2015_5\",\"2015_12\",\"2015_12\",\"2007_11\",\"2007_12\",\"2007_9\",\"2009_6\",\"2009_12\",\"2010_12\",\"2008_9\",\"2015_2\",\"2015_2\",\"2008_12\",\"2010_11\",\"2010_11\",\"2013_2\",\"2013_3\",\"2013_5\",\"2007_12\",\"2012_12\",\"2011_11\",\"2008_1\",\"2007_12\",\"2011_12\",\"2012_3\",\"2008_1\",\"2013_12\",\"2010_9\",\"2010_11\",\"2013_9\",\"2014_5\",\"2014_9\",\"2015_5\",\"2012_12\",\"2008_6\",\"2010_6\",\"2008_10\",\"2008_10\",\"2008_9\",\"2008_10\",\"2009_4\",\"2012_1\",\"2014_5\",\"2013_5\",\"2008_12\",\"2016_1\",\"2015_6\",\"2016_1\",\"2016_1\",\"2004_3\",\"2007_6\",\"2005_12\",\"2008_4\",\"2008_7\",\"2011_7\",\"2011_11\",\"2015_12\",\"2016_1\",\"2014_12\",\"2015_12\",\"2012_2\",\"2013_4\",\"2013_4\",\"2004_12\",\"2005_12\",\"2006_12\",\"2003_5\",\"2014_11\",\"2015_12\",\"2008_12\",\"2011_12\",\"2012_3\",\"2015_12\",\"2006_10\",\"2007_3\",\"2007_11\",\"2007_11\",\"2012_11\",\"2012_11\",\"2013_10\",\"2013_10\",\"2013_11\",\"2014_11\",\"2014_11\",\"2014_11\",\"2015_12\",\"2015_12\",\"2014_8\",\"2002_4\",\"2004_1\",\"2014_5\",\"2008_8\",\"2007_4\",\"2007_4\",\"2008_2\",\"2008_2\",\"2012_12\",\"2014_12\",\"2015_5\",\"2015_12\",\"2006_11\",\"2015_2\",\"2012_7\",\"2014_4\",\"2015_12\",\"2014_6\",\"2012_9\",\"2012_12\",\"2015_12\",\"2013_12\",\"2014_12\",\"2015_11\",\"2012_12\",\"2014_5\",\"2014_7\",\"2011_11\",\"2014_12\",\"2010_7\",\"2009_12\",\"2010_9\",\"2011_7\",\"2015_12\",\"2015_12\",\"2014_12\",\"2010_12\",\"2010_5\",\"2010_11\",\"2011_2\",\"2012_11\",\"2014_12\",\"2015_12\",\"2012_12\",\"2012_12\",\"2012_11\",\"2014_3\",\"2015_1\",\"2015_2\",\"2015_9\",\"2015_10\",\"2014_12\",\"2015_12\",\"2015_12\",\"2014_11\",\"2015_12\",\"2010_6\",\"2010_12\",\"2015_12\",\"2015_11\",\"2014_2\",\"2014_3\",\"2014_5\",\"2011_12\",\"2014_4\",\"2015_11\",\"2015_11\",\"2015_3\",\"2010_12\",\"2013_12\",\"2014_7\",\"2014_3\",\"2009_12\",\"2013_11\",\"2011_12\",\"2012_12\",\"2010_12\",\"2014_11\",\"2016_2\",\"2014_7\",\"2011_12\",\"2014_12\",\"2015_12\",\"2015_12\",\"2015_12\",\"2009_1\",\"2009_12\",\"2011_1\",\"2011_12\",\"2013_1\",\"2014_2\",\"2014_11\",\"2014_12\",\"2015_12\",\"2010_12\",\"2014_1\",\"2015_12\",\"2010_12\",\"2014_6\",\"2015_1\",\"2015_12\",\"2015_10\",\"2014_4\",\"2014_12\",\"2014_9\",\"2014_12\",\"2012_12\",\"2011_5\",\"2014_11\",\"2015_1\",\"2010_6\",\"2013_9\",\"2014_6\",\"2015_11\",\"2013_5\",\"2014_12\",\"2015_12\",\"2013_12\",\"2014_12\",\"2015_3\",\"2015_12\",\"2010_11\",\"2013_12\",\"2015_7\",\"2014_4\",\"2011_7\",\"2014_11\",\"2015_12\",\"2013_12\",\"2012_8\",\"2015_12\",\"2015_12\",\"2011_12\",\"2013_4\",\"2014_10\",\"2013_7\",\"2015_12\",\"2013_4\",\"2014_4\",\"2014_4\",\"2014_5\",\"2014_5\",\"2014_5\",\"2014_5\",\"2011_3\",\"2015_12\",\"2014_4\",\"2014_12\",\"2015_12\",\"2014_5\",\"2015_4\",\"2014_4\",\"2012_12\"],\"donor_ids\":[\"1906903249\",\"3560087650\",\"9419241384\",\"_0R51EHAFW\",\"_0R51EHAFW\",\"_0R51EHAFW\",\"_0R51EHAFW\",\"_0RR14718B\",\"_0SG16XQIA\",\"_0SG16XQIA\",\"_0SG16XQIA\",\"_0SG16XQIA\",\"_0SG16XQIA\",\"_0SG16XQIA\",\"_0SN00TMU8\",\"_0SR06KMDG\",\"_0SR06KMDG\",\"_0SR06KMDG\",\"_0SR06KMDG\",\"_0SR06KMDG\",\"_0SR06KMDG\",\"_0SR06KMDG\",\"_0SR06KMDG\",\"_0SR06KMDG\",\"_0SR06KMDG\",\"_0SR06KMDG\",\"_0SR06KMDG\",\"_0SR06KMDG\",\"_0SR06KMDG\",\"_0SU19SDAG\",\"_0T115Z73P\",\"_0TE0561C5\",\"_0TE0561C5\",\"_0TE0561C5\",\"_0TE0561C5\",\"_0TE0561C5\",\"_0U117RZHV\",\"_0U117ZGHG\",\"_0U117ZGHG\",\"_0U117ZGHG\",\"_0U117ZGHG\",\"_0U117ZGHG\",\"_0U117ZGHG\",\"_0U117ZGHG\",\"_0U117ZGHG\",\"_0U117ZGHG\",\"_0U117ZGHG\",\"_0U117ZGHG\",\"_0U117ZGHG\",\"_0U117ZGHG\",\"_0U117ZGHG\",\"_0U117ZGHG\",\"_0U117ZGHG\",\"_0U117ZGHG\",\"_0U117ZGHG\",\"_0U117ZGHG\",\"_0UN11ND9A\",\"_0VN105I9W\",\"_0WC0X6QVH\",\"_0WR0SFYFQ\",\"_0X40YFRZB\",\"_0XE14HB3G\",\"_0ZY11C958\",\"_0ZY11C958\",\"_10C1FEXPZ\",\"_10C1FEXPZ\",\"_10C1FEXQS\",\"_10C1FEXQS\",\"_10C1FEXQS\",\"_10C1FEXQS\",\"_10C1FEXQS\",\"_10P0WHY8I\",\"_12W01JB3I\",\"_12W01JB3I\",\"_13M1FFWVN\",\"_13M1FFWVN\",\"_13M1FFWVN\",\"_13M1FFWVN\",\"_13M1FFWVN\",\"_13M1FFWVN\",\"_13M1FFWVN\",\"_13M1FFWVN\",\"_13M1FFYFH\",\"_13S12DJ86\",\"_13S12DJ86\",\"_14615CARI\",\"_1470QIZ5B\",\"_1470QIZ5B\",\"_14A0ZPYZC\",\"_14A0ZPYZC\",\"_14P0QQ817\",\"_14Y10E94K\",\"_14Y10E94K\",\"_14Y10E94K\",\"_14Y10E94K\",\"_14Y10E94K\",\"_1580TS6L1\",\"_1580TS6L1\",\"_15V03A5ET\",\"_15V03A5ET\",\"_15V03A5ET\",\"_15V03A5ET\",\"_15V03A5ET\",\"_15Y0Y4UGN\",\"_15Y0Y4UGN\",\"_16A1CR6Y1\",\"_18W0OKMMB\",\"_18W0OKMMB\",\"_1AC057BGN\",\"_1AO05EZGJ\",\"_1AO05EZGJ\",\"_1AO05EZGJ\",\"_1AO05EZGJ\",\"_1AW0Y0KSX\",\"_1B6136P56\",\"_1BY15LDXA\",\"_1BY15LDXA\",\"_1BY15LDXA\",\"_1CC08RL3K\",\"_1CC08ZYQX\",\"_1D90PSV5H\",\"_1D90PSV5H\",\"_1DD1AEX81\",\"_1DD1AEX81\",\"_1DD1AEX81\",\"_1DD1AEX81\",\"_1DV116JJY\",\"_1DW0UWG2W\",\"_1DW0UWG2W\",\"_1DW0UWG2W\",\"_1DW0UWG2W\",\"_1DW0UWG2W\",\"_1DW0V3JB9\",\"_1DW15F2EQ\",\"_1DW18DKMF\",\"_1E219TBGI\",\"_1E60YPNHI\",\"_1E60YPNHI\",\"_1EH0N5J4I\",\"_1EV11MBIR\",\"_1EX0W3X0Z\",\"_1EX0W3X0Z\",\"_1EX0W8YG8\",\"_1EX0W8YG8\",\"_1EX0WCTRV\",\"_1EX0WCTRV\",\"_1EX0WCTRV\",\"_1FN13V9Q8\",\"_1FN13V9Q8\",\"_1FN13V9Q8\",\"_1FN13V9Q8\",\"_1FN13V9Q8\",\"_1FN13V9Q8\",\"_1FN13V9Q8\",\"_1FN13V9Q8\",\"_1FN13V9Q8\",\"_1GR0WG9T6\",\"_1GR0WG9T6\",\"_1HI12U5X9\",\"_1I914KNGD\",\"_1I914KNGD\",\"_1IO1AD3GF\",\"_1IO1AD3GF\",\"_1IO1AD3GF\",\"_1IY0VXU89\",\"_1IY0VXU89\",\"_1K011X3TX\",\"_1KO073T8K\",\"_1KQ0XDCPZ\",\"_1KX04BP86\",\"_1M60X2OEP\",\"_1M60ZOKN3\",\"_1M60ZOKN3\",\"_1MN0PX571\",\"_1MN0PX571\",\"_1MN0PX571\",\"_1MN0PX571\",\"_1MN0PX571\",\"_1MY0UXRKJ\",\"_1N30WGD1I\",\"_1OE0RBLD0\",\"_1OH0ONE88\",\"_1OT0RY744\",\"_1OT0RY744\",\"_1OT0RY744\",\"_1OT0RY744\",\"_1OT0RY744\",\"_1PA0USZR0\",\"_1PA0USZR0\",\"_1PG1FDERY\",\"_1PG1FDERY\",\"_1R41FFUMY\",\"_1R80W8WCB\",\"_1RK0YQK4N\",\"_1RK0YQK4N\",\"_1SE0UZN6K\",\"_1SJ0QR12I\",\"_1SJ0QR12I\",\"_1SJ0QR12I\",\"_1SJ0YVXJN\",\"_1SJ0YVXJN\",\"_1SJ0YVXJN\",\"_1SJ0YVXJN\",\"_1SJ0YVXJN\",\"_1SJ0YVXJN\",\"_1SJ0YVXJN\",\"_1SJ0YVXJN\",\"_1SJ0YVXJN\",\"_1SJ0YVXJN\",\"_1TD0X5SNC\",\"_1TJ0QS6WG\",\"_1TL0REX9T\",\"_1TL0REX9T\",\"_1TL0REX9T\",\"_1TW183J43\",\"_1TW183J43\",\"_1TW183J43\",\"_1UC0OC7YW\",\"_1UC0QD8AP\",\"_1UK1DR812\",\"_1VV0X1D47\",\"_1WX0P3Z73\",\"_1X7164DK4\",\"_1XL0RAS4G\",\"_1XV0QY3OM\",\"_1YC1BYBSB\",\"_1YC1BYBSB\",\"_1YC1BYBSB\",\"_1YU0SSSNI\",\"_1Z616HNXQ\",\"_1Z616HNXQ\",\"_1ZF0Q59YI\",\"_1ZV0UJP25\",\"_1ZW1BYPVO\",\"_1ZY1FFZMP\",\"_1ZY1FFZMP\",\"_1ZY1FFZMP\",\"_1ZZ00X0GP\",\"_21Z18Z92R\",\"_2240PXTA7\",\"_2250VQI7N\",\"_22K1FGB9L\",\"_23Q01EAY0\",\"_23Q01EAY0\",\"_23Q01EAY0\",\"_23Q01EAY0\",\"_23Q01EAY0\",\"_23Q01EAY0\",\"_24O19WVN2\",\"_24O19WVN2\",\"_26O0VQOOK\",\"_26O0VQOOK\",\"_26S0UVUWR\",\"_26S0UVUWR\",\"_26S0UVUWR\",\"_26S0UVUWR\",\"_2830WE3TF\",\"_28L0SZL4U\",\"_28L0SZL4U\",\"_29D0VSKYG\",\"_29D0VSKYG\",\"_29D0VSKYG\",\"_29D0VSKYG\",\"_29D0VSKYG\",\"_29D0VSKYG\",\"_29I0WAKE6\",\"_29I0WAKE6\",\"_2A51CRAVY\",\"_2A80UKALR\",\"_2AD1DGDIB\",\"_2AE1CSE1O\",\"_2AE1CSE1O\",\"_2BF01F17B\",\"_2BF01F17B\",\"_2BF0UALOZ\",\"_2BF0UALOZ\",\"_2BO0VRKX6\",\"_2BO0VRKX6\",\"_2BO0VRKX6\",\"_2BO0VRKX6\",\"_2DP0SP3TU\",\"_2DX0P9NAR\",\"_2EE1CD5VQ\",\"_2EV1ELQ0K\",\"_2FD1C4FE4\",\"_2FD1EXN8X\",\"_2H90UG6AS\",\"_2H90UG6AS\",\"_2H90UG6AS\",\"_2H90UG6AS\",\"_2I11FARNG\",\"_2JO0V31TX\",\"0ACB06E405\",\"0B79F06646\",\"0C77B4326E\",\"0C77B4326E\",\"-0Q51CZR4L\",\"-0Q51CZRDB\",\"-0Q51CZRDW\",\"-0Q51CZRJP\",\"-0Q51CZRJP\",\"-0Q51CZRJP\",\"-0Q51CZRJP\",\"-0Q51CZRJP\",\"-0Q51CZRJP\",\"-0Q51CZROS\",\"-0Q51CZROS\",\"-0Q51CZSG8\",\"-0Q51CZSG8\",\"-0Q51CZSG8\",\"-0Q51CZSJP\",\"-0Q51CZSJP\",\"-0Q51CZSJP\",\"-0Q51CZSS3\",\"-0Q51CZSXW\",\"-0Q51CZSXW\",\"-0Q51CZTAF\",\"-0Q51CZTAF\",\"-0Q51CZTAF\",\"-0Q51CZTES\",\"-0Q51CZTPM\",\"-0Q51CZTPM\",\"-0Q51CZTPM\",\"-0Q51CZTPM\",\"-0Q51CZTPM\",\"-0Q51CZTPM\",\"-0Q51CZTPM\",\"-0Q51CZTPM\",\"-0Q51CZTPM\",\"-0Q51CZTPM\",\"-0Q51CZTPM\",\"-0Q51CZTPM\",\"-0Q51CZTPM\",\"-0Q51CZTPM\",\"-0Q51CZTSC\",\"-0Q51CZTUM\",\"-0Q51CZU4A\",\"-0Q51CZUD0\",\"-0Q51CZUT0\",\"-0Q51CZUT4\",\"-0Q51CZUT4\",\"-0Q51CZUT4\",\"-0Q51CZUT4\",\"-0Q51CZV69\",\"-0Q51CZV69\",\"-0Q51CZV69\",\"-0Q51CZV69\",\"-0Q51CZV8E\",\"-0Q51CZVF7\",\"141F95343B\",\"141F95343B\",\"1842A10F6B\",\"20103E6CA5\",\"21A9E61BC2\",\"21A9E61BC2\",\"21A9E61BC2\",\"2224CC6629\",\"251AF8C8FF\",\"2752ECCAAC\",\"301DB148A7\",\"301DB148A7\",\"366E654E28\",\"38F10272DC\",\"3FFEB65F0B\",\"41964ADEEE\",\"44CD45BB2B\",\"44CD45BB2B\",\"44CD45BB2B\",\"46D95DE2E6\",\"4F9B5239EC\",\"51CC141437\",\"53496F2322\",\"576550EC30\",\"58EA6BC0FC\",\"59BBD2CA8C\",\"5ACBEEF47A\",\"5C521C6F70\",\"5C521C6F70\",\"5EFB990B2A\",\"6AFECFFCEA\",\"6C77745F87\",\"6C77745F87\",\"6C77745F87\",\"6C77745F87\",\"6C77745F87\",\"6C77745F87\",\"6D595F12F4\",\"6D595F12F4\",\"6D595F12F4\",\"6E2A57966A\",\"6E2A57966A\",\"707EE865BD\",\"712605E407\",\"715FC1F4D4\",\"72140D1EFE\",\"7307D33C2B\",\"7307D33C2B\",\"75180A540E\",\"76D5B87904\",\"77F80F5231\",\"78F2184A42\",\"78F2184A42\",\"7A7D808194\",\"7B1975E37B\",\"7D59F3FED9\",\"7DAB05D6B1\",\"81B16776A6\",\"859AC7C9D1\",\"88821FD5B2\",\"8C8CA66F17\",\"8EC78F8C6A\",\"92E39AE1C4\",\"93E8C34E23\",\"93E8C34E23\",\"9451F7B018\",\"97C34866ED\",\"9F0815CD75\",\"9F0815CD75\",\"A2DA6F89BD\",\"A2F9947D81\",\"A4AB678CB2\",\"A4AB678CB2\",\"A4AB678CB2\",\"A4AB678CB2\",\"A4AB678CB2\",\"A4AB678CB2\",\"A4AB678CB2\",\"A4AB678CB2\",\"A4AB678CB2\",\"A5EA892F8A\",\"A5EA892F8A\",\"A5EA892F8A\",\"A65EF08D85\",\"B0EBF63387\",\"B0EBF63387\",\"B2048A575D\",\"B2DD1330B8\",\"B3E917536F\",\"BD2DB0B49E\",\"C1B7FFF106\",\"C41F52D51D\",\"C421857583\",\"C4ED38E0EA\",\"C65A342C4A\",\"C65A342C4A\",\"C9BE300340\",\"C9D233CD23\",\"C9D233CD23\",\"C9D233CD23\",\"C9D7507805\",\"C9D7507805\",\"C9D7507805\",\"CB1FA56598\",\"CB1FA56598\",\"CB1FA56598\",\"CB1FA56598\",\"CECD6F5BD0\",\"CECD6F5BD0\",\"D024073C30\",\"D39349E4F1\",\"D502CB9B96\",\"D7359671AC\",\"D8AA3BF7B9\",\"DC272162E6\",\"DC2F5B6113\",\"DD3E06ACE3\",\"DD3E06ACE3\",\"E034819566\",\"E51560DB21\",\"E691A566D2\",\"E972E2BF61\",\"EE163E646D\",\"F0B889311D\",\"F0B889311D\",\"F0B889311D\",\"F0B889311D\",\"F0B889311D\",\"F0B889311D\",\"F0B889311D\",\"F53C988979\",\"F5BB31A358\",\"F7507E6B5E\",\"F7507E6B5E\",\"F7507E6B5E\",\"F7F9074B08\",\"F7F9074B08\",\"F86183FF8E\",\"FA9B9C4140\"],\"states\":[\"\",\"CA\",\"NY\",\"CA\",\"CA\",\"CA\",\"CA\",\"CA\",\"WA\",\"WA\",\"WA\",\"WA\",\"WA\",\"WA\",\"CA\",\"CA\",\"CA\",\"CA\",\"CA\",\"CA\",\"CA\",\"CA\",\"CA\",\"CA\",\"CA\",\"CA\",\"CA\",\"CA\",\"CA\",\"CA\",\"CA\",\"CA\",\"CA\",\"CA\",\"CA\",\"CA\",\"CA\",\"CA\",\"CA\",\"CA\",\"CA\",\"CA\",\"CA\",\"CA\",\"CA\",\"CA\",\"CA\",\"CA\",\"CA\",\"CA\",\"CA\",\"CA\",\"CA\",\"CA\",\"CA\",\"CA\",\"CA\",\"CA\",\"CA\",\"CA\",\"CA\",\"CA\",\"CA\",\"CA\",\"PA\",\"PA\",\"VA\",\"VA\",\"VA\",\"VA\",\"VA\",\"NJ\",\"CA\",\"CA\",\"CA\",\"CA\",\"CA\",\"CA\",\"CA\",\"CA\",\"CA\",\"CA\",\"CA\",\"MI\",\"MI\",\"AZ\",\"MA\",\"MA\",\"CA\",\"CA\",\"CA\",\"CA\",\"CA\",\"CA\",\"CA\",\"CA\",\"CA\",\"CA\",\"CA\",\"CA\",\"CA\",\"CA\",\"CA\",\"MI\",\"MI\",\"FL\",\"IL\",\"IL\",\"CA\",\"CA\",\"CA\",\"CA\",\"CA\",\"CA\",\"CA\",\"CA\",\"CA\",\"CA\",\"NY\",\"NY\",\"CA\",\"CA\",\"CA\",\"CA\",\"CA\",\"CA\",\"CA\",\"CA\",\"CA\",\"CA\",\"CA\",\"CA\",\"CA\",\"CA\",\"CA\",\"CA\",\"NY\",\"NY\",\"TN\",\"CA\",\"CA\",\"CA\",\"CA\",\"CA\",\"CA\",\"CA\",\"CA\",\"NY\",\"NY\",\"NY\",\"NY\",\"NY\",\"NY\",\"NY\",\"NY\",\"NY\",\"CA\",\"CA\",\"FL\",\"CA\",\"CA\",\"CA\",\"CA\",\"CA\",\"CA\",\"CA\",\"\",\"MI\",\"KY\",\"CA\",\"VI\",\"CA\",\"CA\",\"NJ\",\"NJ\",\"NJ\",\"NJ\",\"NJ\",\"NY\",\"CA\",\"IN\",\"CA\",\"MI\",\"MI\",\"MI\",\"MI\",\"MI\",\"AZ\",\"AZ\",\"CA\",\"CA\",\"TX\",\"CA\",\"CA\",\"CA\",\"AL\",\"NY\",\"NY\",\"NY\",\"NY\",\"NY\",\"NY\",\"NY\",\"NY\",\"NY\",\"NY\",\"NY\",\"NY\",\"NY\",\"NY\",\"\",\"CA\",\"CA\",\"CA\",\"CA\",\"CA\",\"CA\",\"CA\",\"\",\"AZ\",\"CA\",\"CA\",\"NJ\",\"CA\",\"TX\",\"MI\",\"MI\",\"MI\",\"CA\",\"NY\",\"NY\",\"MI\",\"NY\",\"NJ\",\"CA\",\"CA\",\"CA\",\"ID\",\"NC\",\"CA\",\"WV\",\"TX\",\"\",\"\",\"\",\"\",\"\",\"\",\"\",\"\",\"FL\",\"FL\",\"CA\",\"CA\",\"CA\",\"CA\",\"OH\",\"PA\",\"PA\",\"TX\",\"TX\",\"TX\",\"TX\",\"TX\",\"TX\",\"NY\",\"NY\",\"TX\",\"MD\",\"CT\",\"CA\",\"CA\",\"CA\",\"CA\",\"CA\",\"CA\",\"NY\",\"NY\",\"NY\",\"NY\",\"CA\",\"CA\",\"CA\",\"NY\",\"CA\",\"\",\"NJ\",\"NJ\",\"NJ\",\"NJ\",\"CA\",\"NJ\",\"\",\"CA\",\"\",\"\",\"CA\",\"CA\",\"CA\",\"CA\",\"CA\",\"CA\",\"CA\",\"CA\",\"CA\",\"CA\",\"CA\",\"CA\",\"CA\",\"CA\",\"CA\",\"CA\",\"CA\",\"CA\",\"CA\",\"CA\",\"CA\",\"CA\",\"CA\",\"CA\",\"TX\",\"TX\",\"TX\",\"TX\",\"TX\",\"TX\",\"TX\",\"TX\",\"TX\",\"TX\",\"TX\",\"TX\",\"TX\",\"TX\",\"CA\",\"IL\",\"CA\",\"CA\",\"CA\",\"\",\"\",\"\",\"\",\"NJ\",\"NJ\",\"NJ\",\"NJ\",\"CA\",\"CA\",\"WA\",\"WA\",\"CA\",\"CA\",\"CA\",\"CA\",\"CA\",\"IL\",\"CA\",\"CA\",\"CA\",\"CA\",\"\",\"IL\",\"NY\",\"WA\",\"CA\",\"CA\",\"CA\",\"CA\",\"CA\",\"CA\",\"\",\"NY\",\"WA\",\"GA\",\"VA\",\"CA\",\"CA\",\"NY\",\"MI\",\"NY\",\"NY\",\"NY\",\"NY\",\"NY\",\"NY\",\"CA\",\"CA\",\"CA\",\"NY\",\"NY\",\"IL\",\"IN\",\"CA\",\"\",\"CA\",\"CA\",\"CA\",\"CA\",\"CA\",\"\",\"\",\"CA\",\"PA\",\"CA\",\"TX\",\"56\",\"MI\",\"LA\",\"CA\",\"PA\",\"CA\",\"WA\",\"WA\",\"MI\",\"CA\",\"FL\",\"FL\",\"NY\",\"CA\",\"NY\",\"NY\",\"NY\",\"NY\",\"NY\",\"NY\",\"NY\",\"NY\",\"NY\",\"NY\",\"NY\",\"NY\",\"WA\",\"CA\",\"CA\",\"CA\",\"PA\",\"CA\",\"CA\",\"TX\",\"DE\",\"CA\",\"CA\",\"NJ\",\"NJ\",\"NJ\",\"CA\",\"CA\",\"CA\",\"FL\",\"FL\",\"FL\",\"CA\",\"CA\",\"CA\",\"CA\",\"CA\",\"CA\",\"CA\",\"CA\",\"CA\",\"FL\",\"CA\",\"CA\",\"NY\",\"NY\",\"NY\",\"CA\",\"CA\",\"CA\",\"CA\",\"\",\"CA\",\"CA\",\"CA\",\"CA\",\"CA\",\"CA\",\"CA\",\"CA\",\"NJ\",\"CA\",\"CA\",\"CA\",\"\",\"\",\"CA\",\"CA\"],\"x\":[1359676800000.0,1419811200000.0,1417996800000.0,1039219200000.0,1040428800000.0,1041292800000.0,1043452800000.0,1069891200000.0,1163462400000.0,1167523200000.0,1172361600000.0,1181088000000.0,1199059200000.0,1204156800000.0,1356912000000.0,1156896000000.0,1160697600000.0,1177632000000.0,1195516800000.0,1214956800000.0,1242864000000.0,1340150400000.0,1346371200000.0,1356912000000.0,1368748800000.0,1380499200000.0,1401926400000.0,1402444800000.0,1408579200000.0,1391558400000.0,1212451200000.0,1164326400000.0,1177891200000.0,1384128000000.0,1419984000000.0,1451520000000.0,1303344000000.0,1071878400000.0,1088899200000.0,1137283200000.0,1169769600000.0,1196812800000.0,1230681600000.0,1230681600000.0,1253836800000.0,1263427200000.0,1280448000000.0,1285545600000.0,1286928000000.0,1327449600000.0,1330041600000.0,1335139200000.0,1355961600000.0,1388448000000.0,1403222400000.0,1415923200000.0,1417305600000.0,1213660800000.0,1325289600000.0,1325289600000.0,1116633600000.0,1385942400000.0,1077840000000.0,1388448000000.0,1060387200000.0,1074729600000.0,1059177600000.0,1064620800000.0,1066348800000.0,1069891200000.0,1071878400000.0,1450915200000.0,1296777600000.0,1419984000000.0,1230681600000.0,1258934400000.0,1293494400000.0,1325203200000.0,1340928000000.0,1356825600000.0,1388448000000.0,1419984000000.0,1328227200000.0,1069891200000.0,1202342400000.0,1166745600000.0,1071187200000.0,1095724800000.0,1165276800000.0,1316044800000.0,1072828800000.0,1324598400000.0,1356912000000.0,1388448000000.0,1419984000000.0,1451174400000.0,1414713600000.0,1416528000000.0,1253836800000.0,1253836800000.0,1292889600000.0,1387411200000.0,1419811200000.0,1076457600000.0,1076457600000.0,1077840000000.0,1085702400000.0,1085702400000.0,1090108800000.0,1268956800000.0,1337126400000.0,1403222400000.0,1449619200000.0,1138838400000.0,1356912000000.0,1225411200000.0,1262217600000.0,1293753600000.0,1366761600000.0,1366761600000.0,1208476800000.0,1222387200000.0,1161302400000.0,1280188800000.0,1281052800000.0,1440720000000.0,1242950400000.0,1191196800000.0,1194480000000.0,1202688000000.0,1213315200000.0,1215043200000.0,1101254400000.0,1357862400000.0,1392336000000.0,1101859200000.0,1135900800000.0,1166745600000.0,1210291200000.0,1262217600000.0,1103673600000.0,1222387200000.0,1104537600000.0,1174435200000.0,1103673600000.0,1197590400000.0,1208476800000.0,1171152000000.0,1202688000000.0,1234396800000.0,1265328000000.0,1296777600000.0,1328832000000.0,1360281600000.0,1391558400000.0,1454889600000.0,1356912000000.0,1450137600000.0,1112313600000.0,1356307200000.0,1365465600000.0,1336694400000.0,1336694400000.0,1378425600000.0,1147219200000.0,1182902400000.0,1119830400000.0,1134345600000.0,1204848000000.0,1162252800000.0,1126828800000.0,1126828800000.0,1166745600000.0,1128297600000.0,1163462400000.0,1219276800000.0,1258502400000.0,1346371200000.0,1366761600000.0,1185753600000.0,1388448000000.0,1262217600000.0,1135123200000.0,1166832000000.0,1188345600000.0,1233273600000.0,1295481600000.0,1260748800000.0,1293494400000.0,1450828800000.0,1450828800000.0,1324598400000.0,1447113600000.0,1206576000000.0,1222819200000.0,1222387200000.0,1149638400000.0,1377820800000.0,1411084800000.0,1206057600000.0,1222387200000.0,1255651200000.0,1286409600000.0,1316044800000.0,1348185600000.0,1377820800000.0,1411689600000.0,1430265600000.0,1447891200000.0,1385510400000.0,1391731200000.0,1340928000000.0,1370563200000.0,1399507200000.0,1144195200000.0,1146700800000.0,1150675200000.0,1152489600000.0,1201219200000.0,1147564800000.0,1156896000000.0,1308268800000.0,1323734400000.0,1162252800000.0,1233273600000.0,1179100800000.0,1179100800000.0,1201219200000.0,1165881600000.0,1166572800000.0,1185840000000.0,1388016000000.0,1419984000000.0,1325289600000.0,1354838400000.0,1419811200000.0,1451520000000.0,1167523200000.0,1386979200000.0,1177027200000.0,1230681600000.0,1177632000000.0,1174953600000.0,1272499200000.0,1306281600000.0,1366416000000.0,1384128000000.0,1431475200000.0,1450137600000.0,1450137600000.0,1195171200000.0,1199059200000.0,1190937600000.0,1245196800000.0,1260748800000.0,1293667200000.0,1222732800000.0,1424995200000.0,1424995200000.0,1230681600000.0,1290124800000.0,1290124800000.0,1359676800000.0,1362700800000.0,1368748800000.0,1198800000000.0,1356912000000.0,1320364800000.0,1201219200000.0,1199059200000.0,1325289600000.0,1332288000000.0,1200441600000.0,1386028800000.0,1284422400000.0,1289520000000.0,1380499200000.0,1401494400000.0,1412035200000.0,1433030400000.0,1355788800000.0,1212710400000.0,1277424000000.0,1222992000000.0,1222819200000.0,1220313600000.0,1222992000000.0,1238716800000.0,1326412800000.0,1400630400000.0,1369958400000.0,1230508800000.0,1454025600000.0,1433462400000.0,1453766400000.0,1453766400000.0,1080345600000.0,1182470400000.0,1135900800000.0,1208995200000.0,1216944000000.0,1309910400000.0,1322611200000.0,1450137600000.0,1453766400000.0,1419552000000.0,1451520000000.0,1328227200000.0,1365465600000.0,1365465600000.0,1104105600000.0,1135900800000.0,1167177600000.0,1053129600000.0,1415404800000.0,1451520000000.0,1230681600000.0,1324598400000.0,1332288000000.0,1451347200000.0,1160697600000.0,1174780800000.0,1194393600000.0,1194912000000.0,1351814400000.0,1352160000000.0,1381968000000.0,1382572800000.0,1383696000000.0,1415059200000.0,1415059200000.0,1415059200000.0,1449619200000.0,1449619200000.0,1407888000000.0,1019260800000.0,1074643200000.0,1398902400000.0,1219276800000.0,1176768000000.0,1176768000000.0,1204156800000.0,1204156800000.0,1356912000000.0,1419984000000.0,1432684800000.0,1449619200000.0,1164758400000.0,1424390400000.0,1341878400000.0,1398297600000.0,1451520000000.0,1401753600000.0,1348704000000.0,1354492800000.0,1451174400000.0,1386028800000.0,1419984000000.0,1448409600000.0,1356912000000.0,1399420800000.0,1405036800000.0,1320364800000.0,1417996800000.0,1278547200000.0,1261526400000.0,1285545600000.0,1309910400000.0,1450656000000.0,1450656000000.0,1419811200000.0,1293753600000.0,1273190400000.0,1290038400000.0,1297382400000.0,1354233600000.0,1419292800000.0,1451520000000.0,1356307200000.0,1356652800000.0,1353542400000.0,1395878400000.0,1421798400000.0,1424822400000.0,1442534400000.0,1445904000000.0,1419984000000.0,1450742400000.0,1450742400000.0,1416873600000.0,1450051200000.0,1276819200000.0,1293062400000.0,1451520000000.0,1448841600000.0,1392854400000.0,1395964800000.0,1399939200000.0,1324598400000.0,1398816000000.0,1448236800000.0,1448236800000.0,1427673600000.0,1291334400000.0,1388448000000.0,1404345600000.0,1395792000000.0,1262217600000.0,1383868800000.0,1325289600000.0,1356652800000.0,1291852800000.0,1416355200000.0,1454889600000.0,1406246400000.0,1325030400000.0,1419984000000.0,1450656000000.0,1450310400000.0,1451520000000.0,1233273600000.0,1260316800000.0,1295568000000.0,1325289600000.0,1357862400000.0,1392940800000.0,1416873600000.0,1419292800000.0,1450137600000.0,1293753600000.0,1389830400000.0,1450656000000.0,1292457600000.0,1404086400000.0,1422662400000.0,1451520000000.0,1444953600000.0,1398297600000.0,1419552000000.0,1409788800000.0,1419984000000.0,1356912000000.0,1305158400000.0,1417305600000.0,1422662400000.0,1275868800000.0,1380240000000.0,1403222400000.0,1447113600000.0,1367539200000.0,1419984000000.0,1451520000000.0,1388448000000.0,1419984000000.0,1426723200000.0,1451520000000.0,1291075200000.0,1387152000000.0,1437091200000.0,1397520000000.0,1309910400000.0,1415923200000.0,1450137600000.0,1385942400000.0,1344556800000.0,1450137600000.0,1450137600000.0,1325289600000.0,1366934400000.0,1412294400000.0,1374192000000.0,1449532800000.0,1365120000000.0,1396915200000.0,1397520000000.0,1398988800000.0,1400544000000.0,1400716800000.0,1401235200000.0,1301011200000.0,1451174400000.0,1398297600000.0,1417737600000.0,1450310400000.0,1399334400000.0,1429747200000.0,1397433600000.0,1356307200000.0],\"y\":[50000.0,21000.0,9000.0,7221.0,5008.0,14159.0,5588.0,10000.0,11604.0,11604.0,12000.0,12000.0,8703.0,9000.0,10000.0,12701.0,6684.0,10713.0,10872.0,20094.0,5570.0,5605.0,5240.0,8052.04,5918.0,5520.0,111405.0,97860.5,89049.0,6435.0,10001.0,10000.0,11000.0,20000.0,20000.0,20000.0,6138.23,10000.0,10000.0,12500.0,12500.0,12500.0,12500.0,12500.0,25000.0,25000.0,25002.0,10000.0,100000.0,10000.0,20000.0,10000.0,10000.0,10000.0,10000.0,10000.0,5300.0,36000.0,10001.0,6000.0,5605.0,10000.0,9782.17,10000.0,50000.0,50000.0,7048.0,9598.15,13893.31,13393.76,15748.92,20000.0,37087.14,50000.0,10000.0,20000.0,20000.0,10000.0,10000.0,10000.0,10000.0,40000.0,10001.0,30381.97,8202.0,6800.0,20000.0,6000.0,5100.0,7400.0,50000.0,6000.0,30000.0,25000.0,15000.0,18664.0,7500.0,7500.0,10000.0,10000.0,20000.0,8000.0,10000.0,9900.0,9900.0,10000.0,55000.0,45000.0,25000.0,10000.0,5400.0,6000.0,6000.0,10000.0,5058.11,5454.0,5200.0,8000.0,10000.0,15000.0,10000.0,8000.0,10000.0,10008.0,5008.0,5008.0,5001.0,10000.0,25000.0,25000.0,26000.0,24000.0,7500.0,9000.0,15000.0,10000.0,12500.0,12500.0,25000.0,10000.0,20001.0,15000.0,10000.0,9736.0,5001.0,22000.0,25000.0,6171.17,8087.03,6553.11,8195.62,6276.77,8145.63,6596.47,10479.8,9262.58,12000.0,10000.0,10000.0,6000.0,6000.0,11000.0,10000.0,5100.0,10000.0,10000.0,10000.0,20000.0,25000.0,5001.0,10000.0,40000.0,30000.0,5500.0,25000.0,25000.0,25000.0,8500.0,10000.0,27730.0,10000.0,5101.0,5692.0,13791.0,9274.0,19000.0,33000.0,10000.0,10000.0,5758.67,5758.68,10000.0,20000.0,11001.0,14000.0,10000.0,5001.0,5001.0,5001.0,5001.0,5001.0,5001.0,5001.0,10001.0,5001.0,5001.0,5001.0,5001.0,5001.0,10000.0,5071.0,10000.0,10000.0,10000.0,50000.0,23000.0,23000.0,5001.0,15000.0,6519.62,5001.0,10001.0,11000.0,25000.0,10000.0,10000.0,10000.0,10000.0,5145.0,23000.0,23000.0,7500.0,10001.0,10000.0,5001.0,21000.0,25100.0,7000.0,10000.0,10000.0,15000.0,6380.0,6313.44,6200.0,10000.0,7250.0,10000.0,10000.0,19500.0,20000.0,40000.0,60000.0,5551.0,12487.5,21547.59,10540.0,5001.0,30000.0,29300.0,5001.0,27236.9,100000.0,90335.14,9413.84,17816.65,10000.0,20000.0,13000.0,30000.0,6500.0,6000.0,6000.0,10000.0,10001.0,6002.0,6002.0,10000.0,7500.0,6500.0,7500.0,50000.0,25000.0,5101.0,10000.0,50000.0,10000.0,25000.0,25000.0,100000.0,15000.0,10000.0,16325.29,5164.73,20000.0,10000.0,10000.0,10000.0,13236.19,10000.0,5500.0,5500.0,7000.0,7000.0,10000.0,9320.94,10000.0,10000.0,40001.0,5001.0,5001.0,6637.0,15000.0,100000.0,6500.0,5001.0,10001.0,6000.0,6000.0,6000.0,50000.0,10620.0,7047.45,17328.0,19653.01,64905.0,85000.0,180000.0,14000.0,5200.0,38772.9,89621.92,89308.0,248000.0,25183.5,6120.0,6000.0,5001.0,8000.0,20875.0,6359.75,6359.75,6761.22,5778.22,10000.0,10000.0,10000.0,15000.0,9000.0,100000.0,5900.0,11000.0,10000.0,10000.0,10000.0,10000.0,50000.0,5700.0,10000.0,10000.0,5500.0,10000.0,18407.2,10000.0,10000.0,5100.0,10000.0,8000.0,9250.0,9000.0,10000.0,21000.0,7450.0,25000.0,10000.0,9000.0,6500.0,20000.0,20000.0,10000.0,7020.0,10000.0,40000.0,101000.0,100000.0,20000.0,60000.0,40000.0,50000.0,50000.0,10000.0,15000.0,9000.0,10961.31,7000.0,25000.0,15000.0,15000.0,10000.0,10000.0,10000.0,10000.0,10000.0,20000.0,15000.0,11111.0,5008.0,7500.0,35510.84,11000.0,10000.0,10000.0,5039.94,30000.0,35000.0,8500.0,10000.0,20000.0,20000.0,10000.0,10000.0,20000.0,20000.0,15000.0,20000.0,20000.0,20000.0,20000.0,20000.0,40000.0,6000.0,6000.0,10000.0,10000.0,9000.0,10000.0,5500.0,20000.0,8712.0,6030.0,5500.0,10000.0,5600.0,50000.0,20000.0,30000.0,6345.0,5500.0,5250.0,5250.0,90000.0,10000.0,18767.54,10000.0,10000.0,6000.0,10100.0,10000.0,7500.0,10000.0,13000.0,5250.0,10000.0,19000.0,10000.0,10000.0,10000.0,10000.0,5100.0,5001.0,6000.0,5921.78,14805.0,15000.0,28457.0,20285.76,11332.0,10268.72,5768.4,7873.36,12476.0,10000.0,7500.0,7500.0,6000.0,18000.0,18000.0,6500.0,10001.0]}},\"id\":\"b08af7ee-d1b9-4166-bd6f-67e17706905a\",\"type\":\"ColumnDataSource\"},{\"attributes\":{\"data_source\":{\"id\":\"b08af7ee-d1b9-4166-bd6f-67e17706905a\",\"type\":\"ColumnDataSource\"},\"glyph\":{\"id\":\"07dccff3-a60e-4c77-8559-bcf29cfa72ba\",\"type\":\"Circle\"},\"hover_glyph\":null,\"nonselection_glyph\":{\"id\":\"f8446068-16b2-4282-8c0b-ad5a1110cc66\",\"type\":\"Circle\"},\"selection_glyph\":null},\"id\":\"ffab5f59-9eca-4e4e-9c56-f1002bc52b66\",\"type\":\"GlyphRenderer\"},{\"attributes\":{\"dimension\":1,\"plot\":{\"id\":\"6f91b7ae-cec9-424f-9031-2eff2d2c9e18\",\"subtype\":\"Figure\",\"type\":\"Plot\"},\"ticker\":{\"id\":\"3c936451-1f58-49f4-879d-0e09e9a92670\",\"type\":\"BasicTicker\"}},\"id\":\"f5a5be03-0242-4040-838a-d5a5812ab349\",\"type\":\"Grid\"},{\"attributes\":{\"formatter\":{\"id\":\"1877c04f-8419-4df3-b3d6-0770f7ac127f\",\"type\":\"BasicTickFormatter\"},\"plot\":{\"id\":\"6f91b7ae-cec9-424f-9031-2eff2d2c9e18\",\"subtype\":\"Figure\",\"type\":\"Plot\"},\"ticker\":{\"id\":\"3c936451-1f58-49f4-879d-0e09e9a92670\",\"type\":\"BasicTicker\"}},\"id\":\"5e52782b-ae94-4183-a75e-aed043b76217\",\"type\":\"LinearAxis\"},{\"attributes\":{},\"id\":\"ce084695-cf56-492c-9345-d56a71bcffd0\",\"type\":\"BasicTicker\"},{\"attributes\":{\"callback\":null},\"id\":\"83fb34f5-0803-4efe-8705-1d7bd0b78727\",\"type\":\"DataRange1d\"},{\"attributes\":{\"fill_alpha\":{\"value\":0.1},\"fill_color\":{\"value\":\"#1f77b4\"},\"line_alpha\":{\"value\":0.1},\"line_color\":{\"value\":\"#1f77b4\"},\"size\":{\"units\":\"screen\",\"value\":5},\"x\":{\"field\":\"x\"},\"y\":{\"field\":\"y\"}},\"id\":\"aab12f12-c8da-4222-ba64-8476266762ce\",\"type\":\"Circle\"},{\"attributes\":{\"callback\":null},\"id\":\"5d406106-5ded-44b5-8b1c-4707c5b5b641\",\"type\":\"DataRange1d\"},{\"attributes\":{\"callback\":null},\"id\":\"e3b9065f-99b5-4d7d-98bd-1efd71ed5bac\",\"type\":\"DataRange1d\"},{\"attributes\":{},\"id\":\"3c936451-1f58-49f4-879d-0e09e9a92670\",\"type\":\"BasicTicker\"},{\"attributes\":{},\"id\":\"0e1fd5a6-8637-402a-b04c-fde2ffa91502\",\"type\":\"ToolEvents\"},{\"attributes\":{\"fill_color\":{\"value\":\"#1f77b4\"},\"line_color\":{\"value\":\"#1f77b4\"},\"size\":{\"units\":\"screen\",\"value\":5},\"x\":{\"field\":\"x\"},\"y\":{\"field\":\"y\"}},\"id\":\"92aac594-c119-49f4-b22c-8a42dc2dd8cb\",\"type\":\"Circle\"},{\"attributes\":{\"formatter\":{\"id\":\"f5b7312c-a09b-464d-ab06-aa796337ddd4\",\"type\":\"BasicTickFormatter\"},\"plot\":{\"id\":\"7ba11aa8-33f5-48b7-81ee-683e1f6dfe80\",\"subtype\":\"Figure\",\"type\":\"Plot\"},\"ticker\":{\"id\":\"de4760dc-e882-4343-9a5d-8b8d1259a773\",\"type\":\"BasicTicker\"}},\"id\":\"4ee316f4-be29-4f8c-a122-958fc126c75c\",\"type\":\"LinearAxis\"},{\"attributes\":{\"fill_color\":{\"value\":\"#1f77b4\"},\"line_color\":{\"value\":\"#1f77b4\"},\"size\":{\"units\":\"screen\",\"value\":5},\"x\":{\"field\":\"x\"},\"y\":{\"field\":\"y\"}},\"id\":\"07dccff3-a60e-4c77-8559-bcf29cfa72ba\",\"type\":\"Circle\"},{\"attributes\":{\"fill_alpha\":{\"value\":0.1},\"fill_color\":{\"value\":\"#1f77b4\"},\"line_alpha\":{\"value\":0.1},\"line_color\":{\"value\":\"#1f77b4\"},\"size\":{\"units\":\"screen\",\"value\":5},\"x\":{\"field\":\"x\"},\"y\":{\"field\":\"y\"}},\"id\":\"f8446068-16b2-4282-8c0b-ad5a1110cc66\",\"type\":\"Circle\"},{\"attributes\":{\"dimension\":1,\"plot\":{\"id\":\"7ba11aa8-33f5-48b7-81ee-683e1f6dfe80\",\"subtype\":\"Figure\",\"type\":\"Plot\"},\"ticker\":{\"id\":\"3cc3f253-4006-429b-aae7-3e8626993670\",\"type\":\"BasicTicker\"}},\"id\":\"926843fc-90df-4716-ad4e-41cbd3a02a1a\",\"type\":\"Grid\"},{\"attributes\":{\"plot\":{\"id\":\"7ba11aa8-33f5-48b7-81ee-683e1f6dfe80\",\"subtype\":\"Figure\",\"type\":\"Plot\"},\"ticker\":{\"id\":\"de4760dc-e882-4343-9a5d-8b8d1259a773\",\"type\":\"BasicTicker\"}},\"id\":\"d2281323-21f4-4113-b999-de7bc76749fd\",\"type\":\"Grid\"},{\"attributes\":{\"callback\":null,\"column_names\":[\"states\",\"y\",\"dates\",\"amounts\",\"x\",\"donor_ids\"],\"data\":{\"amounts\":[\"50,000.00\",\"21,000.00\",\"9,000.00\",\"7,221.00\",\"5,008.00\",\"14,159.00\",\"5,588.00\",\"10,000.00\",\"750,000.00\",\"45,000.00\",\"1,250,000.00\",\"1,000,000.00\",\"1,500,000.00\",\"5,000,000.00\",\"11,604.00\",\"11,604.00\",\"12,000.00\",\"12,000.00\",\"8,703.00\",\"9,000.00\",\"10,000.00\",\"12,701.00\",\"6,684.00\",\"10,713.00\",\"10,872.00\",\"20,094.00\",\"5,570.00\",\"5,605.00\",\"5,240.00\",\"8,052.04\",\"5,918.00\",\"5,520.00\",\"111,405.00\",\"97,860.50\",\"89,049.00\",\"6,435.00\",\"10,001.00\",\"10,000.00\",\"11,000.00\",\"20,000.00\",\"20,000.00\",\"20,000.00\",\"6,138.23\",\"10,000.00\",\"10,000.00\",\"12,500.00\",\"12,500.00\",\"12,500.00\",\"12,500.00\",\"12,500.00\",\"25,000.00\",\"25,000.00\",\"25,002.00\",\"10,000.00\",\"100,000.00\",\"10,000.00\",\"20,000.00\",\"10,000.00\",\"10,000.00\",\"10,000.00\",\"10,000.00\",\"10,000.00\",\"5,300.00\",\"36,000.00\",\"10,001.00\",\"6,000.00\",\"5,605.00\",\"10,000.00\",\"9,782.17\",\"10,000.00\",\"50,000.00\",\"50,000.00\",\"7,048.00\",\"9,598.15\",\"13,893.31\",\"13,393.76\",\"15,748.92\",\"20,000.00\",\"37,087.14\",\"50,000.00\",\"10,000.00\",\"20,000.00\",\"20,000.00\",\"10,000.00\",\"10,000.00\",\"10,000.00\",\"10,000.00\",\"40,000.00\",\"10,001.00\",\"30,381.97\",\"8,202.00\",\"6,800.00\",\"20,000.00\",\"6,000.00\",\"5,100.00\",\"7,400.00\",\"50,000.00\",\"6,000.00\",\"30,000.00\",\"25,000.00\",\"15,000.00\",\"18,664.00\",\"7,500.00\",\"7,500.00\",\"10,000.00\",\"10,000.00\",\"20,000.00\",\"8,000.00\",\"10,000.00\",\"9,900.00\",\"9,900.00\",\"10,000.00\",\"55,000.00\",\"45,000.00\",\"25,000.00\",\"10,000.00\",\"5,400.00\",\"6,000.00\",\"6,000.00\",\"10,000.00\",\"5,058.11\",\"5,454.00\",\"5,200.00\",\"8,000.00\",\"10,000.00\",\"15,000.00\",\"10,000.00\",\"8,000.00\",\"10,000.00\",\"10,008.00\",\"5,008.00\",\"5,008.00\",\"5,001.00\",\"10,000.00\",\"25,000.00\",\"25,000.00\",\"26,000.00\",\"24,000.00\",\"7,500.00\",\"9,000.00\",\"15,000.00\",\"10,000.00\",\"12,500.00\",\"12,500.00\",\"25,000.00\",\"10,000.00\",\"20,001.00\",\"15,000.00\",\"10,000.00\",\"9,736.00\",\"5,001.00\",\"22,000.00\",\"25,000.00\",\"6,171.17\",\"8,087.03\",\"6,553.11\",\"8,195.62\",\"6,276.77\",\"8,145.63\",\"6,596.47\",\"10,479.80\",\"9,262.58\",\"12,000.00\",\"10,000.00\",\"10,000.00\",\"6,000.00\",\"6,000.00\",\"11,000.00\",\"10,000.00\",\"5,100.00\",\"10,000.00\",\"10,000.00\",\"10,000.00\",\"20,000.00\",\"25,000.00\",\"5,001.00\",\"10,000.00\",\"40,000.00\",\"30,000.00\",\"5,500.00\",\"25,000.00\",\"25,000.00\",\"25,000.00\",\"8,500.00\",\"10,000.00\",\"27,730.00\",\"10,000.00\",\"5,101.00\",\"5,692.00\",\"13,791.00\",\"9,274.00\",\"19,000.00\",\"33,000.00\",\"10,000.00\",\"10,000.00\",\"5,758.67\",\"5,758.68\",\"10,000.00\",\"20,000.00\",\"11,001.00\",\"14,000.00\",\"10,000.00\",\"5,001.00\",\"5,001.00\",\"5,001.00\",\"5,001.00\",\"5,001.00\",\"5,001.00\",\"5,001.00\",\"10,001.00\",\"5,001.00\",\"5,001.00\",\"5,001.00\",\"5,001.00\",\"5,001.00\",\"10,000.00\",\"5,071.00\",\"10,000.00\",\"10,000.00\",\"10,000.00\",\"50,000.00\",\"23,000.00\",\"23,000.00\",\"5,001.00\",\"15,000.00\",\"6,519.62\",\"5,001.00\",\"10,001.00\",\"11,000.00\",\"25,000.00\",\"10,000.00\",\"10,000.00\",\"10,000.00\",\"10,000.00\",\"5,145.00\",\"23,000.00\",\"23,000.00\",\"7,500.00\",\"10,001.00\",\"10,000.00\",\"5,001.00\",\"21,000.00\",\"25,100.00\",\"7,000.00\",\"10,000.00\",\"10,000.00\",\"15,000.00\",\"6,380.00\",\"6,313.44\",\"6,200.00\",\"10,000.00\",\"7,250.00\",\"10,000.00\",\"10,000.00\",\"19,500.00\",\"20,000.00\",\"40,000.00\",\"60,000.00\",\"5,551.00\",\"12,487.50\",\"21,547.59\",\"10,540.00\",\"5,001.00\",\"30,000.00\",\"29,300.00\",\"5,001.00\",\"27,236.90\",\"100,000.00\",\"90,335.14\",\"9,413.84\",\"17,816.65\",\"10,000.00\",\"20,000.00\",\"13,000.00\",\"30,000.00\",\"6,500.00\",\"6,000.00\",\"6,000.00\",\"10,000.00\",\"10,001.00\",\"6,002.00\",\"6,002.00\",\"10,000.00\",\"7,500.00\",\"6,500.00\",\"7,500.00\",\"50,000.00\",\"25,000.00\",\"5,101.00\",\"10,000.00\",\"50,000.00\",\"10,000.00\",\"25,000.00\",\"25,000.00\",\"100,000.00\",\"15,000.00\",\"10,000.00\",\"16,325.29\",\"5,164.73\",\"20,000.00\",\"10,000.00\",\"10,000.00\",\"10,000.00\",\"13,236.19\",\"10,000.00\",\"5,500.00\",\"5,500.00\",\"7,000.00\",\"7,000.00\",\"10,000.00\",\"9,320.94\",\"10,000.00\",\"10,000.00\",\"40,001.00\",\"5,001.00\",\"5,001.00\",\"6,637.00\",\"15,000.00\",\"100,000.00\",\"6,500.00\",\"5,001.00\",\"10,001.00\",\"6,000.00\",\"6,000.00\",\"6,000.00\",\"50,000.00\",\"10,620.00\",\"7,047.45\",\"17,328.00\",\"19,653.01\",\"64,905.00\",\"85,000.00\",\"180,000.00\",\"14,000.00\",\"5,200.00\",\"38,772.90\",\"89,621.92\",\"89,308.00\",\"248,000.00\",\"25,183.50\",\"6,120.00\",\"6,000.00\",\"5,001.00\",\"8,000.00\",\"20,875.00\",\"6,359.75\",\"6,359.75\",\"6,761.22\",\"5,778.22\",\"10,000.00\",\"10,000.00\",\"10,000.00\",\"15,000.00\",\"9,000.00\",\"100,000.00\",\"5,900.00\",\"11,000.00\",\"10,000.00\",\"10,000.00\",\"10,000.00\",\"10,000.00\",\"50,000.00\",\"5,700.00\",\"10,000.00\",\"10,000.00\",\"5,500.00\",\"10,000.00\",\"18,407.20\",\"10,000.00\",\"10,000.00\",\"5,100.00\",\"10,000.00\",\"8,000.00\",\"9,250.00\",\"9,000.00\",\"10,000.00\",\"21,000.00\",\"7,450.00\",\"25,000.00\",\"10,000.00\",\"9,000.00\",\"6,500.00\",\"20,000.00\",\"20,000.00\",\"10,000.00\",\"7,020.00\",\"10,000.00\",\"40,000.00\",\"101,000.00\",\"100,000.00\",\"20,000.00\",\"60,000.00\",\"40,000.00\",\"50,000.00\",\"50,000.00\",\"10,000.00\",\"15,000.00\",\"9,000.00\",\"10,961.31\",\"7,000.00\",\"25,000.00\",\"15,000.00\",\"15,000.00\",\"10,000.00\",\"10,000.00\",\"10,000.00\",\"10,000.00\",\"10,000.00\",\"20,000.00\",\"15,000.00\",\"11,111.00\",\"5,008.00\",\"7,500.00\",\"35,510.84\",\"11,000.00\",\"10,000.00\",\"10,000.00\",\"5,039.94\",\"30,000.00\",\"35,000.00\",\"8,500.00\",\"10,000.00\",\"20,000.00\",\"20,000.00\",\"10,000.00\",\"10,000.00\",\"20,000.00\",\"20,000.00\",\"15,000.00\",\"20,000.00\",\"20,000.00\",\"20,000.00\",\"20,000.00\",\"20,000.00\",\"40,000.00\",\"6,000.00\",\"6,000.00\",\"10,000.00\",\"10,000.00\",\"9,000.00\",\"10,000.00\",\"5,500.00\",\"20,000.00\",\"8,712.00\",\"6,030.00\",\"5,500.00\",\"10,000.00\",\"5,600.00\",\"50,000.00\",\"20,000.00\",\"30,000.00\",\"6,345.00\",\"5,500.00\",\"5,250.00\",\"5,250.00\",\"90,000.00\",\"10,000.00\",\"18,767.54\",\"10,000.00\",\"10,000.00\",\"6,000.00\",\"10,100.00\",\"10,000.00\",\"7,500.00\",\"10,000.00\",\"13,000.00\",\"5,250.00\",\"10,000.00\",\"19,000.00\",\"10,000.00\",\"10,000.00\",\"10,000.00\",\"10,000.00\",\"5,100.00\",\"5,001.00\",\"6,000.00\",\"5,921.78\",\"14,805.00\",\"15,000.00\",\"28,457.00\",\"20,285.76\",\"11,332.00\",\"10,268.72\",\"5,768.40\",\"7,873.36\",\"12,476.00\",\"10,000.00\",\"7,500.00\",\"7,500.00\",\"6,000.00\",\"18,000.00\",\"18,000.00\",\"6,500.00\",\"10,001.00\"],\"dates\":[\"2013_2\",\"2014_12\",\"2014_12\",\"2002_12\",\"2002_12\",\"2002_12\",\"2003_1\",\"2003_11\",\"2008_10\",\"2010_6\",\"2010_10\",\"2012_9\",\"2012_9\",\"2014_8\",\"2006_11\",\"2006_12\",\"2007_2\",\"2007_6\",\"2007_12\",\"2008_2\",\"2012_12\",\"2006_8\",\"2006_10\",\"2007_4\",\"2007_11\",\"2008_7\",\"2009_5\",\"2012_6\",\"2012_8\",\"2012_12\",\"2013_5\",\"2013_9\",\"2014_6\",\"2014_6\",\"2014_8\",\"2014_2\",\"2008_6\",\"2006_11\",\"2007_4\",\"2013_11\",\"2014_12\",\"2015_12\",\"2011_4\",\"2003_12\",\"2004_7\",\"2006_1\",\"2007_1\",\"2007_12\",\"2008_12\",\"2008_12\",\"2009_9\",\"2010_1\",\"2010_7\",\"2010_9\",\"2010_10\",\"2012_1\",\"2012_2\",\"2012_4\",\"2012_12\",\"2013_12\",\"2014_6\",\"2014_11\",\"2014_11\",\"2008_6\",\"2011_12\",\"2011_12\",\"2005_5\",\"2013_12\",\"2004_2\",\"2013_12\",\"2003_8\",\"2004_1\",\"2003_7\",\"2003_9\",\"2003_10\",\"2003_11\",\"2003_12\",\"2015_12\",\"2011_2\",\"2014_12\",\"2008_12\",\"2009_11\",\"2010_12\",\"2011_12\",\"2012_6\",\"2012_12\",\"2013_12\",\"2014_12\",\"2012_2\",\"2003_11\",\"2008_2\",\"2006_12\",\"2003_12\",\"2004_9\",\"2006_12\",\"2011_9\",\"2003_12\",\"2011_12\",\"2012_12\",\"2013_12\",\"2014_12\",\"2015_12\",\"2014_10\",\"2014_11\",\"2009_9\",\"2009_9\",\"2010_12\",\"2013_12\",\"2014_12\",\"2004_2\",\"2004_2\",\"2004_2\",\"2004_5\",\"2004_5\",\"2004_7\",\"2010_3\",\"2012_5\",\"2014_6\",\"2015_12\",\"2006_2\",\"2012_12\",\"2008_10\",\"2009_12\",\"2010_12\",\"2013_4\",\"2013_4\",\"2008_4\",\"2008_9\",\"2006_10\",\"2010_7\",\"2010_8\",\"2015_8\",\"2009_5\",\"2007_10\",\"2007_11\",\"2008_2\",\"2008_6\",\"2008_7\",\"2004_11\",\"2013_1\",\"2014_2\",\"2004_12\",\"2005_12\",\"2006_12\",\"2008_5\",\"2009_12\",\"2004_12\",\"2008_9\",\"2005_1\",\"2007_3\",\"2004_12\",\"2007_12\",\"2008_4\",\"2007_2\",\"2008_2\",\"2009_2\",\"2010_2\",\"2011_2\",\"2012_2\",\"2013_2\",\"2014_2\",\"2016_2\",\"2012_12\",\"2015_12\",\"2005_4\",\"2012_12\",\"2013_4\",\"2012_5\",\"2012_5\",\"2013_9\",\"2006_5\",\"2007_6\",\"2005_6\",\"2005_12\",\"2008_3\",\"2006_10\",\"2005_9\",\"2005_9\",\"2006_12\",\"2005_10\",\"2006_11\",\"2008_8\",\"2009_11\",\"2012_8\",\"2013_4\",\"2007_7\",\"2013_12\",\"2009_12\",\"2005_12\",\"2006_12\",\"2007_8\",\"2009_1\",\"2011_1\",\"2009_12\",\"2010_12\",\"2015_12\",\"2015_12\",\"2011_12\",\"2015_11\",\"2008_3\",\"2008_10\",\"2008_9\",\"2006_6\",\"2013_8\",\"2014_9\",\"2008_3\",\"2008_9\",\"2009_10\",\"2010_10\",\"2011_9\",\"2012_9\",\"2013_8\",\"2014_9\",\"2015_4\",\"2015_11\",\"2013_11\",\"2014_2\",\"2012_6\",\"2013_6\",\"2014_5\",\"2006_4\",\"2006_5\",\"2006_6\",\"2006_7\",\"2008_1\",\"2006_5\",\"2006_8\",\"2011_6\",\"2011_12\",\"2006_10\",\"2009_1\",\"2007_5\",\"2007_5\",\"2008_1\",\"2006_12\",\"2006_12\",\"2007_7\",\"2013_12\",\"2014_12\",\"2011_12\",\"2012_12\",\"2014_12\",\"2015_12\",\"2006_12\",\"2013_12\",\"2007_4\",\"2008_12\",\"2007_4\",\"2007_3\",\"2010_4\",\"2011_5\",\"2013_4\",\"2013_11\",\"2015_5\",\"2015_12\",\"2015_12\",\"2007_11\",\"2007_12\",\"2007_9\",\"2009_6\",\"2009_12\",\"2010_12\",\"2008_9\",\"2015_2\",\"2015_2\",\"2008_12\",\"2010_11\",\"2010_11\",\"2013_2\",\"2013_3\",\"2013_5\",\"2007_12\",\"2012_12\",\"2011_11\",\"2008_1\",\"2007_12\",\"2011_12\",\"2012_3\",\"2008_1\",\"2013_12\",\"2010_9\",\"2010_11\",\"2013_9\",\"2014_5\",\"2014_9\",\"2015_5\",\"2012_12\",\"2008_6\",\"2010_6\",\"2008_10\",\"2008_10\",\"2008_9\",\"2008_10\",\"2009_4\",\"2012_1\",\"2014_5\",\"2013_5\",\"2008_12\",\"2016_1\",\"2015_6\",\"2016_1\",\"2016_1\",\"2004_3\",\"2007_6\",\"2005_12\",\"2008_4\",\"2008_7\",\"2011_7\",\"2011_11\",\"2015_12\",\"2016_1\",\"2014_12\",\"2015_12\",\"2012_2\",\"2013_4\",\"2013_4\",\"2004_12\",\"2005_12\",\"2006_12\",\"2003_5\",\"2014_11\",\"2015_12\",\"2008_12\",\"2011_12\",\"2012_3\",\"2015_12\",\"2006_10\",\"2007_3\",\"2007_11\",\"2007_11\",\"2012_11\",\"2012_11\",\"2013_10\",\"2013_10\",\"2013_11\",\"2014_11\",\"2014_11\",\"2014_11\",\"2015_12\",\"2015_12\",\"2014_8\",\"2002_4\",\"2004_1\",\"2014_5\",\"2008_8\",\"2007_4\",\"2007_4\",\"2008_2\",\"2008_2\",\"2012_12\",\"2014_12\",\"2015_5\",\"2015_12\",\"2006_11\",\"2015_2\",\"2012_7\",\"2014_4\",\"2015_12\",\"2014_6\",\"2012_9\",\"2012_12\",\"2015_12\",\"2013_12\",\"2014_12\",\"2015_11\",\"2012_12\",\"2014_5\",\"2014_7\",\"2011_11\",\"2014_12\",\"2010_7\",\"2009_12\",\"2010_9\",\"2011_7\",\"2015_12\",\"2015_12\",\"2014_12\",\"2010_12\",\"2010_5\",\"2010_11\",\"2011_2\",\"2012_11\",\"2014_12\",\"2015_12\",\"2012_12\",\"2012_12\",\"2012_11\",\"2014_3\",\"2015_1\",\"2015_2\",\"2015_9\",\"2015_10\",\"2014_12\",\"2015_12\",\"2015_12\",\"2014_11\",\"2015_12\",\"2010_6\",\"2010_12\",\"2015_12\",\"2015_11\",\"2014_2\",\"2014_3\",\"2014_5\",\"2011_12\",\"2014_4\",\"2015_11\",\"2015_11\",\"2015_3\",\"2010_12\",\"2013_12\",\"2014_7\",\"2014_3\",\"2009_12\",\"2013_11\",\"2011_12\",\"2012_12\",\"2010_12\",\"2014_11\",\"2016_2\",\"2014_7\",\"2011_12\",\"2014_12\",\"2015_12\",\"2015_12\",\"2015_12\",\"2009_1\",\"2009_12\",\"2011_1\",\"2011_12\",\"2013_1\",\"2014_2\",\"2014_11\",\"2014_12\",\"2015_12\",\"2010_12\",\"2014_1\",\"2015_12\",\"2010_12\",\"2014_6\",\"2015_1\",\"2015_12\",\"2015_10\",\"2014_4\",\"2014_12\",\"2014_9\",\"2014_12\",\"2012_12\",\"2011_5\",\"2014_11\",\"2015_1\",\"2010_6\",\"2013_9\",\"2014_6\",\"2015_11\",\"2013_5\",\"2014_12\",\"2015_12\",\"2013_12\",\"2014_12\",\"2015_3\",\"2015_12\",\"2010_11\",\"2013_12\",\"2015_7\",\"2014_4\",\"2011_7\",\"2014_11\",\"2015_12\",\"2013_12\",\"2012_8\",\"2015_12\",\"2015_12\",\"2011_12\",\"2013_4\",\"2014_10\",\"2013_7\",\"2015_12\",\"2013_4\",\"2014_4\",\"2014_4\",\"2014_5\",\"2014_5\",\"2014_5\",\"2014_5\",\"2011_3\",\"2015_12\",\"2014_4\",\"2014_12\",\"2015_12\",\"2014_5\",\"2015_4\",\"2014_4\",\"2012_12\"],\"donor_ids\":[\"1906903249\",\"3560087650\",\"9419241384\",\"_0R51EHAFW\",\"_0R51EHAFW\",\"_0R51EHAFW\",\"_0R51EHAFW\",\"_0RR14718B\",\"_0S804O0L4\",\"_0S804O0L4\",\"_0S804O0L4\",\"_0S804O0L4\",\"_0S804O0L4\",\"_0S804O0L4\",\"_0SG16XQIA\",\"_0SG16XQIA\",\"_0SG16XQIA\",\"_0SG16XQIA\",\"_0SG16XQIA\",\"_0SG16XQIA\",\"_0SN00TMU8\",\"_0SR06KMDG\",\"_0SR06KMDG\",\"_0SR06KMDG\",\"_0SR06KMDG\",\"_0SR06KMDG\",\"_0SR06KMDG\",\"_0SR06KMDG\",\"_0SR06KMDG\",\"_0SR06KMDG\",\"_0SR06KMDG\",\"_0SR06KMDG\",\"_0SR06KMDG\",\"_0SR06KMDG\",\"_0SR06KMDG\",\"_0SU19SDAG\",\"_0T115Z73P\",\"_0TE0561C5\",\"_0TE0561C5\",\"_0TE0561C5\",\"_0TE0561C5\",\"_0TE0561C5\",\"_0U117RZHV\",\"_0U117ZGHG\",\"_0U117ZGHG\",\"_0U117ZGHG\",\"_0U117ZGHG\",\"_0U117ZGHG\",\"_0U117ZGHG\",\"_0U117ZGHG\",\"_0U117ZGHG\",\"_0U117ZGHG\",\"_0U117ZGHG\",\"_0U117ZGHG\",\"_0U117ZGHG\",\"_0U117ZGHG\",\"_0U117ZGHG\",\"_0U117ZGHG\",\"_0U117ZGHG\",\"_0U117ZGHG\",\"_0U117ZGHG\",\"_0U117ZGHG\",\"_0UN11ND9A\",\"_0VN105I9W\",\"_0WC0X6QVH\",\"_0WR0SFYFQ\",\"_0X40YFRZB\",\"_0XE14HB3G\",\"_0ZY11C958\",\"_0ZY11C958\",\"_10C1FEXPZ\",\"_10C1FEXPZ\",\"_10C1FEXQS\",\"_10C1FEXQS\",\"_10C1FEXQS\",\"_10C1FEXQS\",\"_10C1FEXQS\",\"_10P0WHY8I\",\"_12W01JB3I\",\"_12W01JB3I\",\"_13M1FFWVN\",\"_13M1FFWVN\",\"_13M1FFWVN\",\"_13M1FFWVN\",\"_13M1FFWVN\",\"_13M1FFWVN\",\"_13M1FFWVN\",\"_13M1FFWVN\",\"_13M1FFYFH\",\"_13S12DJ86\",\"_13S12DJ86\",\"_14615CARI\",\"_1470QIZ5B\",\"_1470QIZ5B\",\"_14A0ZPYZC\",\"_14A0ZPYZC\",\"_14P0QQ817\",\"_14Y10E94K\",\"_14Y10E94K\",\"_14Y10E94K\",\"_14Y10E94K\",\"_14Y10E94K\",\"_1580TS6L1\",\"_1580TS6L1\",\"_15V03A5ET\",\"_15V03A5ET\",\"_15V03A5ET\",\"_15V03A5ET\",\"_15V03A5ET\",\"_15Y0Y4UGN\",\"_15Y0Y4UGN\",\"_16A1CR6Y1\",\"_18W0OKMMB\",\"_18W0OKMMB\",\"_1AC057BGN\",\"_1AO05EZGJ\",\"_1AO05EZGJ\",\"_1AO05EZGJ\",\"_1AO05EZGJ\",\"_1AW0Y0KSX\",\"_1B6136P56\",\"_1BY15LDXA\",\"_1BY15LDXA\",\"_1BY15LDXA\",\"_1CC08RL3K\",\"_1CC08ZYQX\",\"_1D90PSV5H\",\"_1D90PSV5H\",\"_1DD1AEX81\",\"_1DD1AEX81\",\"_1DD1AEX81\",\"_1DD1AEX81\",\"_1DV116JJY\",\"_1DW0UWG2W\",\"_1DW0UWG2W\",\"_1DW0UWG2W\",\"_1DW0UWG2W\",\"_1DW0UWG2W\",\"_1DW0V3JB9\",\"_1DW15F2EQ\",\"_1DW18DKMF\",\"_1E219TBGI\",\"_1E60YPNHI\",\"_1E60YPNHI\",\"_1EH0N5J4I\",\"_1EV11MBIR\",\"_1EX0W3X0Z\",\"_1EX0W3X0Z\",\"_1EX0W8YG8\",\"_1EX0W8YG8\",\"_1EX0WCTRV\",\"_1EX0WCTRV\",\"_1EX0WCTRV\",\"_1FN13V9Q8\",\"_1FN13V9Q8\",\"_1FN13V9Q8\",\"_1FN13V9Q8\",\"_1FN13V9Q8\",\"_1FN13V9Q8\",\"_1FN13V9Q8\",\"_1FN13V9Q8\",\"_1FN13V9Q8\",\"_1GR0WG9T6\",\"_1GR0WG9T6\",\"_1HI12U5X9\",\"_1I914KNGD\",\"_1I914KNGD\",\"_1IO1AD3GF\",\"_1IO1AD3GF\",\"_1IO1AD3GF\",\"_1IY0VXU89\",\"_1IY0VXU89\",\"_1K011X3TX\",\"_1KO073T8K\",\"_1KQ0XDCPZ\",\"_1KX04BP86\",\"_1M60X2OEP\",\"_1M60ZOKN3\",\"_1M60ZOKN3\",\"_1MN0PX571\",\"_1MN0PX571\",\"_1MN0PX571\",\"_1MN0PX571\",\"_1MN0PX571\",\"_1MY0UXRKJ\",\"_1N30WGD1I\",\"_1OE0RBLD0\",\"_1OH0ONE88\",\"_1OT0RY744\",\"_1OT0RY744\",\"_1OT0RY744\",\"_1OT0RY744\",\"_1OT0RY744\",\"_1PA0USZR0\",\"_1PA0USZR0\",\"_1PG1FDERY\",\"_1PG1FDERY\",\"_1R41FFUMY\",\"_1R80W8WCB\",\"_1RK0YQK4N\",\"_1RK0YQK4N\",\"_1SE0UZN6K\",\"_1SJ0QR12I\",\"_1SJ0QR12I\",\"_1SJ0QR12I\",\"_1SJ0YVXJN\",\"_1SJ0YVXJN\",\"_1SJ0YVXJN\",\"_1SJ0YVXJN\",\"_1SJ0YVXJN\",\"_1SJ0YVXJN\",\"_1SJ0YVXJN\",\"_1SJ0YVXJN\",\"_1SJ0YVXJN\",\"_1SJ0YVXJN\",\"_1TD0X5SNC\",\"_1TJ0QS6WG\",\"_1TL0REX9T\",\"_1TL0REX9T\",\"_1TL0REX9T\",\"_1TW183J43\",\"_1TW183J43\",\"_1TW183J43\",\"_1UC0OC7YW\",\"_1UC0QD8AP\",\"_1UK1DR812\",\"_1VV0X1D47\",\"_1WX0P3Z73\",\"_1X7164DK4\",\"_1XL0RAS4G\",\"_1XV0QY3OM\",\"_1YC1BYBSB\",\"_1YC1BYBSB\",\"_1YC1BYBSB\",\"_1YU0SSSNI\",\"_1Z616HNXQ\",\"_1Z616HNXQ\",\"_1ZF0Q59YI\",\"_1ZV0UJP25\",\"_1ZW1BYPVO\",\"_1ZY1FFZMP\",\"_1ZY1FFZMP\",\"_1ZY1FFZMP\",\"_1ZZ00X0GP\",\"_21Z18Z92R\",\"_2240PXTA7\",\"_2250VQI7N\",\"_22K1FGB9L\",\"_23Q01EAY0\",\"_23Q01EAY0\",\"_23Q01EAY0\",\"_23Q01EAY0\",\"_23Q01EAY0\",\"_23Q01EAY0\",\"_24O19WVN2\",\"_24O19WVN2\",\"_26O0VQOOK\",\"_26O0VQOOK\",\"_26S0UVUWR\",\"_26S0UVUWR\",\"_26S0UVUWR\",\"_26S0UVUWR\",\"_2830WE3TF\",\"_28L0SZL4U\",\"_28L0SZL4U\",\"_29D0VSKYG\",\"_29D0VSKYG\",\"_29D0VSKYG\",\"_29D0VSKYG\",\"_29D0VSKYG\",\"_29D0VSKYG\",\"_29I0WAKE6\",\"_29I0WAKE6\",\"_2A51CRAVY\",\"_2A80UKALR\",\"_2AD1DGDIB\",\"_2AE1CSE1O\",\"_2AE1CSE1O\",\"_2BF01F17B\",\"_2BF01F17B\",\"_2BF0UALOZ\",\"_2BF0UALOZ\",\"_2BO0VRKX6\",\"_2BO0VRKX6\",\"_2BO0VRKX6\",\"_2BO0VRKX6\",\"_2DP0SP3TU\",\"_2DX0P9NAR\",\"_2EE1CD5VQ\",\"_2EV1ELQ0K\",\"_2FD1C4FE4\",\"_2FD1EXN8X\",\"_2H90UG6AS\",\"_2H90UG6AS\",\"_2H90UG6AS\",\"_2H90UG6AS\",\"_2I11FARNG\",\"_2JO0V31TX\",\"0ACB06E405\",\"0B79F06646\",\"0C77B4326E\",\"0C77B4326E\",\"-0Q51CZR4L\",\"-0Q51CZRDB\",\"-0Q51CZRDW\",\"-0Q51CZRJP\",\"-0Q51CZRJP\",\"-0Q51CZRJP\",\"-0Q51CZRJP\",\"-0Q51CZRJP\",\"-0Q51CZRJP\",\"-0Q51CZROS\",\"-0Q51CZROS\",\"-0Q51CZSG8\",\"-0Q51CZSG8\",\"-0Q51CZSG8\",\"-0Q51CZSJP\",\"-0Q51CZSJP\",\"-0Q51CZSJP\",\"-0Q51CZSS3\",\"-0Q51CZSXW\",\"-0Q51CZSXW\",\"-0Q51CZTAF\",\"-0Q51CZTAF\",\"-0Q51CZTAF\",\"-0Q51CZTES\",\"-0Q51CZTPM\",\"-0Q51CZTPM\",\"-0Q51CZTPM\",\"-0Q51CZTPM\",\"-0Q51CZTPM\",\"-0Q51CZTPM\",\"-0Q51CZTPM\",\"-0Q51CZTPM\",\"-0Q51CZTPM\",\"-0Q51CZTPM\",\"-0Q51CZTPM\",\"-0Q51CZTPM\",\"-0Q51CZTPM\",\"-0Q51CZTPM\",\"-0Q51CZTSC\",\"-0Q51CZTUM\",\"-0Q51CZU4A\",\"-0Q51CZUD0\",\"-0Q51CZUT0\",\"-0Q51CZUT4\",\"-0Q51CZUT4\",\"-0Q51CZUT4\",\"-0Q51CZUT4\",\"-0Q51CZV69\",\"-0Q51CZV69\",\"-0Q51CZV69\",\"-0Q51CZV69\",\"-0Q51CZV8E\",\"-0Q51CZVF7\",\"141F95343B\",\"141F95343B\",\"1842A10F6B\",\"20103E6CA5\",\"21A9E61BC2\",\"21A9E61BC2\",\"21A9E61BC2\",\"2224CC6629\",\"251AF8C8FF\",\"2752ECCAAC\",\"301DB148A7\",\"301DB148A7\",\"366E654E28\",\"38F10272DC\",\"3FFEB65F0B\",\"41964ADEEE\",\"44CD45BB2B\",\"44CD45BB2B\",\"44CD45BB2B\",\"46D95DE2E6\",\"4F9B5239EC\",\"51CC141437\",\"53496F2322\",\"576550EC30\",\"58EA6BC0FC\",\"59BBD2CA8C\",\"5ACBEEF47A\",\"5C521C6F70\",\"5C521C6F70\",\"5EFB990B2A\",\"6AFECFFCEA\",\"6C77745F87\",\"6C77745F87\",\"6C77745F87\",\"6C77745F87\",\"6C77745F87\",\"6C77745F87\",\"6D595F12F4\",\"6D595F12F4\",\"6D595F12F4\",\"6E2A57966A\",\"6E2A57966A\",\"707EE865BD\",\"712605E407\",\"715FC1F4D4\",\"72140D1EFE\",\"7307D33C2B\",\"7307D33C2B\",\"75180A540E\",\"76D5B87904\",\"77F80F5231\",\"78F2184A42\",\"78F2184A42\",\"7A7D808194\",\"7B1975E37B\",\"7D59F3FED9\",\"7DAB05D6B1\",\"81B16776A6\",\"859AC7C9D1\",\"88821FD5B2\",\"8C8CA66F17\",\"8EC78F8C6A\",\"92E39AE1C4\",\"93E8C34E23\",\"93E8C34E23\",\"9451F7B018\",\"97C34866ED\",\"9F0815CD75\",\"9F0815CD75\",\"A2DA6F89BD\",\"A2F9947D81\",\"A4AB678CB2\",\"A4AB678CB2\",\"A4AB678CB2\",\"A4AB678CB2\",\"A4AB678CB2\",\"A4AB678CB2\",\"A4AB678CB2\",\"A4AB678CB2\",\"A4AB678CB2\",\"A5EA892F8A\",\"A5EA892F8A\",\"A5EA892F8A\",\"A65EF08D85\",\"B0EBF63387\",\"B0EBF63387\",\"B2048A575D\",\"B2DD1330B8\",\"B3E917536F\",\"BD2DB0B49E\",\"C1B7FFF106\",\"C41F52D51D\",\"C421857583\",\"C4ED38E0EA\",\"C65A342C4A\",\"C65A342C4A\",\"C9BE300340\",\"C9D233CD23\",\"C9D233CD23\",\"C9D233CD23\",\"C9D7507805\",\"C9D7507805\",\"C9D7507805\",\"CB1FA56598\",\"CB1FA56598\",\"CB1FA56598\",\"CB1FA56598\",\"CECD6F5BD0\",\"CECD6F5BD0\",\"D024073C30\",\"D39349E4F1\",\"D502CB9B96\",\"D7359671AC\",\"D8AA3BF7B9\",\"DC272162E6\",\"DC2F5B6113\",\"DD3E06ACE3\",\"DD3E06ACE3\",\"E034819566\",\"E51560DB21\",\"E691A566D2\",\"E972E2BF61\",\"EE163E646D\",\"F0B889311D\",\"F0B889311D\",\"F0B889311D\",\"F0B889311D\",\"F0B889311D\",\"F0B889311D\",\"F0B889311D\",\"F53C988979\",\"F5BB31A358\",\"F7507E6B5E\",\"F7507E6B5E\",\"F7507E6B5E\",\"F7F9074B08\",\"F7F9074B08\",\"F86183FF8E\",\"FA9B9C4140\"],\"states\":[\"\",\"CA\",\"NY\",\"CA\",\"CA\",\"CA\",\"CA\",\"CA\",\"YY\",\"YY\",\"YY\",\"YY\",\"YY\",\"YY\",\"WA\",\"WA\",\"WA\",\"WA\",\"WA\",\"WA\",\"CA\",\"CA\",\"CA\",\"CA\",\"CA\",\"CA\",\"CA\",\"CA\",\"CA\",\"CA\",\"CA\",\"CA\",\"CA\",\"CA\",\"CA\",\"CA\",\"CA\",\"CA\",\"CA\",\"CA\",\"CA\",\"CA\",\"CA\",\"CA\",\"CA\",\"CA\",\"CA\",\"CA\",\"CA\",\"CA\",\"CA\",\"CA\",\"CA\",\"CA\",\"CA\",\"CA\",\"CA\",\"CA\",\"CA\",\"CA\",\"CA\",\"CA\",\"CA\",\"CA\",\"CA\",\"CA\",\"CA\",\"CA\",\"CA\",\"CA\",\"PA\",\"PA\",\"VA\",\"VA\",\"VA\",\"VA\",\"VA\",\"NJ\",\"CA\",\"CA\",\"CA\",\"CA\",\"CA\",\"CA\",\"CA\",\"CA\",\"CA\",\"CA\",\"CA\",\"MI\",\"MI\",\"AZ\",\"MA\",\"MA\",\"CA\",\"CA\",\"CA\",\"CA\",\"CA\",\"CA\",\"CA\",\"CA\",\"CA\",\"CA\",\"CA\",\"CA\",\"CA\",\"CA\",\"CA\",\"MI\",\"MI\",\"FL\",\"IL\",\"IL\",\"CA\",\"CA\",\"CA\",\"CA\",\"CA\",\"CA\",\"CA\",\"CA\",\"CA\",\"CA\",\"NY\",\"NY\",\"CA\",\"CA\",\"CA\",\"CA\",\"CA\",\"CA\",\"CA\",\"CA\",\"CA\",\"CA\",\"CA\",\"CA\",\"CA\",\"CA\",\"CA\",\"CA\",\"NY\",\"NY\",\"TN\",\"CA\",\"CA\",\"CA\",\"CA\",\"CA\",\"CA\",\"CA\",\"CA\",\"NY\",\"NY\",\"NY\",\"NY\",\"NY\",\"NY\",\"NY\",\"NY\",\"NY\",\"CA\",\"CA\",\"FL\",\"CA\",\"CA\",\"CA\",\"CA\",\"CA\",\"CA\",\"CA\",\"\",\"MI\",\"KY\",\"CA\",\"VI\",\"CA\",\"CA\",\"NJ\",\"NJ\",\"NJ\",\"NJ\",\"NJ\",\"NY\",\"CA\",\"IN\",\"CA\",\"MI\",\"MI\",\"MI\",\"MI\",\"MI\",\"AZ\",\"AZ\",\"CA\",\"CA\",\"TX\",\"CA\",\"CA\",\"CA\",\"AL\",\"NY\",\"NY\",\"NY\",\"NY\",\"NY\",\"NY\",\"NY\",\"NY\",\"NY\",\"NY\",\"NY\",\"NY\",\"NY\",\"NY\",\"\",\"CA\",\"CA\",\"CA\",\"CA\",\"CA\",\"CA\",\"CA\",\"\",\"AZ\",\"CA\",\"CA\",\"NJ\",\"CA\",\"TX\",\"MI\",\"MI\",\"MI\",\"CA\",\"NY\",\"NY\",\"MI\",\"NY\",\"NJ\",\"CA\",\"CA\",\"CA\",\"ID\",\"NC\",\"CA\",\"WV\",\"TX\",\"\",\"\",\"\",\"\",\"\",\"\",\"\",\"\",\"FL\",\"FL\",\"CA\",\"CA\",\"CA\",\"CA\",\"OH\",\"PA\",\"PA\",\"TX\",\"TX\",\"TX\",\"TX\",\"TX\",\"TX\",\"NY\",\"NY\",\"TX\",\"MD\",\"CT\",\"CA\",\"CA\",\"CA\",\"CA\",\"CA\",\"CA\",\"NY\",\"NY\",\"NY\",\"NY\",\"CA\",\"CA\",\"CA\",\"NY\",\"CA\",\"\",\"NJ\",\"NJ\",\"NJ\",\"NJ\",\"CA\",\"NJ\",\"\",\"CA\",\"\",\"\",\"CA\",\"CA\",\"CA\",\"CA\",\"CA\",\"CA\",\"CA\",\"CA\",\"CA\",\"CA\",\"CA\",\"CA\",\"CA\",\"CA\",\"CA\",\"CA\",\"CA\",\"CA\",\"CA\",\"CA\",\"CA\",\"CA\",\"CA\",\"CA\",\"TX\",\"TX\",\"TX\",\"TX\",\"TX\",\"TX\",\"TX\",\"TX\",\"TX\",\"TX\",\"TX\",\"TX\",\"TX\",\"TX\",\"CA\",\"IL\",\"CA\",\"CA\",\"CA\",\"\",\"\",\"\",\"\",\"NJ\",\"NJ\",\"NJ\",\"NJ\",\"CA\",\"CA\",\"WA\",\"WA\",\"CA\",\"CA\",\"CA\",\"CA\",\"CA\",\"IL\",\"CA\",\"CA\",\"CA\",\"CA\",\"\",\"IL\",\"NY\",\"WA\",\"CA\",\"CA\",\"CA\",\"CA\",\"CA\",\"CA\",\"\",\"NY\",\"WA\",\"GA\",\"VA\",\"CA\",\"CA\",\"NY\",\"MI\",\"NY\",\"NY\",\"NY\",\"NY\",\"NY\",\"NY\",\"CA\",\"CA\",\"CA\",\"NY\",\"NY\",\"IL\",\"IN\",\"CA\",\"\",\"CA\",\"CA\",\"CA\",\"CA\",\"CA\",\"\",\"\",\"CA\",\"PA\",\"CA\",\"TX\",\"56\",\"MI\",\"LA\",\"CA\",\"PA\",\"CA\",\"WA\",\"WA\",\"MI\",\"CA\",\"FL\",\"FL\",\"NY\",\"CA\",\"NY\",\"NY\",\"NY\",\"NY\",\"NY\",\"NY\",\"NY\",\"NY\",\"NY\",\"NY\",\"NY\",\"NY\",\"WA\",\"CA\",\"CA\",\"CA\",\"PA\",\"CA\",\"CA\",\"TX\",\"DE\",\"CA\",\"CA\",\"NJ\",\"NJ\",\"NJ\",\"CA\",\"CA\",\"CA\",\"FL\",\"FL\",\"FL\",\"CA\",\"CA\",\"CA\",\"CA\",\"CA\",\"CA\",\"CA\",\"CA\",\"CA\",\"FL\",\"CA\",\"CA\",\"NY\",\"NY\",\"NY\",\"CA\",\"CA\",\"CA\",\"CA\",\"\",\"CA\",\"CA\",\"CA\",\"CA\",\"CA\",\"CA\",\"CA\",\"CA\",\"NJ\",\"CA\",\"CA\",\"CA\",\"\",\"\",\"CA\",\"CA\"],\"x\":[1359676800000.0,1419811200000.0,1417996800000.0,1039219200000.0,1040428800000.0,1041292800000.0,1043452800000.0,1069891200000.0,1225411200000.0,1275436800000.0,1287360000000.0,1347408000000.0,1347408000000.0,1407369600000.0,1163462400000.0,1167523200000.0,1172361600000.0,1181088000000.0,1199059200000.0,1204156800000.0,1356912000000.0,1156896000000.0,1160697600000.0,1177632000000.0,1195516800000.0,1214956800000.0,1242864000000.0,1340150400000.0,1346371200000.0,1356912000000.0,1368748800000.0,1380499200000.0,1401926400000.0,1402444800000.0,1408579200000.0,1391558400000.0,1212451200000.0,1164326400000.0,1177891200000.0,1384128000000.0,1419984000000.0,1451520000000.0,1303344000000.0,1071878400000.0,1088899200000.0,1137283200000.0,1169769600000.0,1196812800000.0,1230681600000.0,1230681600000.0,1253836800000.0,1263427200000.0,1280448000000.0,1285545600000.0,1286928000000.0,1327449600000.0,1330041600000.0,1335139200000.0,1355961600000.0,1388448000000.0,1403222400000.0,1415923200000.0,1417305600000.0,1213660800000.0,1325289600000.0,1325289600000.0,1116633600000.0,1385942400000.0,1077840000000.0,1388448000000.0,1060387200000.0,1074729600000.0,1059177600000.0,1064620800000.0,1066348800000.0,1069891200000.0,1071878400000.0,1450915200000.0,1296777600000.0,1419984000000.0,1230681600000.0,1258934400000.0,1293494400000.0,1325203200000.0,1340928000000.0,1356825600000.0,1388448000000.0,1419984000000.0,1328227200000.0,1069891200000.0,1202342400000.0,1166745600000.0,1071187200000.0,1095724800000.0,1165276800000.0,1316044800000.0,1072828800000.0,1324598400000.0,1356912000000.0,1388448000000.0,1419984000000.0,1451174400000.0,1414713600000.0,1416528000000.0,1253836800000.0,1253836800000.0,1292889600000.0,1387411200000.0,1419811200000.0,1076457600000.0,1076457600000.0,1077840000000.0,1085702400000.0,1085702400000.0,1090108800000.0,1268956800000.0,1337126400000.0,1403222400000.0,1449619200000.0,1138838400000.0,1356912000000.0,1225411200000.0,1262217600000.0,1293753600000.0,1366761600000.0,1366761600000.0,1208476800000.0,1222387200000.0,1161302400000.0,1280188800000.0,1281052800000.0,1440720000000.0,1242950400000.0,1191196800000.0,1194480000000.0,1202688000000.0,1213315200000.0,1215043200000.0,1101254400000.0,1357862400000.0,1392336000000.0,1101859200000.0,1135900800000.0,1166745600000.0,1210291200000.0,1262217600000.0,1103673600000.0,1222387200000.0,1104537600000.0,1174435200000.0,1103673600000.0,1197590400000.0,1208476800000.0,1171152000000.0,1202688000000.0,1234396800000.0,1265328000000.0,1296777600000.0,1328832000000.0,1360281600000.0,1391558400000.0,1454889600000.0,1356912000000.0,1450137600000.0,1112313600000.0,1356307200000.0,1365465600000.0,1336694400000.0,1336694400000.0,1378425600000.0,1147219200000.0,1182902400000.0,1119830400000.0,1134345600000.0,1204848000000.0,1162252800000.0,1126828800000.0,1126828800000.0,1166745600000.0,1128297600000.0,1163462400000.0,1219276800000.0,1258502400000.0,1346371200000.0,1366761600000.0,1185753600000.0,1388448000000.0,1262217600000.0,1135123200000.0,1166832000000.0,1188345600000.0,1233273600000.0,1295481600000.0,1260748800000.0,1293494400000.0,1450828800000.0,1450828800000.0,1324598400000.0,1447113600000.0,1206576000000.0,1222819200000.0,1222387200000.0,1149638400000.0,1377820800000.0,1411084800000.0,1206057600000.0,1222387200000.0,1255651200000.0,1286409600000.0,1316044800000.0,1348185600000.0,1377820800000.0,1411689600000.0,1430265600000.0,1447891200000.0,1385510400000.0,1391731200000.0,1340928000000.0,1370563200000.0,1399507200000.0,1144195200000.0,1146700800000.0,1150675200000.0,1152489600000.0,1201219200000.0,1147564800000.0,1156896000000.0,1308268800000.0,1323734400000.0,1162252800000.0,1233273600000.0,1179100800000.0,1179100800000.0,1201219200000.0,1165881600000.0,1166572800000.0,1185840000000.0,1388016000000.0,1419984000000.0,1325289600000.0,1354838400000.0,1419811200000.0,1451520000000.0,1167523200000.0,1386979200000.0,1177027200000.0,1230681600000.0,1177632000000.0,1174953600000.0,1272499200000.0,1306281600000.0,1366416000000.0,1384128000000.0,1431475200000.0,1450137600000.0,1450137600000.0,1195171200000.0,1199059200000.0,1190937600000.0,1245196800000.0,1260748800000.0,1293667200000.0,1222732800000.0,1424995200000.0,1424995200000.0,1230681600000.0,1290124800000.0,1290124800000.0,1359676800000.0,1362700800000.0,1368748800000.0,1198800000000.0,1356912000000.0,1320364800000.0,1201219200000.0,1199059200000.0,1325289600000.0,1332288000000.0,1200441600000.0,1386028800000.0,1284422400000.0,1289520000000.0,1380499200000.0,1401494400000.0,1412035200000.0,1433030400000.0,1355788800000.0,1212710400000.0,1277424000000.0,1222992000000.0,1222819200000.0,1220313600000.0,1222992000000.0,1238716800000.0,1326412800000.0,1400630400000.0,1369958400000.0,1230508800000.0,1454025600000.0,1433462400000.0,1453766400000.0,1453766400000.0,1080345600000.0,1182470400000.0,1135900800000.0,1208995200000.0,1216944000000.0,1309910400000.0,1322611200000.0,1450137600000.0,1453766400000.0,1419552000000.0,1451520000000.0,1328227200000.0,1365465600000.0,1365465600000.0,1104105600000.0,1135900800000.0,1167177600000.0,1053129600000.0,1415404800000.0,1451520000000.0,1230681600000.0,1324598400000.0,1332288000000.0,1451347200000.0,1160697600000.0,1174780800000.0,1194393600000.0,1194912000000.0,1351814400000.0,1352160000000.0,1381968000000.0,1382572800000.0,1383696000000.0,1415059200000.0,1415059200000.0,1415059200000.0,1449619200000.0,1449619200000.0,1407888000000.0,1019260800000.0,1074643200000.0,1398902400000.0,1219276800000.0,1176768000000.0,1176768000000.0,1204156800000.0,1204156800000.0,1356912000000.0,1419984000000.0,1432684800000.0,1449619200000.0,1164758400000.0,1424390400000.0,1341878400000.0,1398297600000.0,1451520000000.0,1401753600000.0,1348704000000.0,1354492800000.0,1451174400000.0,1386028800000.0,1419984000000.0,1448409600000.0,1356912000000.0,1399420800000.0,1405036800000.0,1320364800000.0,1417996800000.0,1278547200000.0,1261526400000.0,1285545600000.0,1309910400000.0,1450656000000.0,1450656000000.0,1419811200000.0,1293753600000.0,1273190400000.0,1290038400000.0,1297382400000.0,1354233600000.0,1419292800000.0,1451520000000.0,1356307200000.0,1356652800000.0,1353542400000.0,1395878400000.0,1421798400000.0,1424822400000.0,1442534400000.0,1445904000000.0,1419984000000.0,1450742400000.0,1450742400000.0,1416873600000.0,1450051200000.0,1276819200000.0,1293062400000.0,1451520000000.0,1448841600000.0,1392854400000.0,1395964800000.0,1399939200000.0,1324598400000.0,1398816000000.0,1448236800000.0,1448236800000.0,1427673600000.0,1291334400000.0,1388448000000.0,1404345600000.0,1395792000000.0,1262217600000.0,1383868800000.0,1325289600000.0,1356652800000.0,1291852800000.0,1416355200000.0,1454889600000.0,1406246400000.0,1325030400000.0,1419984000000.0,1450656000000.0,1450310400000.0,1451520000000.0,1233273600000.0,1260316800000.0,1295568000000.0,1325289600000.0,1357862400000.0,1392940800000.0,1416873600000.0,1419292800000.0,1450137600000.0,1293753600000.0,1389830400000.0,1450656000000.0,1292457600000.0,1404086400000.0,1422662400000.0,1451520000000.0,1444953600000.0,1398297600000.0,1419552000000.0,1409788800000.0,1419984000000.0,1356912000000.0,1305158400000.0,1417305600000.0,1422662400000.0,1275868800000.0,1380240000000.0,1403222400000.0,1447113600000.0,1367539200000.0,1419984000000.0,1451520000000.0,1388448000000.0,1419984000000.0,1426723200000.0,1451520000000.0,1291075200000.0,1387152000000.0,1437091200000.0,1397520000000.0,1309910400000.0,1415923200000.0,1450137600000.0,1385942400000.0,1344556800000.0,1450137600000.0,1450137600000.0,1325289600000.0,1366934400000.0,1412294400000.0,1374192000000.0,1449532800000.0,1365120000000.0,1396915200000.0,1397520000000.0,1398988800000.0,1400544000000.0,1400716800000.0,1401235200000.0,1301011200000.0,1451174400000.0,1398297600000.0,1417737600000.0,1450310400000.0,1399334400000.0,1429747200000.0,1397433600000.0,1356307200000.0],\"y\":[50000.0,21000.0,9000.0,7221.0,5008.0,14159.0,5588.0,10000.0,750000.0,45000.0,1250000.0,1000000.0,1500000.0,5000000.0,11604.0,11604.0,12000.0,12000.0,8703.0,9000.0,10000.0,12701.0,6684.0,10713.0,10872.0,20094.0,5570.0,5605.0,5240.0,8052.04,5918.0,5520.0,111405.0,97860.5,89049.0,6435.0,10001.0,10000.0,11000.0,20000.0,20000.0,20000.0,6138.23,10000.0,10000.0,12500.0,12500.0,12500.0,12500.0,12500.0,25000.0,25000.0,25002.0,10000.0,100000.0,10000.0,20000.0,10000.0,10000.0,10000.0,10000.0,10000.0,5300.0,36000.0,10001.0,6000.0,5605.0,10000.0,9782.17,10000.0,50000.0,50000.0,7048.0,9598.15,13893.31,13393.76,15748.92,20000.0,37087.14,50000.0,10000.0,20000.0,20000.0,10000.0,10000.0,10000.0,10000.0,40000.0,10001.0,30381.97,8202.0,6800.0,20000.0,6000.0,5100.0,7400.0,50000.0,6000.0,30000.0,25000.0,15000.0,18664.0,7500.0,7500.0,10000.0,10000.0,20000.0,8000.0,10000.0,9900.0,9900.0,10000.0,55000.0,45000.0,25000.0,10000.0,5400.0,6000.0,6000.0,10000.0,5058.11,5454.0,5200.0,8000.0,10000.0,15000.0,10000.0,8000.0,10000.0,10008.0,5008.0,5008.0,5001.0,10000.0,25000.0,25000.0,26000.0,24000.0,7500.0,9000.0,15000.0,10000.0,12500.0,12500.0,25000.0,10000.0,20001.0,15000.0,10000.0,9736.0,5001.0,22000.0,25000.0,6171.17,8087.03,6553.11,8195.62,6276.77,8145.63,6596.47,10479.8,9262.58,12000.0,10000.0,10000.0,6000.0,6000.0,11000.0,10000.0,5100.0,10000.0,10000.0,10000.0,20000.0,25000.0,5001.0,10000.0,40000.0,30000.0,5500.0,25000.0,25000.0,25000.0,8500.0,10000.0,27730.0,10000.0,5101.0,5692.0,13791.0,9274.0,19000.0,33000.0,10000.0,10000.0,5758.67,5758.68,10000.0,20000.0,11001.0,14000.0,10000.0,5001.0,5001.0,5001.0,5001.0,5001.0,5001.0,5001.0,10001.0,5001.0,5001.0,5001.0,5001.0,5001.0,10000.0,5071.0,10000.0,10000.0,10000.0,50000.0,23000.0,23000.0,5001.0,15000.0,6519.62,5001.0,10001.0,11000.0,25000.0,10000.0,10000.0,10000.0,10000.0,5145.0,23000.0,23000.0,7500.0,10001.0,10000.0,5001.0,21000.0,25100.0,7000.0,10000.0,10000.0,15000.0,6380.0,6313.44,6200.0,10000.0,7250.0,10000.0,10000.0,19500.0,20000.0,40000.0,60000.0,5551.0,12487.5,21547.59,10540.0,5001.0,30000.0,29300.0,5001.0,27236.9,100000.0,90335.14,9413.84,17816.65,10000.0,20000.0,13000.0,30000.0,6500.0,6000.0,6000.0,10000.0,10001.0,6002.0,6002.0,10000.0,7500.0,6500.0,7500.0,50000.0,25000.0,5101.0,10000.0,50000.0,10000.0,25000.0,25000.0,100000.0,15000.0,10000.0,16325.29,5164.73,20000.0,10000.0,10000.0,10000.0,13236.19,10000.0,5500.0,5500.0,7000.0,7000.0,10000.0,9320.94,10000.0,10000.0,40001.0,5001.0,5001.0,6637.0,15000.0,100000.0,6500.0,5001.0,10001.0,6000.0,6000.0,6000.0,50000.0,10620.0,7047.45,17328.0,19653.01,64905.0,85000.0,180000.0,14000.0,5200.0,38772.9,89621.92,89308.0,248000.0,25183.5,6120.0,6000.0,5001.0,8000.0,20875.0,6359.75,6359.75,6761.22,5778.22,10000.0,10000.0,10000.0,15000.0,9000.0,100000.0,5900.0,11000.0,10000.0,10000.0,10000.0,10000.0,50000.0,5700.0,10000.0,10000.0,5500.0,10000.0,18407.2,10000.0,10000.0,5100.0,10000.0,8000.0,9250.0,9000.0,10000.0,21000.0,7450.0,25000.0,10000.0,9000.0,6500.0,20000.0,20000.0,10000.0,7020.0,10000.0,40000.0,101000.0,100000.0,20000.0,60000.0,40000.0,50000.0,50000.0,10000.0,15000.0,9000.0,10961.31,7000.0,25000.0,15000.0,15000.0,10000.0,10000.0,10000.0,10000.0,10000.0,20000.0,15000.0,11111.0,5008.0,7500.0,35510.84,11000.0,10000.0,10000.0,5039.94,30000.0,35000.0,8500.0,10000.0,20000.0,20000.0,10000.0,10000.0,20000.0,20000.0,15000.0,20000.0,20000.0,20000.0,20000.0,20000.0,40000.0,6000.0,6000.0,10000.0,10000.0,9000.0,10000.0,5500.0,20000.0,8712.0,6030.0,5500.0,10000.0,5600.0,50000.0,20000.0,30000.0,6345.0,5500.0,5250.0,5250.0,90000.0,10000.0,18767.54,10000.0,10000.0,6000.0,10100.0,10000.0,7500.0,10000.0,13000.0,5250.0,10000.0,19000.0,10000.0,10000.0,10000.0,10000.0,5100.0,5001.0,6000.0,5921.78,14805.0,15000.0,28457.0,20285.76,11332.0,10268.72,5768.4,7873.36,12476.0,10000.0,7500.0,7500.0,6000.0,18000.0,18000.0,6500.0,10001.0]}},\"id\":\"c8360df1-4308-460c-a76a-d96acc87fe25\",\"type\":\"ColumnDataSource\"},{\"attributes\":{\"formatter\":{\"id\":\"a3d9949e-578e-43fb-bcc9-7d7958b35af6\",\"type\":\"BasicTickFormatter\"},\"plot\":{\"id\":\"7ba11aa8-33f5-48b7-81ee-683e1f6dfe80\",\"subtype\":\"Figure\",\"type\":\"Plot\"},\"ticker\":{\"id\":\"3cc3f253-4006-429b-aae7-3e8626993670\",\"type\":\"BasicTicker\"}},\"id\":\"ee01a401-30ff-41e1-8334-fb49be77842f\",\"type\":\"LinearAxis\"},{\"attributes\":{},\"id\":\"97ec4a84-2bc0-41d2-a353-1310ec4cefe2\",\"type\":\"ToolEvents\"},{\"attributes\":{\"below\":[{\"id\":\"ee70e81f-60a4-4e01-bac3-de8750cb68e5\",\"type\":\"LinearAxis\"}],\"left\":[{\"id\":\"5e52782b-ae94-4183-a75e-aed043b76217\",\"type\":\"LinearAxis\"}],\"plot_height\":400,\"plot_width\":400,\"renderers\":[{\"id\":\"ee70e81f-60a4-4e01-bac3-de8750cb68e5\",\"type\":\"LinearAxis\"},{\"id\":\"8ad93f68-aede-4e51-ae3b-c71eee18ec3e\",\"type\":\"Grid\"},{\"id\":\"5e52782b-ae94-4183-a75e-aed043b76217\",\"type\":\"LinearAxis\"},{\"id\":\"f5a5be03-0242-4040-838a-d5a5812ab349\",\"type\":\"Grid\"},{\"id\":\"69935173-65a1-4694-8e3a-3de80f1bdef9\",\"type\":\"GlyphRenderer\"}],\"title\":null,\"tool_events\":{\"id\":\"97ec4a84-2bc0-41d2-a353-1310ec4cefe2\",\"type\":\"ToolEvents\"},\"tools\":[{\"id\":\"76fcd49d-8bb2-4800-af2f-cbd119b6d3b5\",\"type\":\"HoverTool\"}],\"x_range\":{\"id\":\"a073966d-f348-4409-b51a-1962caaaea8e\",\"type\":\"DataRange1d\"},\"y_range\":{\"id\":\"83fb34f5-0803-4efe-8705-1d7bd0b78727\",\"type\":\"DataRange1d\"}},\"id\":\"6f91b7ae-cec9-424f-9031-2eff2d2c9e18\",\"subtype\":\"Figure\",\"type\":\"Plot\"},{\"attributes\":{},\"id\":\"1877c04f-8419-4df3-b3d6-0770f7ac127f\",\"type\":\"BasicTickFormatter\"},{\"attributes\":{},\"id\":\"de4760dc-e882-4343-9a5d-8b8d1259a773\",\"type\":\"BasicTicker\"},{\"attributes\":{},\"id\":\"f5b7312c-a09b-464d-ab06-aa796337ddd4\",\"type\":\"BasicTickFormatter\"},{\"attributes\":{\"below\":[{\"id\":\"4ee316f4-be29-4f8c-a122-958fc126c75c\",\"type\":\"LinearAxis\"}],\"left\":[{\"id\":\"ee01a401-30ff-41e1-8334-fb49be77842f\",\"type\":\"LinearAxis\"}],\"plot_height\":400,\"plot_width\":400,\"renderers\":[{\"id\":\"4ee316f4-be29-4f8c-a122-958fc126c75c\",\"type\":\"LinearAxis\"},{\"id\":\"d2281323-21f4-4113-b999-de7bc76749fd\",\"type\":\"Grid\"},{\"id\":\"ee01a401-30ff-41e1-8334-fb49be77842f\",\"type\":\"LinearAxis\"},{\"id\":\"926843fc-90df-4716-ad4e-41cbd3a02a1a\",\"type\":\"Grid\"},{\"id\":\"ffab5f59-9eca-4e4e-9c56-f1002bc52b66\",\"type\":\"GlyphRenderer\"}],\"title\":null,\"tool_events\":{\"id\":\"0e1fd5a6-8637-402a-b04c-fde2ffa91502\",\"type\":\"ToolEvents\"},\"tools\":[{\"id\":\"49be4194-6670-4531-b38f-74d6f181d671\",\"type\":\"HoverTool\"}],\"x_range\":{\"id\":\"5d406106-5ded-44b5-8b1c-4707c5b5b641\",\"type\":\"DataRange1d\"},\"y_range\":{\"id\":\"e3b9065f-99b5-4d7d-98bd-1efd71ed5bac\",\"type\":\"DataRange1d\"}},\"id\":\"7ba11aa8-33f5-48b7-81ee-683e1f6dfe80\",\"subtype\":\"Figure\",\"type\":\"Plot\"},{\"attributes\":{},\"id\":\"3cc3f253-4006-429b-aae7-3e8626993670\",\"type\":\"BasicTicker\"},{\"attributes\":{},\"id\":\"7c0227d5-e58b-4a4e-a130-91ba93e253ff\",\"type\":\"BasicTickFormatter\"}],\"root_ids\":[\"6f91b7ae-cec9-424f-9031-2eff2d2c9e18\",\"7ba11aa8-33f5-48b7-81ee-683e1f6dfe80\"]},\"title\":\"Bokeh Application\",\"version\":\"0.11.1\"}};\n",
       "            var render_items = [{\"docid\":\"4922e6c0-ea80-4caf-8d24-d917503379ea\",\"elementid\":\"9686489f-0e74-465a-ac76-5568f01cd089\",\"modelid\":\"7ba11aa8-33f5-48b7-81ee-683e1f6dfe80\",\"notebook_comms_target\":\"811d0b94-4143-4290-932d-8ad7119aed5c\"}];\n",
       "            \n",
       "            Bokeh.embed.embed_items(docs_json, render_items);\n",
       "        });\n",
       "      },\n",
       "      function(Bokeh) {\n",
       "      }\n",
       "    ];\n",
       "  \n",
       "    function run_inline_js() {\n",
       "      for (var i = 0; i < inline_js.length; i++) {\n",
       "        inline_js[i](window.Bokeh);\n",
       "      }\n",
       "    }\n",
       "  \n",
       "    if (window._bokeh_is_loading === 0) {\n",
       "      console.log(\"Bokeh: BokehJS loaded, going straight to plotting\");\n",
       "      run_inline_js();\n",
       "    } else {\n",
       "      load_libs(js_urls, function() {\n",
       "        console.log(\"Bokeh: BokehJS plotting callback run at\", now());\n",
       "        run_inline_js();\n",
       "      });\n",
       "    }\n",
       "  }(this));\n",
       "</script>"
      ]
     },
     "metadata": {},
     "output_type": "display_data"
    }
   ],
   "source": [
    "# All the Outliers seem to have the following properties: state == YY and specific donorid.\n",
    "# Plot the remaining data outside of these to check that we caught all the outliers.\n",
    "plot_data(df[~df.index.isin(df.query('state == \"YY\" and amount > 5000').index)])"
   ]
  },
  {
   "cell_type": "code",
   "execution_count": 18,
   "metadata": {
    "collapsed": false
   },
   "outputs": [
    {
     "data": {
      "text/html": [
       "<div>\n",
       "<table border=\"1\" class=\"dataframe\">\n",
       "  <thead>\n",
       "    <tr style=\"text-align: right;\">\n",
       "      <th></th>\n",
       "      <th>donor_id</th>\n",
       "      <th>amount_initial</th>\n",
       "      <th>donation_date</th>\n",
       "      <th>appeal</th>\n",
       "      <th>fund</th>\n",
       "      <th>city</th>\n",
       "      <th>state</th>\n",
       "      <th>zipcode_initial</th>\n",
       "      <th>charitable</th>\n",
       "      <th>sales</th>\n",
       "      <th>zipcode</th>\n",
       "      <th>amount_cleanup</th>\n",
       "      <th>amount</th>\n",
       "    </tr>\n",
       "  </thead>\n",
       "  <tbody>\n",
       "    <tr>\n",
       "      <th>3381</th>\n",
       "      <td>_0S804O0L4</td>\n",
       "      <td>$750000.00</td>\n",
       "      <td>2008-10-31</td>\n",
       "      <td>Funds_mail</td>\n",
       "      <td>Project_Gujarat</td>\n",
       "      <td>YYYY</td>\n",
       "      <td>YY</td>\n",
       "      <td>YYYY</td>\n",
       "      <td>True</td>\n",
       "      <td>0</td>\n",
       "      <td>0YYYY</td>\n",
       "      <td>750000.00</td>\n",
       "      <td>750000</td>\n",
       "    </tr>\n",
       "    <tr>\n",
       "      <th>3427</th>\n",
       "      <td>_0S804O0L4</td>\n",
       "      <td>$45000.00</td>\n",
       "      <td>2010-06-02</td>\n",
       "      <td>Funds_mail</td>\n",
       "      <td>Project_Punjab</td>\n",
       "      <td>YYYY</td>\n",
       "      <td>YY</td>\n",
       "      <td>YYYY</td>\n",
       "      <td>True</td>\n",
       "      <td>0</td>\n",
       "      <td>0YYYY</td>\n",
       "      <td>45000.00</td>\n",
       "      <td>45000</td>\n",
       "    </tr>\n",
       "    <tr>\n",
       "      <th>3432</th>\n",
       "      <td>_0S804O0L4</td>\n",
       "      <td>$1250000.00</td>\n",
       "      <td>2010-10-18</td>\n",
       "      <td>Funds_NL</td>\n",
       "      <td>Project_Punjab</td>\n",
       "      <td>YYYY</td>\n",
       "      <td>YY</td>\n",
       "      <td>YYYY</td>\n",
       "      <td>True</td>\n",
       "      <td>0</td>\n",
       "      <td>0YYYY</td>\n",
       "      <td>1250000.00</td>\n",
       "      <td>1250000</td>\n",
       "    </tr>\n",
       "    <tr>\n",
       "      <th>3448</th>\n",
       "      <td>_0S804O0L4</td>\n",
       "      <td>$1000000.00</td>\n",
       "      <td>2012-09-12</td>\n",
       "      <td>Funds_DirectDeposit</td>\n",
       "      <td>Funds_Capital Projects</td>\n",
       "      <td>YYYY</td>\n",
       "      <td>YY</td>\n",
       "      <td>YYYY</td>\n",
       "      <td>True</td>\n",
       "      <td>0</td>\n",
       "      <td>0YYYY</td>\n",
       "      <td>1000000.00</td>\n",
       "      <td>1000000</td>\n",
       "    </tr>\n",
       "    <tr>\n",
       "      <th>3449</th>\n",
       "      <td>_0S804O0L4</td>\n",
       "      <td>$1500000.00</td>\n",
       "      <td>2012-09-12</td>\n",
       "      <td>Funds_DirectDeposit</td>\n",
       "      <td>Project_Uttarpradesh</td>\n",
       "      <td>YYYY</td>\n",
       "      <td>YY</td>\n",
       "      <td>YYYY</td>\n",
       "      <td>True</td>\n",
       "      <td>0</td>\n",
       "      <td>0YYYY</td>\n",
       "      <td>1500000.00</td>\n",
       "      <td>1500000</td>\n",
       "    </tr>\n",
       "    <tr>\n",
       "      <th>3470</th>\n",
       "      <td>_0S804O0L4</td>\n",
       "      <td>$5000000.00</td>\n",
       "      <td>2014-08-07</td>\n",
       "      <td>Telephone</td>\n",
       "      <td>Funds_Capital Projects</td>\n",
       "      <td>YYYY</td>\n",
       "      <td>YY</td>\n",
       "      <td>YYYY</td>\n",
       "      <td>True</td>\n",
       "      <td>0</td>\n",
       "      <td>0YYYY</td>\n",
       "      <td>5000000.00</td>\n",
       "      <td>5000000</td>\n",
       "    </tr>\n",
       "  </tbody>\n",
       "</table>\n",
       "</div>"
      ],
      "text/plain": [
       "        donor_id amount_initial donation_date               appeal  \\\n",
       "3381  _0S804O0L4     $750000.00    2008-10-31           Funds_mail   \n",
       "3427  _0S804O0L4      $45000.00    2010-06-02           Funds_mail   \n",
       "3432  _0S804O0L4    $1250000.00    2010-10-18             Funds_NL   \n",
       "3448  _0S804O0L4    $1000000.00    2012-09-12  Funds_DirectDeposit   \n",
       "3449  _0S804O0L4    $1500000.00    2012-09-12  Funds_DirectDeposit   \n",
       "3470  _0S804O0L4    $5000000.00    2014-08-07            Telephone   \n",
       "\n",
       "                        fund  city state zipcode_initial charitable  sales  \\\n",
       "3381         Project_Gujarat  YYYY    YY            YYYY       True      0   \n",
       "3427          Project_Punjab  YYYY    YY            YYYY       True      0   \n",
       "3432          Project_Punjab  YYYY    YY            YYYY       True      0   \n",
       "3448  Funds_Capital Projects  YYYY    YY            YYYY       True      0   \n",
       "3449    Project_Uttarpradesh  YYYY    YY            YYYY       True      0   \n",
       "3470  Funds_Capital Projects  YYYY    YY            YYYY       True      0   \n",
       "\n",
       "     zipcode amount_cleanup   amount  \n",
       "3381   0YYYY      750000.00   750000  \n",
       "3427   0YYYY       45000.00    45000  \n",
       "3432   0YYYY     1250000.00  1250000  \n",
       "3448   0YYYY     1000000.00  1000000  \n",
       "3449   0YYYY     1500000.00  1500000  \n",
       "3470   0YYYY     5000000.00  5000000  "
      ]
     },
     "execution_count": 18,
     "metadata": {},
     "output_type": "execute_result"
    }
   ],
   "source": [
    "# Outlier data\n",
    "df[(df.state == 'YY') & (df.amount >= 45000)]"
   ]
  },
  {
   "cell_type": "code",
   "execution_count": 19,
   "metadata": {
    "collapsed": false
   },
   "outputs": [],
   "source": [
    "df[(df.state == 'YY') & (df.amount >= 45000)]\\\n",
    "    .sort_values(by='amount', ascending=False)\\\n",
    "    .head(6)[source_columns]\\\n",
    "    .to_csv('out/0/outlier_data.csv')"
   ]
  },
  {
   "cell_type": "markdown",
   "metadata": {},
   "source": [
    "#### Exchanged emails with Anil and confirmed the decision to drop the outlier for the anonymous donor with the 9.5 million dollars."
   ]
  },
  {
   "cell_type": "code",
   "execution_count": 20,
   "metadata": {
    "collapsed": false
   },
   "outputs": [],
   "source": [
    "df.drop(df[(df.state == 'YY') & (df.amount >= 45000)].index, inplace=True)"
   ]
  },
  {
   "cell_type": "code",
   "execution_count": 21,
   "metadata": {
    "collapsed": false
   },
   "outputs": [
    {
     "name": "stdout",
     "output_type": "stream",
     "text": [
      "After dropping the anonymous donor, total amounts from the unknown state as a percentage of all amounts is:  0.07 %\n"
     ]
    }
   ],
   "source": [
    "print 'After dropping the anonymous donor, total amounts from the unknown state as a percentage of all amounts is: '\\\n",
    "    , thousands_sep(100*df[(df.state == 'YY')].amount.sum()/df.amount.sum()), '%'"
   ]
  },
  {
   "cell_type": "markdown",
   "metadata": {},
   "source": [
    "### Amounts with zero values"
   ]
  },
  {
   "cell_type": "code",
   "execution_count": 22,
   "metadata": {
    "collapsed": false
   },
   "outputs": [
    {
     "data": {
      "text/plain": [
       "fund                appeal              \n",
       "Cataract Surgery    Bank_ACH                  1\n",
       "                    Funds_DirectDeposit       1\n",
       "                    Funds_mail                1\n",
       "Event_Registration  Event_Walkathon_2008      1\n",
       "Event_Ticket Money  Event_Dandia              1\n",
       "Link to Zeros       Funds_LinktoZero        493\n",
       "                    Funds_Magazine            1\n",
       "Tax Refund          Funds_LinktoZero          1\n",
       "Name: donor_id, dtype: int64"
      ]
     },
     "execution_count": 22,
     "metadata": {},
     "output_type": "execute_result"
    }
   ],
   "source": [
    "## Some funds have zero amounts associated with them.\n",
    "## They mostly look like costs - expense fees, transaction fees, administrative fees\n",
    "## Let us examine if we can safely drop them from our analysis\n",
    "\n",
    "df[df.amount_initial == '$0.00'].groupby(['fund', 'appeal'])['donor_id'].count()"
   ]
  },
  {
   "cell_type": "markdown",
   "metadata": {},
   "source": [
    "#### Dropping rows with zero amounts (after confirmation with SEF office)"
   ]
  },
  {
   "cell_type": "code",
   "execution_count": 23,
   "metadata": {
    "collapsed": false
   },
   "outputs": [],
   "source": [
    "df.drop(df[df.amount == 0].index, axis=0, inplace=True)"
   ]
  },
  {
   "cell_type": "markdown",
   "metadata": {},
   "source": [
    "### Negative amounts"
   ]
  },
  {
   "cell_type": "code",
   "execution_count": 24,
   "metadata": {
    "collapsed": false
   },
   "outputs": [
    {
     "name": "stdout",
     "output_type": "stream",
     "text": [
      "Total negative amount is:  -688259.87\n"
     ]
    }
   ],
   "source": [
    "## What is the total amount of the negative?\n",
    "print 'Total negative amount is: ', df[df.amount < 0].amount.sum()"
   ]
  },
  {
   "cell_type": "code",
   "execution_count": 25,
   "metadata": {
    "collapsed": false
   },
   "outputs": [],
   "source": [
    "# Add if condition to make this re-runnable\n",
    "if df[df.amount < 0].amount.sum() > 0:\n",
    "    print 'Amounts grouped by fund and appeal, sorted by most negative amounts'\n",
    "    df[df.amount < 0]\\\n",
    "        .groupby(['fund', 'appeal'])['amount',]\\\n",
    "        .sum()\\\n",
    "        .sort_values(by='amount')\\\n",
    "        .to_csv('out/0/negative_amounts_sorted.csv')\n",
    "\n",
    "    df[df.amount < 0]\\\n",
    "        .groupby(['fund', 'appeal'])['amount',]\\\n",
    "        .sum()\\\n",
    "        .to_csv('out/0/negative_amounts_grouped_by_fund.csv')"
   ]
  },
  {
   "cell_type": "markdown",
   "metadata": {},
   "source": [
    "#### Dropping rows with negative amounts (after confirmation with SEF office)"
   ]
  },
  {
   "cell_type": "code",
   "execution_count": 26,
   "metadata": {
    "collapsed": false
   },
   "outputs": [],
   "source": [
    "df.drop(df[df.amount < 0].index, axis=0, inplace=True)"
   ]
  },
  {
   "cell_type": "markdown",
   "metadata": {},
   "source": [
    "## Investigate invalid state codes"
   ]
  },
  {
   "cell_type": "code",
   "execution_count": 27,
   "metadata": {
    "collapsed": false
   },
   "outputs": [
    {
     "name": "stdout",
     "output_type": "stream",
     "text": [
      "<class 'pandas.core.frame.DataFrame'>\n",
      "Int64Index: 237877 entries, 0 to 240014\n",
      "Data columns (total 13 columns):\n",
      "donor_id           237877 non-null object\n",
      "amount_initial     237877 non-null object\n",
      "donation_date      237877 non-null datetime64[ns]\n",
      "appeal             237877 non-null object\n",
      "fund               237877 non-null object\n",
      "city               237877 non-null object\n",
      "state              237877 non-null object\n",
      "zipcode_initial    237877 non-null object\n",
      "charitable         237877 non-null bool\n",
      "sales              237877 non-null int64\n",
      "zipcode            237877 non-null object\n",
      "amount_cleanup     237877 non-null object\n",
      "amount             237877 non-null float64\n",
      "dtypes: bool(1), datetime64[ns](1), float64(1), int64(1), object(9)\n",
      "memory usage: 15.7+ MB\n"
     ]
    }
   ],
   "source": [
    "df.info()"
   ]
  },
  {
   "cell_type": "code",
   "execution_count": 28,
   "metadata": {
    "collapsed": false
   },
   "outputs": [
    {
     "data": {
      "text/plain": [
       "array(['', 'CA', 'NJ', 'TX', 'VA', 'WA', 'IL', 'KY', 'DE', 'NY', 'TN',\n",
       "       'WI', 'FL', 'MA', 'GA', 'NC', 'MI', 'PA', 'AZ', 'MD', 'OK', 'NH',\n",
       "       'CT', 'OH', 'OR', 'KS', 'MT', 'YY', 'MS', 'CO', 'MN', 'ID', 'NV',\n",
       "       'AP', 'IN', 'MO', 'NE', 'LA', 'ON', 'AL', 'SD', 'AR', 'IA', 'ND',\n",
       "       'SC', 'UT', 'HY', 'DC', 'ME', 'HI', 'UK', 'VI', 'NM', 'RI', 'WY',\n",
       "       'PR', 'AB', 'WV', 'CF', 'AK', 'VT', 'Co', 'Ny', 'ja', 'Ca', 'BC',\n",
       "       '56', 'IO'], dtype=object)"
      ]
     },
     "execution_count": 28,
     "metadata": {},
     "output_type": "execute_result"
    }
   ],
   "source": [
    "df.state.unique()"
   ]
  },
  {
   "cell_type": "code",
   "execution_count": 29,
   "metadata": {
    "collapsed": false
   },
   "outputs": [],
   "source": [
    "## States imported from http://statetable.com/\n",
    "states = pd.read_csv('in/state_table.csv')\n",
    "states.rename(columns={'abbreviation': 'state'}, inplace=True)"
   ]
  },
  {
   "cell_type": "code",
   "execution_count": 30,
   "metadata": {
    "collapsed": true
   },
   "outputs": [],
   "source": [
    "all_states = pd.merge(states, pd.DataFrame(df.state.unique(), columns=['state']), on='state', how='right')\n",
    "invalid_states = all_states[pd.isnull(all_states.id)].state"
   ]
  },
  {
   "cell_type": "code",
   "execution_count": 31,
   "metadata": {
    "collapsed": false
   },
   "outputs": [
    {
     "data": {
      "text/plain": [
       "      13750\n",
       "56        1\n",
       "AB        1\n",
       "AP       17\n",
       "BC        1\n",
       "CF        1\n",
       "Ca        1\n",
       "Co        1\n",
       "HY        1\n",
       "IO        1\n",
       "Ny        5\n",
       "ON       62\n",
       "PR        5\n",
       "UK        1\n",
       "VI        6\n",
       "YY      267\n",
       "ja        1\n",
       "Name: state, dtype: int64"
      ]
     },
     "execution_count": 31,
     "metadata": {},
     "output_type": "execute_result"
    }
   ],
   "source": [
    "df[df.state.isin(invalid_states)].state.value_counts().sort_index()"
   ]
  },
  {
   "cell_type": "code",
   "execution_count": 32,
   "metadata": {
    "collapsed": false
   },
   "outputs": [
    {
     "data": {
      "text/html": [
       "<div>\n",
       "<table border=\"1\" class=\"dataframe\">\n",
       "  <thead>\n",
       "    <tr style=\"text-align: right;\">\n",
       "      <th></th>\n",
       "      <th>donor_id</th>\n",
       "      <th>amount_initial</th>\n",
       "      <th>donation_date</th>\n",
       "      <th>appeal</th>\n",
       "      <th>fund</th>\n",
       "      <th>city</th>\n",
       "      <th>state</th>\n",
       "      <th>zipcode_initial</th>\n",
       "      <th>charitable</th>\n",
       "      <th>sales</th>\n",
       "      <th>zipcode</th>\n",
       "      <th>amount_cleanup</th>\n",
       "      <th>amount</th>\n",
       "    </tr>\n",
       "  </thead>\n",
       "  <tbody>\n",
       "    <tr>\n",
       "      <th>36809</th>\n",
       "      <td>_16D0ZPFVU</td>\n",
       "      <td>$30.00</td>\n",
       "      <td>2004-02-20</td>\n",
       "      <td>Funds_Web</td>\n",
       "      <td>Cataract Surgery</td>\n",
       "      <td>Shivam Road</td>\n",
       "      <td>HY</td>\n",
       "      <td>500044</td>\n",
       "      <td>True</td>\n",
       "      <td>0</td>\n",
       "      <td>50004</td>\n",
       "      <td>30.00</td>\n",
       "      <td>30</td>\n",
       "    </tr>\n",
       "    <tr>\n",
       "      <th>62847</th>\n",
       "      <td>_1LZ0QH4BH</td>\n",
       "      <td>$300.00</td>\n",
       "      <td>2005-09-19</td>\n",
       "      <td>Funds_mail</td>\n",
       "      <td>Cataract Surgery</td>\n",
       "      <td>London,  England</td>\n",
       "      <td>UK</td>\n",
       "      <td>W93EF</td>\n",
       "      <td>True</td>\n",
       "      <td>0</td>\n",
       "      <td>W93EF</td>\n",
       "      <td>300.00</td>\n",
       "      <td>300</td>\n",
       "    </tr>\n",
       "    <tr>\n",
       "      <th>62974</th>\n",
       "      <td>_1M60X2OEP</td>\n",
       "      <td>$10000.00</td>\n",
       "      <td>2005-09-16</td>\n",
       "      <td>Funds_Volunteer</td>\n",
       "      <td>Project_Gujarat</td>\n",
       "      <td>Christiansted</td>\n",
       "      <td>VI</td>\n",
       "      <td>00821-1042</td>\n",
       "      <td>True</td>\n",
       "      <td>0</td>\n",
       "      <td>00821</td>\n",
       "      <td>10000.00</td>\n",
       "      <td>10000</td>\n",
       "    </tr>\n",
       "    <tr>\n",
       "      <th>62975</th>\n",
       "      <td>_1M60X2OEP</td>\n",
       "      <td>$1000.00</td>\n",
       "      <td>2008-08-21</td>\n",
       "      <td>Funds_Volunteer</td>\n",
       "      <td>Project_Gujarat</td>\n",
       "      <td>Christiansted</td>\n",
       "      <td>VI</td>\n",
       "      <td>00821-1042</td>\n",
       "      <td>True</td>\n",
       "      <td>0</td>\n",
       "      <td>00821</td>\n",
       "      <td>1000.00</td>\n",
       "      <td>1000</td>\n",
       "    </tr>\n",
       "    <tr>\n",
       "      <th>62976</th>\n",
       "      <td>_1M60X2OEP</td>\n",
       "      <td>$1000.00</td>\n",
       "      <td>2008-08-21</td>\n",
       "      <td>Funds_Volunteer</td>\n",
       "      <td>Project_Gujarat</td>\n",
       "      <td>Christiansted</td>\n",
       "      <td>VI</td>\n",
       "      <td>00821-1042</td>\n",
       "      <td>True</td>\n",
       "      <td>0</td>\n",
       "      <td>00821</td>\n",
       "      <td>1000.00</td>\n",
       "      <td>1000</td>\n",
       "    </tr>\n",
       "    <tr>\n",
       "      <th>62977</th>\n",
       "      <td>_1M60X2OEP</td>\n",
       "      <td>$1000.00</td>\n",
       "      <td>2008-08-21</td>\n",
       "      <td>Funds_Volunteer</td>\n",
       "      <td>Project_Gujarat</td>\n",
       "      <td>Christiansted</td>\n",
       "      <td>VI</td>\n",
       "      <td>00821-1042</td>\n",
       "      <td>True</td>\n",
       "      <td>0</td>\n",
       "      <td>00821</td>\n",
       "      <td>1000.00</td>\n",
       "      <td>1000</td>\n",
       "    </tr>\n",
       "    <tr>\n",
       "      <th>62978</th>\n",
       "      <td>_1M60X2OEP</td>\n",
       "      <td>$1000.00</td>\n",
       "      <td>2008-08-21</td>\n",
       "      <td>Funds_Volunteer</td>\n",
       "      <td>Project_Gujarat</td>\n",
       "      <td>Christiansted</td>\n",
       "      <td>VI</td>\n",
       "      <td>00821-1042</td>\n",
       "      <td>True</td>\n",
       "      <td>0</td>\n",
       "      <td>00821</td>\n",
       "      <td>1000.00</td>\n",
       "      <td>1000</td>\n",
       "    </tr>\n",
       "    <tr>\n",
       "      <th>80316</th>\n",
       "      <td>_1TB0VOC6W</td>\n",
       "      <td>$434.00</td>\n",
       "      <td>2006-06-01</td>\n",
       "      <td>Funds_mail</td>\n",
       "      <td>Cataract Surgery</td>\n",
       "      <td>Condado</td>\n",
       "      <td>PR</td>\n",
       "      <td>00907-1627</td>\n",
       "      <td>True</td>\n",
       "      <td>0</td>\n",
       "      <td>00907</td>\n",
       "      <td>434.00</td>\n",
       "      <td>434</td>\n",
       "    </tr>\n",
       "    <tr>\n",
       "      <th>86200</th>\n",
       "      <td>_1WG0TMRWC</td>\n",
       "      <td>$1001.00</td>\n",
       "      <td>2006-09-28</td>\n",
       "      <td>Funds_Akka2006_Event</td>\n",
       "      <td>Project_Bangalore</td>\n",
       "      <td>Calgary Canada</td>\n",
       "      <td>AB</td>\n",
       "      <td>T3A4W2</td>\n",
       "      <td>True</td>\n",
       "      <td>0</td>\n",
       "      <td>T3A4W</td>\n",
       "      <td>1001.00</td>\n",
       "      <td>1001</td>\n",
       "    </tr>\n",
       "    <tr>\n",
       "      <th>106207</th>\n",
       "      <td>_24410PTQD</td>\n",
       "      <td>$30.00</td>\n",
       "      <td>2007-06-24</td>\n",
       "      <td>Booth_AAPI_2007</td>\n",
       "      <td>Cataract Surgery</td>\n",
       "      <td>Boca Raton</td>\n",
       "      <td>CF</td>\n",
       "      <td>33498-4811</td>\n",
       "      <td>True</td>\n",
       "      <td>0</td>\n",
       "      <td>33498</td>\n",
       "      <td>30.00</td>\n",
       "      <td>30</td>\n",
       "    </tr>\n",
       "    <tr>\n",
       "      <th>171505</th>\n",
       "      <td>1F8992859F</td>\n",
       "      <td>$50.00</td>\n",
       "      <td>2015-09-08</td>\n",
       "      <td>Event_SoCal_Iwalk</td>\n",
       "      <td>Cataract Surgery</td>\n",
       "      <td>Englwood</td>\n",
       "      <td>Co</td>\n",
       "      <td>80113</td>\n",
       "      <td>True</td>\n",
       "      <td>0</td>\n",
       "      <td>80113</td>\n",
       "      <td>50.00</td>\n",
       "      <td>50</td>\n",
       "    </tr>\n",
       "    <tr>\n",
       "      <th>173516</th>\n",
       "      <td>25D1FCAD14</td>\n",
       "      <td>$1000.00</td>\n",
       "      <td>2010-07-16</td>\n",
       "      <td>Funds_mail</td>\n",
       "      <td>Project_Punjab</td>\n",
       "      <td>St Thomas</td>\n",
       "      <td>VI</td>\n",
       "      <td>802</td>\n",
       "      <td>True</td>\n",
       "      <td>0</td>\n",
       "      <td>00802</td>\n",
       "      <td>1000.00</td>\n",
       "      <td>1000</td>\n",
       "    </tr>\n",
       "    <tr>\n",
       "      <th>184777</th>\n",
       "      <td>432B9ACA71</td>\n",
       "      <td>$30.00</td>\n",
       "      <td>2015-11-19</td>\n",
       "      <td>Funds_mail</td>\n",
       "      <td>Cataract Surgery</td>\n",
       "      <td>Fresh Medows</td>\n",
       "      <td>Ny</td>\n",
       "      <td>11365</td>\n",
       "      <td>True</td>\n",
       "      <td>0</td>\n",
       "      <td>11365</td>\n",
       "      <td>30.00</td>\n",
       "      <td>30</td>\n",
       "    </tr>\n",
       "    <tr>\n",
       "      <th>184778</th>\n",
       "      <td>432B9ACA71</td>\n",
       "      <td>$30.00</td>\n",
       "      <td>2015-11-19</td>\n",
       "      <td>Funds_mail</td>\n",
       "      <td>Cataract Surgery</td>\n",
       "      <td>Fresh Medows</td>\n",
       "      <td>Ny</td>\n",
       "      <td>11365</td>\n",
       "      <td>True</td>\n",
       "      <td>0</td>\n",
       "      <td>11365</td>\n",
       "      <td>30.00</td>\n",
       "      <td>30</td>\n",
       "    </tr>\n",
       "    <tr>\n",
       "      <th>184779</th>\n",
       "      <td>432B9ACA71</td>\n",
       "      <td>$30.00</td>\n",
       "      <td>2015-11-19</td>\n",
       "      <td>Funds_mail</td>\n",
       "      <td>Cataract Surgery</td>\n",
       "      <td>Fresh Medows</td>\n",
       "      <td>Ny</td>\n",
       "      <td>11365</td>\n",
       "      <td>True</td>\n",
       "      <td>0</td>\n",
       "      <td>11365</td>\n",
       "      <td>30.00</td>\n",
       "      <td>30</td>\n",
       "    </tr>\n",
       "    <tr>\n",
       "      <th>184780</th>\n",
       "      <td>432B9ACA71</td>\n",
       "      <td>$30.00</td>\n",
       "      <td>2015-11-19</td>\n",
       "      <td>Funds_mail</td>\n",
       "      <td>Cataract Surgery</td>\n",
       "      <td>Fresh Medows</td>\n",
       "      <td>Ny</td>\n",
       "      <td>11365</td>\n",
       "      <td>True</td>\n",
       "      <td>0</td>\n",
       "      <td>11365</td>\n",
       "      <td>30.00</td>\n",
       "      <td>30</td>\n",
       "    </tr>\n",
       "    <tr>\n",
       "      <th>184781</th>\n",
       "      <td>432B9ACA71</td>\n",
       "      <td>$30.00</td>\n",
       "      <td>2015-11-19</td>\n",
       "      <td>Funds_mail</td>\n",
       "      <td>Cataract Surgery</td>\n",
       "      <td>Fresh Medows</td>\n",
       "      <td>Ny</td>\n",
       "      <td>11365</td>\n",
       "      <td>True</td>\n",
       "      <td>0</td>\n",
       "      <td>11365</td>\n",
       "      <td>30.00</td>\n",
       "      <td>30</td>\n",
       "    </tr>\n",
       "    <tr>\n",
       "      <th>185537</th>\n",
       "      <td>45B7ED1FAD</td>\n",
       "      <td>$200.00</td>\n",
       "      <td>2014-08-31</td>\n",
       "      <td>Funds_TV</td>\n",
       "      <td>Cataract Surgery</td>\n",
       "      <td>Celebration</td>\n",
       "      <td>ja</td>\n",
       "      <td>34747</td>\n",
       "      <td>True</td>\n",
       "      <td>0</td>\n",
       "      <td>34747</td>\n",
       "      <td>200.00</td>\n",
       "      <td>200</td>\n",
       "    </tr>\n",
       "    <tr>\n",
       "      <th>187634</th>\n",
       "      <td>4CA4D3FFE8</td>\n",
       "      <td>$30.00</td>\n",
       "      <td>2015-02-13</td>\n",
       "      <td>Funds_mail</td>\n",
       "      <td>Cataract Surgery</td>\n",
       "      <td>Fremont</td>\n",
       "      <td>Ca</td>\n",
       "      <td>94536</td>\n",
       "      <td>True</td>\n",
       "      <td>0</td>\n",
       "      <td>94536</td>\n",
       "      <td>30.00</td>\n",
       "      <td>30</td>\n",
       "    </tr>\n",
       "    <tr>\n",
       "      <th>200637</th>\n",
       "      <td>78CB632E70</td>\n",
       "      <td>$500.00</td>\n",
       "      <td>2013-08-29</td>\n",
       "      <td>Event_ShreyaGhosal_WA</td>\n",
       "      <td>Event_Ticket Money</td>\n",
       "      <td>Surrey</td>\n",
       "      <td>BC</td>\n",
       "      <td>V3T5E4</td>\n",
       "      <td>False</td>\n",
       "      <td>0</td>\n",
       "      <td>V3T5E</td>\n",
       "      <td>500.00</td>\n",
       "      <td>500</td>\n",
       "    </tr>\n",
       "    <tr>\n",
       "      <th>203104</th>\n",
       "      <td>81B16776A6</td>\n",
       "      <td>$7500.00</td>\n",
       "      <td>2014-03-26</td>\n",
       "      <td>Event_Sangam_2014</td>\n",
       "      <td>Event_Sponsorship</td>\n",
       "      <td>Bangalore</td>\n",
       "      <td>56</td>\n",
       "      <td></td>\n",
       "      <td>True</td>\n",
       "      <td>0</td>\n",
       "      <td>00000</td>\n",
       "      <td>7500.00</td>\n",
       "      <td>7500</td>\n",
       "    </tr>\n",
       "    <tr>\n",
       "      <th>216420</th>\n",
       "      <td>AF89DAF2C5</td>\n",
       "      <td>$90.00</td>\n",
       "      <td>2010-08-31</td>\n",
       "      <td>Mallik_Paranandi</td>\n",
       "      <td>Project_Punjab</td>\n",
       "      <td>Gurabo</td>\n",
       "      <td>PR</td>\n",
       "      <td>778</td>\n",
       "      <td>True</td>\n",
       "      <td>0</td>\n",
       "      <td>00778</td>\n",
       "      <td>90.00</td>\n",
       "      <td>90</td>\n",
       "    </tr>\n",
       "    <tr>\n",
       "      <th>216421</th>\n",
       "      <td>AF89DAF2C5</td>\n",
       "      <td>$90.00</td>\n",
       "      <td>2010-11-12</td>\n",
       "      <td>Mallik_Paranandi</td>\n",
       "      <td>Project_Punjab</td>\n",
       "      <td>Gurabo</td>\n",
       "      <td>PR</td>\n",
       "      <td>778</td>\n",
       "      <td>False</td>\n",
       "      <td>0</td>\n",
       "      <td>00778</td>\n",
       "      <td>90.00</td>\n",
       "      <td>90</td>\n",
       "    </tr>\n",
       "    <tr>\n",
       "      <th>216422</th>\n",
       "      <td>AF89DAF2C5</td>\n",
       "      <td>$90.00</td>\n",
       "      <td>2014-06-30</td>\n",
       "      <td>Funds_Web</td>\n",
       "      <td>Cataract Surgery</td>\n",
       "      <td>Gurabo</td>\n",
       "      <td>PR</td>\n",
       "      <td>778</td>\n",
       "      <td>True</td>\n",
       "      <td>0</td>\n",
       "      <td>00778</td>\n",
       "      <td>90.00</td>\n",
       "      <td>90</td>\n",
       "    </tr>\n",
       "    <tr>\n",
       "      <th>216423</th>\n",
       "      <td>AF89DAF2C5</td>\n",
       "      <td>$90.00</td>\n",
       "      <td>2014-09-02</td>\n",
       "      <td>Funds_Matching</td>\n",
       "      <td>Cataract Surgery</td>\n",
       "      <td>Gurabo</td>\n",
       "      <td>PR</td>\n",
       "      <td>778</td>\n",
       "      <td>False</td>\n",
       "      <td>0</td>\n",
       "      <td>00778</td>\n",
       "      <td>90.00</td>\n",
       "      <td>90</td>\n",
       "    </tr>\n",
       "    <tr>\n",
       "      <th>239893</th>\n",
       "      <td>FF695D470E</td>\n",
       "      <td>$800.00</td>\n",
       "      <td>2009-07-15</td>\n",
       "      <td>CAR_Auction_City</td>\n",
       "      <td>Administrative Costs</td>\n",
       "      <td>Iowa City</td>\n",
       "      <td>IO</td>\n",
       "      <td>52245</td>\n",
       "      <td>True</td>\n",
       "      <td>0</td>\n",
       "      <td>52245</td>\n",
       "      <td>800.00</td>\n",
       "      <td>800</td>\n",
       "    </tr>\n",
       "  </tbody>\n",
       "</table>\n",
       "</div>"
      ],
      "text/plain": [
       "          donor_id amount_initial donation_date                 appeal  \\\n",
       "36809   _16D0ZPFVU         $30.00    2004-02-20              Funds_Web   \n",
       "62847   _1LZ0QH4BH        $300.00    2005-09-19             Funds_mail   \n",
       "62974   _1M60X2OEP      $10000.00    2005-09-16        Funds_Volunteer   \n",
       "62975   _1M60X2OEP       $1000.00    2008-08-21        Funds_Volunteer   \n",
       "62976   _1M60X2OEP       $1000.00    2008-08-21        Funds_Volunteer   \n",
       "62977   _1M60X2OEP       $1000.00    2008-08-21        Funds_Volunteer   \n",
       "62978   _1M60X2OEP       $1000.00    2008-08-21        Funds_Volunteer   \n",
       "80316   _1TB0VOC6W        $434.00    2006-06-01             Funds_mail   \n",
       "86200   _1WG0TMRWC       $1001.00    2006-09-28   Funds_Akka2006_Event   \n",
       "106207  _24410PTQD         $30.00    2007-06-24        Booth_AAPI_2007   \n",
       "171505  1F8992859F         $50.00    2015-09-08      Event_SoCal_Iwalk   \n",
       "173516  25D1FCAD14       $1000.00    2010-07-16             Funds_mail   \n",
       "184777  432B9ACA71         $30.00    2015-11-19             Funds_mail   \n",
       "184778  432B9ACA71         $30.00    2015-11-19             Funds_mail   \n",
       "184779  432B9ACA71         $30.00    2015-11-19             Funds_mail   \n",
       "184780  432B9ACA71         $30.00    2015-11-19             Funds_mail   \n",
       "184781  432B9ACA71         $30.00    2015-11-19             Funds_mail   \n",
       "185537  45B7ED1FAD        $200.00    2014-08-31               Funds_TV   \n",
       "187634  4CA4D3FFE8         $30.00    2015-02-13             Funds_mail   \n",
       "200637  78CB632E70        $500.00    2013-08-29  Event_ShreyaGhosal_WA   \n",
       "203104  81B16776A6       $7500.00    2014-03-26      Event_Sangam_2014   \n",
       "216420  AF89DAF2C5         $90.00    2010-08-31       Mallik_Paranandi   \n",
       "216421  AF89DAF2C5         $90.00    2010-11-12       Mallik_Paranandi   \n",
       "216422  AF89DAF2C5         $90.00    2014-06-30              Funds_Web   \n",
       "216423  AF89DAF2C5         $90.00    2014-09-02         Funds_Matching   \n",
       "239893  FF695D470E        $800.00    2009-07-15       CAR_Auction_City   \n",
       "\n",
       "                        fund              city state zipcode_initial  \\\n",
       "36809       Cataract Surgery       Shivam Road    HY          500044   \n",
       "62847       Cataract Surgery  London,  England    UK           W93EF   \n",
       "62974        Project_Gujarat     Christiansted    VI      00821-1042   \n",
       "62975        Project_Gujarat     Christiansted    VI      00821-1042   \n",
       "62976        Project_Gujarat     Christiansted    VI      00821-1042   \n",
       "62977        Project_Gujarat     Christiansted    VI      00821-1042   \n",
       "62978        Project_Gujarat     Christiansted    VI      00821-1042   \n",
       "80316       Cataract Surgery           Condado    PR      00907-1627   \n",
       "86200      Project_Bangalore    Calgary Canada    AB          T3A4W2   \n",
       "106207      Cataract Surgery        Boca Raton    CF      33498-4811   \n",
       "171505      Cataract Surgery          Englwood    Co           80113   \n",
       "173516        Project_Punjab         St Thomas    VI             802   \n",
       "184777      Cataract Surgery      Fresh Medows    Ny           11365   \n",
       "184778      Cataract Surgery      Fresh Medows    Ny           11365   \n",
       "184779      Cataract Surgery      Fresh Medows    Ny           11365   \n",
       "184780      Cataract Surgery      Fresh Medows    Ny           11365   \n",
       "184781      Cataract Surgery      Fresh Medows    Ny           11365   \n",
       "185537      Cataract Surgery       Celebration    ja           34747   \n",
       "187634      Cataract Surgery           Fremont    Ca           94536   \n",
       "200637    Event_Ticket Money            Surrey    BC          V3T5E4   \n",
       "203104     Event_Sponsorship         Bangalore    56                   \n",
       "216420        Project_Punjab            Gurabo    PR             778   \n",
       "216421        Project_Punjab            Gurabo    PR             778   \n",
       "216422      Cataract Surgery            Gurabo    PR             778   \n",
       "216423      Cataract Surgery            Gurabo    PR             778   \n",
       "239893  Administrative Costs         Iowa City    IO           52245   \n",
       "\n",
       "       charitable  sales zipcode amount_cleanup  amount  \n",
       "36809        True      0   50004          30.00      30  \n",
       "62847        True      0   W93EF         300.00     300  \n",
       "62974        True      0   00821       10000.00   10000  \n",
       "62975        True      0   00821        1000.00    1000  \n",
       "62976        True      0   00821        1000.00    1000  \n",
       "62977        True      0   00821        1000.00    1000  \n",
       "62978        True      0   00821        1000.00    1000  \n",
       "80316        True      0   00907         434.00     434  \n",
       "86200        True      0   T3A4W        1001.00    1001  \n",
       "106207       True      0   33498          30.00      30  \n",
       "171505       True      0   80113          50.00      50  \n",
       "173516       True      0   00802        1000.00    1000  \n",
       "184777       True      0   11365          30.00      30  \n",
       "184778       True      0   11365          30.00      30  \n",
       "184779       True      0   11365          30.00      30  \n",
       "184780       True      0   11365          30.00      30  \n",
       "184781       True      0   11365          30.00      30  \n",
       "185537       True      0   34747         200.00     200  \n",
       "187634       True      0   94536          30.00      30  \n",
       "200637      False      0   V3T5E         500.00     500  \n",
       "203104       True      0   00000        7500.00    7500  \n",
       "216420       True      0   00778          90.00      90  \n",
       "216421      False      0   00778          90.00      90  \n",
       "216422       True      0   00778          90.00      90  \n",
       "216423      False      0   00778          90.00      90  \n",
       "239893       True      0   52245         800.00     800  "
      ]
     },
     "execution_count": 32,
     "metadata": {},
     "output_type": "execute_result"
    }
   ],
   "source": [
    "df[df.state.isin(['56', 'AB', 'BC', 'CF', 'Ca', 'Co', 'HY', 'IO', 'Ny', 'PR', 'UK', 'VI', 'ja'])]"
   ]
  },
  {
   "cell_type": "code",
   "execution_count": 33,
   "metadata": {
    "collapsed": false
   },
   "outputs": [
    {
     "data": {
      "text/html": [
       "<style>table {float:left}</style>"
      ],
      "text/plain": [
       "<IPython.core.display.HTML object>"
      ]
     },
     "metadata": {},
     "output_type": "display_data"
    }
   ],
   "source": [
    "%%html\n",
    "<style>table {float:left}</style>"
   ]
  },
  {
   "cell_type": "markdown",
   "metadata": {},
   "source": [
    "### Explanation for invalid state codes:\n",
    "\n",
    "State|Count|Action|Explanation|\n",
    "-----|-----|------|-----------|\n",
    "YY|268|None|All these rows are bogus entries (City and Zip are also YYYYs) - about 20% of the donation amount has this\n",
    "ON|62|Remove|This is the state of Ontario, Canada\n",
    "AP|18|Remove|This is data for Hyderabad\n",
    "VI|6|Remove|Virgin Islands\n",
    "PR|5|Remove|Peurto Rico\n",
    "Ny|5|NY|Same as NY - rename Ny as NY\n",
    "56|1|Remove|This is one donation from Bangalore, Karnataka\n",
    "HY|1|Remove|Hyderabad\n",
    "BC|1|Remove|British Columbia, Canada\n",
    "IO|1|IA|Changed to Iowa - based on city and zip code\n",
    "AB|1|Remove|AB stands for Alberta, Canada\n",
    "Ca|1|CA|Same as California - rename Ca to CA\n",
    "Co|1|CO|Same as Colarado - rename Co to CO\n",
    "CF|1|FL|Changed to Florida based on zip code and city\n",
    "ja|1|FL|Change to FL based on zip code and city\n",
    "UK|1|Remove|London, UK\n",
    "KA|1|Remove|Bangalore, Karnataka"
   ]
  },
  {
   "cell_type": "code",
   "execution_count": 34,
   "metadata": {
    "collapsed": true
   },
   "outputs": [],
   "source": [
    "state_renames = {'Ny': 'NY', 'IO': 'IA', 'Ca' : 'CA', 'Co' : 'CO', 'CF' : 'FL', 'ja' : 'FL'}\n",
    "df.replace({'state': state_renames}, inplace=True)"
   ]
  },
  {
   "cell_type": "markdown",
   "metadata": {},
   "source": [
    "### Dropping data for non-US locations"
   ]
  },
  {
   "cell_type": "code",
   "execution_count": 35,
   "metadata": {
    "collapsed": false,
    "scrolled": true
   },
   "outputs": [
    {
     "name": "stdout",
     "output_type": "stream",
     "text": [
      "Total amount for locations outside USA:  30710.63\n"
     ]
    }
   ],
   "source": [
    "non_usa_states = ['ON', 'AP', 'VI', 'PR', '56', 'HY', 'BC', 'AB', 'UK', 'KA']\n",
    "print 'Total amount for locations outside USA: ', sum(df[df.state.isin(non_usa_states)].amount)\n",
    "#### Total amount for locations outside USA:  30710.63"
   ]
  },
  {
   "cell_type": "code",
   "execution_count": 36,
   "metadata": {
    "collapsed": false
   },
   "outputs": [],
   "source": [
    "df.drop(df[df.state.isin(non_usa_states)].index, axis=0, inplace=True)"
   ]
  },
  {
   "cell_type": "markdown",
   "metadata": {},
   "source": [
    "### Investigate donations with state of YY"
   ]
  },
  {
   "cell_type": "code",
   "execution_count": 37,
   "metadata": {
    "collapsed": false
   },
   "outputs": [
    {
     "name": "stdout",
     "output_type": "stream",
     "text": [
      "Percentage of amount for unknown (YY) state : 0.07\n"
     ]
    }
   ],
   "source": [
    "print 'Percentage of amount for unknown (YY) state : {:.2f}'.format(100*df[df.state == 'YY'].amount.sum()/df.amount.sum())"
   ]
  },
  {
   "cell_type": "code",
   "execution_count": 38,
   "metadata": {
    "collapsed": false
   },
   "outputs": [
    {
     "name": "stdout",
     "output_type": "stream",
     "text": [
      "Total amount for the unknown state excluding outliers:  33822.33\n",
      "Total amount for the unknown state:  33822.33\n",
      "Total amount:  45113291.39\n"
     ]
    }
   ],
   "source": [
    "print 'Total amount for the unknown state excluding outliers: ', df[(df.state == 'YY') & (df.amount < 45000)].amount.sum()\n",
    "print 'Total amount for the unknown state: ', df[(df.state == 'YY')].amount.sum()\n",
    "print 'Total amount: ', df.amount.sum()"
   ]
  },
  {
   "cell_type": "markdown",
   "metadata": {},
   "source": [
    "#### We will add these donations to the noloc_df below (which is the donations that have empty strings for the city/state/zipcode."
   ]
  },
  {
   "cell_type": "markdown",
   "metadata": {},
   "source": [
    "## Investigate empty city, state and zip code\n",
    "\n",
    "Pecentage of total amount from donations with no location:  3.087\n",
    "\n",
    "#### Moving all the data with no location to a different dataframe.\n",
    "We will investigate the data that does have location information for correctness of location and then merge the no location data back at the end."
   ]
  },
  {
   "cell_type": "code",
   "execution_count": 39,
   "metadata": {
    "collapsed": false
   },
   "outputs": [
    {
     "name": "stdout",
     "output_type": "stream",
     "text": [
      "Pecentage of total amount from donations with no location:  3.50179796536\n"
     ]
    }
   ],
   "source": [
    "print 'Pecentage of total amount from donations with no location: ', 100*sum(df[(df.city == '') & (df.state == '') & (df.zipcode_initial == '')].amount)/sum(df.amount)"
   ]
  },
  {
   "cell_type": "code",
   "execution_count": 40,
   "metadata": {
    "collapsed": true
   },
   "outputs": [],
   "source": [
    "noloc_df = df[(df.city == '') & (df.state == '') & (df.zipcode_initial == '')].copy()\n",
    "df = df[~((df.city == '') & (df.state == '') & (df.zipcode_initial == ''))].copy()"
   ]
  },
  {
   "cell_type": "code",
   "execution_count": 41,
   "metadata": {
    "collapsed": false
   },
   "outputs": [
    {
     "name": "stdout",
     "output_type": "stream",
     "text": [
      "237782\n"
     ]
    }
   ],
   "source": [
    "print df.shape[0] + noloc_df.shape[0]"
   ]
  },
  {
   "cell_type": "code",
   "execution_count": 42,
   "metadata": {
    "collapsed": false
   },
   "outputs": [],
   "source": [
    "noloc_df = noloc_df.append(df[(df.state == 'YY')])\n",
    "df = df[~(df.state == 'YY')]"
   ]
  },
  {
   "cell_type": "code",
   "execution_count": 43,
   "metadata": {
    "collapsed": false
   },
   "outputs": [
    {
     "name": "stdout",
     "output_type": "stream",
     "text": [
      "237782\n"
     ]
    }
   ],
   "source": [
    "# Verify that we transferred all the rows over correctly. This total must match the total from above.\n",
    "print df.shape[0] + noloc_df.shape[0]"
   ]
  },
  {
   "cell_type": "markdown",
   "metadata": {},
   "source": [
    "## Investigate City in ('YYY','yyy')\n",
    "\n",
    "These entries have invalid location information and will be added to the noloc_df dataframe."
   ]
  },
  {
   "cell_type": "code",
   "execution_count": 44,
   "metadata": {
    "collapsed": false
   },
   "outputs": [],
   "source": [
    "noloc_df = noloc_df.append(df[(df.city.str.lower() == 'yyy') | (df.city.str.lower() == 'yyyy')])\n",
    "df = df[~((df.city.str.lower() == 'yyy') | (df.city.str.lower() == 'yyyy'))]"
   ]
  },
  {
   "cell_type": "code",
   "execution_count": 45,
   "metadata": {
    "collapsed": false
   },
   "outputs": [
    {
     "name": "stdout",
     "output_type": "stream",
     "text": [
      "237782\n"
     ]
    }
   ],
   "source": [
    "# Verify that we transferred all the rows over correctly. This total must match the total from above.\n",
    "print df.shape[0] + noloc_df.shape[0]"
   ]
  },
  {
   "cell_type": "markdown",
   "metadata": {},
   "source": [
    "## Investigate empty state but non-empty city\n",
    "\n",
    "Percentage of total amount for data with City but no state:  0.566"
   ]
  },
  {
   "cell_type": "code",
   "execution_count": 46,
   "metadata": {
    "collapsed": false
   },
   "outputs": [
    {
     "name": "stdout",
     "output_type": "stream",
     "text": [
      "Percentage of total amount for data with City but no state: 0.566\n"
     ]
    }
   ],
   "source": [
    "print 'Percentage of total amount for data with City but no state: {:.3f}'.format(100*sum(df[df.state == ''].amount)/sum(df.amount))\n",
    "df[((df.state == '') & (df.city != ''))][['city','zipcode','amount']].sort_values('city', ascending=True).to_csv('out/0/City_No_State.csv')"
   ]
  },
  {
   "cell_type": "markdown",
   "metadata": {},
   "source": [
    "By visually examining the cities for rows that don't have a state, we can see that all the cities are coming from Canada and India and some from other countries (except two entries). So we will correct these two entries and drop all the other rows as they are not relevant to the USA."
   ]
  },
  {
   "cell_type": "code",
   "execution_count": 47,
   "metadata": {
    "collapsed": true
   },
   "outputs": [],
   "source": [
    "index = df[(df.donor_id == '-28K0T47RF') & (df.donation_date == '2007-11-30') & (df.city == 'Cupertino')].index\n",
    "df.ix[index,'state'] = 'CA'\n",
    "index = df[(df.donor_id == '9F4812A118') & (df.donation_date == '2012-06-30') & (df.city == 'San Juan')].index\n",
    "df.ix[index,'state'] = 'WA'\n",
    "df.ix[index,'zipcode'] = 98250"
   ]
  },
  {
   "cell_type": "code",
   "execution_count": 48,
   "metadata": {
    "collapsed": false
   },
   "outputs": [
    {
     "name": "stdout",
     "output_type": "stream",
     "text": [
      "Total amount for non-USA location:  233054.97\n"
     ]
    }
   ],
   "source": [
    "# Verified that these remaining entries are for non-US location\n",
    "print 'Total amount for non-USA location: ', df[((df.state == '') & (df.city != ''))].amount.sum()"
   ]
  },
  {
   "cell_type": "code",
   "execution_count": 49,
   "metadata": {
    "collapsed": false
   },
   "outputs": [],
   "source": [
    "df.drop(df[((df.state == '') & (df.city != ''))].index, inplace=True)"
   ]
  },
  {
   "cell_type": "markdown",
   "metadata": {},
   "source": [
    "## Investigate empty city and zipcode but valid US state\n",
    "\n",
    "Percentage of total amount for data with valid US state, but no city, zipcode: 4.509\n",
    "\n",
    "Most of this amount (1.7 of 1.8 million) is coming from about 600 donors in California. We already know that about California is a major contributor to donations.\n",
    "\n",
    "Although, we can do some analytics based on just the US state using this data, it complicates the analysis that does not substantiate the knowledge gain.\n",
    "\n",
    "Therefore, we are dropping the state column from these rows and moving over this data to the dataset that has no location (the one that we created earlier) to simplify our analysis."
   ]
  },
  {
   "cell_type": "code",
   "execution_count": 50,
   "metadata": {
    "collapsed": false
   },
   "outputs": [
    {
     "name": "stdout",
     "output_type": "stream",
     "text": [
      "Percentage of total amount for data with valid US state, but no city, zipcode: 3.837\n"
     ]
    }
   ],
   "source": [
    "print 'Percentage of total amount for data with valid US state, but no city, zipcode: {:.3f}'.format(100*sum(df[(df.city == '') & (df.zipcode_initial == '')].amount)/sum(df.amount))"
   ]
  },
  {
   "cell_type": "code",
   "execution_count": 51,
   "metadata": {
    "collapsed": false
   },
   "outputs": [
    {
     "name": "stdout",
     "output_type": "stream",
     "text": [
      "236560\n"
     ]
    }
   ],
   "source": [
    "# Verify that we transferred all the rows over correctly. This total must match the total from above.\n",
    "print df.shape[0] + noloc_df.shape[0]"
   ]
  },
  {
   "cell_type": "code",
   "execution_count": 52,
   "metadata": {
    "collapsed": false
   },
   "outputs": [],
   "source": [
    "stateonly_df = df[(df.city == '') & (df.zipcode_initial == '')].copy()\n",
    "stateonly_df.state = ''\n",
    "\n",
    "## Move the rows with just the state over to the noloc_df dataset\n",
    "noloc_df = pd.concat([noloc_df, stateonly_df])\n",
    "df = df[~((df.city == '') & (df.zipcode_initial == ''))].copy()"
   ]
  },
  {
   "cell_type": "code",
   "execution_count": 53,
   "metadata": {
    "collapsed": false
   },
   "outputs": [
    {
     "name": "stdout",
     "output_type": "stream",
     "text": [
      "236560\n"
     ]
    }
   ],
   "source": [
    "# Verify that we transferred all the rows over correctly. This total must match the total from above.\n",
    "print df.shape[0] + noloc_df.shape[0]"
   ]
  },
  {
   "cell_type": "code",
   "execution_count": 54,
   "metadata": {
    "collapsed": false
   },
   "outputs": [
    {
     "name": "stdout",
     "output_type": "stream",
     "text": [
      "0.0407861591339\n",
      "173 18\n",
      "16968.3 13004.95\n",
      "16968.3 13004.95\n",
      "41603083.89\n"
     ]
    }
   ],
   "source": [
    "print 100*sum(df[df.city == ''].amount)/sum(df.amount)\n",
    "\n",
    "print len(df[df.city == '']), len(df[df.zipcode_initial == ''])\n",
    "print sum(df[df.city == ''].amount), sum(df[df.zipcode_initial == ''].amount)\n",
    "print sum(df[(df.city == '') & (df.zipcode_initial != '')].amount),\\\n",
    "    sum(df[(df.city != '') & (df.zipcode_initial == '')].amount)\n",
    "\n",
    "print sum(df.amount)"
   ]
  },
  {
   "cell_type": "markdown",
   "metadata": {},
   "source": [
    "## Investigating empty city and empty state with non-empty zip code\n",
    "\n",
    "Since we have the zip code data from the US census data, we can use that to fill in the city and state"
   ]
  },
  {
   "cell_type": "code",
   "execution_count": 55,
   "metadata": {
    "collapsed": false
   },
   "outputs": [],
   "source": [
    "## Zip codes from ftp://ftp.census.gov/econ2013/CBP_CSV/zbp13totals.zip\n",
    "zipcodes = pd.read_csv('in/zbp13totals.txt', dtype={'zip': object})\n",
    "zipcodes = zipcodes[['zip', 'city', 'stabbr']]\n",
    "zipcodes = zipcodes.rename(columns = {'zip':'zipcode', 'stabbr': 'state', 'city': 'city'})\n",
    "zipcodes.city = zipcodes.city.str.title()\n",
    "zipcodes.zipcode = zipcodes.zipcode.astype('str')"
   ]
  },
  {
   "cell_type": "code",
   "execution_count": 56,
   "metadata": {
    "collapsed": false
   },
   "outputs": [],
   "source": [
    "## If we know the zip code, we can populate the city by using the zipcodes data\n",
    "df.replace({'city': {'': np.nan}, 'state': {'': np.nan}}, inplace=True)\n",
    "\n",
    "## Set the index correctly for update to work. Then reset it back.\n",
    "df.set_index(['zipcode'], inplace=True)\n",
    "zipcodes.set_index(['zipcode'], inplace=True)\n",
    "\n",
    "df.update(zipcodes, join='left', overwrite=False, raise_conflict=False)"
   ]
  },
  {
   "cell_type": "code",
   "execution_count": 57,
   "metadata": {
    "collapsed": false
   },
   "outputs": [],
   "source": [
    "df.reset_index(drop=False, inplace=True)\n",
    "zipcodes.reset_index(drop=False, inplace=True)"
   ]
  },
  {
   "cell_type": "code",
   "execution_count": 58,
   "metadata": {
    "collapsed": false
   },
   "outputs": [],
   "source": [
    "zipcodesdetail = pd.read_csv('in/zip_code_database.csv')"
   ]
  },
  {
   "cell_type": "code",
   "execution_count": 59,
   "metadata": {
    "collapsed": true
   },
   "outputs": [],
   "source": [
    "zipcodesdetail = zipcodesdetail[zipcodesdetail.country == 'US'][['zip', 'primary_city', 'county', 'state', 'timezone', 'latitude', 'longitude']]\n",
    "zipcodesdetail = zipcodesdetail.rename(columns = {'zip':'zipcode', 'primary_city': 'city'})"
   ]
  },
  {
   "cell_type": "code",
   "execution_count": 60,
   "metadata": {
    "collapsed": true
   },
   "outputs": [],
   "source": [
    "# The zip codes dataset has quite a few missing values. Filling in what we need for now.\n",
    "# If this happens again, search for a different data source!!\n",
    "zipcodesdetail.loc[(zipcodesdetail.city == 'Frisco') & (zipcodesdetail.state == 'TX') & (pd.isnull(zipcodesdetail.county)), 'county'] = 'Denton'"
   ]
  },
  {
   "cell_type": "code",
   "execution_count": 61,
   "metadata": {
    "collapsed": true
   },
   "outputs": [],
   "source": [
    "# Strip the ' County' portion from the county names\n",
    "def getcounty(county):\n",
    "    if pd.isnull(county):\n",
    "        return county\n",
    "    elif county.endswith(' County'):\n",
    "        return county[:-7]\n",
    "    else:\n",
    "        return county\n",
    "\n",
    "zipcodesdetail.county = zipcodesdetail['county'].apply(getcounty)"
   ]
  },
  {
   "cell_type": "code",
   "execution_count": 62,
   "metadata": {
    "collapsed": true
   },
   "outputs": [],
   "source": [
    "zipcodesdetail.zipcode = zipcodesdetail.zipcode.apply(fill_zipcode)"
   ]
  },
  {
   "cell_type": "code",
   "execution_count": 63,
   "metadata": {
    "collapsed": false
   },
   "outputs": [],
   "source": [
    "newcols = np.array(list(set(df.columns).union(zipcodesdetail.columns)))"
   ]
  },
  {
   "cell_type": "code",
   "execution_count": 64,
   "metadata": {
    "collapsed": true
   },
   "outputs": [],
   "source": [
    "df = pd.merge(df, zipcodesdetail, on=['state', 'city', 'zipcode'], how='inner', suffixes=('_x', ''))[newcols]"
   ]
  },
  {
   "cell_type": "code",
   "execution_count": 65,
   "metadata": {
    "collapsed": true
   },
   "outputs": [],
   "source": [
    "# For some reason, the data types are being reset. So setting them back to their expected data types.\n",
    "df.donation_date = df.donation_date.apply(pd.to_datetime)\n",
    "df.charitable = df.charitable.apply(bool)\n",
    "df.amount = df.amount.apply(int)"
   ]
  },
  {
   "cell_type": "markdown",
   "metadata": {},
   "source": [
    "## Investigate invalid zip codes"
   ]
  },
  {
   "cell_type": "code",
   "execution_count": 66,
   "metadata": {
    "collapsed": false
   },
   "outputs": [
    {
     "data": {
      "text/html": [
       "<div>\n",
       "<table border=\"1\" class=\"dataframe\">\n",
       "  <thead>\n",
       "    <tr style=\"text-align: right;\">\n",
       "      <th></th>\n",
       "      <th>donation_date</th>\n",
       "      <th>city_x</th>\n",
       "      <th>fund</th>\n",
       "      <th>amount_initial</th>\n",
       "      <th>amount_cleanup</th>\n",
       "      <th>zipcode</th>\n",
       "      <th>longitude</th>\n",
       "      <th>sales</th>\n",
       "      <th>county</th>\n",
       "      <th>charitable</th>\n",
       "      <th>amount</th>\n",
       "      <th>state_x</th>\n",
       "      <th>donor_id</th>\n",
       "      <th>timezone</th>\n",
       "      <th>latitude</th>\n",
       "      <th>zipcode_initial</th>\n",
       "      <th>appeal</th>\n",
       "      <th>city_y</th>\n",
       "      <th>state_y</th>\n",
       "    </tr>\n",
       "  </thead>\n",
       "  <tbody>\n",
       "  </tbody>\n",
       "</table>\n",
       "</div>"
      ],
      "text/plain": [
       "Empty DataFrame\n",
       "Columns: [donation_date, city_x, fund, amount_initial, amount_cleanup, zipcode, longitude, sales, county, charitable, amount, state_x, donor_id, timezone, latitude, zipcode_initial, appeal, city_y, state_y]\n",
       "Index: []"
      ]
     },
     "execution_count": 66,
     "metadata": {},
     "output_type": "execute_result"
    }
   ],
   "source": [
    "all_zipcodes = pd.merge(df, zipcodes, on='zipcode', how='left')\n",
    "all_zipcodes[pd.isnull(all_zipcodes.city_x)].head()"
   ]
  },
  {
   "cell_type": "code",
   "execution_count": 67,
   "metadata": {
    "collapsed": false
   },
   "outputs": [],
   "source": [
    "## There seems to be only one row with an invalid zip code. Let's drop it.\n",
    "df.drop(df[df.zipcode_initial.isin(['GU214ND','94000'])].index, axis=0, inplace=True)"
   ]
  },
  {
   "cell_type": "markdown",
   "metadata": {},
   "source": [
    "## Final check on all location data to confirm that we have no rows with empty state, city or location"
   ]
  },
  {
   "cell_type": "code",
   "execution_count": 68,
   "metadata": {
    "collapsed": false
   },
   "outputs": [
    {
     "name": "stdout",
     "output_type": "stream",
     "text": [
      "No state: count of rows:  0 Total amount:  0\n",
      "No zipcode: count of rows:  0 Total amount:  0\n",
      "No city: count of rows:  0 Total amount:  0\n"
     ]
    }
   ],
   "source": [
    "print 'No state: count of rows: ', len(df[df.state == ''].amount),\\\n",
    "      'Total amount: ', sum(df[df.state == ''].amount)\n",
    "print 'No zipcode: count of rows: ', len(df[df.zipcode == ''].amount),\\\n",
    "      'Total amount: ', sum(df[df.zipcode == ''].amount)\n",
    "print 'No city: count of rows: ', len(df[df.city == ''].amount),\\\n",
    "      'Total amount: ', sum(df[df.city == ''].amount)"
   ]
  },
  {
   "cell_type": "code",
   "execution_count": 69,
   "metadata": {
    "collapsed": false
   },
   "outputs": [
    {
     "name": "stdout",
     "output_type": "stream",
     "text": [
      "         amount\n",
      "state          \n",
      "CA     20843907\n",
      "NJ      3429857\n",
      "WA      3051742\n",
      "NY      2950386\n",
      "TX      2853985\n",
      "IL       985315\n",
      "PA       639535\n",
      "FL       582481\n",
      "MI       454949\n",
      "VA       408576\n",
      "       donor_id\n",
      "state          \n",
      "CA       109435\n",
      "NJ        20900\n",
      "WA        20350\n",
      "NY        10994\n",
      "TX         9756\n",
      "IL         6867\n",
      "PA         4300\n",
      "VA         2767\n",
      "NC         2024\n",
      "AZ         1931\n"
     ]
    }
   ],
   "source": [
    "# Examining data - top 10 states by amount and number of donors\n",
    "print df.groupby('state')['amount',].sum().sort_values(by='amount', ascending=False)[0:10]\n",
    "print df.groupby('state')['donor_id',].count().sort_values(by='donor_id', ascending=False)[0:10]"
   ]
  },
  {
   "cell_type": "code",
   "execution_count": 70,
   "metadata": {
    "collapsed": false
   },
   "outputs": [
    {
     "name": "stdout",
     "output_type": "stream",
     "text": [
      "['' 'YY' 'CA']\n",
      "['' 'YYYY' 'YY' 'YYYYY' 'YYY' 'yyy']\n",
      "['00000' '0YYYY' '000YY' '00YYY']\n"
     ]
    }
   ],
   "source": [
    "print noloc_df.state.unique()\n",
    "print noloc_df.city.unique()\n",
    "print noloc_df.zipcode.unique()"
   ]
  },
  {
   "cell_type": "code",
   "execution_count": 71,
   "metadata": {
    "collapsed": false
   },
   "outputs": [],
   "source": [
    "noloc_df['city'] = ''\n",
    "noloc_df['state'] = ''\n",
    "noloc_df['zipcode'] = ''"
   ]
  },
  {
   "cell_type": "code",
   "execution_count": 72,
   "metadata": {
    "collapsed": false
   },
   "outputs": [
    {
     "name": "stdout",
     "output_type": "stream",
     "text": [
      "226140\n"
     ]
    }
   ],
   "source": [
    "print df.shape[0] + noloc_df.shape[0]"
   ]
  },
  {
   "cell_type": "code",
   "execution_count": 73,
   "metadata": {
    "collapsed": false
   },
   "outputs": [
    {
     "data": {
      "text/plain": [
       "((207335, 17), (18805, 13))"
      ]
     },
     "execution_count": 73,
     "metadata": {},
     "output_type": "execute_result"
    }
   ],
   "source": [
    "df.shape, noloc_df.shape"
   ]
  },
  {
   "cell_type": "code",
   "execution_count": 74,
   "metadata": {
    "collapsed": false
   },
   "outputs": [
    {
     "data": {
      "text/html": [
       "<div>\n",
       "<table border=\"1\" class=\"dataframe\">\n",
       "  <thead>\n",
       "    <tr style=\"text-align: right;\">\n",
       "      <th></th>\n",
       "      <th></th>\n",
       "      <th>zipcode</th>\n",
       "    </tr>\n",
       "    <tr>\n",
       "      <th>donor_id</th>\n",
       "      <th>zipcode</th>\n",
       "      <th></th>\n",
       "    </tr>\n",
       "  </thead>\n",
       "  <tbody>\n",
       "  </tbody>\n",
       "</table>\n",
       "</div>"
      ],
      "text/plain": [
       "Empty DataFrame\n",
       "Columns: [zipcode]\n",
       "Index: []"
      ]
     },
     "execution_count": 74,
     "metadata": {},
     "output_type": "execute_result"
    }
   ],
   "source": [
    "# The input data has the latest zip code for each donor. So we cannot observe any movement even if there was any since\n",
    "# all donations by a given donor will only have the same exact zipcode.\n",
    "x1 = pd.DataFrame(df.groupby(['donor_id','zipcode']).zipcode.nunique())\n",
    "x1[x1.zipcode != 1]"
   ]
  },
  {
   "cell_type": "code",
   "execution_count": 75,
   "metadata": {
    "collapsed": false
   },
   "outputs": [
    {
     "data": {
      "text/plain": [
       "set()"
      ]
     },
     "execution_count": 75,
     "metadata": {},
     "output_type": "execute_result"
    }
   ],
   "source": [
    "# The noloc_df and the df with location values have no donors in common - so we cannot use the donor\n",
    "# location information from df to detect the location in noloc_df.\n",
    "set(df.donor_id.values).intersection(noloc_df.donor_id.values)"
   ]
  },
  {
   "cell_type": "code",
   "execution_count": 76,
   "metadata": {
    "collapsed": false
   },
   "outputs": [],
   "source": [
    "df.rename(columns={'donation_date': 'activity_date'}, inplace=True)\n",
    "df['activity_year'] = df.activity_date.apply(lambda x: x.year)\n",
    "df['activity_month'] = df.activity_date.apply(lambda x: x.month)\n",
    "df['activity_dow'] = df.activity_date.apply(lambda x: x.dayofweek)\n",
    "df['activity_ym'] = df['activity_date'].map(lambda x: 100*x.year + x.month)\n",
    "df['activity_yq'] = df['activity_date'].map(lambda x: 10*x.year + (x.month-1)//3)\n",
    "df['activity_ymd'] = df['activity_date'].map(lambda x: 10000*x.year + 100*x.month + x.day)"
   ]
  },
  {
   "cell_type": "code",
   "execution_count": 77,
   "metadata": {
    "collapsed": true
   },
   "outputs": [],
   "source": [
    "# Drop the zipcode_initial (for privacy reasons)\n",
    "df.drop('zipcode_initial', axis=1, inplace=True)"
   ]
  },
  {
   "cell_type": "markdown",
   "metadata": {},
   "source": [
    "### All done! Let's save our dataframes for the next stage of processing"
   ]
  },
  {
   "cell_type": "code",
   "execution_count": 78,
   "metadata": {
    "collapsed": true
   },
   "outputs": [],
   "source": [
    "!mkdir -p out/0\n",
    "df.to_pickle('out/0/donations.pkl')\n",
    "noloc_df.to_pickle('out/0/donations_noloc.pkl')"
   ]
  },
  {
   "cell_type": "code",
   "execution_count": 79,
   "metadata": {
    "collapsed": false
   },
   "outputs": [
    {
     "data": {
      "text/html": [
       "<div>\n",
       "<table border=\"1\" class=\"dataframe\">\n",
       "  <thead>\n",
       "    <tr style=\"text-align: right;\">\n",
       "      <th></th>\n",
       "      <th>activity_date</th>\n",
       "      <th>city</th>\n",
       "      <th>fund</th>\n",
       "      <th>amount_initial</th>\n",
       "      <th>amount_cleanup</th>\n",
       "      <th>zipcode</th>\n",
       "      <th>longitude</th>\n",
       "      <th>sales</th>\n",
       "      <th>county</th>\n",
       "      <th>charitable</th>\n",
       "      <th>...</th>\n",
       "      <th>donor_id</th>\n",
       "      <th>timezone</th>\n",
       "      <th>latitude</th>\n",
       "      <th>appeal</th>\n",
       "      <th>activity_year</th>\n",
       "      <th>activity_month</th>\n",
       "      <th>activity_dow</th>\n",
       "      <th>activity_ym</th>\n",
       "      <th>activity_yq</th>\n",
       "      <th>activity_ymd</th>\n",
       "    </tr>\n",
       "  </thead>\n",
       "  <tbody>\n",
       "    <tr>\n",
       "      <th>178547</th>\n",
       "      <td>2015-09-21</td>\n",
       "      <td>Kenmore</td>\n",
       "      <td>Cataract Surgery</td>\n",
       "      <td>$250.00</td>\n",
       "      <td>250.00</td>\n",
       "      <td>98028</td>\n",
       "      <td>-122.24</td>\n",
       "      <td>0</td>\n",
       "      <td>King</td>\n",
       "      <td>True</td>\n",
       "      <td>...</td>\n",
       "      <td>_1D50SWTKX</td>\n",
       "      <td>America/Los_Angeles</td>\n",
       "      <td>47.75</td>\n",
       "      <td>Funds_Givingcampaign</td>\n",
       "      <td>2015</td>\n",
       "      <td>9</td>\n",
       "      <td>0</td>\n",
       "      <td>201509</td>\n",
       "      <td>20152</td>\n",
       "      <td>20150921</td>\n",
       "    </tr>\n",
       "    <tr>\n",
       "      <th>178548</th>\n",
       "      <td>2015-11-23</td>\n",
       "      <td>Kenmore</td>\n",
       "      <td>Cataract Surgery</td>\n",
       "      <td>$250.00</td>\n",
       "      <td>250.00</td>\n",
       "      <td>98028</td>\n",
       "      <td>-122.24</td>\n",
       "      <td>0</td>\n",
       "      <td>King</td>\n",
       "      <td>False</td>\n",
       "      <td>...</td>\n",
       "      <td>_1D50SWTKX</td>\n",
       "      <td>America/Los_Angeles</td>\n",
       "      <td>47.75</td>\n",
       "      <td>Funds_Matching</td>\n",
       "      <td>2015</td>\n",
       "      <td>11</td>\n",
       "      <td>0</td>\n",
       "      <td>201511</td>\n",
       "      <td>20153</td>\n",
       "      <td>20151123</td>\n",
       "    </tr>\n",
       "    <tr>\n",
       "      <th>178549</th>\n",
       "      <td>2015-11-23</td>\n",
       "      <td>Kenmore</td>\n",
       "      <td>Cataract Surgery</td>\n",
       "      <td>$250.00</td>\n",
       "      <td>250.00</td>\n",
       "      <td>98028</td>\n",
       "      <td>-122.24</td>\n",
       "      <td>0</td>\n",
       "      <td>King</td>\n",
       "      <td>True</td>\n",
       "      <td>...</td>\n",
       "      <td>_1D50SWTKX</td>\n",
       "      <td>America/Los_Angeles</td>\n",
       "      <td>47.75</td>\n",
       "      <td>Funds_Givingcampaign</td>\n",
       "      <td>2015</td>\n",
       "      <td>11</td>\n",
       "      <td>0</td>\n",
       "      <td>201511</td>\n",
       "      <td>20153</td>\n",
       "      <td>20151123</td>\n",
       "    </tr>\n",
       "    <tr>\n",
       "      <th>178550</th>\n",
       "      <td>2016-01-26</td>\n",
       "      <td>Kenmore</td>\n",
       "      <td>Project_MadhyaPradesh</td>\n",
       "      <td>$200.00</td>\n",
       "      <td>200.00</td>\n",
       "      <td>98028</td>\n",
       "      <td>-122.24</td>\n",
       "      <td>0</td>\n",
       "      <td>King</td>\n",
       "      <td>False</td>\n",
       "      <td>...</td>\n",
       "      <td>_1D50SWTKX</td>\n",
       "      <td>America/Los_Angeles</td>\n",
       "      <td>47.75</td>\n",
       "      <td>Funds_Matching</td>\n",
       "      <td>2016</td>\n",
       "      <td>1</td>\n",
       "      <td>1</td>\n",
       "      <td>201601</td>\n",
       "      <td>20160</td>\n",
       "      <td>20160126</td>\n",
       "    </tr>\n",
       "    <tr>\n",
       "      <th>178551</th>\n",
       "      <td>2016-01-26</td>\n",
       "      <td>Kenmore</td>\n",
       "      <td>Cataract Surgery</td>\n",
       "      <td>$200.00</td>\n",
       "      <td>200.00</td>\n",
       "      <td>98028</td>\n",
       "      <td>-122.24</td>\n",
       "      <td>0</td>\n",
       "      <td>King</td>\n",
       "      <td>True</td>\n",
       "      <td>...</td>\n",
       "      <td>_1D50SWTKX</td>\n",
       "      <td>America/Los_Angeles</td>\n",
       "      <td>47.75</td>\n",
       "      <td>Funds_Givingcampaign</td>\n",
       "      <td>2016</td>\n",
       "      <td>1</td>\n",
       "      <td>1</td>\n",
       "      <td>201601</td>\n",
       "      <td>20160</td>\n",
       "      <td>20160126</td>\n",
       "    </tr>\n",
       "  </tbody>\n",
       "</table>\n",
       "<p>5 rows × 22 columns</p>\n",
       "</div>"
      ],
      "text/plain": [
       "       activity_date     city                   fund amount_initial  \\\n",
       "178547    2015-09-21  Kenmore       Cataract Surgery        $250.00   \n",
       "178548    2015-11-23  Kenmore       Cataract Surgery        $250.00   \n",
       "178549    2015-11-23  Kenmore       Cataract Surgery        $250.00   \n",
       "178550    2016-01-26  Kenmore  Project_MadhyaPradesh        $200.00   \n",
       "178551    2016-01-26  Kenmore       Cataract Surgery        $200.00   \n",
       "\n",
       "       amount_cleanup zipcode  longitude sales county charitable  \\\n",
       "178547         250.00   98028    -122.24     0   King       True   \n",
       "178548         250.00   98028    -122.24     0   King      False   \n",
       "178549         250.00   98028    -122.24     0   King       True   \n",
       "178550         200.00   98028    -122.24     0   King      False   \n",
       "178551         200.00   98028    -122.24     0   King       True   \n",
       "\n",
       "            ...         donor_id             timezone latitude  \\\n",
       "178547      ...       _1D50SWTKX  America/Los_Angeles    47.75   \n",
       "178548      ...       _1D50SWTKX  America/Los_Angeles    47.75   \n",
       "178549      ...       _1D50SWTKX  America/Los_Angeles    47.75   \n",
       "178550      ...       _1D50SWTKX  America/Los_Angeles    47.75   \n",
       "178551      ...       _1D50SWTKX  America/Los_Angeles    47.75   \n",
       "\n",
       "                      appeal  activity_year activity_month  activity_dow  \\\n",
       "178547  Funds_Givingcampaign           2015              9             0   \n",
       "178548        Funds_Matching           2015             11             0   \n",
       "178549  Funds_Givingcampaign           2015             11             0   \n",
       "178550        Funds_Matching           2016              1             1   \n",
       "178551  Funds_Givingcampaign           2016              1             1   \n",
       "\n",
       "        activity_ym  activity_yq  activity_ymd  \n",
       "178547       201509        20152      20150921  \n",
       "178548       201511        20153      20151123  \n",
       "178549       201511        20153      20151123  \n",
       "178550       201601        20160      20160126  \n",
       "178551       201601        20160      20160126  \n",
       "\n",
       "[5 rows x 22 columns]"
      ]
     },
     "execution_count": 79,
     "metadata": {},
     "output_type": "execute_result"
    }
   ],
   "source": [
    "df[df.donor_id == '_1D50SWTKX'].sort_values(by='activity_date').tail()"
   ]
  },
  {
   "cell_type": "code",
   "execution_count": 80,
   "metadata": {
    "collapsed": false
   },
   "outputs": [
    {
     "data": {
      "text/plain": [
       "Index([u'activity_date', u'city', u'fund', u'amount_initial',\n",
       "       u'amount_cleanup', u'zipcode', u'longitude', u'sales', u'county',\n",
       "       u'charitable', u'amount', u'state', u'donor_id', u'timezone',\n",
       "       u'latitude', u'appeal', u'activity_year', u'activity_month',\n",
       "       u'activity_dow', u'activity_ym', u'activity_yq', u'activity_ymd'],\n",
       "      dtype='object')"
      ]
     },
     "execution_count": 80,
     "metadata": {},
     "output_type": "execute_result"
    }
   ],
   "source": [
    "df.columns"
   ]
  },
  {
   "cell_type": "code",
   "execution_count": 81,
   "metadata": {
    "collapsed": false
   },
   "outputs": [
    {
     "data": {
      "text/plain": [
       "(207335, 22)"
      ]
     },
     "execution_count": 81,
     "metadata": {},
     "output_type": "execute_result"
    }
   ],
   "source": [
    "df.shape"
   ]
  }
 ],
 "metadata": {
  "kernelspec": {
   "display_name": "Python 2",
   "language": "python",
   "name": "python2"
  },
  "language_info": {
   "codemirror_mode": {
    "name": "ipython",
    "version": 2
   },
   "file_extension": ".py",
   "mimetype": "text/x-python",
   "name": "python",
   "nbconvert_exporter": "python",
   "pygments_lexer": "ipython2",
   "version": "2.7.11"
  }
 },
 "nbformat": 4,
 "nbformat_minor": 0
}
