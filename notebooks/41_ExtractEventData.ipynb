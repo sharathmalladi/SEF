{
 "cells": [
  {
   "cell_type": "markdown",
   "metadata": {},
   "source": [
    "## Extract events data\n",
    "The donations dataframe has event related information. Pull that out into a separate dataframe."
   ]
  },
  {
   "cell_type": "code",
   "execution_count": 1,
   "metadata": {
    "collapsed": true
   },
   "outputs": [],
   "source": [
    "import pandas as pd\n",
    "import numpy as np\n",
    "import matplotlib.pyplot as plt\n",
    "%matplotlib inline"
   ]
  },
  {
   "cell_type": "code",
   "execution_count": 2,
   "metadata": {
    "collapsed": false
   },
   "outputs": [],
   "source": [
    "df = pd.read_pickle('out/21/donations.pkl')"
   ]
  },
  {
   "cell_type": "code",
   "execution_count": 3,
   "metadata": {
    "collapsed": false
   },
   "outputs": [
    {
     "data": {
      "text/plain": [
       "Index([u'activity_date', u'city', u'fund', u'batch_num', u'amount_initial',\n",
       "       u'amount_cleanup', u'zipcode', u'longitude', u'sales', u'county',\n",
       "       u'charitable', u'amount', u'state', u'donor_id', u'timezone',\n",
       "       u'latitude', u'appeal', u'activity_year', u'activity_month',\n",
       "       u'activity_dow', u'activity_ym', u'activity_yq', u'activity_ymd',\n",
       "       u'county_norm', u'census_region_name', u'state_name', u'county_id',\n",
       "       u'is_service', u'channel', u'campaign_location_id',\n",
       "       u'is_location_center', u'campaign_month_id', u'is_month_center'],\n",
       "      dtype='object')"
      ]
     },
     "execution_count": 3,
     "metadata": {},
     "output_type": "execute_result"
    }
   ],
   "source": [
    "df.columns"
   ]
  },
  {
   "cell_type": "markdown",
   "metadata": {},
   "source": [
    "### We have 91 appeal codes that are for events\n",
    "#### These break down into 125 events since appeal codes can be re-used"
   ]
  },
  {
   "cell_type": "code",
   "execution_count": 4,
   "metadata": {
    "collapsed": false
   },
   "outputs": [
    {
     "data": {
      "text/plain": [
       "155"
      ]
     },
     "execution_count": 4,
     "metadata": {},
     "output_type": "execute_result"
    }
   ],
   "source": [
    "df[(df.is_service==True)].appeal.nunique()"
   ]
  },
  {
   "cell_type": "code",
   "execution_count": 5,
   "metadata": {
    "collapsed": false
   },
   "outputs": [],
   "source": [
    "# We will only consider services for this step, so limit what we need\n",
    "dfs = df[df.is_service==True]\n",
    "del df"
   ]
  },
  {
   "cell_type": "code",
   "execution_count": 6,
   "metadata": {
    "collapsed": false
   },
   "outputs": [],
   "source": [
    "events_by_attendance = dfs\\\n",
    "    .groupby(['appeal', 'campaign_location_id', 'campaign_month_id'])\\\n",
    "    .size()\\\n",
    "    .to_frame()\\\n",
    "    .reset_index()\\\n",
    "    .rename(columns={0: 'transaction_count'})"
   ]
  },
  {
   "cell_type": "code",
   "execution_count": 7,
   "metadata": {
    "collapsed": false
   },
   "outputs": [],
   "source": [
    "events_by_amount = dfs\\\n",
    "    .groupby(['appeal', 'campaign_location_id', 'campaign_month_id', ])\\\n",
    "    .amount\\\n",
    "    .sum()\\\n",
    "    .to_frame()\\\n",
    "    .reset_index()\\\n",
    "    .rename(columns={0: 'amount'})"
   ]
  },
  {
   "cell_type": "markdown",
   "metadata": {},
   "source": [
    "### Histogram plots"
   ]
  },
  {
   "cell_type": "code",
   "execution_count": 8,
   "metadata": {
    "collapsed": false
   },
   "outputs": [
    {
     "data": {
      "text/plain": [
       "<matplotlib.axes._subplots.AxesSubplot at 0xa438a36c>"
      ]
     },
     "execution_count": 8,
     "metadata": {},
     "output_type": "execute_result"
    },
    {
     "data": {
      "image/png": "[encoded data removed]",
      "text/plain": [
       "<matplotlib.figure.Figure at 0xa438a78c>"
      ]
     },
     "metadata": {},
     "output_type": "display_data"
    }
   ],
   "source": [
    "events_by_attendance[events_by_attendance.transaction_count > 10].transaction_count.plot(kind='hist', bins=30)"
   ]
  },
  {
   "cell_type": "code",
   "execution_count": 9,
   "metadata": {
    "collapsed": false
   },
   "outputs": [
    {
     "data": {
      "text/plain": [
       "<matplotlib.axes._subplots.AxesSubplot at 0xa436ca4c>"
      ]
     },
     "execution_count": 9,
     "metadata": {},
     "output_type": "execute_result"
    },
    {
     "data": {
      "image/png": "[encoded data removed]",
      "text/plain": [
       "<matplotlib.figure.Figure at 0xa437e08c>"
      ]
     },
     "metadata": {},
     "output_type": "display_data"
    }
   ],
   "source": [
    "events_by_amount.amount[events_by_amount.amount < 10000].plot(kind='hist', bins=50)"
   ]
  },
  {
   "cell_type": "markdown",
   "metadata": {},
   "source": [
    "### Check for data correctness"
   ]
  },
  {
   "cell_type": "code",
   "execution_count": 10,
   "metadata": {
    "collapsed": false
   },
   "outputs": [
    {
     "data": {
      "text/plain": [
       "(161, 33)"
      ]
     },
     "execution_count": 10,
     "metadata": {},
     "output_type": "execute_result"
    }
   ],
   "source": [
    "dfs[(dfs.appeal=='Event_TollywoodThriller')].shape"
   ]
  },
  {
   "cell_type": "code",
   "execution_count": 11,
   "metadata": {
    "collapsed": false
   },
   "outputs": [
    {
     "data": {
      "text/plain": [
       "appeal                   campaign_location_id  campaign_month_id\n",
       "Event_TollywoodThriller  0                     0                    48\n",
       "                                               1                    41\n",
       "                                               2                    33\n",
       "                                               3                    39\n",
       "dtype: int64"
      ]
     },
     "execution_count": 11,
     "metadata": {},
     "output_type": "execute_result"
    }
   ],
   "source": [
    "dfs[(dfs.appeal=='Event_TollywoodThriller')]\\\n",
    "    .groupby(['appeal', 'campaign_location_id', 'campaign_month_id']).size()"
   ]
  },
  {
   "cell_type": "code",
   "execution_count": 12,
   "metadata": {
    "collapsed": false
   },
   "outputs": [
    {
     "data": {
      "text/html": [
       "<div>\n",
       "<table border=\"1\" class=\"dataframe\">\n",
       "  <thead>\n",
       "    <tr style=\"text-align: right;\">\n",
       "      <th></th>\n",
       "      <th>appeal</th>\n",
       "      <th>campaign_location_id</th>\n",
       "      <th>campaign_month_id</th>\n",
       "      <th>transaction_count</th>\n",
       "    </tr>\n",
       "  </thead>\n",
       "  <tbody>\n",
       "    <tr>\n",
       "      <th>349</th>\n",
       "      <td>Event_TollywoodThriller</td>\n",
       "      <td>0</td>\n",
       "      <td>0</td>\n",
       "      <td>48</td>\n",
       "    </tr>\n",
       "    <tr>\n",
       "      <th>350</th>\n",
       "      <td>Event_TollywoodThriller</td>\n",
       "      <td>0</td>\n",
       "      <td>1</td>\n",
       "      <td>41</td>\n",
       "    </tr>\n",
       "    <tr>\n",
       "      <th>351</th>\n",
       "      <td>Event_TollywoodThriller</td>\n",
       "      <td>0</td>\n",
       "      <td>2</td>\n",
       "      <td>33</td>\n",
       "    </tr>\n",
       "    <tr>\n",
       "      <th>352</th>\n",
       "      <td>Event_TollywoodThriller</td>\n",
       "      <td>0</td>\n",
       "      <td>3</td>\n",
       "      <td>39</td>\n",
       "    </tr>\n",
       "  </tbody>\n",
       "</table>\n",
       "</div>"
      ],
      "text/plain": [
       "                      appeal  campaign_location_id  campaign_month_id  \\\n",
       "349  Event_TollywoodThriller                     0                  0   \n",
       "350  Event_TollywoodThriller                     0                  1   \n",
       "351  Event_TollywoodThriller                     0                  2   \n",
       "352  Event_TollywoodThriller                     0                  3   \n",
       "\n",
       "     transaction_count  \n",
       "349                 48  \n",
       "350                 41  \n",
       "351                 33  \n",
       "352                 39  "
      ]
     },
     "execution_count": 12,
     "metadata": {},
     "output_type": "execute_result"
    }
   ],
   "source": [
    "events_by_attendance[events_by_attendance.appeal=='Event_TollywoodThriller']"
   ]
  },
  {
   "cell_type": "code",
   "execution_count": 13,
   "metadata": {
    "collapsed": false
   },
   "outputs": [
    {
     "data": {
      "text/plain": [
       "appeal                   campaign_location_id  campaign_month_id\n",
       "Event_TollywoodThriller  0                     0                    3781\n",
       "                                               1                    5054\n",
       "                                               2                    6854\n",
       "                                               3                    5415\n",
       "Name: amount, dtype: int64"
      ]
     },
     "execution_count": 13,
     "metadata": {},
     "output_type": "execute_result"
    }
   ],
   "source": [
    "dfs[(dfs.appeal=='Event_TollywoodThriller')]\\\n",
    "    .groupby(['appeal', 'campaign_location_id', 'campaign_month_id']).amount.sum()"
   ]
  },
  {
   "cell_type": "code",
   "execution_count": 14,
   "metadata": {
    "collapsed": false
   },
   "outputs": [
    {
     "data": {
      "text/html": [
       "<div>\n",
       "<table border=\"1\" class=\"dataframe\">\n",
       "  <thead>\n",
       "    <tr style=\"text-align: right;\">\n",
       "      <th></th>\n",
       "      <th>appeal</th>\n",
       "      <th>campaign_location_id</th>\n",
       "      <th>campaign_month_id</th>\n",
       "      <th>amount</th>\n",
       "    </tr>\n",
       "  </thead>\n",
       "  <tbody>\n",
       "    <tr>\n",
       "      <th>349</th>\n",
       "      <td>Event_TollywoodThriller</td>\n",
       "      <td>0</td>\n",
       "      <td>0</td>\n",
       "      <td>3781</td>\n",
       "    </tr>\n",
       "    <tr>\n",
       "      <th>350</th>\n",
       "      <td>Event_TollywoodThriller</td>\n",
       "      <td>0</td>\n",
       "      <td>1</td>\n",
       "      <td>5054</td>\n",
       "    </tr>\n",
       "    <tr>\n",
       "      <th>351</th>\n",
       "      <td>Event_TollywoodThriller</td>\n",
       "      <td>0</td>\n",
       "      <td>2</td>\n",
       "      <td>6854</td>\n",
       "    </tr>\n",
       "    <tr>\n",
       "      <th>352</th>\n",
       "      <td>Event_TollywoodThriller</td>\n",
       "      <td>0</td>\n",
       "      <td>3</td>\n",
       "      <td>5415</td>\n",
       "    </tr>\n",
       "  </tbody>\n",
       "</table>\n",
       "</div>"
      ],
      "text/plain": [
       "                      appeal  campaign_location_id  campaign_month_id  amount\n",
       "349  Event_TollywoodThriller                     0                  0    3781\n",
       "350  Event_TollywoodThriller                     0                  1    5054\n",
       "351  Event_TollywoodThriller                     0                  2    6854\n",
       "352  Event_TollywoodThriller                     0                  3    5415"
      ]
     },
     "execution_count": 14,
     "metadata": {},
     "output_type": "execute_result"
    }
   ],
   "source": [
    "events_by_amount[events_by_amount.appeal=='Event_TollywoodThriller']"
   ]
  },
  {
   "cell_type": "markdown",
   "metadata": {},
   "source": [
    "### Filter the data - we will consider only the events with atleast 10 transactions  - which results in 70 events"
   ]
  },
  {
   "cell_type": "code",
   "execution_count": 15,
   "metadata": {
    "collapsed": false,
    "scrolled": true
   },
   "outputs": [
    {
     "data": {
      "text/plain": [
       "(178, 4)"
      ]
     },
     "execution_count": 15,
     "metadata": {},
     "output_type": "execute_result"
    }
   ],
   "source": [
    "events_by_attendance[events_by_attendance.transaction_count >= 10].shape"
   ]
  },
  {
   "cell_type": "code",
   "execution_count": 16,
   "metadata": {
    "collapsed": false
   },
   "outputs": [
    {
     "data": {
      "text/plain": [
       "608L"
      ]
     },
     "execution_count": 16,
     "metadata": {},
     "output_type": "execute_result"
    }
   ],
   "source": [
    "events_by_attendance[events_by_attendance.transaction_count < 10].transaction_count.sum()"
   ]
  },
  {
   "cell_type": "code",
   "execution_count": 17,
   "metadata": {
    "collapsed": false
   },
   "outputs": [],
   "source": [
    "## Trim the event attendance data to atleast 20 transactions and merge with the other dataframe to get the amounts\n",
    "events = events_by_attendance[events_by_attendance.transaction_count >= 10]\\\n",
    ".merge(events_by_amount, how='left', on=['appeal','campaign_location_id','campaign_month_id'])"
   ]
  },
  {
   "cell_type": "code",
   "execution_count": 18,
   "metadata": {
    "collapsed": false
   },
   "outputs": [],
   "source": [
    "# Merge with the original dataframe to get the month centers\n",
    "events = events.merge(\n",
    "    dfs[(dfs.is_month_center==True)]\\\n",
    "    [['appeal', 'campaign_month_id', 'activity_year', 'activity_month', 'activity_ym']],\n",
    "    how='left', on=['appeal', 'campaign_month_id']).drop_duplicates()\n",
    "\n",
    "# Merge with the original dataframe to get the location centers\n",
    "events = events.merge(\n",
    "    dfs[(dfs.is_location_center==True)]\\\n",
    "    [['appeal', 'campaign_location_id', 'county', 'state']],\n",
    "    how='left', on=['appeal', 'campaign_location_id']).drop_duplicates()"
   ]
  },
  {
   "cell_type": "code",
   "execution_count": 19,
   "metadata": {
    "collapsed": false
   },
   "outputs": [
    {
     "data": {
      "text/html": [
       "<div>\n",
       "<table border=\"1\" class=\"dataframe\">\n",
       "  <thead>\n",
       "    <tr style=\"text-align: right;\">\n",
       "      <th></th>\n",
       "      <th>appeal</th>\n",
       "      <th>campaign_location_id</th>\n",
       "      <th>campaign_month_id</th>\n",
       "      <th>transaction_count</th>\n",
       "      <th>amount</th>\n",
       "      <th>activity_year</th>\n",
       "      <th>activity_month</th>\n",
       "      <th>activity_ym</th>\n",
       "      <th>county</th>\n",
       "      <th>state</th>\n",
       "    </tr>\n",
       "  </thead>\n",
       "  <tbody>\n",
       "    <tr>\n",
       "      <th>8727</th>\n",
       "      <td>Event_TollywoodThriller</td>\n",
       "      <td>0</td>\n",
       "      <td>0</td>\n",
       "      <td>48</td>\n",
       "      <td>3781</td>\n",
       "      <td>2014</td>\n",
       "      <td>11</td>\n",
       "      <td>201411</td>\n",
       "      <td>King</td>\n",
       "      <td>WA</td>\n",
       "    </tr>\n",
       "    <tr>\n",
       "      <th>8773</th>\n",
       "      <td>Event_TollywoodThriller</td>\n",
       "      <td>0</td>\n",
       "      <td>1</td>\n",
       "      <td>41</td>\n",
       "      <td>5054</td>\n",
       "      <td>2012</td>\n",
       "      <td>12</td>\n",
       "      <td>201212</td>\n",
       "      <td>King</td>\n",
       "      <td>WA</td>\n",
       "    </tr>\n",
       "    <tr>\n",
       "      <th>8819</th>\n",
       "      <td>Event_TollywoodThriller</td>\n",
       "      <td>0</td>\n",
       "      <td>2</td>\n",
       "      <td>33</td>\n",
       "      <td>6854</td>\n",
       "      <td>2009</td>\n",
       "      <td>8</td>\n",
       "      <td>200908</td>\n",
       "      <td>King</td>\n",
       "      <td>WA</td>\n",
       "    </tr>\n",
       "    <tr>\n",
       "      <th>8865</th>\n",
       "      <td>Event_TollywoodThriller</td>\n",
       "      <td>0</td>\n",
       "      <td>3</td>\n",
       "      <td>39</td>\n",
       "      <td>5415</td>\n",
       "      <td>2011</td>\n",
       "      <td>7</td>\n",
       "      <td>201107</td>\n",
       "      <td>King</td>\n",
       "      <td>WA</td>\n",
       "    </tr>\n",
       "  </tbody>\n",
       "</table>\n",
       "</div>"
      ],
      "text/plain": [
       "                       appeal  campaign_location_id  campaign_month_id  \\\n",
       "8727  Event_TollywoodThriller                     0                  0   \n",
       "8773  Event_TollywoodThriller                     0                  1   \n",
       "8819  Event_TollywoodThriller                     0                  2   \n",
       "8865  Event_TollywoodThriller                     0                  3   \n",
       "\n",
       "      transaction_count  amount  activity_year  activity_month  activity_ym  \\\n",
       "8727                 48    3781           2014              11       201411   \n",
       "8773                 41    5054           2012              12       201212   \n",
       "8819                 33    6854           2009               8       200908   \n",
       "8865                 39    5415           2011               7       201107   \n",
       "\n",
       "     county state  \n",
       "8727   King    WA  \n",
       "8773   King    WA  \n",
       "8819   King    WA  \n",
       "8865   King    WA  "
      ]
     },
     "execution_count": 19,
     "metadata": {},
     "output_type": "execute_result"
    }
   ],
   "source": [
    "# Sanity check what we got thus far\n",
    "events[events.appeal == 'Event_TollywoodThriller']"
   ]
  },
  {
   "cell_type": "code",
   "execution_count": 20,
   "metadata": {
    "collapsed": false
   },
   "outputs": [
    {
     "data": {
      "text/html": [
       "<div>\n",
       "<table border=\"1\" class=\"dataframe\">\n",
       "  <thead>\n",
       "    <tr style=\"text-align: right;\">\n",
       "      <th></th>\n",
       "      <th>county</th>\n",
       "      <th>state</th>\n",
       "    </tr>\n",
       "  </thead>\n",
       "  <tbody>\n",
       "    <tr>\n",
       "      <th>115022</th>\n",
       "      <td>King</td>\n",
       "      <td>WA</td>\n",
       "    </tr>\n",
       "  </tbody>\n",
       "</table>\n",
       "</div>"
      ],
      "text/plain": [
       "       county state\n",
       "115022   King    WA"
      ]
     },
     "execution_count": 20,
     "metadata": {},
     "output_type": "execute_result"
    }
   ],
   "source": [
    "dfs[(dfs.is_location_center==True) & (dfs.appeal=='Event_TollywoodThriller')]\\\n",
    "    [['county', 'state']].drop_duplicates()"
   ]
  },
  {
   "cell_type": "code",
   "execution_count": 21,
   "metadata": {
    "collapsed": false
   },
   "outputs": [
    {
     "data": {
      "text/html": [
       "<div>\n",
       "<table border=\"1\" class=\"dataframe\">\n",
       "  <thead>\n",
       "    <tr style=\"text-align: right;\">\n",
       "      <th></th>\n",
       "      <th>activity_year</th>\n",
       "      <th>activity_month</th>\n",
       "    </tr>\n",
       "  </thead>\n",
       "  <tbody>\n",
       "    <tr>\n",
       "      <th>66124</th>\n",
       "      <td>2014</td>\n",
       "      <td>11</td>\n",
       "    </tr>\n",
       "    <tr>\n",
       "      <th>115130</th>\n",
       "      <td>2009</td>\n",
       "      <td>8</td>\n",
       "    </tr>\n",
       "    <tr>\n",
       "      <th>116918</th>\n",
       "      <td>2012</td>\n",
       "      <td>12</td>\n",
       "    </tr>\n",
       "    <tr>\n",
       "      <th>117693</th>\n",
       "      <td>2011</td>\n",
       "      <td>7</td>\n",
       "    </tr>\n",
       "  </tbody>\n",
       "</table>\n",
       "</div>"
      ],
      "text/plain": [
       "        activity_year  activity_month\n",
       "66124            2014              11\n",
       "115130           2009               8\n",
       "116918           2012              12\n",
       "117693           2011               7"
      ]
     },
     "execution_count": 21,
     "metadata": {},
     "output_type": "execute_result"
    }
   ],
   "source": [
    "dfs[(dfs.is_month_center==True) & (dfs.appeal=='Event_TollywoodThriller')]\\\n",
    "    [['activity_year', 'activity_month']].drop_duplicates()"
   ]
  },
  {
   "cell_type": "markdown",
   "metadata": {},
   "source": [
    "### Understand the data\n",
    "\n",
    "We had events in a total of 13 different states.  \n",
    "California had the highest number of events (33). Washington has the next highest number of events (11).  \n",
    "The events were more or less distributed throughout the year.  \n",
    "March 2014 was by far the busiest year/month for the organization (8 events).  \n",
    "2014 was the busiest year in terms of number of events (22).  \n",
    "Other than that, in general events are spread out quite evenly over the year across the board.  "
   ]
  },
  {
   "cell_type": "code",
   "execution_count": 22,
   "metadata": {
    "collapsed": false
   },
   "outputs": [
    {
     "data": {
      "text/plain": [
       "<matplotlib.axes._subplots.AxesSubplot at 0xa43bee2c>"
      ]
     },
     "execution_count": 22,
     "metadata": {},
     "output_type": "execute_result"
    },
    {
     "data": {
      "image/png": "[encoded data removed]",
      "text/plain": [
       "<matplotlib.figure.Figure at 0xa43bf9cc>"
      ]
     },
     "metadata": {},
     "output_type": "display_data"
    }
   ],
   "source": [
    "events.groupby('state').size().plot(kind='barh')"
   ]
  },
  {
   "cell_type": "code",
   "execution_count": 23,
   "metadata": {
    "collapsed": false,
    "scrolled": true
   },
   "outputs": [
    {
     "data": {
      "text/plain": [
       "<matplotlib.axes._subplots.AxesSubplot at 0xa43a742c>"
      ]
     },
     "execution_count": 23,
     "metadata": {},
     "output_type": "execute_result"
    },
    {
     "data": {
      "image/png": "[encoded data removed]",
      "text/plain": [
       "<matplotlib.figure.Figure at 0xa441d36c>"
      ]
     },
     "metadata": {},
     "output_type": "display_data"
    }
   ],
   "source": [
    "events.groupby('activity_month').size().plot(kind='barh')"
   ]
  },
  {
   "cell_type": "code",
   "execution_count": 24,
   "metadata": {
    "collapsed": false,
    "scrolled": true
   },
   "outputs": [
    {
     "data": {
      "text/plain": [
       "<matplotlib.axes._subplots.AxesSubplot at 0xa44015cc>"
      ]
     },
     "execution_count": 24,
     "metadata": {},
     "output_type": "execute_result"
    },
    {
     "data": {
      "image/png": "[encoded data removed]",
      "text/plain": [
       "<matplotlib.figure.Figure at 0xa4367dac>"
      ]
     },
     "metadata": {},
     "output_type": "display_data"
    }
   ],
   "source": [
    "events.groupby('activity_month').amount.sum().plot(kind='barh')"
   ]
  },
  {
   "cell_type": "code",
   "execution_count": 25,
   "metadata": {
    "collapsed": false,
    "scrolled": true
   },
   "outputs": [
    {
     "data": {
      "text/plain": [
       "<matplotlib.axes._subplots.AxesSubplot at 0xa44031cc>"
      ]
     },
     "execution_count": 25,
     "metadata": {},
     "output_type": "execute_result"
    },
    {
     "data": {
      "image/png": "[encoded data removed]",
      "text/plain": [
       "<matplotlib.figure.Figure at 0xa43faa0c>"
      ]
     },
     "metadata": {},
     "output_type": "display_data"
    }
   ],
   "source": [
    "events.groupby('activity_year').size().plot(kind='barh')"
   ]
  },
  {
   "cell_type": "code",
   "execution_count": 26,
   "metadata": {
    "collapsed": false
   },
   "outputs": [
    {
     "data": {
      "text/plain": [
       "<matplotlib.axes._subplots.AxesSubplot at 0xa445c9ac>"
      ]
     },
     "execution_count": 26,
     "metadata": {},
     "output_type": "execute_result"
    },
    {
     "data": {
      "image/png": "[encoded data removed]",
      "text/plain": [
       "<matplotlib.figure.Figure at 0xa43e514c>"
      ]
     },
     "metadata": {},
     "output_type": "display_data"
    }
   ],
   "source": [
    "events.groupby(['activity_year']).agg({'amount': sum}).plot(kind='bar', legend=True)"
   ]
  },
  {
   "cell_type": "code",
   "execution_count": 27,
   "metadata": {
    "collapsed": false
   },
   "outputs": [],
   "source": [
    "events['event_name'] = \\\n",
    "    events.apply(\n",
    "        lambda row:\n",
    "            row.appeal + '_' +\n",
    "            str(int(row.campaign_location_id)) + '_' +\n",
    "            str(int(row.campaign_month_id)),\n",
    "        axis=1)"
   ]
  },
  {
   "cell_type": "markdown",
   "metadata": {},
   "source": [
    "### Save the data"
   ]
  },
  {
   "cell_type": "code",
   "execution_count": 28,
   "metadata": {
    "collapsed": false
   },
   "outputs": [],
   "source": [
    "!mkdir -p out/41\n",
    "\n",
    "events\\\n",
    "    .reset_index()\\\n",
    "    .drop('index', axis=1)\\\n",
    "    .to_pickle('out/41/events.pkl')"
   ]
  },
  {
   "cell_type": "code",
   "execution_count": null,
   "metadata": {
    "collapsed": true
   },
   "outputs": [],
   "source": []
  }
 ],
 "metadata": {
  "kernelspec": {
   "display_name": "Python 2",
   "language": "python",
   "name": "python2"
  },
  "language_info": {
   "codemirror_mode": {
    "name": "ipython",
    "version": 2
   },
   "file_extension": ".py",
   "mimetype": "text/x-python",
   "name": "python",
   "nbconvert_exporter": "python",
   "pygments_lexer": "ipython2",
   "version": "2.7.11"
  }
 },
 "nbformat": 4,
 "nbformat_minor": 0
}
